{
 "cells": [
  {
   "cell_type": "code",
   "execution_count": 1,
   "metadata": {},
   "outputs": [
    {
     "name": "stderr",
     "output_type": "stream",
     "text": [
      "/opt/anaconda3/envs/telegram_chat_clustering_3/lib/python3.12/site-packages/sentence_transformers/cross_encoder/CrossEncoder.py:11: TqdmWarning: IProgress not found. Please update jupyter and ipywidgets. See https://ipywidgets.readthedocs.io/en/stable/user_install.html\n",
      "  from tqdm.autonotebook import tqdm, trange\n",
      "[nltk_data] Downloading package stopwords to\n",
      "[nltk_data]     /Users/andrewinzen/nltk_data...\n",
      "[nltk_data]   Package stopwords is already up-to-date!\n",
      "[nltk_data] Downloading package punkt_tab to\n",
      "[nltk_data]     /Users/andrewinzen/nltk_data...\n",
      "[nltk_data]   Package punkt_tab is already up-to-date!\n",
      "[nltk_data] Downloading package wordnet to\n",
      "[nltk_data]     /Users/andrewinzen/nltk_data...\n",
      "[nltk_data]   Package wordnet is already up-to-date!\n"
     ]
    }
   ],
   "source": [
    "import os\n",
    "os.environ[\"TOKENIZERS_PARALLELISM\"] = \"false\" # avoid warning when using a tokenizer to calculate the coherence score during evaluation of a topic model\n",
    "import sys\n",
    "import json\n",
    "import numpy as np\n",
    "import re\n",
    "import string\n",
    "import pandas as pd\n",
    "import pickle\n",
    "import nltk\n",
    "from nltk.tokenize import word_tokenize\n",
    "from nltk.corpus import stopwords\n",
    "from sentence_transformers import SentenceTransformer\n",
    "from sklearn.feature_extraction.text import TfidfVectorizer\n",
    "from joblib import Parallel, delayed\n",
    "from sklearn.metrics.pairwise import cosine_similarity\n",
    "from sklearn.metrics import adjusted_rand_score\n",
    "import matplotlib.pyplot as plt\n",
    "import seaborn as sns\n",
    "sns.set_theme(style=\"whitegrid\", palette=\"gray\")\n",
    "\n",
    "# download stopwords and tokenizers\n",
    "nltk.download(\"stopwords\")\n",
    "nltk.download(\"punkt_tab\")\n",
    "nltk.download(\"wordnet\")\n",
    "\n",
    "# Get the parent directory of the current notebook directory and add it to the python path to import custom modules\n",
    "parent_dir = os.path.abspath(os.path.join(os.getcwd(), os.pardir))\n",
    "sys.path.append(parent_dir)\n",
    "from util.clustering_utils import *"
   ]
  },
  {
   "cell_type": "markdown",
   "metadata": {},
   "source": [
    "# Clustering Experiment\n",
    "\n",
    "In this notebook, we will cluster the chats using the chat representations created in `02_feature_engineering` with BERTopic.\n",
    "\n",
    "To address the randomness inherent in topic modeling, we will run the model multiple times, analyzing the average evaluation metrics and selecting the iteration closest to these averages.\n",
    "\n",
    "The overall process will be the same for each feature, with some adjustments to accommodate their specific characteristics:\n",
    "\n",
    "1. **Load the Chat Representations**: Import the chat representations.\n",
    "\n",
    "2. **Cluster Using BERTopic**: Apply BERTopic to the chat embeddings.\n",
    "\n",
    "3. **Evaluate Performance**: Analyze the average evaluation metrics across multiple runs.\n",
    "\n",
    "4. **Visualize Clusters**: Create visualizations to represent the clustered topics.\n",
    "\n",
    "5. **Inspect Representative Texts**: Identify the most representative texts for each topic.\n",
    "\n",
    "While doing so, we\"ll create data and visualizations to compare the results by:\n",
    "\n",
    "1. **Comparing Evaluation Metrics**: Collect the evaluation metrics across different models to identify the best-performing one and assess the impact of including different features on the clustering results.\n",
    "\n",
    "2. **Comparing Topic Assignments**: Inspect how topic assignments differ from those of the base model to understand the effect different features have on clustering results, using visualizations and the Adjusted Rand Index.\n",
    "\n",
    "3. **Qualitatively Assess the Topics**: Extract the most representative texts, keywords, and topic maps to qualitatively assess the results of each model."
   ]
  },
  {
   "cell_type": "markdown",
   "metadata": {},
   "source": [
    "## 1. Preparations"
   ]
  },
  {
   "cell_type": "markdown",
   "metadata": {},
   "source": [
    "\n",
    "Before we start clustering the data, we have to:\n",
    "\n",
    "1. **Load the Dataset:** In  order to inpect message later on, we\"ll need to load the dataset we used to create the chat representations. \n",
    "\n",
    "2. **Create Chat-Text Aggregations:** Since we will use chat embeddings generated in a previous notebook rather than relying on BERTopic to create its own embeddings, we need to create custom text documents associated with each representation. These will be passed to BERTopic in order to ensure that the topics identified by BERTopic are interpretable."
   ]
  },
  {
   "cell_type": "markdown",
   "metadata": {},
   "source": [
    "#### 1. Load The Dataset"
   ]
  },
  {
   "cell_type": "markdown",
   "metadata": {},
   "source": [
    "First, we\"ll load the dataset."
   ]
  },
  {
   "cell_type": "code",
   "execution_count": 2,
   "metadata": {},
   "outputs": [
    {
     "data": {
      "text/plain": [
       "(1581498, 43)"
      ]
     },
     "execution_count": 2,
     "metadata": {},
     "output_type": "execute_result"
    }
   ],
   "source": [
    "dataset_path = os.path.join(os.getcwd(), \"../data/preprocessed/df_preprocessed.pkl\")\n",
    "\n",
    "with open(dataset_path, \"rb\") as f:\n",
    "    df = pickle.load(f)\n",
    "\n",
    "df.shape"
   ]
  },
  {
   "cell_type": "markdown",
   "metadata": {},
   "source": [
    "#### 2. Create Chat-Text-Aggregations for Topic-Interpretability"
   ]
  },
  {
   "cell_type": "markdown",
   "metadata": {},
   "source": [
    "To ensure the interpretability of the topics generated by BERTopic, we need to provide it with the message texts we used to create features for each chat. \n",
    "\n",
    "To make sure that the \"chat-text-aggregations\" used for this purpose are as meaningful as possible, we will perform the following operations: \n",
    "\n",
    "- **Basic preprocessing**, including lowercasing, stop word removal, removal of punctuation and digits, and tokenization.\n",
    "\n",
    "- **Removing custom stopwords** specific to the Telegram domain, such as:\n",
    "\n",
    "    - Telegram chat handles, which are frequently used to \"sign\" each  message in broadcast chats and could distort the analysis of the most common words.\n",
    "\n",
    "    - Common social media call-to-action phrases, such as \"share,\" \"follow,\" and \"comment,\" which are often repeated irrespective of topic.\n",
    "\n",
    "- **Multilingual processing:** Since our corpus is multilingual, language-dependent preprocessing will be applied only to messages in the most frequent languages, as the other languages contribute only a marginal number of messages.\n",
    "- **TF-IDF filtering:** We will filter out words below a certain TF-IDF threshold to ensure that only distinctive terms are included in the aggregation.\n",
    "\n",
    "Afterwards, we will aggregate the messages and webpage previews for each chat into a single string. This string, along with the chat vector representations created earlier, will be passed to BERTopic as a basis for its topic description."
   ]
  },
  {
   "cell_type": "markdown",
   "metadata": {},
   "source": [
    "##### 1. Preprocess Data"
   ]
  },
  {
   "cell_type": "markdown",
   "metadata": {},
   "source": [
    "**Define the Preprocessing Function**"
   ]
  },
  {
   "cell_type": "code",
   "execution_count": 3,
   "metadata": {},
   "outputs": [],
   "source": [
    "def preprocess(df: pd.DataFrame, text_column: str) -> pd.DataFrame:\n",
    "    \"\"\"\n",
    "    Preprocess the text data in a specified column of a DataFrame by performing several cleaning operations.\n",
    "    \n",
    "    Parameters:\n",
    "        df (pd.DataFrame): the DataFrame containing the text to preprocess.\n",
    "        text_column (str): the name of the column that contains the text to clean.\n",
    "\n",
    "    Returns:\n",
    "        pd.DataFrame: a DataFrame with additional columns for cleaned (<text_column>_cleaned) and tokenized \n",
    "        (<text_column>_preprocessed) text.\n",
    "    \"\"\"\n",
    "\n",
    "    print(\"Preprocessing messages...\")\n",
    "\n",
    "    # get stop words \n",
    "    stop_words_en = set(stopwords.words(\"english\"))\n",
    "    stop_words_de = set(stopwords.words(\"german\"))\n",
    "\n",
    "    cta_stop_words_en = {\"click\", \"tap\", \"press\", \"subscribe\", \"follow\", \"share\", \"like\", \"comment\",\n",
    "                        \"join\", \"sign\", \"visit\", \"download\", \"register\", \"give\", \"message\", \"chat\", \"group\", \"channel\", \"bot\", \"reply\"}\n",
    "    cta_stop_words_de = {\"klicken\", \"tippen\", \"drücken\", \"abonnieren\", \"folgen\", \"teilen\", \"mögen\", \"kommentieren\",\n",
    "                        \"beitreten\", \"anmelden\", \"besuchen\", \"herunterladen\", \"registrieren\", \"geben\", \"message\", \"chat\", \"group\", \"channel\", \"bot\", \"reply\"}\n",
    "\n",
    "    stop_words_en = stop_words_en.union(cta_stop_words_en)\n",
    "    stop_words_de = stop_words_de.union(cta_stop_words_de)\n",
    "    print(\"Stop words loaded\")\n",
    "\n",
    "    # get frequent chat handles\n",
    "    frequent_chat_handles = df[\"referenced_chat_handles\"].explode().value_counts()\n",
    "    frequent_chat_handles = frequent_chat_handles[frequent_chat_handles > 100].index.tolist()\n",
    "    print(\"Frequent chat handles loaded\")\n",
    "\n",
    "    # create regex patterns\n",
    "    def create_pattern(words):\n",
    "        return rf\"\\b(?:{\"|\".join(map(re.escape, words))})\\b\"\n",
    "\n",
    "    frequent_chat_pattern = create_pattern(frequent_chat_handles)\n",
    "    stop_words_en_pattern = create_pattern(stop_words_en)\n",
    "    stop_words_de_pattern = create_pattern(stop_words_de)\n",
    "    print(\"Regex-Patterns created\")\n",
    "    \n",
    "    # remove the most frequent chat handles  #TODO: Seems not to work\n",
    "    df[f\"{text_column}_cleaned\"] = df[text_column].str.replace(frequent_chat_pattern, \"\", regex=True, flags=re.IGNORECASE).str.strip()\n",
    "    print(\"Handles removed\")\n",
    "\n",
    "    # remove URLs\n",
    "    pattern = r\"(https?:\\/\\/[^\\s/$.?#].[^\\s]*[^\\s.,?!)](?![\\])]))|(www\\.[^\\s/$.?#].[^\\s]*[^\\s.,?!)](?![\\])]))|(t\\.me\\/[^\\s.,?!)]*)\"\n",
    "    df[f\"{text_column}_cleaned\"] = df[f\"{text_column}_cleaned\"].str.replace(pattern, \"\", regex=True).str.strip()\n",
    "    print(\"URLs removed\")\n",
    "\n",
    "    # lowercase text\n",
    "    df[f\"{text_column}_cleaned\"] = df[f\"{text_column}_cleaned\"].str.lower()\n",
    "    print(\"Lowercase\")\n",
    "    \n",
    "    # remove punctuation\n",
    "    df[f\"{text_column}_cleaned\"] = df[f\"{text_column}_cleaned\"].str.replace(f\"[{re.escape(string.punctuation)}]\", \" \", regex=True).str.replace(r\"\\s+\", \" \", regex=True).str.strip()\n",
    "    print(\"Punctuation removed\")\n",
    "\n",
    "    # remove the most frequent chat handles that included an @\n",
    "    df[f\"{text_column}_cleaned\"] = df[f\"{text_column}_cleaned\"].str.replace(frequent_chat_pattern, \"\", regex=True, flags=re.IGNORECASE).str.strip()\n",
    "    print(\"Handles with @ removed\")\n",
    "\n",
    "    # remove punctuation again\n",
    "    df[f\"{text_column}_cleaned\"] = df[f\"{text_column}_cleaned\"].str.replace(f\"[{re.escape(string.punctuation)}]\", \" \", regex=True).str.replace(r\"\\s+\", \" \", regex=True).str.strip()\n",
    "    print(\"Punctuation removed\")\n",
    "\n",
    "    # remove digits\n",
    "    df[f\"{text_column}_cleaned\"] = df[f\"{text_column}_cleaned\"].str.replace(r\"\\d+\", \"\", regex=True).str.strip()\n",
    "    print(\"Digits removed\")\n",
    "\n",
    "    # remove english stop words\n",
    "    df.loc[df[\"message_text_lang\"] == \"English\", f\"{text_column}_cleaned\"] = \\\n",
    "        df.loc[df[\"message_text_lang\"] == \"English\", f\"{text_column}_cleaned\"].str.replace(stop_words_en_pattern, \"\", regex=True, flags=re.IGNORECASE).str.strip()\n",
    "    print(\"English stop words removed\")\n",
    "\n",
    "    # remove german stop words\n",
    "    df.loc[df[\"message_text_lang\"] == \"German\", f\"{text_column}_cleaned\"] = \\\n",
    "        df.loc[df[\"message_text_lang\"] == \"German\", f\"{text_column}_cleaned\"].str.replace(stop_words_de_pattern, \"\", regex=True, flags=re.IGNORECASE).str.strip()\n",
    "    print(\"German stop words removed\")\n",
    "\n",
    "    # fill NaN with empty string\n",
    "    df[f\"{text_column}_cleaned\"] = df[f\"{text_column}_cleaned\"].fillna(\"\")\n",
    "    \n",
    "    # tokenize text\n",
    "    df[f\"{text_column}_preprocessed\"] = df[f\"{text_column}_cleaned\"].apply(lambda x: word_tokenize(x) if x else [])\n",
    "\n",
    "    df[f\"{text_column}_preprocessed\"] = df[f\"{text_column}_preprocessed\"].apply(lambda x: \" \".join(x))\n",
    "    print(\"Tokenized\")\n",
    "\n",
    "    return df"
   ]
  },
  {
   "cell_type": "markdown",
   "metadata": {},
   "source": [
    "**Apply Preprocessing to Message Texts**"
   ]
  },
  {
   "cell_type": "code",
   "execution_count": 4,
   "metadata": {},
   "outputs": [
    {
     "data": {
      "text/plain": [
       "True"
      ]
     },
     "execution_count": 4,
     "metadata": {},
     "output_type": "execute_result"
    }
   ],
   "source": [
    "# check, if the data was already preprocessed\n",
    "preprocessen_msg_path = os.path.join(os.getcwd(), \"../data/preprocessed/preprocessed_msgs_viz.pkl\")\n",
    "already_preprocessed = os.path.exists(preprocessen_msg_path)\n",
    "already_preprocessed"
   ]
  },
  {
   "cell_type": "code",
   "execution_count": 5,
   "metadata": {},
   "outputs": [
    {
     "name": "stdout",
     "output_type": "stream",
     "text": [
      "Loading preprocessed messages...\n"
     ]
    },
    {
     "data": {
      "text/html": [
       "<div>\n",
       "<style scoped>\n",
       "    .dataframe tbody tr th:only-of-type {\n",
       "        vertical-align: middle;\n",
       "    }\n",
       "\n",
       "    .dataframe tbody tr th {\n",
       "        vertical-align: top;\n",
       "    }\n",
       "\n",
       "    .dataframe thead th {\n",
       "        text-align: right;\n",
       "    }\n",
       "</style>\n",
       "<table border=\"1\" class=\"dataframe\">\n",
       "  <thead>\n",
       "    <tr style=\"text-align: right;\">\n",
       "      <th></th>\n",
       "      <th>message_text</th>\n",
       "      <th>message_text_preprocessed</th>\n",
       "      <th>referenced_chat_handles</th>\n",
       "    </tr>\n",
       "  </thead>\n",
       "  <tbody>\n",
       "    <tr>\n",
       "      <th>156084</th>\n",
       "      <td></td>\n",
       "      <td></td>\n",
       "      <td>NaN</td>\n",
       "    </tr>\n",
       "    <tr>\n",
       "      <th>1366719</th>\n",
       "      <td>Cows see grass for the first time ➠ @godlyvibez ️</td>\n",
       "      <td>cows see grass first time ➠ ️</td>\n",
       "      <td>[godlyvibez]</td>\n",
       "    </tr>\n",
       "    <tr>\n",
       "      <th>212222</th>\n",
       "      <td>„Ich wähle RECHTS!“</td>\n",
       "      <td>„ wähle rechts “</td>\n",
       "      <td>NaN</td>\n",
       "    </tr>\n",
       "    <tr>\n",
       "      <th>753161</th>\n",
       "      <td></td>\n",
       "      <td></td>\n",
       "      <td>NaN</td>\n",
       "    </tr>\n",
       "    <tr>\n",
       "      <th>1017439</th>\n",
       "      <td>Der Magnetmotor funktioniert doch die Finanzelite will ihn nicht haben Wenn der Magnetmotor in ein Kraftfahrzeug integriert wäre, würde er einen Generator antreiben, der elektrische Energie erzeugt und diese in Batterien speist. Ansonsten würde das Fahrzeug wie ein herkömmliches Elektroauto funktionieren, das aktuell von der Automobilindustrie in Massenproduktion hergestellt wird. Diese Fahrzeuge sind emissionsfrei und leise, haben jedoch eine unbegrenzte Reichweite, sodass Tanken nie erforderlich wäre. Ebenfalls wäre dieses Prinzip genauso in unseren Haushalten nutzbar. Jetzt beitreten: XFilesUnveiled</td>\n",
       "      <td>magnetmotor funktioniert finanzelite magnetmotor kraftfahrzeug integriert wäre generator antreiben elektrische energie erzeugt batterien speist ansonsten fahrzeug herkömmliches elektroauto funktionieren aktuell automobilindustrie massenproduktion hergestellt fahrzeuge emissionsfrei leise jedoch unbegrenzte reichweite sodass tanken nie erforderlich wäre ebenfalls wäre prinzip genauso haushalten nutzbar</td>\n",
       "      <td>[xfilesunveiled]</td>\n",
       "    </tr>\n",
       "  </tbody>\n",
       "</table>\n",
       "</div>"
      ],
      "text/plain": [
       "                                                                                                                                                                                                                                                                                                                                                                                                                                                                                                                                                                                                                              message_text  \\\n",
       "156084                                                                                                                                                                                                                                                                                                                                                                                                                                                                                                                                                                                                                                       \n",
       "1366719                                                                                                                                                                                                                                                                                                                                                                                                                                                                                                                                                                                  Cows see grass for the first time ➠ @godlyvibez ️   \n",
       "212222                                                                                                                                                                                                                                                                                                                                                                                                                                                                                                                                                                                                                 „Ich wähle RECHTS!“   \n",
       "753161                                                                                                                                                                                                                                                                                                                                                                                                                                                                                                                                                                                                                                       \n",
       "1017439  Der Magnetmotor funktioniert doch die Finanzelite will ihn nicht haben Wenn der Magnetmotor in ein Kraftfahrzeug integriert wäre, würde er einen Generator antreiben, der elektrische Energie erzeugt und diese in Batterien speist. Ansonsten würde das Fahrzeug wie ein herkömmliches Elektroauto funktionieren, das aktuell von der Automobilindustrie in Massenproduktion hergestellt wird. Diese Fahrzeuge sind emissionsfrei und leise, haben jedoch eine unbegrenzte Reichweite, sodass Tanken nie erforderlich wäre. Ebenfalls wäre dieses Prinzip genauso in unseren Haushalten nutzbar. Jetzt beitreten: XFilesUnveiled   \n",
       "\n",
       "                                                                                                                                                                                                                                                                                                                                                                                                    message_text_preprocessed  \\\n",
       "156084                                                                                                                                                                                                                                                                                                                                                                                                                          \n",
       "1366719                                                                                                                                                                                                                                                                                                                                                                                         cows see grass first time ➠ ️   \n",
       "212222                                                                                                                                                                                                                                                                                                                                                                                                       „ wähle rechts “   \n",
       "753161                                                                                                                                                                                                                                                                                                                                                                                                                          \n",
       "1017439  magnetmotor funktioniert finanzelite magnetmotor kraftfahrzeug integriert wäre generator antreiben elektrische energie erzeugt batterien speist ansonsten fahrzeug herkömmliches elektroauto funktionieren aktuell automobilindustrie massenproduktion hergestellt fahrzeuge emissionsfrei leise jedoch unbegrenzte reichweite sodass tanken nie erforderlich wäre ebenfalls wäre prinzip genauso haushalten nutzbar   \n",
       "\n",
       "        referenced_chat_handles  \n",
       "156084                      NaN  \n",
       "1366719            [godlyvibez]  \n",
       "212222                      NaN  \n",
       "753161                      NaN  \n",
       "1017439        [xfilesunveiled]  "
      ]
     },
     "metadata": {},
     "output_type": "display_data"
    }
   ],
   "source": [
    "if not already_preprocessed:\n",
    "\n",
    "    # apply preprocessing\n",
    "    df = preprocess(df, \"message_text\")\n",
    "\n",
    "    # save the preprocessed data\n",
    "    df[\"message_text_preprocessed\"].to_pickle(preprocessen_msg_path)\n",
    "    print(\"Preprocessed messages saved\")\n",
    "\n",
    "else:\n",
    "    print(\"Loading preprocessed messages...\")\n",
    "    preprocessed_msg = pd.read_pickle(preprocessen_msg_path)\n",
    "    df[\"message_text_preprocessed\"] = preprocessed_msg\n",
    "\n",
    "# display five random samples\n",
    "with pd.option_context(\"display.max_colwidth\", None):\n",
    "    display(df[[\"message_text\", \"message_text_preprocessed\", \"referenced_chat_handles\"]].sample(5))"
   ]
  },
  {
   "cell_type": "markdown",
   "metadata": {},
   "source": [
    "**Apply Preprocessing to Webpage Previews**"
   ]
  },
  {
   "cell_type": "code",
   "execution_count": 6,
   "metadata": {},
   "outputs": [
    {
     "data": {
      "text/plain": [
       "True"
      ]
     },
     "execution_count": 6,
     "metadata": {},
     "output_type": "execute_result"
    }
   ],
   "source": [
    "# check, if the data was already preprocessed\n",
    "preprocessen_web_path = os.path.join(os.getcwd(), \"../data/preprocessed/preprocessed_web_viz.pkl\")\n",
    "already_preprocessed = os.path.exists(preprocessen_web_path)\n",
    "already_preprocessed"
   ]
  },
  {
   "cell_type": "code",
   "execution_count": 7,
   "metadata": {},
   "outputs": [],
   "source": [
    "if not already_preprocessed:\n",
    "    # apply preprocessing\n",
    "    df = preprocess(df, \"webpage_description\")"
   ]
  },
  {
   "cell_type": "markdown",
   "metadata": {},
   "source": [
    "**Remove Emojis**"
   ]
  },
  {
   "cell_type": "code",
   "execution_count": 8,
   "metadata": {},
   "outputs": [
    {
     "name": "stdout",
     "output_type": "stream",
     "text": [
      "Loading preprocessed webpage previews...\n"
     ]
    }
   ],
   "source": [
    "# create a list of emoji-unicodes using data from \"https://unicode.org/Public/emoji/15.1/\"\n",
    "if not already_preprocessed:\n",
    "\n",
    "    # list the paths to the unicode-files\n",
    "    path_1 = os.path.join(os.getcwd(), \"../data/auxiliary/emoji_unicode/emoji-sequences.txt\")\n",
    "    path_2 = os.path.join(os.getcwd(), \"../data/auxiliary/emoji_unicode/emoji-test.txt\")\n",
    "    path_3 = os.path.join(os.getcwd(), \"../data/auxiliary/emoji_unicode/emoji-zwj-sequences.txt\")\n",
    "    file_paths = [path_1, path_2, path_3]\n",
    "\n",
    "    # load all emojis from the unicode-files\n",
    "    emoji_sequences = load_emoji_list(file_paths)\n",
    "\n",
    "    # create a regex pattern from the emoji sequence\n",
    "    emoji_pattern = \"|\".join(re.escape(emoji) for emoji in emoji_sequences)\n",
    "    print(\"Emoji pattern created\")\n",
    "\n",
    "    def demojize_chunk(chunk, emoji_pattern):\n",
    "        # remove emojis\n",
    "        chunk[\"webpage_description_preprocessed\"] = chunk[\"webpage_description_preprocessed\"].str.replace(emoji_pattern, \" \", regex=True)\n",
    "        return chunk\n",
    "\n",
    "    n_jobs = 3  # use three cores (seems to be fastest?)\n",
    "\n",
    "    # remove emojis in parallel for each chunk\n",
    "    chunks = np.array_split(df, n_jobs)\n",
    "    df_chunks = Parallel(n_jobs=n_jobs)(delayed(demojize_chunk)(chunk, emoji_pattern) for chunk in chunks)\n",
    "    df = pd.concat(df_chunks, ignore_index=True)\n",
    "\n",
    "    # save the preprocessed data\n",
    "    df[\"webpage_description_preprocessed\"].to_pickle(preprocessen_web_path)\n",
    "    print(\"Preprocessed messages saved\")    \n",
    "\n",
    "# simply load the preprocessed data, if it was already preprocessed\n",
    "else:\n",
    "    print(\"Loading preprocessed webpage previews...\")\n",
    "    preprocessed_web_previews = pd.read_pickle(preprocessen_web_path)\n",
    "    df[\"webpage_description_preprocessed\"] = preprocessed_web_previews"
   ]
  },
  {
   "cell_type": "markdown",
   "metadata": {},
   "source": [
    "##### 2. Apply TF-IDF-Filtering"
   ]
  },
  {
   "cell_type": "markdown",
   "metadata": {},
   "source": [
    "**Apply TF-IDF-Filtering to Message Texts**"
   ]
  },
  {
   "cell_type": "code",
   "execution_count": 9,
   "metadata": {},
   "outputs": [
    {
     "data": {
      "text/plain": [
       "True"
      ]
     },
     "execution_count": 9,
     "metadata": {},
     "output_type": "execute_result"
    }
   ],
   "source": [
    "tfidf_path = os.path.join(os.getcwd(), \"../data/preprocessed/tfidf_msgs_viz.pkl\")\n",
    "already_tfidf = os.path.exists(tfidf_path)\n",
    "already_tfidf"
   ]
  },
  {
   "cell_type": "code",
   "execution_count": 10,
   "metadata": {},
   "outputs": [
    {
     "name": "stdout",
     "output_type": "stream",
     "text": [
      "Loading tf-idf filtered messages...\n"
     ]
    }
   ],
   "source": [
    "if not already_tfidf:\n",
    "    # isolate English and German texts and prepare them for TF-IDF vectorization\n",
    "    english_texts = df[df[\"message_text_lang\"] == \"English\"][\"message_text_preprocessed\"]\n",
    "    german_texts = df[df[\"message_text_lang\"] == \"German\"][\"message_text_preprocessed\"]\n",
    "\n",
    "    # create and fit TF-IDF vectorizers based on the isolated texts\n",
    "    tfidf_vectorizer_en = TfidfVectorizer(ngram_range=(1,1))\n",
    "    tfidf_vectorizer_de = TfidfVectorizer(ngram_range=(1,1)) \n",
    "    tfidf_vectorizer_en.fit(english_texts)\n",
    "    tfidf_vectorizer_de.fit(german_texts)\n",
    "\n",
    "    feature_names_en = tfidf_vectorizer_en.get_feature_names_out()\n",
    "    feature_names_de = tfidf_vectorizer_de.get_feature_names_out()\n",
    "\n",
    "    def apply_tf_idf_threshold(row, tfidf_vectorizer_en, tfidf_vectorizer_de, threshold):\n",
    "\n",
    "        if row[\"message_text_lang\"] == \"English\":\n",
    "            tfidf_vectorizer = tfidf_vectorizer_en\n",
    "            feature_names = feature_names_en\n",
    "        elif row[\"message_text_lang\"] == \"German\":\n",
    "            tfidf_vectorizer = tfidf_vectorizer_de\n",
    "            feature_names = feature_names_de\n",
    "        else:\n",
    "            return row[\"message_text_preprocessed\"]\n",
    "\n",
    "        tfidf_matrix = tfidf_vectorizer.transform([row[\"message_text_preprocessed\"]])\n",
    "        tfidf_values = tfidf_matrix.toarray().flatten()\n",
    "        \n",
    "        distinctive_words = [feature_names[i] for i in np.where(tfidf_values > threshold)[0]]\n",
    "\n",
    "        return \" \".join(distinctive_words)\n",
    "\n",
    "    # apply the threshold to the TF-IDF values\n",
    "    df[\"message_text_tfidf\"] = df.apply(lambda x: apply_tf_idf_threshold(x, tfidf_vectorizer_en, tfidf_vectorizer_de, 0.15), axis=1)\n",
    "\n",
    "    # save the preprocessed messages\n",
    "    df[\"message_text_tfidf\"].to_pickle(tfidf_path)\n",
    "\n",
    "else:\n",
    "    print(\"Loading tf-idf filtered messages...\")\n",
    "    tfidf_filtered_msg = pd.read_pickle(tfidf_path)\n",
    "    df[\"message_text_tfidf\"] = tfidf_filtered_msg"
   ]
  },
  {
   "cell_type": "markdown",
   "metadata": {},
   "source": [
    "**Apply TF-IDF-Filtering to Webpage Previews**"
   ]
  },
  {
   "cell_type": "code",
   "execution_count": 11,
   "metadata": {},
   "outputs": [
    {
     "data": {
      "text/plain": [
       "True"
      ]
     },
     "execution_count": 11,
     "metadata": {},
     "output_type": "execute_result"
    }
   ],
   "source": [
    "tfidf_path = os.path.join(os.getcwd(), \"../data/preprocessed/tfidf_web_viz.pkl\")\n",
    "already_tfidf = os.path.exists(tfidf_path)\n",
    "already_tfidf"
   ]
  },
  {
   "cell_type": "code",
   "execution_count": 12,
   "metadata": {},
   "outputs": [
    {
     "name": "stdout",
     "output_type": "stream",
     "text": [
      "Loading tf-idf-filtered messages...\n"
     ]
    }
   ],
   "source": [
    "if not already_tfidf:\n",
    "    # isolate English and German texts and prepare them for TF-IDF vectorization\n",
    "    english_texts = df[df[\"webpage_description_lang\"] == \"English\"][\"webpage_description_preprocessed\"]\n",
    "    german_texts = df[df[\"webpage_description_lang\"] == \"German\"][\"webpage_description_preprocessed\"]\n",
    "\n",
    "    # create and fit TF-IDF vectorizers based on the isolated texts\n",
    "    tfidf_vectorizer_en = TfidfVectorizer(ngram_range=(1,1))\n",
    "    tfidf_vectorizer_de = TfidfVectorizer(ngram_range=(1,1)) \n",
    "    tfidf_vectorizer_en.fit(english_texts)\n",
    "    tfidf_vectorizer_de.fit(german_texts)\n",
    "\n",
    "    feature_names_en = tfidf_vectorizer_en.get_feature_names_out()\n",
    "    feature_names_de = tfidf_vectorizer_de.get_feature_names_out()\n",
    "\n",
    "    def apply_tf_idf_threshold_web(row, tfidf_vectorizer_en, tfidf_vectorizer_de, threshold):\n",
    "\n",
    "        if row[\"webpage_description_lang\"] == \"English\":\n",
    "            tfidf_vectorizer = tfidf_vectorizer_en\n",
    "            feature_names = feature_names_en\n",
    "        elif row[\"webpage_description_lang\"] == \"German\":\n",
    "            tfidf_vectorizer = tfidf_vectorizer_de\n",
    "            feature_names = feature_names_de\n",
    "        else:\n",
    "            return row[\"webpage_description_preprocessed\"]\n",
    "\n",
    "        tfidf_matrix = tfidf_vectorizer.transform([row[\"webpage_description_preprocessed\"]])\n",
    "        tfidf_values = tfidf_matrix.toarray().flatten()\n",
    "        \n",
    "        distinctive_words = [feature_names[i] for i in np.where(tfidf_values > threshold)[0]]\n",
    "\n",
    "        return \" \".join(distinctive_words)\n",
    "\n",
    "    # apply the threshold to the TF-IDF values\n",
    "    df[\"webpage_description_tfidf\"] = df.apply(lambda x: apply_tf_idf_threshold_web(x, tfidf_vectorizer_en, tfidf_vectorizer_de, 0.15), axis=1)\n",
    "\n",
    "    # save the preprocessed messages\n",
    "    df[\"webpage_description_tfidf\"].to_pickle(tfidf_path)\n",
    "\n",
    "else:\n",
    "    print(\"Loading tf-idf-filtered messages...\")\n",
    "    tfidf_filtered_msg = pd.read_pickle(tfidf_path)\n",
    "    df[\"webpage_description_tfidf\"] = tfidf_filtered_msg"
   ]
  },
  {
   "cell_type": "markdown",
   "metadata": {},
   "source": [
    "##### 3. Create Chat-Text-Aggregations for each Chat\n",
    "\n",
    "Now, we create message aggregations that will be handed to BERTopic in order to make topic interpretable."
   ]
  },
  {
   "cell_type": "code",
   "execution_count": 13,
   "metadata": {},
   "outputs": [
    {
     "data": {
      "text/plain": [
       "telegram_chat_id\n",
       "1088678000    brush forget teeth egypt views beautiful view ...\n",
       "1100528049    absage absagen gesundheitszustand konzert lena...\n",
       "1106758760    earth transition unprecedented body crystal sh...\n",
       "1114384948    erdbeben ergebnisse ersten erstmals frankreich...\n",
       "1127888562    angreifer berührter boden danach erinnern gesi...\n",
       "                                    ...                        \n",
       "2109703003       bauen bauern essen fall her joe landwirten ...\n",
       "2112932878    denise dm fein grüße habt harmonics impulsen m...\n",
       "2117576592    grocery healthylife know secret shopping us da...\n",
       "2118786195    bezaubernd kind kinder liebe mehr tun warum fr...\n",
       "2138374794    besiegelt dreistelliger finanzpaket lebende mi...\n",
       "Name: message_text_tfidf, Length: 351, dtype: object"
      ]
     },
     "execution_count": 13,
     "metadata": {},
     "output_type": "execute_result"
    }
   ],
   "source": [
    "grouped = df.groupby(\"telegram_chat_id\")\n",
    "chat_texts = grouped[\"message_text_tfidf\"].agg(lambda x: \" \".join(x))\n",
    "chat_texts = chat_texts.astype(str)\n",
    "chat_texts"
   ]
  },
  {
   "cell_type": "markdown",
   "metadata": {},
   "source": [
    "##### 4. Create Webpage-Preview-Aggregations for each Chat\n",
    "\n",
    "We repeat the same process for webpage preview texts."
   ]
  },
  {
   "cell_type": "code",
   "execution_count": 14,
   "metadata": {},
   "outputs": [
    {
     "data": {
      "text/plain": [
       "telegram_chat_id\n",
       "1088678000                                                  ...\n",
       "1100528049    absage absagen allgäu auftritt konzert landrut...\n",
       "1106758760                                                  ...\n",
       "1114384948    erdbeben ergebnisse ersten erstmals frankreich...\n",
       "1127888562                          basierten drunkpunkjunk ...\n",
       "                                    ...                        \n",
       "2109703003                                                  ...\n",
       "2112932878                                            birken...\n",
       "2117576592                                                  ...\n",
       "2118786195                    chemie gesundes helfen hilft l...\n",
       "2138374794    bericht bundesregierung dreistelliger finanzpa...\n",
       "Name: webpage_description_tfidf, Length: 351, dtype: object"
      ]
     },
     "execution_count": 14,
     "metadata": {},
     "output_type": "execute_result"
    }
   ],
   "source": [
    "grouped = df.groupby(\"telegram_chat_id\")\n",
    "chat_webpage_previews = grouped[\"webpage_description_tfidf\"].agg(lambda x: \" \".join(x))\n",
    "chat_webpage_previews = chat_webpage_previews.astype(str)\n",
    "chat_webpage_previews"
   ]
  },
  {
   "cell_type": "markdown",
   "metadata": {},
   "source": [
    "## 2. Basic Chat Embeddings"
   ]
  },
  {
   "cell_type": "markdown",
   "metadata": {},
   "source": [
    "To start of, we\"ll cluster the chats in our dataset using an aggregation of the embeddings of messages sent inside of them. \n",
    "\n",
    "This model will act as a baseline. "
   ]
  },
  {
   "cell_type": "markdown",
   "metadata": {},
   "source": [
    "#### 1. Load Chat Representations\n",
    "\n",
    "First, we load the chat representations we created in the notebook `02_feature_engineering`."
   ]
  },
  {
   "cell_type": "code",
   "execution_count": 15,
   "metadata": {},
   "outputs": [
    {
     "name": "stdout",
     "output_type": "stream",
     "text": [
      "Number of chat vectors: 351\n",
      "Vector Dimension: (384,)\n"
     ]
    },
    {
     "data": {
      "text/plain": [
       "telegram_chat_id\n",
       "1088678000    [0.1263766073179652, 0.05394563817068299, 0.05...\n",
       "1100528049    [-0.023233175288204094, 0.09989558492405338, -...\n",
       "1106758760    [0.042088846805800655, 0.03061037621607788, 0....\n",
       "1114384948    [0.015081686089090711, 0.18715866830595776, -0...\n",
       "1127888562    [-0.06275966569274828, 0.07046570646658255, -0...\n",
       "                                    ...                        \n",
       "2109703003    [-0.022255021208905136, 0.07689504962285018, -...\n",
       "2112932878    [0.08306009970249655, 0.03701082738495624, 0.0...\n",
       "2117576592    [-0.06356400540833393, -0.019289514661497673, ...\n",
       "2118786195    [-0.008770940284807625, 0.05829667346273892, -...\n",
       "2138374794    [-0.017311744546580264, 0.12816830782920283, -...\n",
       "Name: message_text_embeddings, Length: 351, dtype: object"
      ]
     },
     "execution_count": 15,
     "metadata": {},
     "output_type": "execute_result"
    }
   ],
   "source": [
    "base_path = os.path.join(os.getcwd(), \"../features/0_base_chat_vectors.npy\")\n",
    "base_chat_vectors = np.load(base_path, allow_pickle=True)\n",
    "print(f\"Number of chat vectors: {base_chat_vectors.shape[0]}\")\n",
    "print(f\"Vector Dimension: {base_chat_vectors.iloc[0].shape}\")\n",
    "base_chat_vectors"
   ]
  },
  {
   "cell_type": "markdown",
   "metadata": {},
   "source": [
    "#### 2. Cluster the embeddings\n",
    "\n",
    "Now we can use BERTopic to cluster the embeddings. \n",
    "\n",
    "In addition to clustering, BERTopic will also automatically create summaries for each topic using a representational model. The method chosen here, KeyBERT-inspired, extracts keywords from all documents assigned to a topic using BERT embeddings.\n",
    "\n",
    "We will also create visualisations of clusters."
   ]
  },
  {
   "cell_type": "code",
   "execution_count": 16,
   "metadata": {},
   "outputs": [
    {
     "name": "stdout",
     "output_type": "stream",
     "text": [
      "Model already downloaded. Loading...\n",
      "Topic Model exists: True\n",
      "Evaluation Metrics exist: True\n",
      "Representative Messages exist: True\n",
      "Base embeddings already processed. Loading results...\n"
     ]
    }
   ],
   "source": [
    "# load the model we used to create the embeddings, in order to use it for the representational model\n",
    "current_path = os.getcwd()\n",
    "model_dir = os.path.join(current_path, \"../data/models/\")\n",
    "model_name = \"paraphrase-multilingual-MiniLM-L12-v2\"\n",
    "model_path = os.path.join(model_dir, model_name)\n",
    "\n",
    "if not os.path.isdir(model_path):\n",
    "    print(\"Model not found. Downloading...\")\n",
    "    transformer_model = SentenceTransformer(model_name)\n",
    "    transformer_model.save(model_path)\n",
    "    print(f\"Model saved to {model_path}\")\n",
    "else:\n",
    "    print(f\"Model already downloaded. Loading...\")\n",
    "    transformer_model = SentenceTransformer(model_path)\n",
    "\n",
    "# check, if the base embeddings were already processed\n",
    "feature_name = \"base\"\n",
    "base_done = is_processed(feature_name)\n",
    "\n",
    "# load the results, if the base embeddings were already processed\n",
    "if base_done:\n",
    "    print(\"Base embeddings already processed. Loading results...\")\n",
    "    base_evaluation_metrics, base_topic_model, representative_messages, representative_webpages = load_data(feature_name)\n",
    "    \n",
    "# run the experiment, if the base embeddings were not already processed\n",
    "else:\n",
    "    print(\"Running experiment for base embeddings...\")\n",
    "    base_evaluation_metrics, base_topics, base_probabilities, base_topic_model = run_experiment(\n",
    "        chat_embeddings=base_chat_vectors, \n",
    "        chat_texts=chat_texts, \n",
    "        n=50, \n",
    "        topic_model_dir_path=os.path.join(os.getcwd(), \"../results/base_embeddings/topic_models/\"),\n",
    "        feature_name=feature_name,\n",
    "        used_embedding_model=transformer_model\n",
    "    )"
   ]
  },
  {
   "cell_type": "markdown",
   "metadata": {},
   "source": [
    "#### 3. Inspect the average evaluation metrics"
   ]
  },
  {
   "cell_type": "code",
   "execution_count": 17,
   "metadata": {},
   "outputs": [
    {
     "name": "stdout",
     "output_type": "stream",
     "text": [
      "Coherence Scores: 0.4595140194572657\n",
      "Silhouette Scores: 0.14638398678420722\n",
      "Davies Bouldin Scores: 2.1003440353729665\n",
      "Topic Counts: 3.76\n",
      "Noise Counts: 11.0\n"
     ]
    }
   ],
   "source": [
    "for key, value in base_evaluation_metrics.items():\n",
    "    print(f\"{key.replace(\"_\", \" \")[4:].title()}: {value}\")"
   ]
  },
  {
   "cell_type": "markdown",
   "metadata": {},
   "source": [
    "#### 4. Visualise And Export The Results Of The Most Average Topic Model\n",
    "\n",
    "Now we visualise the results. As the resulting graphics are too big to be saved in the notebook, we will instead save them to the directory defined in the variable path."
   ]
  },
  {
   "cell_type": "code",
   "execution_count": 18,
   "metadata": {},
   "outputs": [
    {
     "name": "stdout",
     "output_type": "stream",
     "text": [
      "2024-10-28 19:06:02,142 - create_topic_visualisations - Create UMAP Plot - Completed ✓\n",
      "2024-10-28 19:06:02,351 - create_topic_visualisations - Create Topic Barchart - Completed ✓\n"
     ]
    },
    {
     "name": "stderr",
     "output_type": "stream",
     "text": [
      "100%|██████████| 2/2 [00:27<00:00, 13.54s/it]\n"
     ]
    },
    {
     "name": "stdout",
     "output_type": "stream",
     "text": [
      "2024-10-28 19:06:40,298 - create_topic_visualisations - Create Topic Hierarchy - Completed ✓\n"
     ]
    }
   ],
   "source": [
    "path = os.path.join(os.getcwd(), \"../results/base_embeddings/\")\n",
    "os.makedirs(path, exist_ok=True)\n",
    "create_topic_visualisations(base_topic_model, base_chat_vectors, chat_texts, path, display_plots=False)"
   ]
  },
  {
   "cell_type": "markdown",
   "metadata": {},
   "source": [
    "#### 5. Inspect the most representative messages"
   ]
  },
  {
   "cell_type": "markdown",
   "metadata": {},
   "source": [
    "**1. Create Topic Vectors**\n",
    "\n",
    "We average the embeddings of all chats assigned to a topic model to find a topics center. This vector will be used as a topic representation."
   ]
  },
  {
   "cell_type": "code",
   "execution_count": 19,
   "metadata": {},
   "outputs": [],
   "source": [
    "if not base_done:\n",
    "    topic_vectors = create_topic_vectors(base_topic_model, base_chat_vectors)\n",
    "    topic_vectors"
   ]
  },
  {
   "cell_type": "markdown",
   "metadata": {},
   "source": [
    "**2. For each topic, extract the top n messages closest to the topic vector they were assigned to**\n",
    "\n",
    "First, we add the message-text-embeddings created in `02_feature_engineering` back to the messages in the DataFrame. \n",
    "We will then use them to compare the messages to the topic vectors created earlier to find the most representative messages for each topic."
   ]
  },
  {
   "cell_type": "code",
   "execution_count": 20,
   "metadata": {},
   "outputs": [],
   "source": [
    "if not base_done:\n",
    "    # load the message embeddings\n",
    "    message_embeddings_path = os.path.join(os.getcwd(), \"../features/0_message_embeddings.npy\")\n",
    "    message_embeddings = np.load(message_embeddings_path, allow_pickle=True)\n",
    "\n",
    "    # create a series where each element is an message-vector\n",
    "    message_embeddings_series = pd.Series([embedding for embedding in message_embeddings])\n",
    "\n",
    "    # check if the message embeddings have the same shape as the dataframe\n",
    "    assert message_embeddings_series.shape[0] == len(message_embeddings)\n",
    "    message_embeddings_series\n",
    "\n",
    "    # add the message embeddings to the dataframe\n",
    "    df[\"message_vector\"] = message_embeddings_series\n",
    "    df[[\"message_text\", \"message_vector\"]].head()"
   ]
  },
  {
   "cell_type": "code",
   "execution_count": 21,
   "metadata": {},
   "outputs": [
    {
     "name": "stdout",
     "output_type": "stream",
     "text": [
      "Topic 0:\n",
      "1. Hier deutschsprachig:\n",
      "2. #ploetzlichundunerwartet\n",
      "3. das hält man ja nicht im Kopf aus. #KämpftumEuerLand\n",
      "4. Unerträgliche Aussage ️ ️ @NetzwerkkritischerExperten .\n",
      "5. #Plötzlichundunerwartet Aus der Rubrik: #KarmaIsABitch\n",
      "6. #Schweiz: Heute über #Genf.\n",
      "7. Staatsnahe #Medien in der #Schweiz schweigen: #RKIProtokolle des #RKI entschwärzt: Das sollten Sie nicht wissen\n",
      "8. Bundesfinanzminister Lindner solle doch bitte ausreden können Berlin, 15.1.24\n",
      "9. Wie viele wären wirklich geimpft? Mad in Germany unterstützen\n",
      "10. Impftote nun plötzlich Hitzetote WICHTIG: Neue Gesetze vom 25. August 2023 gefährden JEDE Aufklärungsarbeit! Darum TEILEN – VERBREITEN – STREUEN – jetzt ist es noch möglich! Video in voller Länge: ABONNIEREN\n",
      "\n",
      "\n",
      "Topic 1:\n",
      "1. #Klassiker\n",
      "2. Neidische Kollegen oder Freunde! So gehst du selbstbewusst damit um! 5.1K 22.09.2021 SELFCHANGER\n",
      "3. einer von meinem STAMM Herzensgrüße\n",
      "4. #Farbenreich\n",
      "5. >> Kopf hoch! Sonst wirst du nicht sehen können, wer dir zulächelt.<< Gebt dem Wochenende Einlass, ihr Lieben Abb Netzfund\n",
      "6. Für diejenigen, die am 24.12. die Rauhnächte beginnen\n",
      "7. Genial den will ich auf für Zeiten der Not\n",
      "8. #LASSTUNSLIEBESCHENKEN\n",
      "9. #Marmelad #zuckerfrei #Brennnessel\n",
      "10. #Mädesüß\n",
      "\n",
      "\n",
      "Topic 2:\n",
      "1. 》 |RT-NACHRICHTEN, 29.05.2024, mit Vadim Ivanov Aktuelle Ereignisse aus der russischen Perspektive. U.a. mit folgenden Themen: OFFENE KONFRONTATION - immer mehr Länder für ukrainischen Waffeneinsatz in Russland - Selbst Olaf Scholz ändert seine Meinung STAATSRATSSITZUNG - Sitzung des erweiterten Staatsrats im Großen Kremlpalast - Themen: Strategische Lage und konkrete Projekte KRIEG IM NAHEN OSTEN - wieder Tote bei Angriff auf Flüchtlingslager bei Rafah - Israel weist Vorwürfe zurück The Group of the 7\n",
      "2. 》 |RT-NACHRICHTEN, 23.05.2024, mit Vadim Ivanov Aktuelle Ereignisse aus der russischen Perspektive. U.a. mit folgenden Themen: SPIEGELMAẞNAHMEN - Moskau reagiert auf Beschlagnahmungen in den USA KÖNIG VON BAHREIN IN MOSKAU - Lob für die Einigkeit des Globalen Südens. Barain ist noch echt, Einer von wenigen Königen, der sich behauptet hat, dafür sorgte frei genug zu sein, damit Israel ihn nicht zwingen kann mit zumachen. Es sucht Nähe Schutz und Zusammenarbeit bei Russland und macht sich weiter für Gaza stark.. da reden genau die richtigen beiden wirklich.. gut gemacht Russland hat mich nie enttäuscht. Er macht es genau richtig!!! Wenigstens einer unserer Könige. 75 JAHRE GRUNDGESETZ - am 23. Mai 1949 wurde das Grundgesetz verkündet - ist die Demokratie heute in Gefahr? DER IRAN TRAUERT - im ganzen Land Trauer um Präsident Raisi und seine Begleiter The Group of the 7\n",
      "3. 》 |RT-NACHRICHTEN, 27.05.2024, 18.00 Uhr mit Alex Dzhigirej Aktuelle Ereignisse aus der russischen Perspektive. U.a. mit folgenden Themen: KEINE EINIGKEIT - Stoltenberg gegen Beschränkungen für Waffen der Ukraine - Salvini: \"die NATO kann uns nicht zwingen, in Russland zu töten\" WLADIMIR PUTIN IN USBEKISTAN - 2-tägiger Besuch beendet - zahlreiche Abkommen unterzeichnet KRIEG IM NAHEN OSTEN - Israelische Streitkräfte bombardieren Zeltlager in Sicherheitszone - Zahlreiche Frauen und Kinder getötet BUNGEE-JUMPING IM IRAN - Höchster Sprungplatz der Welt in Teheran - 280 Meter in die Tiefe The Group of the 7\n",
      "4. 》 |RT-NACHRICHTEN, 11.05.2024, mit Ulrich Gohlke Aktuelle Ereignisse aus der russischen Perspektive. U.a. mit folgenden Themen: GAZA UNTER BESCHUSS - 40 Tote in Rafah - Israel fordert Bevölkerung auf, die Stadt zu verlassen NATO-TRUPPEN IN DER UKRAINE - Polens Premier Donald Tusk bestätigt die Anwesenheit von NATO-Truppen in der Ukraine - Ungarn warnt vor 3. Weltkrieg UNTER RUSSISCHER KONTROLLE - russische Truppen übernehmen die Kontrolle in fünf Siedlungen im Raum Charkow FREUNDSCHAFT MIT MOLDAWIEN - Orden der Freundschaft für moldawische Abgeordnete Marina Tauber The Group of the 7\n",
      "5. 》 |RT-NACHRICHTEN, 28.05.2024, 19.00 Uhr mit Alex Dzhigirej Aktuelle Ereignisse aus der russischen Perspektive. U.a. mit folgenden Themen: WERTVOLLE PARTNERSCHAFT - Wladimir Putins Besuch in Usbekistan OFFENE KONFRONTATION - immer mehr europäische Politiker für direkte Angriffe der Ukraine auf Russland KRIEG IM NAHEN OSTEN - Israel setzt Offensive auf Rafah fort - Netanjahu bezeichnet Angriff auf Zeltlager als Fehler The Group of the 7\n",
      "6. 》 |RT-NACHRICHTEN, 29.01., mit Dominik Reichert Aktuelle Ereignisse aus der russischen Perspektive U.a. mit folgenden Themen: AKP-ABLEGER IN DEUTSCHLAND - Erdogan baut Einfluss aus KAMPAGNE GEGEN RECHTS - Demos gegen die AfD gehen weiter - Grüne provozieren Hitlergruß-Skandal BLUTIGER KONFLIKT - Humanitäre Krise in Gaza - israelische Demonstranten gegen Hilfslieferungen The Group of the 7\n",
      "7. 》 |RT-NACHRICHTEN, 03.04.2024, mit Vadim Ivanov Aktuelle Ereignisse aus der russischen Perspektive. U.a. mit folgenden Themen: WER TRÄGT DIE SCHULD? - Crocus-City-Hall: Russland verdächtigt Ukraine und USA ERDBEBEN VOR TAIWAN - schwerstes Beben seit 25 Jahren HUMANITÄRE HELFER GETÖTET - Israels Armee: \"Angriff war schwerer Fehler\" - World Central Kitchen: Israel über Bewegungen der Helfer informiert nur weil man es beweisen konnte REFORM DER SCHULDENBREMSE - Lindner: erst nach der Wahl 2025 The Group of the 7\n",
      "8. 》 |RT-NACHRICHTEN, 01.03., 21.00 Uhr mit Dominik Reichert Aktuelle Ereignisse aus der russischen Perspektive. U.a. mit folgenden Themen: GELEAKTE AUFNAHME - Deutsche Offiziere besprechen Zerstörung der Krim-Brücke - Russen hören mit SCHLAG INS GESICHT - Scholz: Briten und Franzosen sind bereits in der Ukraine BLUTIGER KRIEG - Gaza: Massaker an Zivilisten während einer Hilfslieferung führt zu noch mehr Solidarisierung mit Palästinensern. The Group of the 7\n",
      "9. 》 |RT-NACHRICHTEN, 22.01., mit Dominik Reichert Aktuelle Ereignisse aus der russischen Perspektive U.a. mit folgenden Themen SITZUNG DES UN-SICHERHEITSRATS - Nach Beschuss von Donezk mit 28 Zivilisten UMSTRITTENEE VORSCHLAG - Pistorius: auch Ausländer sollen in der Bundeswehr dienen - Warnung vor einem Krieg mit Russland KRIEG IM NAHEN OSTEN - Israelischer Vormarsch im südlichen Gazastreifen - Zahl der zivilen Opfer steigt auf 25.000. Da seht ihr mal wie schnell aus \"solidarität\" nun \"pflicht\" wird. Habe es letztes Jahr im Mai gesagt und die meisten fanden es witzig, da sind wir nun, nur knappe 10 Monate später \"ist es eure Pflicht zur Bundeswehr zu gehen und Krieg mit russland zu wollen\" - wie sagt er so schön \"das Gesetz ist da eindeutig..\" kranker scheiss oder? The Group of the 7\n",
      "10. ZU PRO-RUSSISCH - EIN HAUCH VON NORTHSTREAM LIEGT IN DER LUFT SLOWAKEI, HANDLOVA/SKY NEWS 25.05. Ist heute igendwo der Sekt kaltgestellt worden? Der Anschlag auf Premierminister Robert Fico in Handlova dt. Krickerhau trifft einen Politiker mit maximaler Distanz zur Ukraine und den Russlandsanktionen der Europäischen Union. POSITIONEN FICOS Keine Überfremdung durch Massenmigration. Kein WHO-Pakt Kein NATO-Beitritt der Ukraine. Notfalls slowakisches Veto. Keine Waffenlieferungen an das \"Nazi-Regime\" Fico in Kiew. Für ein gutes Verhältnis zu Russland und China und gegen antirussische EU-Sanktionen Robert Fico war bereits zweimal Premier 2006 - 2010, 2026 - 2020 und wieder seit 2023. Seine Partei SMER - \"Richtung - Slowakische Sozialdemokratie\" gehört der Sozialistischen Internationale an, ist also eine Schwesterpartei der SPD. Das heutige Attentat des \"Schriftstellers\" Juray Cintula hätte im Erfolgsfall bestimmten globalistischen Gruppen durchaus ins Konzept gepasst. @RoyalAllemand\n",
      "\n",
      "\n"
     ]
    }
   ],
   "source": [
    "if not base_done:\n",
    "    representative_messages = get_representative_texts(df = df,\n",
    "                                                    topic_model = base_topic_model,\n",
    "                                                    topic_vectors = topic_vectors,\n",
    "                                                    chat_vectors = base_chat_vectors,\n",
    "                                                    n = 10,\n",
    "                                                    feature_name = \"base\",\n",
    "                                                    text_column = \"message_text\",\n",
    "                                                    text_embeddings_column = \"message_vector\",\n",
    "                                                    text_preprocessed_column = \"message_text_preprocessed\")\n",
    "\n",
    "    # save representative messages\n",
    "    representative_messages_path = os.path.join(os.getcwd(), \"../results/base_embeddings/representative_messages.json\")\n",
    "    representative_messages = {int(topic): messages for topic, messages in representative_messages.items()} # convert keys to int\n",
    "    with open(representative_messages_path, \"w\") as jsonfile:\n",
    "        json.dump(representative_messages, jsonfile, indent=4)\n",
    "\n",
    "# print representative messages\n",
    "for topic, messages in representative_messages.items():\n",
    "    print(f\"Topic {topic}:\")\n",
    "    for i, message in enumerate(messages):\n",
    "        print(f\"{i+1}. {message.strip()}\")\n",
    "    print(\"\\n\")"
   ]
  },
  {
   "cell_type": "markdown",
   "metadata": {},
   "source": [
    "## 3. Filtered Chat Embeddings"
   ]
  },
  {
   "cell_type": "markdown",
   "metadata": {},
   "source": [
    "#### 1. Load The Filtered Chat Embeddings\n",
    "\n",
    "First, we load the chat representations we created in the notebook `02_feature_engineering`"
   ]
  },
  {
   "cell_type": "code",
   "execution_count": 22,
   "metadata": {},
   "outputs": [
    {
     "name": "stdout",
     "output_type": "stream",
     "text": [
      "Number of chat vectors: 350\n",
      "Vector Dimension: (384,)\n"
     ]
    },
    {
     "data": {
      "text/plain": [
       "telegram_chat_id\n",
       "1088678000    [0.12331648135193396, 0.05168804451483456, 0.0...\n",
       "1100528049    [-0.024274383824285855, 0.10465835146835066, -...\n",
       "1106758760    [0.059080261976756546, 0.04199281848231483, 0....\n",
       "1114384948    [0.015070079501382973, 0.18771674297534244, -0...\n",
       "1127888562    [-0.06972874564610768, 0.0715973633862073, -0....\n",
       "                                    ...                        \n",
       "2109703003    [-0.03259240649740155, 0.10988674725440398, -0...\n",
       "2112932878    [0.08216053367249625, 0.03731218883044414, 0.0...\n",
       "2117576592    [-0.06608138750732073, -0.021557911229187203, ...\n",
       "2118786195    [-0.012232864988404708, 0.08756214008712557, -...\n",
       "2138374794    [-0.013785719824888909, 0.14961547387444624, -...\n",
       "Name: message_text_embeddings, Length: 350, dtype: object"
      ]
     },
     "execution_count": 22,
     "metadata": {},
     "output_type": "execute_result"
    }
   ],
   "source": [
    "filtered_path = os.path.join(os.getcwd(), \"../features/1_filtered_chat_vectors.npy\")\n",
    "filtered_chat_vectors = np.load(filtered_path, allow_pickle=True)\n",
    "print(f\"Number of chat vectors: {filtered_chat_vectors.shape[0]}\")\n",
    "print(f\"Vector Dimension: {filtered_chat_vectors.iloc[0].shape}\")\n",
    "filtered_chat_vectors"
   ]
  },
  {
   "cell_type": "markdown",
   "metadata": {},
   "source": [
    "#### 2. Create Filtered Chat-Message-Text-Aggregations\n",
    "\n",
    "Now we filter the dataset to remove all Forwarded/Original-Message-Pairs using the indices we saved in  `02_feature_engineering`."
   ]
  },
  {
   "cell_type": "code",
   "execution_count": 23,
   "metadata": {},
   "outputs": [
    {
     "data": {
      "text/plain": [
       "(1094123, 47)"
      ]
     },
     "execution_count": 23,
     "metadata": {},
     "output_type": "execute_result"
    }
   ],
   "source": [
    "indices_path = os.path.join(os.getcwd(), \"../features/1_implicit_ref_filtered_indices.npy\")\n",
    "filtered_rows_indices = np.load(indices_path)\n",
    "df_references_filtered = df.loc[filtered_rows_indices]\n",
    "df_references_filtered.shape"
   ]
  },
  {
   "cell_type": "markdown",
   "metadata": {},
   "source": [
    "As we removed some messages from our dataset, we need to create updated chat-text-aggregations that reflect these changes. "
   ]
  },
  {
   "cell_type": "code",
   "execution_count": 24,
   "metadata": {},
   "outputs": [
    {
     "data": {
      "text/plain": [
       "telegram_chat_id\n",
       "1088678000    happy mom months seconds seconds of relaxation...\n",
       "1100528049             antisystem ballweg bond bösewicht ein...\n",
       "1106758760     arcturian energies fields get help know knowi...\n",
       "1114384948       behörden beobachtung exklusiv griff indymed...\n",
       "1127888562    firma geworden got kaufen länge real shit ther...\n",
       "                                    ...                        \n",
       "2109703003                                             gez f...\n",
       "2112932878                                                  ...\n",
       "2117576592     blurred lenses morning myopia ophthalmologist...\n",
       "2118786195                              bedarf gibt hinhören...\n",
       "2138374794    deutschland dänemark dänen hersh pipeline scho...\n",
       "Name: message_text_tfidf, Length: 350, dtype: object"
      ]
     },
     "execution_count": 24,
     "metadata": {},
     "output_type": "execute_result"
    }
   ],
   "source": [
    "grouped = df_references_filtered.groupby(\"telegram_chat_id\")\n",
    "filtered_chat_texts = grouped[\"message_text_tfidf\"].agg(lambda x: \" \".join(x))\n",
    "filtered_chat_texts = filtered_chat_texts.astype(str)\n",
    "filtered_chat_texts"
   ]
  },
  {
   "cell_type": "markdown",
   "metadata": {},
   "source": [
    "#### 3. Cluster The Embeddings\n",
    "\n",
    "Now we can use BERTopic to cluster the embeddings. Again, we will run the model multiple times and inspect the average results of the topic models."
   ]
  },
  {
   "cell_type": "code",
   "execution_count": 25,
   "metadata": {},
   "outputs": [
    {
     "name": "stdout",
     "output_type": "stream",
     "text": [
      "Model already downloaded. Loading...\n",
      "Topic Model exists: True\n",
      "Evaluation Metrics exist: True\n",
      "Representative Messages exist: True\n",
      "Filtered embeddings already processed. Loading results...\n"
     ]
    }
   ],
   "source": [
    "# load the model we used for the embeddings, in order to reuse it for the representational model\n",
    "current_path = os.getcwd()\n",
    "model_dir = os.path.join(current_path, \"../data/models/\")\n",
    "model_name = \"paraphrase-multilingual-MiniLM-L12-v2\"\n",
    "model_path = os.path.join(model_dir, model_name)\n",
    "\n",
    "if not os.path.isdir(model_path):\n",
    "    print(\"Model not found. Downloading...\")\n",
    "    transformer_model = SentenceTransformer(model_name)\n",
    "    transformer_model.save(model_path)\n",
    "    print(f\"Model saved to {model_path}\")\n",
    "else:\n",
    "    print(f\"Model already downloaded. Loading...\")\n",
    "    transformer_model = SentenceTransformer(model_path)\n",
    "\n",
    "# check, if the filtered embeddings were already processed\n",
    "feature_name = \"filtered\"\n",
    "filtered_done = is_processed(feature_name)\n",
    "\n",
    "# load the results, if the filtered embeddings were already processed\n",
    "if filtered_done:\n",
    "    print(\"Filtered embeddings already processed. Loading results...\")\n",
    "    filtered_evaluation_metrics, filtered_topic_model, representative_messages, representative_webpages = load_data(feature_name)\n",
    "\n",
    "# run the experiment, if the filtered embeddings were not already processed\n",
    "else:\n",
    "    print(\"Running experiment for filtered embeddings...\")\n",
    "    filtered_evaluation_metrics, filtered_topics, filtered_probabilities, filtered_topic_model = run_experiment(\n",
    "        chat_embeddings=filtered_chat_vectors, \n",
    "        chat_texts=filtered_chat_texts, \n",
    "        n=50, \n",
    "        topic_model_dir_path=os.path.join(os.getcwd(), \"../results/filtered_embeddings/topic_models/\"),\n",
    "        feature_name=\"filtered\",\n",
    "        used_embedding_model=transformer_model\n",
    ")"
   ]
  },
  {
   "cell_type": "markdown",
   "metadata": {},
   "source": [
    "#### 3. Inspect the average evaluation metrics"
   ]
  },
  {
   "cell_type": "code",
   "execution_count": 26,
   "metadata": {},
   "outputs": [
    {
     "name": "stdout",
     "output_type": "stream",
     "text": [
      "Coherence Scores: 0.4408995779447028\n",
      "Silhouette Scores: 0.13992291057549328\n",
      "Davies Bouldin Scores: 2.0596486664069658\n",
      "Topic Counts: 6.54\n",
      "Noise Counts: 54.42\n"
     ]
    }
   ],
   "source": [
    "for key, value in filtered_evaluation_metrics.items():\n",
    "    print(f\"{key.replace(\"_\", \" \")[4:].title()}: {value}\")"
   ]
  },
  {
   "cell_type": "markdown",
   "metadata": {},
   "source": [
    "#### 4. Visualise The Clustering And Export The Visualisations\n",
    "\n",
    "Again, we will visualise the results. As the resulting graphics are too big to be saved in the notebook, we will instead save them to the directory defined in the variable path."
   ]
  },
  {
   "cell_type": "code",
   "execution_count": 27,
   "metadata": {},
   "outputs": [
    {
     "name": "stdout",
     "output_type": "stream",
     "text": [
      "2024-10-28 19:07:02,184 - create_topic_visualisations - Create UMAP Plot - Completed ✓\n",
      "2024-10-28 19:07:02,372 - create_topic_visualisations - Create Topic Barchart - Completed ✓\n"
     ]
    },
    {
     "name": "stderr",
     "output_type": "stream",
     "text": [
      "100%|██████████| 4/4 [00:42<00:00, 10.52s/it]\n"
     ]
    },
    {
     "name": "stdout",
     "output_type": "stream",
     "text": [
      "2024-10-28 19:07:52,691 - create_topic_visualisations - Create Topic Hierarchy - Completed ✓\n"
     ]
    }
   ],
   "source": [
    "path = os.path.join(os.getcwd(), \"../results/filtered_embeddings/\")\n",
    "os.makedirs(path, exist_ok=True)\n",
    "create_topic_visualisations(filtered_topic_model, filtered_chat_vectors, filtered_chat_texts, path, display_plots=False)"
   ]
  },
  {
   "cell_type": "markdown",
   "metadata": {},
   "source": [
    "#### 5. Inspect the most representative messages\n",
    "\n",
    "Again, we\"ll inspect the most representative messages for each topic by comparing them to topic vectors derived from the topic assignments returned by the topic model."
   ]
  },
  {
   "cell_type": "markdown",
   "metadata": {},
   "source": [
    "**1. Create Topic Vectors**\n",
    "\n",
    "We average the embeddings of all chats assigned to a topic model to find a topics center. This vector will be used as a topic representation."
   ]
  },
  {
   "cell_type": "code",
   "execution_count": 28,
   "metadata": {},
   "outputs": [],
   "source": [
    "if not filtered_done:\n",
    "    topic_vectors = create_topic_vectors(filtered_topic_model, filtered_chat_vectors)\n",
    "    topic_vectors"
   ]
  },
  {
   "cell_type": "markdown",
   "metadata": {},
   "source": [
    "**2. Extract Top Messages**\n",
    "\n",
    "Again, we add the embeddings created in `02_feature_engineering` back to the messages in the DataFrame and use them to find the most representative messages for each topic."
   ]
  },
  {
   "cell_type": "code",
   "execution_count": 29,
   "metadata": {},
   "outputs": [],
   "source": [
    "if not filtered_done:\n",
    "    # filter the df to only include the messages that were used in the filtered chat vectors. We can use the indices saved in the feature engineering notebook\n",
    "    filtered_rows_indices = np.load(indices_path)\n",
    "    df_filtered = df.loc[filtered_rows_indices]\n",
    "\n",
    "    # load the message embeddings\n",
    "    message_embeddings_path = os.path.join(os.getcwd(), \"../features/0_message_embeddings.npy\")\n",
    "    message_embeddings = np.load(message_embeddings_path, allow_pickle=True)\n",
    "\n",
    "    # create a series where each element is a message-vector\n",
    "    message_embeddings_series = pd.Series([embedding for embedding in message_embeddings])\n",
    "\n",
    "    # check if the message embeddings have the same shape as the dataframe\n",
    "    assert message_embeddings_series.shape[0] == len(message_embeddings)\n",
    "    message_embeddings_series\n",
    "\n",
    "    # add the message embeddings to the dataframe\n",
    "    df_filtered[\"message_vector\"] = message_embeddings_series\n",
    "    df_filtered[[\"message_text\", \"message_vector\"]].head()"
   ]
  },
  {
   "cell_type": "code",
   "execution_count": 30,
   "metadata": {},
   "outputs": [
    {
     "name": "stdout",
     "output_type": "stream",
     "text": [
      "Topic 0:\n",
      "1. Hier deutschsprachig:\n",
      "2. das hält man ja nicht im Kopf aus. #KämpftumEuerLand\n",
      "3. #ploetzlichundunerwartet\n",
      "4. Unerträgliche Aussage ️ ️ @NetzwerkkritischerExperten .\n",
      "5. #Schweiz: Heute über #Genf.\n",
      "6. Der Klügere gibt nach? Bist du dir sicher? Corona Maßnahmen, der ewige Angst. Mad in Germany unterstützen\n",
      "7. Staatsnahe #Medien in der #Schweiz schweigen: #RKIProtokolle des #RKI entschwärzt: Das sollten Sie nicht wissen\n",
      "8. Endlich wird dieser übergriffigen WHO Saubande der Riegel vorgeschoben\n",
      "9. Impftote nun plötzlich Hitzetote WICHTIG: Neue Gesetze vom 25. August 2023 gefährden JEDE Aufklärungsarbeit! Darum TEILEN – VERBREITEN – STREUEN – jetzt ist es noch möglich! Video in voller Länge: ABONNIEREN\n",
      "10. AUFDECKUNG DER MILITÄRISCHEN KORRUPTION Es war alles geplant! TREASON VERBRECHEN GEGEN DIE MENSCHLICHKEIT DE Untertitel\n",
      "\n",
      "\n",
      "Topic 1:\n",
      "1. Seelenfrieden...\n",
      "2. Seelenmenschen Gute Laune Mehr Hier\n",
      "3. Genial den will ich auf für Zeiten der Not\n",
      "4. Für dich Seelenschönes aus der Natur Mehr für dich @seelengut\n",
      "5. >> Kopf hoch! Sonst wirst du nicht sehen können, wer dir zulächelt.<< Gebt dem Wochenende Einlass, ihr Lieben Abb Netzfund\n",
      "6. zauberhaften Tagesausklang wünsche ich euch\n",
      "7. ❀• •❀ Einen traumhaft schönen guten Morgen meine lieben Herzen, Schön~und Freigeister Heute haben wir wirklich alle Hände voll zu tun, mit Genießen, Entspannen, Überraschungen und glücklich sein ! Eine Freude, die Natur mit all ihrer Fülle und Schönheit genießen zu dürfen. Seien wir dankbar für diese wundervolle Schöpfung Habt einen schönen, entspannten und von Licht - und Liebe durchfluteten Tag. @Herzenswahrheiten ❀• •❀\n",
      "8. ️ ️ ️ ️ Einen zauberhaften GUTEN MORGEN ️ ihr lieben SeelenLichter 7. PORTALTAG in Folge 9. Februar 2024 ️10/1 ️ NEUMOND im Wassermann NEUSTART ️ aus der EINHEIT heraus ️ ️ ️ ️ BOTSCHAFT aus meinem Herzen ️Wenn du gestern mit der vollkommenen Energie der 9 deinen emotionalen Rucksack wieder aufgeräumt hast, so kannst du heute mit leichterem Gepäck in eine neue Ebene deines Seins durchstarten 1. Denn die freiheitsliebende, idealistische, originelle, ungewöhnliche und erneuernde Schwingung des Wassermanns hilft dir jetzt dabei, dein INNERES nach AUSSEN zu bringen, IDEEN und VISIONEN an die Oberfläche zu befördern und den SINN deines HIERSEINS besser zu verstehen und zu fühlen. ️Das, was FÜR DICH bestimmt ist, was deine wahre BESTIMMUNG ist, fließt jetzt zu dir. Sei bereit und EMPFANGE es. Versuche also nicht mit dem Verstand Etwas erzwingen zu wollen. Sondern sei ACHTSAM, FEINFÜHLIG und NIMM WAHR, wenn plötzlich Etwas in dein Leben hinein purzelt, was eine riesen große CHANCE für dich sein könnte. Denn diese luftig geistige Energie stimmt dich ein auf deine mitgebrachte SEELENAUFGABE, die du doch hier leben und erfüllen wolltest. ️Spüre, dass all das, was du wirklich brauchst, mühelos zu dir strömt, vollkommen UNABHÄNGIG von deinen Gefühlen die du gerade hast und unabhängig von deiner Wahrnehmung. Es braucht nur ein wenig BEWUSSTHEIT und dein FÜHLEN dieser Energie. ÖFFNE dich und dein HERZ für ein NEUES ZEITALTER, denn das Alte hat nun wahrlich ausgedient. Vertraue auf den kosmischen Plan, dass es richtig ist, wie es ist. ️Hab GEDULD mit dir, nimm deinen selbstgemachten DRUCK RAUS, gönne dir immer wieder RUHE und kleine AUSZEITEN, um all deine Loslassprozesse, die einströmenden LichtCodes und deine Erschöpfung auszubalancieren. Denn Körper, Geist und Seele wollen harmonisch im EINKLANG schwingen. Das Neue braucht unbedingt freien Raum in dir, um sich auch entfalten zu können. Vertraue! Deine Seele führt dich, kalibriert und stimmt dich neu ein, stets zu deinem Wohle und hin zu mehr Ausgeglichenheit und EinsSein. ️Wenn du lernst, aus einer übergeordneten Perspektive der Ganzheit zu schauen, dann kann es schon passieren, dass dir unbewusste Anteile auf einmal vollkommen klar sind und du eine komplette KEHRWENDUNG in deinem Leben vollziehst und wirklich Alles in deinem Leben auf einmal anders wird. Denn diese Frequenz erinnert dich daran, deine wahren inneren WERTE wieder zu fühlen und jetzt auch im ALLtag wirklich zu leben. Sie formt und transformiert alte Denkstrukturen, um deine eigene SOUVERÄNITÄT zu erkennen und mehr INTEGRITÄT, MUT, INNERE STÄRKE und LIEBE leben zu können. Sie ruft dich auf, zu deiner Bestimmung zu stehen und den Platz im Leben EINZUNEHMEN, auch AUSZUFÜLLEN, für den du gekommen bist. ️Lass deine Kontrolle los, lass das Neue leicht zu dir kommen und empfange es in FREUDE und mit einem OFFENEN HERZEN. Vergib dir selbst für deine frühere Unbewusstheit. ES GIBT KEINE SCHULDIGEN! Denn du und auch jeder Andere hat stets sein Bestes gegeben, dass, was ihm zum jeweiligen Moment möglich gewesen ist. Starte neu durch, doch dieses Mal aus deiner eigenen MITTE heraus und GEMEINSAM mit der Kraft deiner SEELE. ️ ️ ️ ️ Eine dicke HERZUMARMUNG zu euch ️ Eure Monika Eveline ️ Foto gefunden im Kanal t.me/SeelenOdem\n",
      "9. Eine schöne Vollmondin euch allen\n",
      "10. Es werde LICHT Was Du in Dir heilst, heilst Du in der Welt. Jeanne Ruland Phantasmio Inspirieren Teilen\n",
      "\n",
      "\n",
      "Topic 2:\n",
      "1. #Klassiker\n",
      "2. Uns trennen Welten!\n",
      "3. SYRER mit MESSER im KINDERGARTEN!\n",
      "4. FURCHTBAR! Ein ZUSAMMENSCHNITT des UNTERGANGS!\n",
      "5. #Hühners Juni\n",
      "6. hierzu\n",
      "7. Tolle Darbietungen!\n",
      "8. Hallöchen. ️ ️\n",
      "9. Schaff das mal\n",
      "10. #GDISO\n",
      "\n",
      "\n",
      "Topic 3:\n",
      "1. 》 |RT-NACHRICHTEN, 29.05.2024, mit Vadim Ivanov Aktuelle Ereignisse aus der russischen Perspektive. U.a. mit folgenden Themen: OFFENE KONFRONTATION - immer mehr Länder für ukrainischen Waffeneinsatz in Russland - Selbst Olaf Scholz ändert seine Meinung STAATSRATSSITZUNG - Sitzung des erweiterten Staatsrats im Großen Kremlpalast - Themen: Strategische Lage und konkrete Projekte KRIEG IM NAHEN OSTEN - wieder Tote bei Angriff auf Flüchtlingslager bei Rafah - Israel weist Vorwürfe zurück The Group of the 7\n",
      "2. 》 |RT-NACHRICHTEN, 27.05.2024, 18.00 Uhr mit Alex Dzhigirej Aktuelle Ereignisse aus der russischen Perspektive. U.a. mit folgenden Themen: KEINE EINIGKEIT - Stoltenberg gegen Beschränkungen für Waffen der Ukraine - Salvini: \"die NATO kann uns nicht zwingen, in Russland zu töten\" WLADIMIR PUTIN IN USBEKISTAN - 2-tägiger Besuch beendet - zahlreiche Abkommen unterzeichnet KRIEG IM NAHEN OSTEN - Israelische Streitkräfte bombardieren Zeltlager in Sicherheitszone - Zahlreiche Frauen und Kinder getötet BUNGEE-JUMPING IM IRAN - Höchster Sprungplatz der Welt in Teheran - 280 Meter in die Tiefe The Group of the 7\n",
      "3. 》 |RT-NACHRICHTEN, 11.05.2024, mit Ulrich Gohlke Aktuelle Ereignisse aus der russischen Perspektive. U.a. mit folgenden Themen: GAZA UNTER BESCHUSS - 40 Tote in Rafah - Israel fordert Bevölkerung auf, die Stadt zu verlassen NATO-TRUPPEN IN DER UKRAINE - Polens Premier Donald Tusk bestätigt die Anwesenheit von NATO-Truppen in der Ukraine - Ungarn warnt vor 3. Weltkrieg UNTER RUSSISCHER KONTROLLE - russische Truppen übernehmen die Kontrolle in fünf Siedlungen im Raum Charkow FREUNDSCHAFT MIT MOLDAWIEN - Orden der Freundschaft für moldawische Abgeordnete Marina Tauber The Group of the 7\n",
      "4. 》 |RT-NACHRICHTEN, 23.05.2024, mit Vadim Ivanov Aktuelle Ereignisse aus der russischen Perspektive. U.a. mit folgenden Themen: SPIEGELMAẞNAHMEN - Moskau reagiert auf Beschlagnahmungen in den USA KÖNIG VON BAHREIN IN MOSKAU - Lob für die Einigkeit des Globalen Südens. Barain ist noch echt, Einer von wenigen Königen, der sich behauptet hat, dafür sorgte frei genug zu sein, damit Israel ihn nicht zwingen kann mit zumachen. Es sucht Nähe Schutz und Zusammenarbeit bei Russland und macht sich weiter für Gaza stark.. da reden genau die richtigen beiden wirklich.. gut gemacht Russland hat mich nie enttäuscht. Er macht es genau richtig!!! Wenigstens einer unserer Könige. 75 JAHRE GRUNDGESETZ - am 23. Mai 1949 wurde das Grundgesetz verkündet - ist die Demokratie heute in Gefahr? DER IRAN TRAUERT - im ganzen Land Trauer um Präsident Raisi und seine Begleiter The Group of the 7\n",
      "5. ZU PRO-RUSSISCH - EIN HAUCH VON NORTHSTREAM LIEGT IN DER LUFT SLOWAKEI, HANDLOVA/SKY NEWS 25.05. Ist heute igendwo der Sekt kaltgestellt worden? Der Anschlag auf Premierminister Robert Fico in Handlova dt. Krickerhau trifft einen Politiker mit maximaler Distanz zur Ukraine und den Russlandsanktionen der Europäischen Union. POSITIONEN FICOS Keine Überfremdung durch Massenmigration. Kein WHO-Pakt Kein NATO-Beitritt der Ukraine. Notfalls slowakisches Veto. Keine Waffenlieferungen an das \"Nazi-Regime\" Fico in Kiew. Für ein gutes Verhältnis zu Russland und China und gegen antirussische EU-Sanktionen Robert Fico war bereits zweimal Premier 2006 - 2010, 2026 - 2020 und wieder seit 2023. Seine Partei SMER - \"Richtung - Slowakische Sozialdemokratie\" gehört der Sozialistischen Internationale an, ist also eine Schwesterpartei der SPD. Das heutige Attentat des \"Schriftstellers\" Juray Cintula hätte im Erfolgsfall bestimmten globalistischen Gruppen durchaus ins Konzept gepasst. @RoyalAllemand\n",
      "6. 》 |RT-NACHRICHTEN, 28.05.2024, 19.00 Uhr mit Alex Dzhigirej Aktuelle Ereignisse aus der russischen Perspektive. U.a. mit folgenden Themen: WERTVOLLE PARTNERSCHAFT - Wladimir Putins Besuch in Usbekistan OFFENE KONFRONTATION - immer mehr europäische Politiker für direkte Angriffe der Ukraine auf Russland KRIEG IM NAHEN OSTEN - Israel setzt Offensive auf Rafah fort - Netanjahu bezeichnet Angriff auf Zeltlager als Fehler The Group of the 7\n",
      "7. 》 |RT-NACHRICHTEN, 01.03., 21.00 Uhr mit Dominik Reichert Aktuelle Ereignisse aus der russischen Perspektive. U.a. mit folgenden Themen: GELEAKTE AUFNAHME - Deutsche Offiziere besprechen Zerstörung der Krim-Brücke - Russen hören mit SCHLAG INS GESICHT - Scholz: Briten und Franzosen sind bereits in der Ukraine BLUTIGER KRIEG - Gaza: Massaker an Zivilisten während einer Hilfslieferung führt zu noch mehr Solidarisierung mit Palästinensern. The Group of the 7\n",
      "8. 》 |RT-NACHRICHTEN, 22.01., mit Dominik Reichert Aktuelle Ereignisse aus der russischen Perspektive U.a. mit folgenden Themen SITZUNG DES UN-SICHERHEITSRATS - Nach Beschuss von Donezk mit 28 Zivilisten UMSTRITTENEE VORSCHLAG - Pistorius: auch Ausländer sollen in der Bundeswehr dienen - Warnung vor einem Krieg mit Russland KRIEG IM NAHEN OSTEN - Israelischer Vormarsch im südlichen Gazastreifen - Zahl der zivilen Opfer steigt auf 25.000. Da seht ihr mal wie schnell aus \"solidarität\" nun \"pflicht\" wird. Habe es letztes Jahr im Mai gesagt und die meisten fanden es witzig, da sind wir nun, nur knappe 10 Monate später \"ist es eure Pflicht zur Bundeswehr zu gehen und Krieg mit russland zu wollen\" - wie sagt er so schön \"das Gesetz ist da eindeutig..\" kranker scheiss oder? The Group of the 7\n",
      "9. 》 |RT-NACHRICHTEN, 29.01., mit Dominik Reichert Aktuelle Ereignisse aus der russischen Perspektive U.a. mit folgenden Themen: AKP-ABLEGER IN DEUTSCHLAND - Erdogan baut Einfluss aus KAMPAGNE GEGEN RECHTS - Demos gegen die AfD gehen weiter - Grüne provozieren Hitlergruß-Skandal BLUTIGER KONFLIKT - Humanitäre Krise in Gaza - israelische Demonstranten gegen Hilfslieferungen The Group of the 7\n",
      "10. 》 |RT-NACHRICHTEN, 03.04.2024, mit Vadim Ivanov Aktuelle Ereignisse aus der russischen Perspektive. U.a. mit folgenden Themen: WER TRÄGT DIE SCHULD? - Crocus-City-Hall: Russland verdächtigt Ukraine und USA ERDBEBEN VOR TAIWAN - schwerstes Beben seit 25 Jahren HUMANITÄRE HELFER GETÖTET - Israels Armee: \"Angriff war schwerer Fehler\" - World Central Kitchen: Israel über Bewegungen der Helfer informiert nur weil man es beweisen konnte REFORM DER SCHULDENBREMSE - Lindner: erst nach der Wahl 2025 The Group of the 7\n",
      "\n",
      "\n",
      "Topic 4:\n",
      "1. #MutterNatur #Frequenzen Gesund ohne Rezept Mehr Hier\n",
      "2. Hier könnt ihr mehr über den gesunden #Zahnwurz nachlesen.\n",
      "3. Zwiebel... ein Naturwunder! Gerne teilen! Folge hier deinem Weg der natürlichen Gesundheit ‍\n",
      "4. Die geheimnisvollen Superkräfte von Kräutern! Du erfährst in diesem Video kompakt zusammengefasst Kräuterwissen für den täglichen Gebrauch. Ich zeige dir, wie 13 Kräuter wirken und wie du im Alltag profitieren kannst: Petersilie Minze Bohnenkraut Dill Estragon Brennessel Basilikum Majoran Schnittlauch Spitzwegerich Salbei Zitronengras Zitronenmelisse sie alle wirken positiv auf die Gesundheit Quelle Teilen kann heilen! Folge hier deinem Weg der natürlichen Gesundheit ‍\n",
      "5. Ein Esslöffel Essig vor einer Mahlzeit schenkt Gesundheit! ‍ Jetzt beitreten BleibGesund\n",
      "6. Fluoride aus den Körper leiten! Und vieles mehr! Gerne teilen! Folge hier deinem Weg der natürlichen Gesundheit ‍\n",
      "7. Der Georg wieder Teilen kann zum Aufwachen beitragen! Folge hier deinem Weg der natürlichen Gesundheit ‍\n",
      "8. Los gehts' Teilen macht autark! Folge hier deinem Weg der natürlichen Gesundheit ‍\n",
      "9. Betthupferl Teilen macht lustig! Folge hier deinem Weg der natürlichen Gesundheit ‍\n",
      "10. Tagesschmunzler Der Flaschengeist Vera F. Birkenbihl Teilen schafft Wissen! Folge hier deinem Weg der natürlichen Gesundheit ‍\n",
      "\n",
      "\n"
     ]
    }
   ],
   "source": [
    "if not filtered_done:\n",
    "    representative_messages = get_representative_texts(df = df_filtered,\n",
    "                                                    topic_model = filtered_topic_model,\n",
    "                                                    topic_vectors = topic_vectors,\n",
    "                                                    chat_vectors = filtered_chat_vectors,\n",
    "                                                    n = 10,\n",
    "                                                    feature_name = \"filtered\",\n",
    "                                                    text_column = \"message_text\",\n",
    "                                                    text_embeddings_column = \"message_vector\",\n",
    "                                                    text_preprocessed_column = \"message_text_preprocessed\")\n",
    "\n",
    "    # save representative messages\n",
    "    representative_messages_path = os.path.join(os.getcwd(), \"../results/filtered_embeddings/representative_messages.json\")\n",
    "    representative_messages = {int(topic): messages for topic, messages in representative_messages.items()} # convert keys to int\n",
    "    with open(representative_messages_path, \"w\") as jsonfile:\n",
    "        json.dump(representative_messages, jsonfile, indent=4)\n",
    "\n",
    "# print representative messages\n",
    "for topic, messages in representative_messages.items():\n",
    "    print(f\"Topic {topic}:\")\n",
    "    for i, message in enumerate(messages):\n",
    "        print(f\"{i+1}. {message.strip()}\")\n",
    "    print(\"\\n\")"
   ]
  },
  {
   "cell_type": "markdown",
   "metadata": {},
   "source": [
    "## 4. Webpage Preview Embeddings"
   ]
  },
  {
   "cell_type": "markdown",
   "metadata": {},
   "source": [
    "#### 1. Load Chat Representations\n",
    "\n",
    "First, we load the chat representations we created based on webpage previews in the notebook `02_feature_engineering`"
   ]
  },
  {
   "cell_type": "code",
   "execution_count": 31,
   "metadata": {},
   "outputs": [
    {
     "name": "stdout",
     "output_type": "stream",
     "text": [
      "Number of chat vectors: 351\n",
      "Vector Dimension: (384,)\n"
     ]
    },
    {
     "data": {
      "text/plain": [
       "telegram_chat_id\n",
       "1088678000    [0.0, 0.0, 0.0, 0.0, 0.0, 0.0, 0.0, 0.0, 0.0, ...\n",
       "1100528049    [-0.014660350027485287, 0.07162302777178518, -...\n",
       "1106758760    [0.0005550567112212886, -0.0011561474484546967...\n",
       "1114384948    [0.013210440636675234, 0.17518335552118247, -0...\n",
       "1127888562    [6.402835867108679e-05, -0.00052159000987176, ...\n",
       "                                    ...                        \n",
       "2109703003    [-0.010031821220483749, 0.02714176292807185, -...\n",
       "2112932878    [-0.0006807130166744612, 0.0002089151037460757...\n",
       "2117576592    [0.0003016469553387913, -0.0001872513456978041...\n",
       "2118786195    [-0.0025628763832924737, 0.0035034336836901087...\n",
       "2138374794    [-0.004784296480358111, 0.018594469006142044, ...\n",
       "Name: webpage_description_embeddings, Length: 351, dtype: object"
      ]
     },
     "execution_count": 31,
     "metadata": {},
     "output_type": "execute_result"
    }
   ],
   "source": [
    "webpreview_path = os.path.join(os.getcwd(), \"../features/3_webpreview_chat_vectors.npy\")\n",
    "webpreview_chat_vectors = np.load(webpreview_path, allow_pickle=True)\n",
    "print(f\"Number of chat vectors: {webpreview_chat_vectors.shape[0]}\")\n",
    "print(f\"Vector Dimension: {webpreview_chat_vectors.iloc[0].shape}\")\n",
    "webpreview_chat_vectors"
   ]
  },
  {
   "cell_type": "markdown",
   "metadata": {},
   "source": [
    "#### 2. Cluster The Embeddings\n",
    "\n",
    "Now we can use BERTopic to cluster the embeddings. \n",
    "\n",
    "Again, we\"ll run the experiment multiple times in order to inspect average results and models. "
   ]
  },
  {
   "cell_type": "code",
   "execution_count": 32,
   "metadata": {},
   "outputs": [
    {
     "name": "stdout",
     "output_type": "stream",
     "text": [
      "Model already downloaded. Loading...\n",
      "Topic Model exists: True\n",
      "Evaluation Metrics exist: True\n",
      "Representative Messages exist: True\n",
      "Representative Web Previews exist: True\n",
      "Webpreview embeddings already processed. Loading results...\n"
     ]
    }
   ],
   "source": [
    "# load the model we used for the embeddings, in order to use it for the representational model\n",
    "current_path = os.getcwd()\n",
    "model_dir = os.path.join(current_path, \"../data/models/\")\n",
    "model_name = \"paraphrase-multilingual-MiniLM-L12-v2\"\n",
    "model_path = os.path.join(model_dir, model_name)\n",
    "\n",
    "if not os.path.isdir(model_path):\n",
    "    print(\"Model not found. Downloading...\")\n",
    "    transformer_model = SentenceTransformer(model_name)\n",
    "    transformer_model.save(model_path)\n",
    "    print(f\"Model saved to {model_path}\")\n",
    "else:\n",
    "    print(f\"Model already downloaded. Loading...\")\n",
    "    transformer_model = SentenceTransformer(model_path)\n",
    "\n",
    "# check, if the webpreview embeddings were already processed\n",
    "feature_name = \"webpreview\"\n",
    "webpreview_done = is_processed(feature_name, True)\n",
    "\n",
    "# load the results, if the webpreview embeddings were already processed\n",
    "if webpreview_done:\n",
    "    print(\"Webpreview embeddings already processed. Loading results...\")\n",
    "    webpreview_evaluation_metrics, webpreview_topic_model, representative_messages, representative_webpreviews = load_data(feature_name, True)\n",
    "    \n",
    "# run the experiment, if the webpreview embeddings were not already processed\n",
    "else:\n",
    "    print(\"Running experiment for webpreview embeddings...\")\n",
    "    webpreview_evaluation_metrics, webpreview_topics, webpreview_probabilities, webpreview_topic_model = run_experiment(\n",
    "        chat_embeddings=webpreview_chat_vectors, \n",
    "        chat_texts=chat_webpage_previews, \n",
    "        n=50, \n",
    "        topic_model_dir_path=os.path.join(os.getcwd(), \"../results/webpreview_embeddings/topic_models/\"),\n",
    "        feature_name=\"webpreview\",\n",
    "        used_embedding_model=transformer_model\n",
    "    )"
   ]
  },
  {
   "cell_type": "markdown",
   "metadata": {},
   "source": [
    "#### 3. Inspect The Average Evaluation Metrics"
   ]
  },
  {
   "cell_type": "code",
   "execution_count": 33,
   "metadata": {},
   "outputs": [
    {
     "name": "stdout",
     "output_type": "stream",
     "text": [
      "Coherence Scores: 0.5374835507468834\n",
      "Silhouette Scores: -0.2134207493159828\n",
      "Davies Bouldin Scores: 3.2316045463213117\n",
      "Topic Counts: 6.44\n",
      "Noise Counts: 57.7\n"
     ]
    }
   ],
   "source": [
    "for key, value in webpreview_evaluation_metrics.items():\n",
    "    print(f\"{key.replace(\"_\", \" \")[4:].title()}: {value}\")"
   ]
  },
  {
   "cell_type": "markdown",
   "metadata": {},
   "source": [
    "#### 4. Visualise The Clustering and Export The Visualisations\n",
    "\n",
    "As we did before, we will visualise the results. As the resulting graphics are too big to be saved in the notebook, we will instead save them to the directory defined in the variable path."
   ]
  },
  {
   "cell_type": "code",
   "execution_count": 34,
   "metadata": {},
   "outputs": [
    {
     "name": "stdout",
     "output_type": "stream",
     "text": [
      "2024-10-28 19:08:02,674 - create_topic_visualisations - Create UMAP Plot - Completed ✓\n",
      "2024-10-28 19:08:02,894 - create_topic_visualisations - Create Topic Barchart - Completed ✓\n"
     ]
    },
    {
     "name": "stderr",
     "output_type": "stream",
     "text": [
      "100%|██████████| 4/4 [00:32<00:00,  8.01s/it]\n"
     ]
    },
    {
     "name": "stdout",
     "output_type": "stream",
     "text": [
      "2024-10-28 19:08:38,100 - create_topic_visualisations - Create Topic Hierarchy - Completed ✓\n"
     ]
    }
   ],
   "source": [
    "path = os.path.join(os.getcwd(), \"../results/webpreview_embeddings/\")\n",
    "os.makedirs(path, exist_ok=True)\n",
    "create_topic_visualisations(webpreview_topic_model, webpreview_chat_vectors, chat_webpage_previews, path, display_plots=False)"
   ]
  },
  {
   "cell_type": "markdown",
   "metadata": {},
   "source": [
    "#### 5. Inspect The Most Representative Messages"
   ]
  },
  {
   "cell_type": "markdown",
   "metadata": {},
   "source": [
    "**1. Create Topic Vectors**"
   ]
  },
  {
   "cell_type": "code",
   "execution_count": 35,
   "metadata": {},
   "outputs": [],
   "source": [
    "if not webpreview_done:\n",
    "    topic_vectors = create_topic_vectors(webpreview_topic_model, webpreview_chat_vectors)\n",
    "    display(topic_vectors)"
   ]
  },
  {
   "cell_type": "markdown",
   "metadata": {},
   "source": [
    "**2. For each topic, extract the top messages closest to the topic vector they were assigned to**\n",
    "\n",
    "Again, we add the embeddings created in `02_feature_engineering` back to the messages in the DataFrame and use them to compare them to the topic vectors created earlier to find the most representative messages for each topic."
   ]
  },
  {
   "cell_type": "code",
   "execution_count": 36,
   "metadata": {},
   "outputs": [],
   "source": [
    "# load the message embeddings\n",
    "if not webpreview_done:\n",
    "    message_embeddings_path = os.path.join(os.getcwd(), \"../features/0_message_embeddings.npy\")\n",
    "    message_embeddings = np.load(message_embeddings_path, allow_pickle=True)\n",
    "\n",
    "    # create a series where each element is an message-vector\n",
    "    message_embeddings_series = pd.Series([embedding for embedding in message_embeddings])\n",
    "\n",
    "    # check if the message embeddings have the same shape as the dataframe\n",
    "    assert message_embeddings_series.shape[0] == len(message_embeddings)\n",
    "    message_embeddings_series\n",
    "\n",
    "    # add the message embeddings to the dataframe\n",
    "    df[\"message_vector\"] = message_embeddings_series\n",
    "    display(df[[\"message_text\", \"message_vector\"]].head()) #TODO: Add display"
   ]
  },
  {
   "cell_type": "code",
   "execution_count": 37,
   "metadata": {},
   "outputs": [
    {
     "name": "stdout",
     "output_type": "stream",
     "text": [
      "Topic 0:\n",
      "1. Bewußt aktuell 273 Themen; Vorurteile werden neu gemischt, Sollen wir uns vom Haß anstecken lassen oder von der Liebe? deutsche Soldaten von Hisbollah angegriffen, Massive Proteste gegen Netanjahu in Israel, hat Israel weissen Phosphor in Gaza eingesetzt? Reiner Füllmich in Frankfurt verhaftet, Epstein-Opfer nach Aussage gegen Prinz Andrew und Ghislaine Maxwell tot aufgefunden, Nancy Faeser ließ Hunderte Abgeordnete ausforschen, Bundesregierung holt Scharia-Richter nach Deutschland, Neue Studie deckt Ursachen für Herzschäden bei allen Geimpften durch mRNA-Impfungen auf, uvm.\n",
      "2. Es ist der Vernichtungs-KRIEG gegen UNS ALLE Nur mit BEFREITEN MS-Medien + SCHULEN gewinnen wir ——————————————— Kein Wunder dass er auf der Abschuss-Liste steht. Zuviel Wahrheit verbreitet! Da findet sich dann etwas, was bei Wegspritz-System-Ärzten toleriert würde. Dr. Heinz Reinwald „Die Salzlüge“ macht ihn zum BigPharma-Gegner ... ——————————————— t.me/StuttgartGrundgesetzDemos Stuttgart Satire Widerstand Ironie Grundrechte Sarkasmus Freiheit Doku\n",
      "3. #Plötzlichundunerwartet Aus der Rubrik: #KarmaIsABitch\n",
      "4. Wie viele wären wirklich geimpft? Mad in Germany unterstützen\n",
      "5. Bewußt aktuell 305 Themen: Messerangriff auf Stürzenberger weniger Medienaufmerksamkeit als Döp dö di döp - Opfer deutscher Heuchelei? Medienanwalt über Sylt: „Eine solche Hexenjagd ist nicht zulässig“, Die Bilderberger tagen, Sofort nach Biden erlaubt auch Scholz den Angriff mit westlichen Waffen auf russisches Gebiet, Trump von Geschworenen schuldig gesprochen, Freigeklagte RKI Protokolle bestätigen Querdenker, Coronaleugner und Schwurbler, Schauspieler Steven Segal spricht über Kinderhandel in der Ukraine, Bundesregierung zahlt Zigtausend im Kampf gegen kritische Berichterstattung, Spanische Forscher: Die Welt wird nicht von Menschen kontrolliert, Kommt Wehrpflicht? Kriegsdienst verweigern, Habeck: \"Heizgesetz war ehrlicherweise ein Test\", Streit um Mann im Frauen-Fitnessstudio, uvm.\n",
      "6. Hier deutschsprachig:\n",
      "7. Benjamin Fulford: Wochenbericht vom 13.11.2023 UNITED STATES CORP., Israel, Polen und die Ukraine könnten als besiegte KM aufhören zu existieren Dieser Beitrag stellt ausschließlich die Meinung des Verfassers dar. Er muss nicht zwangsläufig die Sichtweise von Antiilluminaten TV wiedergeben. Artikel zum Video: Video auf Odysee: Nur Audio : Übersicht der Wochenberichte: KLICK #BenjaminFulford #Illuminati #Whistleblower Krisenvorsorge: Mehr kostenfreie Infos und Enthüllungen: Abonniere hier meinen Notfallkanal: Hier kannst du meine Arbeit unterstützen: KLICK DANKESCHÖN\n",
      "8. Bewußt aktuell 274 Themen: Aufruhr der archaischen Gefühle, zum Tode von Gunnar Kaiser, sorgen wir dafür, daß der 3. Weltkrieg nicht stattfindet, Willkommenskultur auf dem Prüfstand - der große Asyl-Bluff, US-Präzisionsschläge zur Selbstverteidigung in Syrien? Habecks Anschlag auf den Wohlstand, \"Māori-Regierung erhebt Anklage gegen neuseeländische Beamte wegen Straftaten in der „Pandemie“, ungeschwärzter Pfizer-Vertrag mit der EU geleaked, uvm.\n",
      "9. Impftote nun plötzlich Hitzetote WICHTIG: Neue Gesetze vom 25. August 2023 gefährden JEDE Aufklärungsarbeit! Darum TEILEN – VERBREITEN – STREUEN – jetzt ist es noch möglich! Video in voller Länge: ABONNIEREN\n",
      "10. Benjamin Fulford: Wochenbericht vom 12.02.2024 Tod von König Charles, Biden-Implosion, Putin-Interview - alles deutet auf Regimewechsel im Westen hin Dieser Beitrag stellt ausschließlich die Meinung des Verfassers dar. Er muss nicht zwangsläufig die Sichtweise von Antiilluminaten TV wiedergeben. Artikel zum Video: Video auf Odysee: Nur Audio : #BenjaminFulford #Illuminati #Whistleblower Krisenvorsorge: Mehr kostenfreie Infos und Enthüllungen: Abonniere hier meinen Notfallkanal: Hier kannst du meine Arbeit unterstützen: KLICK DANKESCHÖN\n",
      "\n",
      "\n",
      "Topic 1:\n",
      "1. Glück wiegt mehr als die Meinung anderer ———————————— PS: Bewusstseinserweiternde und wahre Dokumentationen, Spielfilme, Vorträge und mehr bekommst du auf unserem Telegram-Kanal: t.me/maonatv klick Tauche jetzt 100 % kostenlos ein in die Welt der Naturgeister im maona.tv-Exklusiv-Film \"Mystik Wald\": Tauche ein in die Geheimnisse des Waldes Erkunde das Mysterium des Seins Bewege Dich in den unbekannten Sphären der Natur Erlerne die Techniken der Baummeditation Erlebe eine einzigartige Abenteuerreise voll neuer Erkenntnisse und Weisheiten bit.ly/mystik-wald Filme | Telegram | Facebook | YouTube | Twitter | Gettr\n",
      "2. Dieses HEILIGE FEUER dringt durch unseren irdischen Körper ein. Unser BEWUSSTSEIN über diesen Prozess wird unserer ICH BIN-Präsenz helfen, die LILA FLAMME, die wir anrufen, effektiver zu nutzen. ICH BIN gesund.“ ICH BIN voller Liebe >>> Ich ziehe leicht gute positive Energie an.“ Das Universum hilft mir, ein hervorragendes Maß an Wohlbefinden zu erreichen.“ Ich lebe mein Leben ohne Grenzen.“ Ich lasse jegliche Bindung an das Ergebnis los.“ ICH BIN ohne Eigensinne.“ ICH BIN frei“. Gabriel le pleiadien Die Sonne tut nicht weh, sie ist das Leben unserer Erde ... Sie haben uns verdrängt, indem sie Ängste erzeugt haben, um uns nicht dazu zu bringen, ihre große Energie aufzunehmen, die sie aussenden, um unsere Fähigkeiten und Erinnerungen zu reaktivieren ... Bleiben Sie ruhig. Der Plan ist göttlich. truelove8888 Ela ‍ @shanandoah\n",
      "3. Neidische Kollegen oder Freunde! So gehst du selbstbewusst damit um! 5.1K 22.09.2021 SELFCHANGER\n",
      "4. Mit Ton Inspiration Essen Heute schon gesund genascht... Leicht Schnell Lecker Mehr für dich @seelengut\n",
      "5. Der Klassiker: Wem nützt das Impfen Kurzer Überblick über die Impferei Gesund ohne Rezept Mehr Hier\n",
      "6. Hier versteckt sich ZUCKER ‍ @Rezepteausnaturundselbstgemacht #Wissen #Hilfestellung #Karteikarten\n",
      "7. Die Schilddrüse und das \"Wundermittel\" Dill Http://t.me/gesundistbesser\n",
      "8. Apfelessig Einfach - Natürlich - Gesund Http://t.me/gesundistbesser\n",
      "9. Http://t.me/gesundistbesser Weiterführender Beitrag\n",
      "10. #Kopfschmerzen Https://t.me/gesundistbesser\n",
      "\n",
      "\n",
      "Topic 2:\n",
      "1. Bericht über rechtes Treffen: Empörung über Vertreibungspläne AfD-Politiker, Neonazis und Unternehmer sollen einen Plan ausgeheckt haben, der vorsieht, Millionen Menschen aus Deutschland zu vertreiben. Das hat das Investigativ-Portal \"Correctiv\" aufgedeckt. Bundeskanzler Scholz sieht darin einen \"Fall für den Verfassungsschutz\". weiterlesen beachte auch den Kommentar zum correctiv-Artikel so ist das eben, wenn man eine blinde geldgierige Marionette ist. Man erkennt die Realität nicht mehr.....\n",
      "2. Weltregierungsgipfel 2024 Generaldirektor der Weltgesundheitsorganisation, Tedros über Krankheit X, der WHO-Pandemiepakt und die Angst vor Verschwörungstheoretiker die den Pandemiepakt zu nichte machen könnten! Die Angst vor \"Verschwörungstheoretiker\" die ganz genau wissen, was sie mit uns planen, muss riesig sein hinter den Kulissen. Bleibt stark und und standhaft lasst euch nicht diffamieren! Die letzten vier Jahre haben bewiesen, dass wir leider Recht hatten mit fast allem. Unterstützung Deutsche Übersetzung: Phantom-Schweiz ️ Twitter/X ️ Facebook ️ Instagram ️ TikTok\n",
      "3. Weltregierungsgipfel 2024 Generaldirektor der Weltgesundheitsorganisation, Tedros über Krankheit X, den WHO-Pandemiepakt und die Angst vor Verschwörungstheoretikern die den Pandemiepakt zu nichte machen könnten! Die Angst vor \"Verschwörungstheoretiker\" die ganz genau wissen, was sie mit uns planen, muss riesig sein hinter den Kulissen. Bleibt stark und standhaft lasst euch nicht diffamieren! Die letzten vier Jahre haben bewiesen, dass wir leider Recht hatten mit fast allem. Unterstützung Deutsche Übersetzung: Phantom-Schweiz ️ Twitter/X ️ Facebook ️ Instagram ️ TikTok\n",
      "4. Die geheimen Sitzungsprotokolle des RKI haben die Debatten um die Corona-Politik in Deutschland neu entfacht. In den Sitzungen bestätigte man nicht nur immer wieder Aussagen, für die Normalbürger als Verschwörungstheoretiker verunglimpft wurden: Auch wurde deutlich, dass die Erhöhung der Risikostufe politisch geplant war. Doch der Name des Verantwortlichen wurde geschwärzt. Der gesundheitspolitische Sprecher der AfD-Bundestagsfraktion, Martin Sichert, spricht von einem „monumentalen Kriminalfall“ und konstatiert, dass die Bevölkerung ein Recht darauf habe, diesen Namen zu erfahren.\n",
      "5. Negativität. Soweit das Auge reicht. Eine besorgniserregende Entwicklung. Mad in Germany unterstützen\n",
      "6. Die geheimen Sitzungsprotokolle des RKI haben die Debatten um die Corona-Politik in Deutschland neu entfacht. In den Sitzungen bestätigte man nicht nur immer wieder Aussagen, für die Normalbürger als Verschwörungstheoretiker verunglimpft wurden: Auch wurde deutlich, dass die Erhöhung der Risikostufe politisch geplant war. Doch der Name des Verantwortlichen wurde geschwärzt. Der gesundheitspolitische Sprecher der AfD-Bundestagsfraktion, Martin Sichert, spricht von einem \"monumentalen Kriminalfall\" und konstatiert, dass die Bevölkerung ein Recht darauf habe, diesen Namen zu erfahren. Artikel hier lesen: Immer informiert bleiben? Abonnieren Sie @report24news! Wir brauchen JETZT Ihre Unterstüzung: report24.news/unterstuetzen Auch wenn Sie unsere Inhalte teilen und verbreiten, helfen Sie mit.\n",
      "7. Die diesjährige World Health Summit-Konferenz in Berlin kann als Werbeveranstaltung für den WHO-Pandemievertrag verstanden werden. Vor allem Deutschlands Gesundheitsminister Karl Lauterbach forderte dort das Vorantreiben der Agenda 2030, deren Ziele deckungsgleich mit dem von Globalisten propagierten Great Reset sind. Lauterbach und Corona-Papst Christian Drosten verstiegen sich dort zu Aussagen, die vielleicht in Diktaturen üblich sind, niemals jedoch in Demokratien: Kritik an Maßnahmen in der nächsten Plandemie sollen offenkundig mit allen Mitteln unterbunden werden - mehr noch als in den Corona-Jahren. Artikel hier lesen: Immer informiert bleiben? Abonnieren Sie @report24news! Wir brauchen JETZT Ihre Unterstüzung: report24.news/unterstuetzen Auch wenn Sie unsere Inhalte teilen und verbreiten, helfen Sie mit.\n",
      "8. Tod von AfD-Politikern gefeiert: Wie extremistische Gruppen Justizgelder abgreifen \"Oft werden in Deutschland Verfahren gegen Geldauflagen eingestellt. Diese gezahlten Auflagen kommen nach dem Gesetz „gemeinnützigen Einrichtungen“ zugute. Das ist so weit normale Rechtspraxis. Tatsache ist jedoch: Oft profitieren links ausgerichtete und/oder radikale Polit-Organisationen, deren tatsächliche Gemeinnützigkeit umstritten ist. Apollo News hat die Bescheide aus Hessen und Niedersachsen aus dem Jahr 2022 analysiert und diverse solcher Beispiele gefunden, die eine politische Motivation der Zahlungsbescheide nahelegen. ...\"\n",
      "9. Staatshörige wegimpfen ist doch unlogisch oder? Wieso sollten sie die kritischen Menschen leben lassen? Erklärung Mad in Germany unterstützen\n",
      "10. Ist die Meinungsfreiheit in Gefahr? Streit um Regierungspläne, die an DDR-Zeiten erinnern Eine Schülerin teilt bei TikTok ein Schlumpf-Video mit AfD-Bezug „Schlümpfe sind blau, und Deutschland auch“, schreibt außerdem: Deutschland sei für sie nicht nur „ein Ort, sondern Heimat“. Der Fall von Ende Februar beschäftigt inzwischen Parlament und Landesregierung. SOLLTE ER AUCH, finden Verfassungsexperten! Denn hinter der Gesinnungsprüfung der Schülerin steckt System: Bundesinnenministerin Nancy Faeser SPD will mit einem neuen Aktionsplan „Rechtsextremismus ganzheitlich und frühzeitig bekämpfen“. Heißt konkret: Schon wer sich radikal äußert, den Staat oder seine Politik bei Facebook oder Instagram in Frage stellt, steht unter dem Verdacht der rechten Hetze – und wird zum Verdachtsfall für den Staatsschutz. Ein brandgefährliches Spiel mit der Meinungsfreiheit, warnen Verfassungsexperten. „Was Frau Faeser hier verfolgt, ist pure Ideologie und verfassungswidrig“, sagt Staatsrechtsexperte Rupert Scholz 86, CDU zu BILD am SONNTAG: „Sie delegitimiert die Meinungsfreiheit, das Kernrecht unseres demokratischen Rechtsstaates!“\n",
      "\n",
      "\n",
      "Topic 3:\n",
      "1. Jetzt Beitreten: Die krumme Erde und Ihre Mysterien\n",
      "2. Neu: Zirbeldrüse - Ein Wunderwerk - Teil 10/12 Video bis Sonntag Mittag freigeschaltet: Die Zirbeldrüse ist kein Fehler der Natur, sondern das Tor zur Quelle. So unser heutiger Gast, Biophysiker & Autor Dieter Broers. Eine Aussage dir Fragen aufwirft, die wir in dieser Folge beantworten. Im Kern ist das Verstehen unseres Seins das Ziel jeder Wissenschaftlichen Forschung. Dies beinhaltet das Wissen woraus, wofür und wodurch alles Leben entsteht, und welche Beziehung zu unserer Existenz auf dieser Erde und dem Kosmos besteht. In dieser Auseinandersetzungen gehen wir mit einem der führenden Experten der Bedeutung der Zirbeldrüse nach. Transformation erfahren t.me/gaiadeutsch\n",
      "3. DIe vier Kolumnen hinter dem großen Plan der wahren Herrscher des Planeten! Mit deutschen Untertiteln! Erkenntnisse, die die Eliten vor dir verbergen wollen: Riesen - Nephilim-Beweise die der Mainstream vertuscht Die wahre Geschichte Luzifers Plejadier enthüllt gegen die Neue Weltordnung Interview mit einem Reptiloiden mit Ashtar Sheran rufts du Erzengel Michael wahre Menschheitsgeschichte von der Venus mit Arkturianern mit Aliens mit einem Man in Black\n",
      "4. Wahrheit Mehr auf @maraswelt #OupsBilder\n",
      "5. Schau, schau, was haben wir denn hier?! Sieht ganz nach kontrollierter Sprengung aus! Nicht meine Worte...sondern die von Sprengmeistern. Vertuscht, verschwiegen und verboten, alles was du wirklich wissen musst: Die wahre Geschichte Luzifers: Ein Plejadier enthüllt - Die Wahrheit über die Sternensaat gegen die Neue Weltordnung Interview mit einem Reptiloiden mit Ashtar Sheran rufts du Erzengel Michael wahre Menschheitsgeschichte größte Geheimnis aller Zeiten von der Venus mit Arkturianern mit Aliens mit einem Man in Black\n",
      "6. BEYOND THE NEWS mit Meg vom 30.05.2024 53 Min. Sommer des Wahnsinns - UFOs und ETs, die sichtbar werden - Landmassen, die aufbrechen - Anführer, die ihren Kopf verlieren - Energien, die aus dem Ruder laufen - neue Erfindungen und Heiltechnologien Zum Video: beyond-the-news-mit-meg-vom-30.05.2024.html Originalvideo, Transkript Audio zum Video: t.me/lichtweiser/844 󠁧󠁢󠁥󠁮󠁧󠁿 Updates aus der internationalen Aufklärer-Szene Hier im Kanal t.me/lichtweiser @DieWahrheitssuchende\n",
      "7. AUFSTIEG UND AUFERSTEHUNG SIND MEINE WIRKLICHKEIT! Anmeldung zur Lichtlesung & Buchpräsentation, am 6.7.2024: \"Menschen, die voller Untergangszenarien sind und die ihr Bewusstsein durch negative Berichte ununterbrochen damit füttern, werden einen Untergang erleben: den Untergang ihrer eigenen inneren Welt. Wahr ist: Der Aufstieg und die Auferstehung der Menschheit geschehen und es ereignet sich jetzt! Ein geklärtes Bewusstsein kennt den Weg und kennt den Ausgang dieses Spiels. Entfernt den Nebel vor eurem Bewusstsein und ihr werdet Sicherheit gewinnen. Die Sicherheit, die es jetzt braucht, um das Neue zu manifestieren und all die Unmenschlichkeit von dieser Erde zu eliminieren. So, wie du durch dein Denken und Fühlen die Vergangenheit bestimmt hast, bestimmst du deine Gegenwart und deine Zukunft. Deine Macht ist groß, geliebter Mensch, wende sie an, damit die Neue Erde in dir geboren werden kann.\" DIE HÜTER DER ERDE ️ Botschaft hier weiterlesen: Video der 131. Lichtlesung & Buchpräsentation: Newsletter mit Botschaften: Lichtwelt – Pinterest: Lichtblick 2 – Podcast: Unsere Bücher: Erbe aus Atlantis: Wenn Sie unsere Arbeit schätzen, dann freuen wir uns über Ihren Beitrag! Volksbank Wien AG IBAN: AT72 4300 0484 0551 7003 BIC: VBOEATWW\n",
      "8. Ein neuer Podcast von Linda Giese ... Wichtige Botschaft! Kosmische Wesenheit zu Besuch - Geheimnis Aufstieg gelüftet! In dieser Episode möchte ich mit dir ein Geheimnis lüften, welches mit unserer machtvollen Transformation einhergeht. Und welche nun gestartet ist. Massive Einstrahlungen aus dem Kosmos schütteln uns wirklich ordentlich und kräftig durch und viele von uns stecken in wirklich extrem bemerkenswerten Transformationsprozessen. Viel Freude beim Anhören! @DieWahrheitssuchende\n",
      "9. Unfassbar was auf einer Männertoilette im Stuttgarter Rathaus entdeckt wurde! Die Welt und die Leute werden immer verrückter. Es wird Zeit für den großen Wandel um mit dem ganzen Unsinn endlich Schluss zu machen! Fang an und befreie dich aus der Matrix, denn in diesen Büchern erfährst du alles, um den Fesseln des Systems zu entrinnen: Die wahre Geschichte Luzifers: Ein Plejadier enthüllt - Die Wahrheit über die Sternensaat gegen die Neue Weltordnung Interview mit einem Reptiloiden mit Ashtar Sheran rufts du Erzengel Michael wahre Menschheitsgeschichte größte Geheimnis aller Zeiten: Nachricht von der Venus mit Arkturianern mit Aliens mit einem Man in Black\n",
      "10. Ein neues Video von Kerry K ... Limbo: Die 4D Welt zwischen den Welten und der Kollaps der Astralwelt Der Zusammenbruch der Astra- und Unterwelt wird weiterhin von Menschen wahrgenommen und nicht nur gespürt, sondern auch alchemiert. Das geschieht dadurch, dass wir die vielen Schichten dieser astralen „Suppe“ die uns umgeben, absorbieren und in neues Licht und Leben transformieren; durch unsere Fähigkeit alchemistisch zu verändern. Übersetzt und gesprochen von: Irmgard Weinhandl https:// @DieWahrheitssuchende\n",
      "\n",
      "\n",
      "Topic 4:\n",
      "1. Dass der \"Volksverräter-Trampel\" die gleichen stupiden Sprüche wie die von der Ampel gegenüber der AfD in Deutschland hernimmt, zeigt einmal mehr, welch geistig nackte Zeitgenossin sie ist! Außerdem war dieses Furunkel samt Partei, evidenzlos für eine Impfpflicht, go and.... usw. ️\n",
      "2. Jetzt auch Thema im internationalen Mainstream: „Bidens Zustand schockiert Verbündete beim G7-Gipfel. Einer von ihnen sagt, es sei so schlimm wie nie zuvor... bizarre Aktionen.“ Und wer schweigt? Der transatlantische deutsche Öffentlich-rechtliche Rundfunk.\n",
      "3. Endlich wird dieser übergriffigen WHO Saubande der Riegel vorgeschoben\n",
      "4. Sind SPÖ Ludwig mit Neos Kasperln eine Gefahr für Gesundheit u Meinungsfreiheit ? DUMME WÄHLER BEKOMMEN DUMME POLITIK\n",
      "5. VÖLLIG LOSGELÖST VON DER REALITÄT, aber voll in der Propaganda-Parallelwelt, die es aber nicht gibt, labern die belämmerten Österreichs vor sich hin: Informierte können sich wundern, den Kopf schütteln und sich fragen, wie lang die Gesichter werden!\n",
      "6. Gut so...diese kranke #Göre wurde sowieso zu hoch gehandelt. UN Auftritt, Gedankenspiele für den Nobelpreis.... Jetz müssen wir noch den ganzen Klima Sekten Scheißdreck etc pp zurückabwickeln und sämtliche Mitläufer wie z.b. Politiker, Medien u.s.w , in die Bedeutungslosigkeit befördern..\n",
      "7. Kurz vor EU-Wahl: Vorwurf des Rufmords - Klage gegen ⁦@LenaSchilling1⁩ eingebracht. #wahlsupergau ⁦@diegruenen⁩\n",
      "8. Skurrile Kanzlerideen: ÖVP verliert trotz “Zukunftsplan” weiter an Glaubwürdigkeit\n",
      "9. Deutschland 2023! Ein Land gerät aus allen Fugen! Gewaltverbrechen werden realitiviert und totgeschwiegen, aber wehe man spricht jemanden mit den falschen Pronomen an oder äußert sich regierungskritisch..\n",
      "10. Vor 2 Jahren beschloss die Regierung mit ihre Komplizen die #Impfpflicht in Österreich - gegen den Willen Hunderttausender. Die meisten sitzen NOCH im Parlament und belästigen uns weiter mit Inkompetenz & Bosheit - doch die #Wahlen kommen bald! #RichtigErinnern\n",
      "\n",
      "\n"
     ]
    }
   ],
   "source": [
    "# compare the message embeddings with the topic vectors\n",
    "if not webpreview_done:\n",
    "    representative_messages = get_representative_texts(df,\n",
    "                                                    webpreview_topic_model,\n",
    "                                                    topic_vectors,\n",
    "                                                    webpreview_chat_vectors,\n",
    "                                                    10,\n",
    "                                                    \"webpreview\",\n",
    "                                                    \"message_text\",\n",
    "                                                    \"message_vector\",\n",
    "                                                    \"message_text_preprocessed\")\n",
    "\n",
    "    # save representative messages\n",
    "    representative_messages_path = os.path.join(os.getcwd(), \"../results/webpreview_embeddings/representative_messages.json\")\n",
    "    representative_messages = {int(topic): messages for topic, messages in representative_messages.items()} # convert keys to int\n",
    "    with open(representative_messages_path, \"w\") as jsonfile:\n",
    "        json.dump(representative_messages, jsonfile, indent=4)\n",
    "\n",
    "# print representative messages\n",
    "for topic, messages in representative_messages.items():\n",
    "    print(f\"Topic {topic}:\")\n",
    "    for i, message in enumerate(messages):\n",
    "        print(f\"{i+1}. {message.strip()}\")\n",
    "    print(\"\\n\")"
   ]
  },
  {
   "cell_type": "markdown",
   "metadata": {},
   "source": [
    "#### 6. Inspect The Most Representative Webpage-Previews\n",
    "\n",
    "Now, we will inspect the most representative webpage-previews. To do so, we\"ll compare the webpage-preview-embeddings to the topic-vectors created earlier and inspect the most similar ones."
   ]
  },
  {
   "cell_type": "code",
   "execution_count": 38,
   "metadata": {},
   "outputs": [],
   "source": [
    "# load the webpage embeddings\n",
    "if not webpreview_done:\n",
    "    webpreview_embeddings_path = os.path.join(os.getcwd(), \"../features/3_webpage_embeddings.npy\")\n",
    "\n",
    "    # create a series where each element is an message-vector\n",
    "    webpreview_embeddings = np.load(webpreview_embeddings_path)\n",
    "\n",
    "    # add the message embeddings to the dataframe.\n",
    "    df[\"webpreview_vector\"] = webpreview_embeddings.tolist() \n",
    "    display(df[[\"webpage_title\", \"webpage_description\", \"webpreview_vector\"]].head())"
   ]
  },
  {
   "cell_type": "code",
   "execution_count": 39,
   "metadata": {},
   "outputs": [
    {
     "name": "stdout",
     "output_type": "stream",
     "text": [
      "Topic 0:\n",
      "1. Justizkrimi um Linksextremisten-Auslieferung. Kaum gibt ein Berliner Gericht grünes Licht, werden d\n",
      "2. Aus aktuellem Anlass veröffentlichen wir dieses spannende Gespräch erneut auf unserem Kanal. Im Februar 2020 sprach Markus Gärtner für @PrivatinvestorTV mit dem Journalisten Peter Orzechowski. Er hatte damals gerade sein Buch \"Besatzungszone\" veröffentlicht, das eine der wichtigsten politischen Fragen unserer Zeit beleuchtet: Wie frei und souverän ist Deutschland?   Mittlerweile ist es vollkommen deutlich geworden, dass unsere Bundesregierung nach den Befehlen Washingtons marschiert: Kanzler Scholz hat die Zerstörung der Nordstream-Pipelines durch Terroristen im Auftrag der USA regungslos hingenommen. Immer schwerere Waffen werden an das Selenski-Regime geliefert - seit Kurzem sogar noch mit der Erlaubnis, sie auf dem Gebiet der Russischen Föderation einzusetzen. Bereits vor über vier Jahren zeigte Peter Orzechowski die Hintergründe dieser verborgenen Besatzung Deutschlands auf:   Die USA können mit Truppen beliebiger Stärke in Deutschland einmarschieren, und die Soldaten dort, wo sie wollen, stationieren. Die Deutschen müssen dies dann auch noch finanzieren. Darüber hinaus ist die Bundeswehr verpflichtet, die USA bei deren völkerrechtswidrigen militärischen Interventionen zu unterstützen. Auch die Geheimdienste der Siegermächte haben auf deutschem Boden uneingeschränkte Bewegungs- und Handlungsfreiheit. Sie können bei ihren Aktivitäten uneingeschränkt Informationen sammeln, so viele Agenten einsetzen, wie sie möchten - und deutsche Dienste für sich arbeiten lassen. Die Gesetze unseres Landes gelten für die Agenten der Besatzungsmächte nicht. Ihre Agenten dürfen sogar Waffen tragen. Begehen Sie Straftaten, sind sie von der Strafverfolgung ausgenommen. Wie hemmungslos und kriminell vor allem US-Geheimdienste in Deutschland agieren, zeigt Peter Orzechowski in seinem Buch eindrucksvoll.  Hier können Sie das Buch \"Besatzungszone\" direkt beim Verlag bestellen: https://www.kopp-verlag.de/a/besatzungszone-5  #Weltsystemcrash #Orzechowski #Besatzungszone #Deutschland  +++ Weiterführende Links +++  ❗️💶 Inflation, Enteignung und wirtschaftlicher Niedergang bedrohen Ihr Erspartes. Unser Herausgeber Prof. Dr. Max Otte hat mit seinen Fonds eine Lösung geschaffen, mit der Sie Ihr Geld langfristig und sicher außerhalb der EU anlegen können.   📞 Jetzt informieren: https://max-otte-fonds.de/lp-kontaktaufnahme/?mtm_campaign=youtube&mtm_kwd=politik-spezial  👉 Unterstützen Sie unseren unabhängigen Journalismus mit einem Abonnement unseres Politik-Magazins, das 10mal pro Jahr erscheint:   👉 Mehr Informationen zum Magazin: https://politik-spezial.de Zum Standard-Abo: https://politik-spezial.de/produkt/pi-politik-spezial-standard-abo/ Zum Förder-Abo: https://politik-spezial.de/produkt/pi-politik-spezial-premium-abo/  ⭐️Unser YouTube-Hauptkanal: https://www.youtube.com/c/PI-PolitikSpezial  Bitte abonnieren Sie auch unsere Backup-Kanäle:  Telegram: https://www.t.me/s/PolitikSpezial Odysee: https://www.odysee.com/@PolitikSpezial Rumble: https://rumble.com/user/politikspezial Facebook: https://www.facebook.com/PIPolitikSpezial Twitter: https://twitter.com/politikspezial Twitter: https://twitter.com/maxotte_says Podcast: https://open.spotify.com/show/2JT4EbNR9PM4coQtlIOKdM Anchor.FM: https://anchor.fm/politik-spezial/  📢 PI Politik Spezial - Stimme der Vernunft! Fühlen Sie sich auch von den Mainstream-Medien veräppelt, Ihre Lebenswirklichkeit nur willkürlich abgebildet? Dann sind Sie hier genau richtig. Gegen gefilterte Hofberichte und Desinformation muss unbedingt etwas getan werden. Mit diesem Anspruch treten wir an: Starke Meinungen, gut recherchiert, mit den nötigen Hintergründen.  Wir berichten über deutsche Politik, internationale Zusammenhänge und nehmen die etablierten Medien unter die Lupe. Wir sprechen mit Zeitgenossen, die wirklich etwas zu sagen haben und keinen Maulkorb tragen. All das bieten wir Ihnen mit unseren Videos mehrfach wöchentlich an.\n",
      "3. Die ganze Sendung „Stimmt!“: https://youtu.be/urNdWj2IJgY  1000 Seiten umfassen die Protokolle, die interne Besprechungen des Corona-Krisenstabs offenlegen. Lange wurden diese unter Verschluss gehalten. Doch das Online-Magazin „Multipolar“ klagte nun erfolgreich dagegen. Die Mitschriften belegen den Wahnsinn, der damals in Deutschland herrschte. „Man hat mit Angst von Regierungsseite Politik gemacht“, sagt NZZ-Journalistin Susanne Gaschke.  📢 𝗡𝗜𝗨𝗦, 𝗱𝗶𝗲 𝗦𝘁𝗶𝗺𝗺𝗲 𝗱𝗲𝗿 𝗠𝗲𝗵𝗿𝗵𝗲𝗶𝘁  Jetzt abonnieren & die Glocke aktivieren 🔔  Website: https://nius.de Facebook: https://www.facebook.com/stimmedermehrheit/ X: https://twitter.com/niusde_ Instagram: https://www.instagram.com/nius.de TikTok: https://www.tiktok.com/@niusde  Stimmt! auf YouTube: https://www.youtube.com/@Stimmt-DerNachrichtenTalk Stimmt! auf Instagram: https://www.instagram.com/stimmt.dernachrichtentalk/ Stimmt! auf TikTok: https://www.tiktok.com/@stimmttalk Stimmt! auf X: https://twitter.com/stimmttalk\n",
      "4. Bundesinnenministerin Nancy Faeser (SPD) und „Verfassungsschutz“-Chef Thomas Haldenwang (CDU) schützen Extremisten!   Während rechtschaffene Bürger und Patrioten für ihre legitimen Anliegen überwacht, diffamiert und verfolgt werden, geraten Extremisten und Terroristen erst dann ins Visier der Sicherheitsbehörden, wenn es zu spät ist — der Messer-Anschlag von #Mannheim ist ein blutiger Beleg!   Eine Dokumentation des DeutschlandKURIER🇩🇪-Reporters Christian Jung.  Unsere App bekommen Sie hier:   App-Store:  https://apps.apple.com/us/app/deutschlandkurier/id6447972597  Play-Store: https://play.google.com/store/apps/details?id=de.deutschlandkurier.newsapp  Besuchen Sie auch die DK-Seite im Netz: https://deutschlandkurier.de/  Bitte folgen Sie dem Deutschland-Kurier 🇩🇪 auch auf ➠   Telegram:               https://t.me/DEKurier Facebook:               https://www.facebook.com/DK.Nachrichten Instagram:              https://www.instagram.com/deutschlandkurier/ TikTok:                    https://www.tiktok.com/@deutschland.kurier Gettr:                       https://www.gettr.com/user/deu_kurier Twitter:                    https://twitter.com/Deu_Kurier Odysee:                   https://odysee.com/$/invite/@deutschlandkurier:2 Telegram Video:    https://t.me/DeutschlandKURIERVideo VK:                           https://vk.ru/deutschlandkurier  Unterstützen: https://www.facebook.com/becomesupporter/DK.Nachrichten/  #Haldenwang #Faeser #Mannheim\n",
      "5. Bundesinnenministerin Nancy Faeser (SPD) und „Verfassungsschutz“-Chef Thomas Haldenwang (CDU) schützen Extremisten!   Während rechtschaffene Bürger und Patrioten für ihre legitimen Anliegen überwacht, diffamiert und verfolgt werden, geraten Extremisten und Terroristen erst dann ins Visier der Sicherheitsbehörden, wenn es zu spät ist — der Messer-Anschlag von #Mannheim ist ein blutiger Beleg!   Eine Dokumentation des DeutschlandKURIER🇩🇪-Reporters Christian Jung.  Unsere App bekommen Sie hier:   App-Store:  https://apps.apple.com/us/app/deutschlandkurier/id6447972597  Play-Store: https://play.google.com/store/apps/details?id=de.deutschlandkurier.newsapp  Besuchen Sie auch die DK-Seite im Netz: https://deutschlandkurier.de/  Bitte folgen Sie dem Deutschland-Kurier 🇩🇪 auch auf ➠   Telegram:               https://t.me/DEKurier Facebook:               https://www.facebook.com/DK.Nachrichten Instagram:              https://www.instagram.com/deutschlandkurier/ TikTok:                    https://www.tiktok.com/@deutschland.kurier Gettr:                       https://www.gettr.com/user/deu_kurier Twitter:                    https://twitter.com/Deu_Kurier Odysee:                   https://odysee.com/$/invite/@deutschlandkurier:2 Telegram Video:    https://t.me/DeutschlandKURIERVideo VK:                           https://vk.ru/deutschlandkurier  Unterstützen: https://www.facebook.com/becomesupporter/DK.Nachrichten/  #Haldenwang #Faeser #Mannheim\n",
      "6. Die jüngst veröffentlichten Protokolle des RKI-Krisenstabs sorgen für Aufruhr in den sozialen Medien. Corona-Verordnungen wie Maskenpflicht und Lockdowns als auch der immense Druck zum Impfen scheinen demnach weniger auf wissenschaftlich-medizinischen Erkenntnissen des Robert Koch-Instituts als viel mehr auf den politischen Willen der Regierungen zu basieren.  Wir waren in Berlin unterwegs und fragten die Bürger nach ihrer Meinung zu den RKI-Protokollen.  ________________________________________________________________  🚨🚨🚨 Unterstützen Sie unabhängigen Journalismus:   💎 Die Wochenzeitung der Epoch Times: http://bit.ly/EpochAbo   💎 Spenden für unsere Arbeit an: 👉  Per Paypal und über Kredit: http://bit.ly/SpendenEpochTimesDeutsch 👉 Per Banküberweisung: Epoch Times Europe GmbH                                                 IBAN: DE 2110 0700 2405 2550 5400                                                 BIC/SWIFT: DEUTDEDBBER                                                 Verwendungszweck: Spenden für EpochTV                                                 Vielen Dank! ________________________________________________________________  Wir freuen uns über rege Diskussionen, bitte achten Sie dabei auf eine angemessene Umgangsform! Beleidigungen sind nicht erwünscht. Danke.  Gerne dürfen Sie unsere Videolinks teilen, in Playlists oder auf Ihrer Homepage einbetten. Bitte respektieren Sie unsere Urheberrechte. Danke sehr. ________________________________________________________________  Epoch Times Kanäle:  ⚡ Webseite: www.epochtv.de  💎Twitter: https://twitter.com/EpochTimesDE  💎 Newsletter: https://www.epochtimes.de/newsletter  💎 Folgen Sie uns auf Telegram: https://t.me/Epoch_Radar  💎 Folgen Sie uns auf GETTR: https://gettr.com/user/epochtimesde  💎 Folgen Sie uns auf Facebook: https://www.facebook.com/EpochTimesWelt/  ________________________________________________________________  © EpochTV 2023\n",
      "7. Benjamin Fulford: Wochenbericht vom 12.02.2024  🎧 Nur Audio 🎧  Tod von König Charles, Biden-Implosion, Putin-Interview - alles deutet auf Regimewechsel im Westen hin  Dieser Beitrag stellt ausschließlich die Meinung des Verfassers dar. Er muss nicht zwangsläufig die Sichtweise von Antiilluminaten TV wiedergeben.   Artikel:  ▶️ https://telegra.ph/Benjamin-Fulford-Wochenbericht-vom-12022024-02-07  Video auf Odysee:  ▶️ https://odysee.com/@antiilluminaten:5/Fulford12022024:c  Video auf Telegram:  ▶️ https://t.me/antiilluminaten/52639  #BenjaminFulford #Illuminati #Whistleblower  Krisenvorsorge: 🧰 https://is.gd/ULk2fw  Mehr kostenfreie Infos und Enthüllungen: 🔥 https://t.me/antiilluminaten  Abonniere hier meinen Notfallkanal: 🆘 https://t.me/antiillumimaten2  Hier kannst du meine Arbeit unterstützen: 👉🏻 KLICK  🙏🏼DANKESCHÖN🙏🏼\n",
      "8. Exklusiv für den Deutschland-Kurier hat sich der Landesvorsitzende und Spitzenkandidat der AfD in Thüringen, Björn Höcke, zur links-woken Skandalisierungsberichterstattung rund um ein angebliches „Geheimtreffen“ verschiedener Akteure in Potsdam geäußert.   Höcke spricht KLARTEXT: „Wo sind wir hingekommen, dass man sich nicht mehr privat treffen kann!“   Wie viele Bürger hierzulande stellt sich auch Björn Höcke, dem jetzt von Seiten des Altparteien-Kartells mit Verwirkung seiner Grundrechte gedroht wird, die  Frage: „Können wir überhaupt noch von einer Demokratie reden?“   Der AfD-Fraktionsvorsitzende im Landtag von Thüringen liefert die Antwort gleich mit: „Nein, das ist keine Demokratie mehr. Das ist ein Halb-Totalitarismus, in dem wir leben!“  Zugleich macht Höcke allen patriotischen und rechts-konservativen Demokraten Mut: Nach der Landtagswahl in Thüringen (1. September 2024) werde ganz Deutschland ein „blaues Wunder“ erleben. „Stehen wir geschlossen, Schulter an Schulter!“, grüßt Höcke in diesem Exklusiv-Video aus dem thüringischen Neustadt und schließt mit dem Appell: „Einheit, Einheit, Einheit!“  Unsere App bekommen Sie hier:   App-Store:  https://apps.apple.com/us/app/deutschlandkurier/id6447972597  Play-Store: https://play.google.com/store/apps/details?id=de.deutschlandkurier.newsapp  Besuchen Sie auch die DK-Seite im Netz: https://deutschlandkurier.de/  Bitte folgen Sie dem Deutschland-Kurier 🇩🇪 auch auf ➠   Telegram:               https://t.me/DEKurier Facebook:               https://www.facebook.com/DK.Nachrichten Instagram:              https://www.instagram.com/deutschlandkurier/ TikTok:                    https://www.tiktok.com/@deutschland.kurier Gettr:                       https://www.gettr.com/user/deu_kurier Twitter:                    https://twitter.com/Deu_Kurier Odysee:                   https://odysee.com/$/invite/@deutschlandkurier:2 Telegram Video:    https://t.me/DeutschlandKURIERVideo  Unterstützen: https://www.facebook.com/becomesupporter/DK.Nachrichten/  #Höcke #Alternative #Geheimtreffen\n",
      "9. Wie tief ist der „tiefe Staat“ hierzulande inzwischen? Hat Kanzler Olaf Scholz (SPD) höchstpersönlich den Auftrag an das Lügenportal „Correctiv“ zur Inszenierung der beispiellosen Hetzkampagne gegen die AfD rund um das vermeintliche „Geheimtreffen“ in Potsdam gegeben?   Für Thüringens AfD-Chef Björn Höcke stellen sich in diesem Zusammenhang Fragen über Fragen! Vor allem aber schlägt er in diesem Exklusiv-Video für den Deutschland-Kurier Alarm mit Blick auf das sogenannte „#Demokratieförderungsgesetz“ der Anti-Deutschland-🚥. Unter diesem wohlklingenden Etikett planen Faeser & Co. dem AfD-Politiker zufolge nichts anderes als einen „#Staatsstreich“, einen „Putsch“.   Der Spitzenkandidat für die Landtagswahl in Thüringen (1. September2024 ) warnt eindringlich vor dem bisher schwersten Anschlag auf die #Meinungsfreiheit und ruft die Bürger zur Wachsamkeit auf: Ob „links oder rechts“ sei nicht mehr die Frage –  auf dem Spiel stehen #Demokratie und #Freiheit, mahnt Höcke.  Unsere App bekommen Sie hier:   App-Store:  https://apps.apple.com/us/app/deutschlandkurier/id6447972597  Play-Store: https://play.google.com/store/apps/details?id=de.deutschlandkurier.newsapp  Besuchen Sie auch die DK-Seite im Netz: https://deutschlandkurier.de/  Bitte folgen Sie dem Deutschland-Kurier 🇩🇪 auch auf ➠   Telegram:               https://t.me/DEKurier Facebook:               https://www.facebook.com/DK.Nachrichten Instagram:              https://www.instagram.com/deutschlandkurier/ TikTok:                    https://www.tiktok.com/@deutschland.kurier Gettr:                       https://www.gettr.com/user/deu_kurier Twitter:                    https://twitter.com/Deu_Kurier Odysee:                   https://odysee.com/$/invite/@deutschlandkurier:2 Telegram Video:    https://t.me/DeutschlandKURIERVideo  Unterstützen: https://www.facebook.com/becomesupporter/DK.Nachrichten/\n",
      "10. Wie tief ist der „tiefe Staat“ hierzulande inzwischen? Hat Kanzler Olaf Scholz (SPD) höchstpersönlich den Auftrag an das Lügenportal „Correctiv“ zur Inszenierung der beispiellosen Hetzkampagne gegen die AfD rund um das vermeintliche „Geheimtreffen“ in Potsdam gegeben?   Für Thüringens AfD-Chef Björn Höcke stellen sich in diesem Zusammenhang Fragen über Fragen! Vor allem aber schlägt er in diesem Exklusiv-Video für den Deutschland-Kurier Alarm mit Blick auf das sogenannte „#Demokratieförderungsgesetz“ der Anti-Deutschland-🚥. Unter diesem wohlklingenden Etikett planen Faeser & Co. dem AfD-Politiker zufolge nichts anderes als einen „#Staatsstreich“, einen „Putsch“.   Der Spitzenkandidat für die Landtagswahl in Thüringen (1. September2024 ) warnt eindringlich vor dem bisher schwersten Anschlag auf die #Meinungsfreiheit und ruft die Bürger zur Wachsamkeit auf: Ob „links oder rechts“ sei nicht mehr die Frage –  auf dem Spiel stehen #Demokratie und #Freiheit, mahnt Höcke.  Unsere App bekommen Sie hier:   App-Store:  https://apps.apple.com/us/app/deutschlandkurier/id6447972597  Play-Store: https://play.google.com/store/apps/details?id=de.deutschlandkurier.newsapp  Besuchen Sie auch die DK-Seite im Netz: https://deutschlandkurier.de/  Bitte folgen Sie dem Deutschland-Kurier 🇩🇪 auch auf ➠   Telegram:               https://t.me/DEKurier Facebook:               https://www.facebook.com/DK.Nachrichten Instagram:              https://www.instagram.com/deutschlandkurier/ TikTok:                    https://www.tiktok.com/@deutschland.kurier Gettr:                       https://www.gettr.com/user/deu_kurier Twitter:                    https://twitter.com/Deu_Kurier Odysee:                   https://odysee.com/$/invite/@deutschlandkurier:2 Telegram Video:    https://t.me/DeutschlandKURIERVideo  Unterstützen: https://www.facebook.com/becomesupporter/DK.Nachrichten/\n",
      "\n",
      "\n",
      "Topic 1:\n",
      "1. Lass dich bewusst erfüllen, von den Energien der neuen Zeit 💫💫💫\n",
      "2. ✅ Hier erfährst du mehr zum Thema - Flor Essence - die heilende Kräutermischung - ✅ So verbesserst du deine Gesundheit langfristig ✅\n",
      "3. Heute mal ein Zubereitungsvideo über den Meistertrank, wie ihn Hildegard von Bingen nannte, die dem Wermut eine hohe Heilwirkung zuschrieb.  --------------------------------------------------------------------------------- Ich möchte Dich lieber Leser und Hinhörer, auf meine individuelle Art, durch meine ganz eigenen Erfahrungen mit den Themen Wildkräuter und den Fragen „was hat die Natur mit meiner Bewusstheitsentwicklung, mit Achtsamkeit und Intuition zu tun?“ inspirieren, ermuntern, berühren und begleiten/mitnehmen auf meine/unsere Lebens- Entdeckungs-Reise. Meine Erfahrungen und das durch Selbststudium über viele Jahre sorgfältig gesammelte Wissen gebe ich gerne weiter in Beiträgen, Videos oder Kräuterführungen. -------------------------------------------------------------------------------------------------------------- Gefällt Dir was ich tue, sage oder schreibe, oder Du möchtest mir eine Freude machen?  Wenn du mir ein Trinkgeld da lassen willst, freue ich mich sehr, auch über ganz kleine Beträge genau so wie über dein Dankeschön und über liebevollen respektvollen Austausch. https://www.paypal.me/einfachbianca oder: IBAN:  DE79 7609 0500  0003 4612 46 BIC: GENODEF1S06 Mein Blog: https://einfach-bianca.de\n",
      "4. ✅ Hier erfährst du mehr zum Thema - Pferdesalbe: Wirkung und Anwendung des Alleskönners - ✅ So verbesserst du deine Gesundheit langfristig ✅\n",
      "5. ✅ Hier erfährst du mehr zum Thema - So gesund ist die Gurke - ✅ So verbesserst du deine Gesundheit langfristig ✅\n",
      "6. Wir tauschen uns über alles was GUT tut aus, d.h. friedfertiges und lichtvolles 🤩 universell. spirituell. Meditation. Handmade. Home&Garten. Leichtigkeit. Freude. Glück.Themen zu Heilung. Quantenphysik. Fortschritt.uvm. Sei ein Teil davon 🤗\n",
      "7. ✅ Hier erfährst du mehr zum Thema - Pfingstrose: Heilpflanze mit Geschichte - ✅ So verbesserst du deine Gesundheit langfristig ✅\n",
      "8. Am heutigen Portaltag können so einige von uns aus der Komforzone geschubst werden, was im ersten Moment recht unbequem erscheint. Beim zweiten Hinschauen jedoch, dürfen wir erkennen, dass wir nicht das Spiel des Systems spielen müssen, sondern dass wir einen von Gott gegebenen “Freien Willen” haben, mit dem wir im unendlichen Feld aller Möglichkeiten wirken dürfen.  💛 Portalblog: https://www.heikemichaelsen.de/blog 💛 Meditationen: https://www.heikemichaelsen.de/meditationen 💛 Gratis Videos: https://www.youtube.com/user/GermanyGoesRaw?sub_confirmation=1  🙏 SPENDENKONTO 🙏 IBAN: BE96 9670 1449 5705 (wähle Auslandsüberweisung, da belgisches Konto) Kontoinhaber: Heike Michaelsen  Bank: Wise - Avenue Louise 54, Room S52; Bruessel 1050, Belgien  BIC: TRWIBEB1XXX Paypal & Bank: https://www.heikemichaelsen.de/dankesspenden 💕Ganz lieben Dank für die wundervollen Zuwendungen. Möge alles in Fülle zurückfließen. 💕  Social Media:  ➡️ Telegram: https://t.me/heikemichaelsen_kanal ➡️ https://www.facebook.com/Heike.Michaelsen.1 ➡️ https://www.instagram.com/heike.michaelsen ➡️ https://podcasters.spotify.com/pod/show/heikemichaelsen ➡️ https://www.tiktok.com/@heikemichaelsen https://www.youtube.com/@HeikeMichaelsenVideos https://www.youtube.com/@LemuriaTemple  Meine E-Books, die z.T. wundervolle Meditations enthalten: https://www.heikemichaelsen.de/meditationen oder https://www.heikemichaelsen.de/shop, und zudem Gesundheitsebooks: https://www.heikemichaelsen.de/ebooks-rohkost-spirituell  MEDITATIONEN: ✨ Hohepriester-Aktivierung: https://www.heikemichaelsen.de/hohepriesterin-aktivierung ✨ Tempelmeditationen: https://www.heikemichaelsen.de/tempelmeditationen ✨  Intergalaktisches Konzil: https://www.heikemichaelsen.de/das-g%C3%B6ttliche-intergalaktische-konzil ✨ Drachenreiter: https://www.heikemichaelsen.de/drachenreiter-meditationen ✨ Chakra-DNA-Aktivierung: https://www.heikemichaelsen.de/dna-aktivierung ✨ Goldene Zeitalter: https://www.heikemichaelsen.de/goldene-zeitalter ✨ Lemurische Reisen: https://www.heikemichaelsen.de/lemurische-heilreisen ✨ Essener Meditationen: https://www.heikemichaelsen.de/meditationen  RABATT-CODES & Empfehlungen* https://www.heikemichaelsen.de/gesundheits-links 🌱 Video Marine Phytoplankton Algen https://www.heikemichaelsen.de/marine-phytoplankton-shop 🌱 Topfruit-Superfoods: https://www.topfruits.de/artikel/rohkost-qualitaet/?sPartner=192 🌱 Wasserfilter https://Rohkost.Sanuslife.com 🌱 Regenbogenkreis Veganer Shop: 10%-Rabatt-Code auf die Erstbestellung: 9AC598B2 https://www.regenbogenkreis.de/?sPartner=ggr 🌱 Dr. Goerg - die besten Bio-Kokosprodukte: https://tidd.ly/3HAzjO1 🌱 PureRaw - bio, vegane, rohe Produkte und Superfoods 🌱 Markus Rothkranz Video: https://www.heikemichaelsen.de/markusrothkranz 🌱 amazon: https://amzn.to/3BKHwvO 🌱 Gutschein Infrafot-Therapie: https://www.heikemichaelsen.de/%C3%BCber-den-shop 🌱 Superfoods: https://www.lebenskraftpur.de/?produkt=10201 🌱 TerraElements: https://tidd.ly/3MMRKlL 👚 PureNature Biokleidung und mehr: https://tidd.ly/41TZbvM 🎽 HessNatur Biowäsche/-kleidung: https://tidd.ly/3Iu5KhG 🔌 Ökostrom: https://tidd.ly/3WmFRG5 💎 Pranahaus/Spiritueller Shop: https://tidd.ly/45gUcIn 💦 Ionisierer: https://www.heikemichaelsen.de/wasserfilter 📚 Gesundheits-eBooks: https://www.heikemichaelsen.de/ebooks-rohkost-spirituell Bei den Empfehlungslink handelt es sich zum Teil um Affiliates. Wenn du diese Links nutzt, unterstützt du mich mit einer kleinen \"Provision\", die ich vom Shop erhalte. Dir selbst entstehen dabei keine Mehrkosten.  MARKUS ROTHKRANZ E-BOOKS & übersetzte Bücher: 🦋Heile deinen Beruf: http://markusrothkranz.de/index.php/rohkost-buecher-dvds/heile-deinen-beruf/ 🦋Heile dich frei: http://markusrothkranz.de/index.php/rohkost-buecher-dvds/erneuere-dein-leben/ 🦋Wegweiser in die Neue Zeit: http://markusrothkranz.de/index.php/rohkost-buecher-dvds/wegweiser-in-die-neue-zeit/ 🦋Heile deine Augen: http://markusrothkranz.de/index.php/rohkost-buecher-dvds/augen-eyes/ 🦋Heile Candida: http://markusrothkranz.de/index.php/rohkost-buecher-dvds/heile-candida-albicans/ 🦋Heile dich selbst, schön + reich…\n",
      "9. Die Meisterin aller Wurzeln wird die heutige Pflanze genannt.  Große Heiler des Mittelalters schwörten bereits auf ihre Heilwirkung!  Die Meisterwurzel ist ein in vielerlei Hinsicht stärkendes und kräftigendes Kraut und darf in keiner Kräuterapotheke fehlen :)  Aber seht selbst in dem Video ;)  ________________________________________________________   #WirsindNatur - Hier gibt’s die kostenfreie Kräuter Videoserie \"Lust auf Naturwissen\" mit Dr. scient. med. Patricia Purker aus der Natur- & Heilpflanzen Akademie Villa Natura: www.IchBinNatur.com  ________________________________________________________   // In Kooperation mit der TV-Sendung SchauLeben. Noch viel mehr findest Du auf www.Naturakademie.com  ________________________________________________________   Wichtig: Pflanzen aus eigener Sammlung dürfen nur bei hundertprozentiger Sicherheit in der Bestimmung verwendet werden. Bei jeglicher Unsicherheit darf die Pflanze nicht verwendet werden und sollte auch nicht gepflückt werden. Alle in diesem Kanal zur Verfügung gestellten Informationen, Rezepte & Hausmittel sind sorgfältig recherchiert und basieren auf einem großen Wissens- & Verwendungsschatz aus traditioneller europäischer Medizin, Volksheilkunde & Wissenschaft. Dennoch übernehmen wir keine Gewähr für die Vollständigkeit der Inhalte. Die vorgestellten Rezepturen ersetzen in keinem Fall den Besuch bei Arzt & Ärztin, wenn Sie Beschwerden haben. Im Allgemeinen darf die Anwendung bei Babies, Kleinkindern, Kindern, Schwangeren und Menschen mit Erkrankungen, die über leichte Befindlichkeitsstörungen hinausgehen, nur unter ärztlicher Begleitung erfolgen. www.DuBistNatur.com   “https://youtu.be/QniDFy1NR44”   #drpatriciapurker #dubistnatur #naturakademie\n",
      "10. Du hast den Mut neue Wege zu gehen Und es tut gut dich dabei zu sehen Voll im Vertrauen schenkst du dir  den Raum den du brauchst um dein Wunder zu gebären  Bawa ist ein Urwort für Schoßraum. Kreieren wir Räume, in denen wir uns frei fühlen, uns zu zeigen und unseren Weg zu gehen. Dann kann das Wunder durch uns geboren werden.   Musik: Anna Mittag https://t.me/LaWendel  Video: Michael Schulz www.portraiter.de\n",
      "\n",
      "\n",
      "Topic 2:\n",
      "1. Die jüngst veröffentlichten Protokolle des RKI-Krisenstabs sorgen für Aufruhr in den sozialen Medien. Corona-Verordnungen wie Maskenpflicht und Lockdowns als auch der immense Druck zum Impfen scheinen demnach weniger auf wissenschaftlich-medizinischen Erkenntnissen des Robert Koch-Instituts als viel mehr auf den politischen Willen der Regierungen zu basieren.  Wir waren in Berlin unterwegs und fragten die Bürger nach ihrer Meinung zu den RKI-Protokollen.  ________________________________________________________________  🚨🚨🚨 Unterstützen Sie unabhängigen Journalismus:   💎 Die Wochenzeitung der Epoch Times: http://bit.ly/EpochAbo   💎 Spenden für unsere Arbeit an: 👉  Per Paypal und über Kredit: http://bit.ly/SpendenEpochTimesDeutsch 👉 Per Banküberweisung: Epoch Times Europe GmbH                                                 IBAN: DE 2110 0700 2405 2550 5400                                                 BIC/SWIFT: DEUTDEDBBER                                                 Verwendungszweck: Spenden für EpochTV                                                 Vielen Dank! ________________________________________________________________  Wir freuen uns über rege Diskussionen, bitte achten Sie dabei auf eine angemessene Umgangsform! Beleidigungen sind nicht erwünscht. Danke.  Gerne dürfen Sie unsere Videolinks teilen, in Playlists oder auf Ihrer Homepage einbetten. Bitte respektieren Sie unsere Urheberrechte. Danke sehr. ________________________________________________________________  Epoch Times Kanäle:  ⚡ Webseite: www.epochtv.de  💎Twitter: https://twitter.com/EpochTimesDE  💎 Newsletter: https://www.epochtimes.de/newsletter  💎 Folgen Sie uns auf Telegram: https://t.me/Epoch_Radar  💎 Folgen Sie uns auf GETTR: https://gettr.com/user/epochtimesde  💎 Folgen Sie uns auf Facebook: https://www.facebook.com/EpochTimesWelt/  ________________________________________________________________  © EpochTV 2023\n",
      "2. Die Enthüllungen des Recherchezentrums CORRECTIV zum „Geheimplan gegen Deutschland“, einem Treffen von Rechtsextremen und AfD-Politikern in Potsdam, lösten eine neue Dynamik in der Diskussion um den richtigen Umgang mit der AfD aus. Die ehemalige Verfassungsrichterin Lübbe-Wolff wies schon im Oktober 2023 in einem Beitrag auf dem Verfassungsblog auf eine zuvor wenig beachtete Möglichkeit hin: die Grundrechtsverwirkung nach Art. 18 GG. Die Auswirkungen eines erfolgreichen Verwirkungsverfahrens dürften jedoch überschätzt, die Risiken hingegen unterschätzt werden.\n",
      "3. Wer Politik und Altmedien konsumiert denkt, es gibt nur ein Problem in Deutschland - der Angriff von rechts auf die Demokratie. Das Potsdamer Treffen wird zur Wannsee-Konferenz hochgejazzt. Die AfD zu Hitlers Widerkehr-Partei...  Wie denkt eigentlich Prof. Dr. Bernd Lucke darüber? Der Volkswirtschaftler hatte die AfD 2013 als eurokritische Partei gegründet, trat 2015 wieder aus. Ein Gespräch über Kalkül der Ampel, Migration, AfD-Verbot, Bernd Höcke, einen Verfassungsschutz, der den Ex-Chef bespitzelt und eine \"verzerrte Berichterstattung\". Die könnte zu einer größeren Radikalisierung der AfD führen. Weil die Gemäßigten Probleme mit dem Medien-Bild der Partei hätten und austräten, wie schon zu seiner Zeit, befürchtet Lucke.  Ich würde mich freuen, wenn ihr meine unabhängige journalistische Arbeit unterstützt, damit ich auch in Zukunft weitermachen kann.  Vielen Dank! Ich möchte mich auch ganz herzlich bei allen bedanken, die mich bereits unterstützen.  Milena Preradovic  Name: Milena Preradovic IBAN: AT40 2070 2000 2509 6694 BIC: SPFNAT21XXX oder https://paypal.me/punktpreradovic  -------------  Website: https://punkt-preradovic.com Odysee: https://odysee.com/@Punkt.PRERADOVIC:f Telegram: https://t.me/punktpreradovic Linkedin: https://www.linkedin.com/in/milena-preradovic-4a2836147/?originalSubdomain=at Twitter: https://twitter.com/punktpreradovic Facebook: https://www.facebook.com/punktpreradovic/ Instagram: https://www.instagram.com/punktpreradovic/ theplattform: https://theplattform.net  #afd #politik #regierung #scholz #weidel #höcke #demokratie #berndlucke #eurokritisch #potsdamertreffen #meinungsfreiheit #brandmauer #medien #journalisten #afdverbot\n",
      "4. \"Auch wenn der Bundeskanzler persönlich sich empört: Die von Correctiv aufgedeckten Planspiele der AfD liegen im Trend der herrschenden Meinung.\" Zu dieser Schlussfolgerung kommt ein umfassender analytischer Artikel in der Frankfurter Allgemeinen (FAZ), der sich mit dem in dieser Woche publik gemachten \"Geheimplan\" zu angeblichen systematischen Massenausweisungen befasst. Hat in einem Landhotel bei Potsdam Ende\n",
      "5. Seit einigen Tagen brodelt und kocht es in der bundesdeutschen Medien- und Politiklandschaft. So kurz vor den EU-Wahlen geht es noch mal darum, so richtig Stimmung gegen mögliche etablierte Wahlabweichler zu machen und dem ohnehin schon aufgeheizten politischen Klima noch eins draufzusetzen. Denn nach sämtlichen mehr oder minder „erfolgreichen“ Medienkampagnen gegen AfD-Funktionäre, Skandalurteilen für die Meinungsfreiheit im Falle von Björn Höcke und Marie-Thérèse Kaiser oder neuen Einstufungen der Landes- und Bundesverfassungsschützer im Umgang mit der AfD und der Jungen Alternative kommen neue Erkenntnisse ans Licht: Wir haben in der Bundesrepublik und innerhalb unserer Gesellschaft ein strukturelles Problem von rechts, und\n",
      "6. Die Schlinge zieht sich enger. Die deutsche Juristin Frau Dr. Beate Pfeil schockt im „Großen Interview AUF1“ bei Stefan Magnet mit einer dystopischen Zukunft, sollten die WHO-Verträge und die internationalen Gesundheitsvorschriften umgesetzt und angewendet werden. „Uns droht ein System, das die Freiheit des Einzelnen nicht mehr achtet, für das die Menschenwürde keine Rolle mehr spielt, sowie die Gewaltenteilungselemente nicht kennt.“  In dieser Sendung erfahren Sie wichtige Informationen und Hintergründe, die Sie und Ihr Umfeld unbedingt kennen müssen. Die Zeit zum Aufwachen ist jetzt, ansonsten „drohen uns in der Zukunft Zustände weltweiter massiver, umfassender Menschenrechtsverletzungen“.  Aktiv werden gegen die drohende WHO-Diktatur! Mit unserem neuen Faltblatt können Sie die schlafenden Mitbürger wachrütteln. Gleich hier bestellen: https://www.auf1.shop/products/faltblatt-who-diktat-die-schlinge-zieht-sich-enger  *** Mehr Informationen auf https://www.auf1.tv Folgen Sie AUF1 auf Telegram: https://t.me/auf1tv Folgen Sie AUF1 auf Twitter: https://twitter.com/AUF1TV Folgen Sie AUF1 auf Facebook: https://www.facebook.com/auf1tv Folgen Sie AUF1 auf Instagram: https://www.instagram.com/auf1.tv/ ***\n",
      "7. Von MANFRED ROUHS | Sogar die gewiss nicht rechtsradikale „New York Times“ warnte vergangene Woche vor dem „13-Punkte-Plan gegen den Rechtsextremismus“, für den Bundesinnenministerin Nancy Faeser etliche Steuer-Millionen locker machen will. „Die Bemühungen, den Aufstieg der AfD einzudämmen, werden nun auf nationaler Ebene intensiviert, doch diese Bemühungen können unbeabsichtigt dazu führen, dass die demokratischen Funktionen in Deutschland geschwächt werden“, zitiert die „Bild“-Zeitung die US-Publikation.\n",
      "8. BITTE TEILEN UND WEITERSCHICKEN - VORALLEM AN DIE BENANNTEN ZIELGRUPPEN! Wie wir durch mittler Weilen gesicherte Quellen erfahren konnten war und ist Entscheidungsträgern das allermeiste, was von Kritikern zu verschiedensten Themen, seien es nun Infektionserreger, gewaltsame Auseinandersetzungen oder auch fragwürdige Einschränkungen staatlicher oder persönlicher Souveränität längst bekannt: SIE HABEN ES GEWUSST! Und haben uns belogen.  Um diesen Sumpf, der enorme Folgen haben wird, trocken zu legen brauchen wir ehrliche und mutige, stolze Vertreter der Anwälte, Staatsanwälte, Richter, Ärzte und Journalisten. BITTE WERDET EUCH (ENDLICH) EURER SO WICHTIGEN ROLLE ZUR GESTALTUNG EINER LEBENSWERTEN ZUKUNFT BEWUSST! Habt keine Angst, wir stehen zu Euch! Und hier noch der link:  https://www.youtube.com/watch?v=QeLu_yyz3tc wesentliche Aussagen: 53:50 und 1:10:25\n",
      "9. BITTE TEILEN UND WEITERSCHICKEN - VORALLEM AN DIE BENANNTEN ZIELGRUPPEN! Wie wir durch mittler Weilen gesicherte Quellen erfahren konnten war und ist Entscheidungsträgern das allermeiste, was von Kritikern zu verschiedensten Themen, seien es nun Infektionserreger, gewaltsame Auseinandersetzungen oder auch fragwürdige Einschränkungen staatlicher oder persönlicher Souveränität längst bekannt: SIE HABEN ES GEWUSST! Und haben uns belogen.  Um diesen Sumpf, der enorme Folgen haben wird, trocken zu legen brauchen wir ehrliche und mutige, stolze Vertreter der Anwälte, Staatsanwälte, Richter, Ärzte und Journalisten. BITTE WERDET EUCH (ENDLICH) EURER SO WICHTIGEN ROLLE ZUR GESTALTUNG EINER LEBENSWERTEN ZUKUNFT BEWUSST! Habt keine Angst, wir stehen zu Euch! Und hier noch der link:  https://www.youtube.com/watch?v=QeLu_yyz3tc wesentliche Aussagen: 53:50 und 1:10:25\n",
      "10. „Die gestohlene Normalität – WHO-Diktatur stoppen & Gesundheitssystem retten“ - der neue Bestseller der beiden Erfolgsautoren Gerald Hauser und Hannes Strasser! Das Corona-Chaos ist noch nicht aufgeräumt, schon stellen sich neue politische Horrorszenarien ein. Die WHO möchte sich als alleinherrschende Gesundheitszentrale über die demokratisch gewählten nationalen Gremien stellen. Demokratie, Grundrechte und Nationalstaat sind in Gefahr! Welche Zukunft erwartet uns, wenn WHO, EU und die großen Stiftungen ihre totalitären Pläne umsetzen? Mehr dazu in dieser Pressekonferenz!\n",
      "\n",
      "\n",
      "Topic 3:\n",
      "1. ➤ Hier findest Du das vollständige Interview mit Raik Garve: https://bit.ly/kosmische-schlacht  In diesem Video erkunden wir den möglichen kosmischen Sinn hinter den gegenwärtig turbulenten Zeiten. Wir betrachten verschiedene Perspektiven, die uns dabei helfen könnten, einen tieferen Sinn inmitten der Herausforderungen der heutigen Welt zu erkennen.  ➤ Kostenloses Online-Seminar - Der Weg zu wahrer Selbst-Erkenntnis: https://bit.ly/selbst-erkenntnis  ➤ Telegram-Kanal von Raik Garve: https://t.me/Gesundheitslehrer\n",
      "2. Unsere Technologie  mit Blicken auf den Nordpol, in der Nacht als Nordlicht bekannt und bei Tag die ziehenden Wolken von der NASA aufgenommen  aus:  Botschaften aus der INNENERDE.  Die gechannelten Botschaften, übermittelt von Dianne Robbins, enthalten Spirituelle Wahrheiten zur Erweckung des menschlichen Bewusstseins.   SPIRITUELLE WAHRHEIT IST FREI:  Sie ist unser Geburtsrecht.  Deutsche Ausgabe erschienen im  ADAMA-VERLAG (www.adama-verlag.de)  ISBN 978-3-937625-76-8  In Zusammenarbeit mit dem Deutschen Lemuria-Team. www.neueslemuria.de\n",
      "3. Erste Schritte im Wasssermannzeitalter – der Weg des GÖTTLICH WEIBLICHEN Anschnallen Gurte zurren festhalten, schon seit gestern Abend infusioniert uns das kosmische Bühnenbild erneut mit ein…\n",
      "4. Je mehr die Menschheit erwacht, umso grandioser wird der Irrsinn draußen erkennbar und sichtbar. Was uns das sagen soll und wie wir damit umgehen können, erfährst du in dieser Podcast Folge! Viel Spaß beim anhören!  Deine Linda  ❤️ Verpasse nicht die nächste Liveshow am 06.08. : https://liveshow.linda-giese.de/   👉 Sichere dir dein kostenfreies Seelengespräch zur Seins-Potenzial Ausbildung https://seinspotenzial.linda-giese.de    ❤️ Heile deine Urwunde: https://linda-giese.de/seins-potenzial-coaching/  Buch Bewusstsein next Level: 📚  Zu meinem neuen Buch: https://buch.linda-giese.de/  👉 Kontakt https://www.linda-giese.de  Soziale Medien: ❤️ folge mir auch auf Instagram:  https://www.instagram.com/linda_giese/  ❤️  Podcast abonnieren: https://open.spotify.com/show/2kIYrko...  ❤️ Telegram Kanal: https://t.me/LindaGiese  ❤️ Facebook: https://www.facebook.com/LindaGieseLG   ☯️ Herzlichen Dank für die Unterstützung meiner Arbeit:  https://www.paypal.com/paypalme/Linda...  Karten:  Werbung wegen Verwendung 🦄 Tarot der Neuen Zeit https://aqasha.com/products/tarot-der-neuen-zeit  🦄 Karten von Heike Bender https://lichtmalerei-serafina.jimdo.com/über-mich/  🦄 Karten von Alberto Villoldo https://amzn.eu/d/0Fe99tN  🦄 Karten von Laura Marina Seiler: https://lauraseiler.com/animal-spirit-kartenset/ _______  Inspiriert durch Metara  Kokopelli Medicine Musik https://youtu.be/Cu58dZT9LW8 _______   #spiritualität #manifestation #bewusstsein  #spiritualität  #mindset #erfolg #manifestierenlernen #bewusstsein #seinspotenziale #coaching #ausbildung #mentalestärke #bewusstseinserweiterung #chakraberufung #chakraaktivieren #persönlicheswachstum #mentalegesundheit #innerestärke #bewusstsein #chakrenheilung #geistigeswachstum #berufung #lindagiese #glück #positivesdenken #motivation #selbstbewusstsein #2023 #lebenszufriedenheit #erfolgsmentalität #glücklichesleben #positivegewohnheiten #erfolgsrezepte #mindsetfürmehrerfolg #mindsetveränderung #erfolgsfaktoren #glücksmomente #positivdenken #erfolgstipps #glücksstrategien #erfolgsgeheimnisse #mindsetschulung #glücklichegefühle #positivegedanken #erfolgsideen #glücksformel #erfolgsdenken #mindsetcoaching #glücklichesdasein #positivevibes #erfolgstipps #glücksmomente #persönlicheentwicklung #coachingfürlebenszufriedenheit #chakrenausgleich #geistigesbewusstsein #mentaleleistungsfähigkeit #spirituelleentwicklung #lebensberatung #coachingtips #bewusstseinsexpansion #chakrenenergie #mentaleresilienz #spirituelleswachstum #coachingfürpersönlicheswachstum #geistigeentwicklung #chakrenbalance #mentalegewohnheiten #bewusstseinssteigerung #spirituelleerleuchtungfinden,selbstvertrauen,selbstliebe,manifestieren lernen,linda giese,\n",
      "5. Der rückläufige Neptun auf den letzten Fische-Graden. Chaos oder universelle Ordnung? Enttäuschung oder Erlösung? Illusion oder Vision? Das Video führt dich zu deiner inneren Wahrheit. Online-Beratung: https://www.stressabbau.at/astrologie _________________________________________________________________________ Sylvia Grübl Dipl. Psychologische Beraterin __________________________________________ * Videoempfehlung Geniale Wahrheit deiner Seele (Saturn in Fische) https://youtu.be/6RFnM9aFbyM?si=U_-9WrxHNGBIukx-     *Videoempfehlung Erkenne das Potenzial deiner Familie https://youtu.be/mK_6ikrFb7g?si=qdt87DpNoLDgkAyE _________________________________________________________________________ (Verwendetes Astroprogramm Astroplus: https://www.astrocontact.at/) **************************************************************************** #astrodings #astrologie #neptun #fische #fantasie #sensitivität #hochsensibilität #medium #lebensziel #ziele #vison #kosmos #analyse #transite #aspekte #zeit #astro #psychologischeastrologie #vorhersage #prognose #vorhersage #2024 #lebenshilfe #lebensberatung #sterndeutung #wassagendiesterne #astrologischevorschau #horoskop #radix  #horoskopgrafik #sternenschau #sylviagrübl\n",
      "6. We've just undergone a radical shift in the timeline - we have been supported and the frequency around us is now crystalline.  This is going to be a challenging step for some but a rewarding one that brings us nearer to ascension.  Join The Plasma Light Tribe today https://kerryk.com/join/      _______________________________________________________________________ FREE guided meditation \"The Cosmic Kiss\" here: https://kerryk.com/signup-meditation _______________________________________________________________________ THANK YOU FOR YOUR DONATIONS!! Donations: https://kerryk.com/#Donate _______________________________________________________________________ Social media:  instagram - iamkerryk tiktok - iamkerryk youtube - iamkerryk facebook - iamkerryk  my website      https://www.kerryk.com  With love Kerry K  *IMPORTANT DISCLAIMER:  I am not a medical or health care professional and no information that I share can be used in any way for medical advice.  Please consult a health care professional for all your mental / physical health care needs.\n",
      "7. Es stellt sich zu diesem Vollmond die große Glaubensfrage. Unsere Wahrnehmung wird geprüft. Was glauben wir? Es braucht das große Bild! Mehr dazu, und noch mehr, im aktuellen Video.  Live-Online Abend zum Vollmond am 27.11. »  https://matrix-coaching.at/online-angebote/wofuer-ist-meine-zeit-reif-landingpage/      Mitgliedschaft für ein GRATIS-MONAT zur MATRIX-GRUPPE » https://matrix-coaching.at/online-angebote/matrix-gruppe-landingpage/       Es wartet auf dich ein GRATIS E-BOOK zu den RAUHNÄCHTEN auf meiner Webseite » https://matrix-coaching.at/online-angebote/rauhnaechte-landingpage/  Astrologische Textanalysen & Prognosen: https://matrix-coaching.at/astrologische-textanaylsen2-2/\n",
      "8. 129. Lichtlesung  \"Die derzeitigen Ereignisse auf dieser Welt entfesseln die Energie für die Trennung der Erden. Die Energieströme der Menschen lenken das Schicksal.\" Erzengel Raphael   Mit Live-Botschaft von Erzengel Raphael, Jahn J Kassl, 21. 10. 2023  Lichtwelt Verlag auf Telegram:  ►►► https://t.me/lichtweltverlag  Wenn Sie unsere Arbeit schätzen, dann freuen wir uns über Ihren Energieausgleich! Via Pay Pal   ►►► https://lichtweltverlag.at/spenden/ oder per Überweisung:  Volksbank Wien AG IBAN: AT72 4300 0484 0551 7003    BIC: VBOEATWW  Wichtiger Hinweis: Unser Kanal ist nicht monetarisiert. Auf die von YouTube eingeblendeten Werbungen haben wir keinen Einfluss.  +++   SEHR GESCHÄTZTE LESER, LIEBE FREUNDE, sehen Sie hier das Video der 129. Lichtlesung   Mit Botschaften von Erzengel Raphael, Hohes Selbst, Meister St. Germain, Lady Nada & Meister Konfuzius  Das Audio zum Abspielen und Download (MP3) finden Sie hier   ►►► https://lichtweltverlag.at/lichtlesungen_mp3/  HINWEIS: Alle Botschaften der Lichtlesung werden im Laufe der kommenden Wochen in vollständiger Länge und Reinschrift am Blog veröffentlicht  ►►► https://lichtweltverlag.at/blog/ und ergehen als PDF an unsere Newsletter-Empfänger  ►►► https://lichtweltverlag.at/newsletter-signup/  Inhaltsübersicht  0:00:00 Inanspruchnahme deiner Macht! (Bewusstseinsarbeit)  ►►► https://lichtweltverlag.at/2023/11/04/inanspruchnahme-deiner-macht/  0:22:00 Das Ende wird der neue Anfang sein! (Live-Botschaft)  ►►► https://lichtweltverlag.at/2023/10/30/das-ende-wird-der-neue-anfang-sein-teil-1/  ►►► https://lichtweltverlag.at/2023/11/01/das-ende-wird-der-neue-anfang-sein-teil-2/  0:36:10 Kurzpräsentation von Neuauflagen  ►►► 30 Tore zur Erleuchtung https://lichtweltverlag.at/produkt/30-tore-zur-erleuchtung/ Kurs zur Freiheit  ►►► https://lichtweltverlag.at/produkt/kurs-zur-freiheit/ Atmar - Jenseits aller Konzepte  ►►► https://lichtweltverlag.at/produkt/atmar-jenseits-aller-konzepte/  0:43:30 Aura-Chirurgie  0:49:10 Wir schreiben ein Buch!  0:53:45 Telos  ►►► https://lichtweltverlag.at/produkt/telos/  0:58:25 Die Engel der Heilung haben mit ihrer Arbeit begonnen!  ►►► https://lichtweltverlag.at/2023/11/12/die-engel-der-heilung-haben-mit-ihrer-arbeit-begonnen/  1:03:40 Kommen die Corona-Maßnahmen und KI  1:14:00 Entspannter Umgang mit \"Fehlern\"   1:16:45 Welchen Kräften sind Politiker in hohen Positionen ausgesetzt?  1:21:10 Glaubenssätzen auf der Spur  1:25:00 Vergebung vs. Rache; Was, wenn alles gefälscht ist?  1:28:40 Kämpfst du mit dem Begriff \"GOTT?\"  1:34:50 Ukraine, Gaza, Israel – alles Karma?  1:43:40 Befragung des Seelenorakels   1:48:20 Die Kunst des Lebens   LICHTEN DANK!  +++    „Manche befassen sich mit persönlichem Erbarmen, manche mit universeller Gnade. Versucht es und lasst diese sich verbinden. Früher oder später erreicht das Wasser der Tümpel das Meer.  Der eine Heilige bleibt und arbeitet in den Seen persönlichen Daseins, der andere spielt ohne Grenzen im Ozean.\" Rumi  +++  Die nächste Lichtlesung & Buchpräsentation \"VERHEISSUNG - ALLES KOMMT ZUM GUTEN\"   ►►► https://lichtweltverlag.at/produkt/verheissung/ mit der Live-Botschaft von ADAMA VON TELOS, findet am Samstag, den 16.12. 2023 statt. Zeit: 17 Uhr // Ort: Palais Strudlhof, Strudlhofgasse 10, 1090 Wien.  Einladung  ►►► https://lichtweltverlag.at/lichtlesung-next/  Lichtwelt Blog  ►►► https://lichtweltverlag.at/blog/  Lichtwelt Shop  ►►► https://lichtweltverlag.at/shop/\n",
      "9. Nach ca. 235 Jahren erhalten Wissen und Macht wieder einen enormen Schub. Was das kollektiv und für dein persönliches Horoskop bedeutet, erfährst du im Video. Online-Beratung: https://www.stressabbau.at/astrologie _________________________________________________________________________ Sylvia Grübl Dipl. Psychologische Beraterin ________________________________________ * Videoempfehlung Jahrhundert-Konstellation (mächtig) Pluto im Wassermann https://youtu.be/1qbj3NoXCJo?si=1wEaU7-4kYngQi1k  * Videoempfehlung Pluto zieht die Fäden deiner Zukunft (enorme Kraft!) https://youtu.be/ropYKUyni8U?si=ISsAhrQAATa3dR5L  * Videoempfehlung Dein Horoskop leicht verständlich (Astrologie für Einsteiger) https://youtu.be/aoJAbB_Zcm4?si=tCNp194XdKaY9nZF  Zum Buch: https://www.stressabbau.at/b%C3%BCcher _________________________________________________________________________ (Verwendetes Astroprogramm Astroplus: https://www.astrocontact.at/) **************************************************************************** #astrodings #astrologie #jupiter #pluto #termine #aspekte #wissen #astrogeographie #wahrheit #erkenntnisse #orteastrologie#ve#astrogeografie #kosmos #analyse #transite #aspekte #zeit #astro #psychologischeastrologie #vorhersage #prognose #wassermann #zwillinge #vorhersage #2024 #wasbringt2024 #lebenshilfe #lebensberatung #sterndeutung #wassagendiesterne #astrologischevorschau #horoskop #radix  #horoskopgrafik #sternenschau #sylviagrübl\n",
      "10. Geschichte Dokumentarfilm - geschichte doku - Doku Geschichte der Menschheit -   Menschen 5 x mal so groß wie wir, Gravuren von Schwarzen löschern und Planeten. Doch die Wissenschaft behauptet es sind fälschungen weil wir heute nicht in der Lage wären sowas aus diesem.   Unterstützen Sie uns für weitere Produktionen mit dem Kauf der DVD: Neueste archäologische.   Die geheime Geschichte der Menschheit NEU SYNCHRONISIERT Dieses brisante Video wurde mit Absprache von WeAreChange von mir neu synchronisiert, da die erste Ausführung leider zu schnell bearbeitet.\n",
      "\n",
      "\n",
      "Topic 4:\n",
      "1. Viele, vor allem solche auf der Seite der C19-Massnahmengegner, reden von der Pflicht der Aufarbeitung. Von wem soll sie ausgehen? Was hätte das fèr gewisse Brnachen für Konsequenzen? Wie geht man im Ausland samit um, beispielsweise in Deutschland und Dänemark?  Das neue Kabarett-Stück von Marco Caimi: „ES HARZT ALS ARZT….“ Ab 29.2.2024  Nächste Vorstellungen:  Frei, 26. April 2024; 20.15 Uhr Ochsen in Rapperswil bei Bern  Sa, 27. April 2024; 20.15 Uhr Konservi Seon/AG  Di, 30. April 2024: 20.00 Uhr Rest./Hotel Hofmatt, Münchenstein/BL  Frei, 3. Mai 2024; 20.00 Rest. Rössli Dürrenast Thun/BE  Sa, 4. Mai 2024, 20.00 Rest Raten, Oberägeri/ZG  Alle Infos und Tickets unter www.megaschwiizer.ch   Oder wie gehabt unter:  info@maennerpraxis.ch  Weitere Informationen:  Die Links zu allen Kanälen auf allen Plattformen neu hier: https://kanal.marcocaimi.ch Dort finden Sie alle YouTube-Kanäle, den beliebten Rumble- und Telegram-Links aber auch die neuen Instagram- und TikTok-Pages auf einen Blick und sei Teil unserer Community und abonniere kostenlos den Newsletter um immer auf dem Laufenden zu sein: https://caimi-health.ch/newsletter-2/   Unseren Shop mit den kultigen CaimiReport-Designs findest Du die hier: https://www.free-switzerland.ch Die Bestellungen ist auch per E-Mail oder Telefon auf Rechnung möglich: design@barth-druck.ch / +41 61 272 60 70  Haltet den CaimiReport mit einem Cappuccino oder mehr pro Monat „on Air“ und spendet für ein freies Schweizer Qualitätsmedium mit täglichen Beiträgen. Mein Name Marco Caimi, meine Zielgruppe die Aufgeweckten und die, die es werden wollen!  CAIMI HEALTH CONSULTING AG  Neuweilerstrasse 101, CH-4054 Basel UBS Switzerland AG, CH-8098 Zürich IBAN: CH 33 0023 3233 1748 2301 A BIC/SWIFT: UBSWCHZH80A  Oder  paypal@caimi-health.ch  https://paypal.me/caimireport\n",
      "2. Wir schreiben das Jahr 2024, die ganze Öffentlichkeit ist vom Rechtsruck vereinnahmt. Die ganze? Nein, ein kleiner, mit nur wenigen unnötigen Milliarden aufgefetteter Staatsfunk leistet unermüdlich Widerstand gegen die allumfassende Renazifizierung Deutschlands. Einer ganz großen Sache auf der Spur ist nun ZDF-Journalistin Dunja Hayali. Wo andere längst im Dickicht des rechtsextremen deutschen Waldes aufgegeben hätten, hat sie nun im Vorstellungsdatum von Musks neuestem Projekt am 8. August einen versteckten Nazi-Code entdeckt. Eine Glosse.\n",
      "3. Unvergessen sind die Irrwege & Pannen von Rudi Anschober, des ersten grünen Gesundheitsminister, der die Österreicher in der Corona-Zeit mit irrwitzigen Schikanen drangsalierte. Immer wieder bläute er den Bürgern ein: \"Die nächsten Wochen werden entscheidend sein.\" Nach nicht einmal anderthalb Jahren im Amt warf er das Handtuch - und das Land geriet mit Impf- & Lockdown-Fanatiker Mückstein vom Regen in die Corona-Traufe. Seinem Nach-Nachfolger Rauch versucht er nun bei seinem Masken-Appell unter die Arme zu greifen. Auf seinem Blog macht er sich indes mit einem Corona-Resümee wichtig und wirbt für die Abgabe der österreichischen Souveränität an die WHO.\n",
      "4. Alexander Schallenberg hat wohl fast die Staatsoper abgefackelt. Es wird von seiner Pressestelle nicht dementiert.   VERNETZEN WIR UNS!  ► Abonniere auch TG: https://t.me/nicht_normal  ► Abonniere auch den Newsletter und tauche ein in die Welt des abstrusen Geschwurbels: https://www.neue-n.com/  ► Kumm Twitter: https://twitter.com/schwurbler6500  LEIBERL & ZEUG  ► Hier gibt´s fesche Leiberl und weiteres wunderschönes Zeug. Der angesagteste Stil der Schickeria: https://bit.ly/3wjxBIB  BETTELN So kannst du uns unsere Arbeit unterstützen:  ► Paypal: https://www.paypal.com/paypalme/deinbesterfreund  ► Bank: Thomas Breit, IBAN: DE97100110012620193011, BIC: NTSBDEB1XXX\n",
      "5. Bei der Präsentation des Berichts „Risikobild 2024 – Welt aus den Fugen“ haben hochkarätige Vertreter des Bundesheers und Fachleute Ende Jänner ein düsteres Bild gezeichnet. So werde die neue Zeit der militärischen „Unordnung“ die Welt und Österreich noch „mindestens zwei Dekaden“ begleiten, sagte Generalmajor Peter Vorhofer. Die Gefahr einer Konfrontation zwischen der EU und Russland wird als „sehr hoch“ eingeschätzt.\n",
      "6. Dass die Systemparteien und ihr Dunstkreis der in Umfragen meilenweit führenden FPÖ mit Argumenten nicht mehr beikommen, ist nichts neues. Daher heißt die Devise seit Monaten nur noch: Alle gegen Kickl. Dabei wirft man immer verzweifelter mit dem Schmutzkübel, doch nichts will kleben bleiben. Der neueste \"Geniestreich\" ist nun ein Werbe-Video, das auf YouTube als bezahlte Werbeeinschaltung präsentiert wird. Dabei wird FPÖ-Chef Herbert Kickl so unverhohlen wie plump mit Hitler verglichen. Doppelt brisant: Im Vorstand des dafür verantwortlichen Vereins sitzt offenbar ein PR-Berater, der sowohl für die Grünen als auch die NEOS einst als Bundesgeschäftsführer agierte.\n",
      "7. Nicht durchführbar, schrecklich, das falsche Zeichen: Als die schwarz-blaue Landesregierung in Niederösterreich nach FPÖ-Initiative die Rückzahlung von Corona-Strafen ankündigte - und mittlerweile bereits damit begann - war der polit-mediale Komplex außer sich. Mit Schaum vor dem Mund heulte man auf über den vermeintlichen Kniefall vor den bösen \"Schwurblern\" und der noch viel böseren, angeblich \"rechtsextremen\" FPÖ. Nun folgt auch unser Nachbarland Slowenien dem Beispiel. Was hält die Systemparteien nun noch ab, es gleichzutun?\n",
      "8. Im \"freiesten Deutschland aller Zeiten\" feuern Regierung und Systemmedien seit zwei Wochen ohne Unterlass gegen die einzige Oppositionspartei, die dem Altparteien-Kartell aktuell gefährlich werden kann. Besonders ins Zeug legt sich dabei der Staatsfunk: Fast täglich liefert man Absurditäten und absurde Framing-Versuche. Den aktuellen Vogel schießt dabei das WDR-Magazin \"Monitor\" ab, das allen Ernstes vermeintliche \"Parallelen\" in den Reden von Björn Höcke und NS-Propagandaleiter Joseph Goebbels herbei fantasiert.\n",
      "9. 🇩🇪|Eklat im #EUParlament: Parlamentspräsidentin @RobertaMetsola dreht mir das Mikro ab, als ich  #PfizerGate thematisiere. Ein Bärendienst. Mein Video sehen Millionen Bürger & sind zurecht außer sich vor Zorn. Der DEUTSCHLANDFUNK berichtet nun ausführlich: https://t.co/BOdNYDrpoL\n",
      "10. Im Mai nahm ÖVP-Außenminister Alexander Schallenberg an der Bilderberger-Geheimkonferenz in Lissabon teil, wo er sich mit seinen globalistischen Freunden zur mehrtägigen Mauschelei über den Umbau der Weltordnung nach dem Geschmack der Eliten unterhalten haben dürfte. Welche Absprachen dort getroffen wurden - und wie viel Steuergeld für das ominöse Treffen floss - soll das Volk aber auf keinen Fall erfahren. Denn eine inhaltliche Antwort auf eine kritische FPÖ-Anfrage verweigert der schwarze Adelsspross einfach...\n",
      "\n",
      "\n"
     ]
    }
   ],
   "source": [
    "# compare the webpage embeddings with the topic vectors and get the most similar webpages\n",
    "if not webpreview_done:\n",
    "    representative_webpreviews = get_representative_texts(df, \n",
    "                                                        webpreview_topic_model, \n",
    "                                                        topic_vectors, \n",
    "                                                        webpreview_chat_vectors, \n",
    "                                                        10, \n",
    "                                                        \"webpreview\", \n",
    "                                                        \"webpage_description\",\n",
    "                                                        \"webpreview_vector\",\n",
    "                                                        \"webpage_description_preprocessed\")\n",
    "\n",
    "    # save representative messages\n",
    "    representative_webpreview_path = os.path.join(os.getcwd(), \"../results/webpreview_embeddings/representative_webpreviews.json\")\n",
    "    representative_webpreviews = {int(topic): messages for topic, messages in representative_webpreviews.items()} # convert keys to int\n",
    "    with open(representative_webpreview_path, \"w\") as jsonfile:\n",
    "        json.dump(representative_webpreviews, jsonfile, indent=4)\n",
    "\n",
    "# print representative webpreviews\n",
    "for topic, text in representative_webpreviews.items():\n",
    "    print(f\"Topic {topic}:\")\n",
    "    for i, text in enumerate(text):\n",
    "        print(f\"{i+1}. {text.strip()}\")\n",
    "    print(\"\\n\")"
   ]
  },
  {
   "cell_type": "markdown",
   "metadata": {},
   "source": [
    "## 5. Combined Message & Webpage-Preview Embeddings"
   ]
  },
  {
   "cell_type": "markdown",
   "metadata": {},
   "source": [
    "Next, we combine the message- and web-preview-embeddings and inspect the changes in clustering results.\n",
    "\n",
    "#### 1. Combine Message-Text- And Webpage-Preview-Vectors\n",
    "\n",
    "First, we load the chat-vectors we created by averaging the webpage-preview- and message-vectors."
   ]
  },
  {
   "cell_type": "code",
   "execution_count": 40,
   "metadata": {},
   "outputs": [],
   "source": [
    "combine_vectors_path = os.path.join(os.getcwd(), \"../features/3_msg_webpreview_chat_vectors.npy\")\n",
    "combined_vectors = np.load(combine_vectors_path, allow_pickle=True)"
   ]
  },
  {
   "cell_type": "markdown",
   "metadata": {},
   "source": [
    "#### 2. Create Combined Chat-Text-Aggregations\n",
    "\n",
    "Next, we combine the Text-Aggregations for Webpage-Previews and Chat-Messages in order to use them  to make the topics interpretable."
   ]
  },
  {
   "cell_type": "code",
   "execution_count": 41,
   "metadata": {},
   "outputs": [
    {
     "data": {
      "text/plain": [
       "telegram_chat_id\n",
       "1088678000    brush forget teeth egypt views beautiful view ...\n",
       "1100528049    absage absagen gesundheitszustand konzert lena...\n",
       "1106758760    earth transition unprecedented body crystal sh...\n",
       "1114384948    erdbeben ergebnisse ersten erstmals frankreich...\n",
       "1127888562    angreifer berührter boden danach erinnern gesi...\n",
       "                                    ...                        \n",
       "2109703003       bauen bauern essen fall her joe landwirten ...\n",
       "2112932878    denise dm fein grüße habt harmonics impulsen m...\n",
       "2117576592    grocery healthylife know secret shopping us da...\n",
       "2118786195    bezaubernd kind kinder liebe mehr tun warum fr...\n",
       "2138374794    besiegelt dreistelliger finanzpaket lebende mi...\n",
       "Name: combined_texts, Length: 351, dtype: object"
      ]
     },
     "execution_count": 41,
     "metadata": {},
     "output_type": "execute_result"
    }
   ],
   "source": [
    "# create a DataFrame to combine the texts\n",
    "combined_text_dataframe = pd.DataFrame({\n",
    "    \"chat_texts\": chat_texts,\n",
    "    \"chat_webpage_previews\": chat_webpage_previews\n",
    "})\n",
    "\n",
    "# combine the texts\n",
    "combined_text_dataframe[\"combined_texts\"] = combined_text_dataframe[\"chat_texts\"] + \" \" + combined_text_dataframe[\"chat_webpage_previews\"]\n",
    "\n",
    "# calculate the length of the texts\n",
    "combined_text_dataframe[\"chat_texts_len\"] = combined_text_dataframe[\"chat_texts\"].apply(lambda x: len(x.split()))\n",
    "combined_text_dataframe[\"chat_webpage_previews_len\"] = combined_text_dataframe[\"chat_webpage_previews\"].apply(lambda x: len(x.split()))\n",
    "combined_text_dataframe[\"combined_texts_len\"] = combined_text_dataframe[\"combined_texts\"].apply(lambda x: len(x.split()))\n",
    "\n",
    "# check if the combined arrays are the same length as the original arrays combined\n",
    "assert combined_text_dataframe[\"combined_texts_len\"].equals(combined_text_dataframe[\"chat_texts_len\"] + combined_text_dataframe[\"chat_webpage_previews_len\"])\n",
    "\n",
    "# get the combined texts\n",
    "combined_texts = combined_text_dataframe[\"combined_texts\"]\n",
    "combined_texts"
   ]
  },
  {
   "cell_type": "markdown",
   "metadata": {},
   "source": [
    "#### 3. Cluster The Combined Embeddings\n",
    "\n",
    "Now, we can cluster the chats using the combined message- and webpage-preview embeddings."
   ]
  },
  {
   "cell_type": "code",
   "execution_count": 42,
   "metadata": {},
   "outputs": [
    {
     "name": "stdout",
     "output_type": "stream",
     "text": [
      "Model already downloaded. Loading...\n",
      "Topic Model exists: True\n",
      "Evaluation Metrics exist: True\n",
      "Representative Messages exist: True\n",
      "Representative Web Previews exist: True\n",
      "Combined webpreview embeddings already processed. Loading results...\n"
     ]
    }
   ],
   "source": [
    "# load the model we used for the embeddings, in order to use it for the representational model\n",
    "current_path = os.getcwd()\n",
    "model_dir = os.path.join(current_path, \"../data/models/\")\n",
    "model_name = \"paraphrase-multilingual-MiniLM-L12-v2\"\n",
    "model_path = os.path.join(model_dir, model_name)\n",
    "\n",
    "if not os.path.isdir(model_path):\n",
    "    print(\"Model not found. Downloading...\")\n",
    "    transformer_model = SentenceTransformer(model_name)\n",
    "    transformer_model.save(model_path)\n",
    "    print(f\"Model saved to {model_path}\")\n",
    "else:\n",
    "    print(f\"Model already downloaded. Loading...\")\n",
    "    transformer_model = SentenceTransformer(model_path)\n",
    "\n",
    "# check, if the webpreview embeddings were already processed\n",
    "feature_name = \"combined_webpreview\"\n",
    "combined_webpreview_done = is_processed(feature_name, True)\n",
    "\n",
    "# load the results, if the webpreview embeddings were already processed\n",
    "if combined_webpreview_done:\n",
    "    print(\"Combined webpreview embeddings already processed. Loading results...\")\n",
    "    combined_webpreview_evaluation_metrics, combined_webpreview_topic_model, representative_messages, representative_webpreviews = load_data(feature_name, True)\n",
    "    \n",
    "# run the experiment, if the webpreview embeddings were not already processed\n",
    "else:\n",
    "    print(\"Running experiment for combined webpreview embeddings...\")\n",
    "\n",
    "    combined_webpreview_evaluation_metrics, combined_webpreview_topics, combined_webpreview_probabilities, combined_webpreview_topic_model = run_experiment(\n",
    "        chat_embeddings=combined_vectors, \n",
    "        chat_texts=combined_texts, \n",
    "        n=50, \n",
    "        topic_model_dir_path=os.path.join(os.getcwd(), \"../results/combined_webpreview_embeddings/topic_models/\"),\n",
    "        feature_name=\"combined_webpreview\",\n",
    "        used_embedding_model=transformer_model\n",
    "    )"
   ]
  },
  {
   "cell_type": "markdown",
   "metadata": {},
   "source": [
    "#### 4. Inspect the average evaluation metrics"
   ]
  },
  {
   "cell_type": "code",
   "execution_count": 43,
   "metadata": {},
   "outputs": [
    {
     "name": "stdout",
     "output_type": "stream",
     "text": [
      "Coherence Scores: 0.46666171581739535\n",
      "Silhouette Scores: 0.1700830226556437\n",
      "Davies Bouldin Scores: 1.9320807557361526\n",
      "Topic Counts: 4.14\n",
      "Noise Counts: 19.32\n"
     ]
    }
   ],
   "source": [
    "for key, value in combined_webpreview_evaluation_metrics.items():\n",
    "    print(f\"{key.replace(\"_\", \" \")[4:].title()}: {value}\")"
   ]
  },
  {
   "cell_type": "markdown",
   "metadata": {},
   "source": [
    "#### 5. Visualise The Clustering And Export The Visualisation\n",
    "\n",
    "We will now visualise the results. As the resulting graphics are too big to be saved in the notebook, we will instead save them to the directory defined in the variable path."
   ]
  },
  {
   "cell_type": "code",
   "execution_count": 44,
   "metadata": {},
   "outputs": [
    {
     "name": "stdout",
     "output_type": "stream",
     "text": [
      "2024-10-28 19:09:07,348 - create_topic_visualisations - Create UMAP Plot - Completed ✓\n",
      "2024-10-28 19:09:07,501 - create_topic_visualisations - Create Topic Barchart - Completed ✓\n"
     ]
    },
    {
     "name": "stderr",
     "output_type": "stream",
     "text": [
      "100%|██████████| 2/2 [00:35<00:00, 17.87s/it]\n"
     ]
    },
    {
     "name": "stdout",
     "output_type": "stream",
     "text": [
      "2024-10-28 19:09:57,092 - create_topic_visualisations - Create Topic Hierarchy - Completed ✓\n"
     ]
    }
   ],
   "source": [
    "path = os.path.join(os.getcwd(), \"../results/combined_webpreview_embeddings/\")\n",
    "os.makedirs(path, exist_ok=True)\n",
    "create_topic_visualisations(combined_webpreview_topic_model, combined_vectors, combined_texts, path, display_plots=False)"
   ]
  },
  {
   "cell_type": "markdown",
   "metadata": {},
   "source": [
    "#### 6. Inspect the most representative messages"
   ]
  },
  {
   "cell_type": "markdown",
   "metadata": {},
   "source": [
    "**1. Create Topic Vectors**"
   ]
  },
  {
   "cell_type": "code",
   "execution_count": 45,
   "metadata": {},
   "outputs": [],
   "source": [
    "if not combined_webpreview_done:\n",
    "    topic_vectors = create_topic_vectors(combined_webpreview_topic_model, combined_vectors)\n",
    "    display(topic_vectors)"
   ]
  },
  {
   "cell_type": "markdown",
   "metadata": {},
   "source": [
    "**2. For each topic, extract the top n messages closest to the topic vector they were assigned to**\n",
    "\n",
    "Like with the features used before, we add the embeddings created in `02_feature_engineering` back to the messages in the DataFrame and use them to compare them to the topic vectors created earlier to find the most representative messages for each topic."
   ]
  },
  {
   "cell_type": "code",
   "execution_count": 46,
   "metadata": {},
   "outputs": [],
   "source": [
    "# load the message embeddings\n",
    "if not combined_webpreview_done:\n",
    "    message_embeddings_path = os.path.join(os.getcwd(), \"../features/0_message_embeddings.npy\")\n",
    "    message_embeddings = np.load(message_embeddings_path, allow_pickle=True)\n",
    "\n",
    "    # create a series where each element is an message-vector\n",
    "    message_embeddings_series = pd.Series([embedding for embedding in message_embeddings])\n",
    "\n",
    "    # check if the message embeddings have the same shape as the dataframe\n",
    "    assert message_embeddings_series.shape[0] == len(message_embeddings)\n",
    "    message_embeddings_series\n",
    "\n",
    "    # add the message embeddings to the dataframe\n",
    "    df[\"message_vector\"] = message_embeddings_series\n",
    "    display(df[[\"message_text\", \"message_vector\"]].head())"
   ]
  },
  {
   "cell_type": "code",
   "execution_count": 47,
   "metadata": {},
   "outputs": [
    {
     "name": "stdout",
     "output_type": "stream",
     "text": [
      "Topic 0:\n",
      "1. Hier deutschsprachig:\n",
      "2. Unerträgliche Aussage ️ ️ @NetzwerkkritischerExperten .\n",
      "3. #ploetzlichundunerwartet\n",
      "4. das hält man ja nicht im Kopf aus. #KämpftumEuerLand\n",
      "5. #Plötzlichundunerwartet Aus der Rubrik: #KarmaIsABitch\n",
      "6. #Schweiz: Heute über #Genf.\n",
      "7. Wie viele wären wirklich geimpft? Mad in Germany unterstützen\n",
      "8. Bundesfinanzminister Lindner solle doch bitte ausreden können Berlin, 15.1.24\n",
      "9. Der Klügere gibt nach? Bist du dir sicher? Corona Maßnahmen, der ewige Angst. Mad in Germany unterstützen\n",
      "10. Impftote nun plötzlich Hitzetote WICHTIG: Neue Gesetze vom 25. August 2023 gefährden JEDE Aufklärungsarbeit! Darum TEILEN – VERBREITEN – STREUEN – jetzt ist es noch möglich! Video in voller Länge: ABONNIEREN\n",
      "\n",
      "\n",
      "Topic 1:\n",
      "1. Neidische Kollegen oder Freunde! So gehst du selbstbewusst damit um! 5.1K 22.09.2021 SELFCHANGER\n",
      "2. #Klassiker\n",
      "3. #Farbenreich\n",
      "4. einer von meinem STAMM Herzensgrüße\n",
      "5. Für diejenigen, die am 24.12. die Rauhnächte beginnen\n",
      "6. >> Kopf hoch! Sonst wirst du nicht sehen können, wer dir zulächelt.<< Gebt dem Wochenende Einlass, ihr Lieben Abb Netzfund\n",
      "7. #LASSTUNSLIEBESCHENKEN\n",
      "8. #reinevtnatürlich\n",
      "9. Genial den will ich auf für Zeiten der Not\n",
      "10. #Mädesüß\n",
      "\n",
      "\n",
      "Topic 2:\n",
      "1. 》 |RT-NACHRICHTEN, 29.05.2024, mit Vadim Ivanov Aktuelle Ereignisse aus der russischen Perspektive. U.a. mit folgenden Themen: OFFENE KONFRONTATION - immer mehr Länder für ukrainischen Waffeneinsatz in Russland - Selbst Olaf Scholz ändert seine Meinung STAATSRATSSITZUNG - Sitzung des erweiterten Staatsrats im Großen Kremlpalast - Themen: Strategische Lage und konkrete Projekte KRIEG IM NAHEN OSTEN - wieder Tote bei Angriff auf Flüchtlingslager bei Rafah - Israel weist Vorwürfe zurück The Group of the 7\n",
      "2. 》 |RT-NACHRICHTEN, 23.05.2024, mit Vadim Ivanov Aktuelle Ereignisse aus der russischen Perspektive. U.a. mit folgenden Themen: SPIEGELMAẞNAHMEN - Moskau reagiert auf Beschlagnahmungen in den USA KÖNIG VON BAHREIN IN MOSKAU - Lob für die Einigkeit des Globalen Südens. Barain ist noch echt, Einer von wenigen Königen, der sich behauptet hat, dafür sorgte frei genug zu sein, damit Israel ihn nicht zwingen kann mit zumachen. Es sucht Nähe Schutz und Zusammenarbeit bei Russland und macht sich weiter für Gaza stark.. da reden genau die richtigen beiden wirklich.. gut gemacht Russland hat mich nie enttäuscht. Er macht es genau richtig!!! Wenigstens einer unserer Könige. 75 JAHRE GRUNDGESETZ - am 23. Mai 1949 wurde das Grundgesetz verkündet - ist die Demokratie heute in Gefahr? DER IRAN TRAUERT - im ganzen Land Trauer um Präsident Raisi und seine Begleiter The Group of the 7\n",
      "3. 》 |RT-NACHRICHTEN, 27.05.2024, 18.00 Uhr mit Alex Dzhigirej Aktuelle Ereignisse aus der russischen Perspektive. U.a. mit folgenden Themen: KEINE EINIGKEIT - Stoltenberg gegen Beschränkungen für Waffen der Ukraine - Salvini: \"die NATO kann uns nicht zwingen, in Russland zu töten\" WLADIMIR PUTIN IN USBEKISTAN - 2-tägiger Besuch beendet - zahlreiche Abkommen unterzeichnet KRIEG IM NAHEN OSTEN - Israelische Streitkräfte bombardieren Zeltlager in Sicherheitszone - Zahlreiche Frauen und Kinder getötet BUNGEE-JUMPING IM IRAN - Höchster Sprungplatz der Welt in Teheran - 280 Meter in die Tiefe The Group of the 7\n",
      "4. 》 |RT-NACHRICHTEN, 11.05.2024, mit Ulrich Gohlke Aktuelle Ereignisse aus der russischen Perspektive. U.a. mit folgenden Themen: GAZA UNTER BESCHUSS - 40 Tote in Rafah - Israel fordert Bevölkerung auf, die Stadt zu verlassen NATO-TRUPPEN IN DER UKRAINE - Polens Premier Donald Tusk bestätigt die Anwesenheit von NATO-Truppen in der Ukraine - Ungarn warnt vor 3. Weltkrieg UNTER RUSSISCHER KONTROLLE - russische Truppen übernehmen die Kontrolle in fünf Siedlungen im Raum Charkow FREUNDSCHAFT MIT MOLDAWIEN - Orden der Freundschaft für moldawische Abgeordnete Marina Tauber The Group of the 7\n",
      "5. 》 |RT-NACHRICHTEN, 29.01., mit Dominik Reichert Aktuelle Ereignisse aus der russischen Perspektive U.a. mit folgenden Themen: AKP-ABLEGER IN DEUTSCHLAND - Erdogan baut Einfluss aus KAMPAGNE GEGEN RECHTS - Demos gegen die AfD gehen weiter - Grüne provozieren Hitlergruß-Skandal BLUTIGER KONFLIKT - Humanitäre Krise in Gaza - israelische Demonstranten gegen Hilfslieferungen The Group of the 7\n",
      "6. 》 |RT-NACHRICHTEN, 03.04.2024, mit Vadim Ivanov Aktuelle Ereignisse aus der russischen Perspektive. U.a. mit folgenden Themen: WER TRÄGT DIE SCHULD? - Crocus-City-Hall: Russland verdächtigt Ukraine und USA ERDBEBEN VOR TAIWAN - schwerstes Beben seit 25 Jahren HUMANITÄRE HELFER GETÖTET - Israels Armee: \"Angriff war schwerer Fehler\" - World Central Kitchen: Israel über Bewegungen der Helfer informiert nur weil man es beweisen konnte REFORM DER SCHULDENBREMSE - Lindner: erst nach der Wahl 2025 The Group of the 7\n",
      "7. 》 |RT-NACHRICHTEN, 22.01., mit Dominik Reichert Aktuelle Ereignisse aus der russischen Perspektive U.a. mit folgenden Themen SITZUNG DES UN-SICHERHEITSRATS - Nach Beschuss von Donezk mit 28 Zivilisten UMSTRITTENEE VORSCHLAG - Pistorius: auch Ausländer sollen in der Bundeswehr dienen - Warnung vor einem Krieg mit Russland KRIEG IM NAHEN OSTEN - Israelischer Vormarsch im südlichen Gazastreifen - Zahl der zivilen Opfer steigt auf 25.000. Da seht ihr mal wie schnell aus \"solidarität\" nun \"pflicht\" wird. Habe es letztes Jahr im Mai gesagt und die meisten fanden es witzig, da sind wir nun, nur knappe 10 Monate später \"ist es eure Pflicht zur Bundeswehr zu gehen und Krieg mit russland zu wollen\" - wie sagt er so schön \"das Gesetz ist da eindeutig..\" kranker scheiss oder? The Group of the 7\n",
      "8. 》 |RT-NACHRICHTEN, 01.03., 21.00 Uhr mit Dominik Reichert Aktuelle Ereignisse aus der russischen Perspektive. U.a. mit folgenden Themen: GELEAKTE AUFNAHME - Deutsche Offiziere besprechen Zerstörung der Krim-Brücke - Russen hören mit SCHLAG INS GESICHT - Scholz: Briten und Franzosen sind bereits in der Ukraine BLUTIGER KRIEG - Gaza: Massaker an Zivilisten während einer Hilfslieferung führt zu noch mehr Solidarisierung mit Palästinensern. The Group of the 7\n",
      "9. 》 |RT-NACHRICHTEN, 28.05.2024, 19.00 Uhr mit Alex Dzhigirej Aktuelle Ereignisse aus der russischen Perspektive. U.a. mit folgenden Themen: WERTVOLLE PARTNERSCHAFT - Wladimir Putins Besuch in Usbekistan OFFENE KONFRONTATION - immer mehr europäische Politiker für direkte Angriffe der Ukraine auf Russland KRIEG IM NAHEN OSTEN - Israel setzt Offensive auf Rafah fort - Netanjahu bezeichnet Angriff auf Zeltlager als Fehler The Group of the 7\n",
      "10. ZU PRO-RUSSISCH - EIN HAUCH VON NORTHSTREAM LIEGT IN DER LUFT SLOWAKEI, HANDLOVA/SKY NEWS 25.05. Ist heute igendwo der Sekt kaltgestellt worden? Der Anschlag auf Premierminister Robert Fico in Handlova dt. Krickerhau trifft einen Politiker mit maximaler Distanz zur Ukraine und den Russlandsanktionen der Europäischen Union. POSITIONEN FICOS Keine Überfremdung durch Massenmigration. Kein WHO-Pakt Kein NATO-Beitritt der Ukraine. Notfalls slowakisches Veto. Keine Waffenlieferungen an das \"Nazi-Regime\" Fico in Kiew. Für ein gutes Verhältnis zu Russland und China und gegen antirussische EU-Sanktionen Robert Fico war bereits zweimal Premier 2006 - 2010, 2026 - 2020 und wieder seit 2023. Seine Partei SMER - \"Richtung - Slowakische Sozialdemokratie\" gehört der Sozialistischen Internationale an, ist also eine Schwesterpartei der SPD. Das heutige Attentat des \"Schriftstellers\" Juray Cintula hätte im Erfolgsfall bestimmten globalistischen Gruppen durchaus ins Konzept gepasst. @RoyalAllemand\n",
      "\n",
      "\n"
     ]
    }
   ],
   "source": [
    "# get the messages closest to the topic centers\n",
    "if not combined_webpreview_done:\n",
    "    representative_messages = get_representative_texts(df = df,\n",
    "                                                    topic_model = combined_webpreview_topic_model,\n",
    "                                                    topic_vectors = topic_vectors,\n",
    "                                                    chat_vectors = combined_vectors,\n",
    "                                                    n = 10,\n",
    "                                                    feature_name = \"combined_webpreview\",\n",
    "                                                    text_column = \"message_text\",\n",
    "                                                    text_embeddings_column = \"message_vector\",\n",
    "                                                    text_preprocessed_column = \"message_text_preprocessed\")\n",
    "\n",
    "    # save representative messages\n",
    "    representative_messages_path = os.path.join(os.getcwd(), \"../results/combined_webpreview_embeddings/representative_messages.json\")\n",
    "    representative_messages = {int(topic): messages for topic, messages in representative_messages.items()} # convert keys to int\n",
    "    with open(representative_messages_path, \"w\") as jsonfile:\n",
    "        json.dump(representative_messages, jsonfile, indent=4)\n",
    "\n",
    "# print representative messages\n",
    "for topic, messages in representative_messages.items():\n",
    "    print(f\"Topic {topic}:\")\n",
    "    for i, message in enumerate(messages):\n",
    "        print(f\"{i+1}. {message.strip()}\")\n",
    "    print(\"\\n\")"
   ]
  },
  {
   "cell_type": "markdown",
   "metadata": {},
   "source": [
    "#### 7. Inspect The Most Representative Webpage-Previews\n",
    "\n",
    "Now, we will inspect the most representative webpage-previews using the same approach we have already used to find representative messages. We will reuse the topic vectors created while inspecting the most representative messages."
   ]
  },
  {
   "cell_type": "code",
   "execution_count": 48,
   "metadata": {},
   "outputs": [],
   "source": [
    "# load the webpage-preview embeddings\n",
    "if not combined_webpreview_done:\n",
    "    webpreview_embeddings_path = os.path.join(os.getcwd(), \"../features/3_webpage_embeddings.npy\")\n",
    "\n",
    "    # create a series where each element is an message-vector\n",
    "    webpreview_embeddings = np.load(webpreview_embeddings_path)\n",
    "\n",
    "    # add the message embeddings to the dataframe.\n",
    "    df[\"webpreview_vector\"] = webpreview_embeddings.tolist() \n",
    "    df[[\"webpage_title\", \"webpage_description\", \"webpreview_vector\"]].head()"
   ]
  },
  {
   "cell_type": "code",
   "execution_count": 49,
   "metadata": {},
   "outputs": [
    {
     "name": "stdout",
     "output_type": "stream",
     "text": [
      "Topic 0:\n",
      "1. Justizkrimi um Linksextremisten-Auslieferung. Kaum gibt ein Berliner Gericht grünes Licht, werden d\n",
      "2. Rund 1.500 Menschen kamen nach Überlingen, um Zeugnis für Demokratie abzulegen- und taten es dann doch nicht. Stef Manzini von der stattzeitung.org vom Veranstalter als “Demokratiefeindin” beleidigt. BLHV-Vize sollte mit tumultartigen Buh-Rufen zu Beginn seiner Rede vertrieben werden. Interviews und Redebeiträge von grünem Landespolitiker, Bauern-Vize, Oberbürgermeister und Kommunalpolitiker. “Omas gegen Rechts” outen sich am Bodensee teilweise als Demokratiefeinde. Hakenkreuzplakate erlaubt, um Widerspruch gegen die AfD zu zeigen. Alt-Medium heizt in bekannter “Corona-Manier” die Stimmung an, und ist ein Organ der Spaltung.\n",
      "3. ✅ Jetzt kostenlos zum Webinar mit Ernst Wolff anmelden: https://kettner.shop/kostenfrei_anmelden_6s  📚 Ernst Wolff Vortragsreihe nicht verpassen: https://kettner.shop/Ernst_Wolff_Vortragsreihe_6s  Wir stehen an der Schwelle zu einer globalen Katastrophe, die vor langer Zeit geplant wurde. Die einfachen Menschen sind die Leidtragenden, während die Eliten saftige Profite einfahren. Einen Hoffnungsschimmer gibt es dennoch - die Menschen wachen langsam auf. Aus diesem Grund haben wir Ernst Wolff auf ein kurzes Gespräch eingeladen, um Sie auf das einzustimmen, was am kommenden Mittwoch veröffentlicht wird. Wir werden die Hintermänner hinter diesem globalen Schauspiel aufdecken und Ihnen aufzeigen, wie Sie sich aus den Fängen dieses Systems befreien können.  ✅ Werde Teil unseres Teams: https://kettner.shop/jetzt_bewerben_6s  🔔 Ernst Wolff abonnieren: https://www.youtube.com/@ErnstWolffOffiziell  ⭐ GOLD KAUFEN ↪︎  Münzen: https://kettner.shop/gold-m_6siC ↪︎  Barren: https://kettner.shop/gold-b_6siC  🪙 SILBER KAUFEN ↪︎  Münzen: https://kettner.shop/silber-m_6siC ↪︎  Barren: https://kettner.shop/silber-b_6siC  ✅ EDELMETALL-EINSTEIGER ↪︎  500€: https://kettner.shop/500_6siC ↪︎  2000€: https://kettner.shop/2000_6siC ↪︎  5000€: https://kettner.shop/5000_6siC ↪︎  10.000€: https://kettner.shop/10000_6siC  📞  BERATUNG ↪︎  +49 7930 - 2699  📲 KETTNER EDELMETALLE APP ↪︎ Apple: https://kettner.shop/app-apple ↪︎ Android: https://kettner.shop/app-android  🛒 ONLINE-SHOP ↪︎  https://kettner.shop/6siC  🔔 KANAL ABONNIEREN ↪︎ https://kettner.shop/YouTube-Kanal_Abonnieren  ⏰ ZWEITKANAL ↪︎  https://kettner.shop/shorts-kanal   ▶️ INSTAGRAM ↪︎  https://www.instagram.com/kettneredelmetalle/​   ▶️ INSTAGRAM Dominik Privat ↪︎  https://www.instagram.com/dominik_kettner/​  📚 KOSTENLOSES E-BOOK ↪︎ https://kettner.shop/masterplan_6siC  00:00 Teaser 00:57 So wirkt sich der Krieg auf Deutschland aus 03:13 Krieg als Enteignungswerkzeug 05:12 Die echten Profiteure des Kriegs 08:06 Wahrscheinlichkeit von Zwangsenteignungen 10:19 Aktuelle Migrationskrise 12:32 Fast vergessene Kollateralschäden 16:48 Sie wollen diese Lüge aufrechterhalten 19:32 Politiker in der Regierung komplett unfähig? 22:16 Geld mit Verfallsdatum kommt 24:25 So bereiten Sie sich vor (dringend)  Gold kaufen bei Kettner-Edelmetalle.de - unser Unternehmen zählt zu den größten Edelmetallhändlern Europas. Kaufen Sie bei einem vertrauenswürdigen Händler lassen Sie sich die Lieferung diskret zu Ihnen nach Hause senden!  Wie hat Ihnen das Video “\"Der Krieg wird weiter ausgeweitet\" - Ernst Wolff” gefallen? Wir würden uns über einen Daumen nach oben, einen Kommentar oder ein Abo unseres YouTube-Kanals freuen.  Vielen Dank und bis zum nächsten Video!\n",
      "4. Die jüngst veröffentlichten Protokolle des RKI-Krisenstabs sorgen für Aufruhr in den sozialen Medien. Corona-Verordnungen wie Maskenpflicht und Lockdowns als auch der immense Druck zum Impfen scheinen demnach weniger auf wissenschaftlich-medizinischen Erkenntnissen des Robert Koch-Instituts als viel mehr auf den politischen Willen der Regierungen zu basieren.  Wir waren in Berlin unterwegs und fragten die Bürger nach ihrer Meinung zu den RKI-Protokollen.  ________________________________________________________________  🚨🚨🚨 Unterstützen Sie unabhängigen Journalismus:   💎 Die Wochenzeitung der Epoch Times: http://bit.ly/EpochAbo   💎 Spenden für unsere Arbeit an: 👉  Per Paypal und über Kredit: http://bit.ly/SpendenEpochTimesDeutsch 👉 Per Banküberweisung: Epoch Times Europe GmbH                                                 IBAN: DE 2110 0700 2405 2550 5400                                                 BIC/SWIFT: DEUTDEDBBER                                                 Verwendungszweck: Spenden für EpochTV                                                 Vielen Dank! ________________________________________________________________  Wir freuen uns über rege Diskussionen, bitte achten Sie dabei auf eine angemessene Umgangsform! Beleidigungen sind nicht erwünscht. Danke.  Gerne dürfen Sie unsere Videolinks teilen, in Playlists oder auf Ihrer Homepage einbetten. Bitte respektieren Sie unsere Urheberrechte. Danke sehr. ________________________________________________________________  Epoch Times Kanäle:  ⚡ Webseite: www.epochtv.de  💎Twitter: https://twitter.com/EpochTimesDE  💎 Newsletter: https://www.epochtimes.de/newsletter  💎 Folgen Sie uns auf Telegram: https://t.me/Epoch_Radar  💎 Folgen Sie uns auf GETTR: https://gettr.com/user/epochtimesde  💎 Folgen Sie uns auf Facebook: https://www.facebook.com/EpochTimesWelt/  ________________________________________________________________  © EpochTV 2023\n",
      "5. Ab jetzt jeden letzten Donnerstag im Monat um 18 Uhr: „Love Priest“ Tim Kellner liest exklusiv die Monatsrückblick-Messe im Deutschland-Kurier! Themen u.a.: die jüngsten Baerböcke von „Stammel-Anna“, der proletenhafte Wahlkampf-Auftritt von „Flak-Trümmerfrau“ (FDP), der immer rasantere wirtschaftliche Niedergang Deutschlands, die Verniedlichung der Ausländer-Kriminalität durch die Bundesregierung und der politische Schauprozess gegen Björn Höcke (AfD).  Unsere App bekommen Sie hier:   App-Store:  https://apps.apple.com/us/app/deutschlandkurier/id6447972597  Play-Store: https://play.google.com/store/apps/details?id=de.deutschlandkurier.newsapp  Besuchen Sie auch die DK-Seite im Netz: https://deutschlandkurier.de/  Bitte folgen Sie dem Deutschland-Kurier 🇩🇪 auch auf ➠   Telegram:               https://t.me/DEKurier Facebook:               https://www.facebook.com/DK.Nachrichten Instagram:              https://www.instagram.com/deutschlandkurier/ TikTok:                    https://www.tiktok.com/@deutschland.kurier Gettr:                       https://www.gettr.com/user/deu_kurier Twitter:                    https://twitter.com/Deu_Kurier Odysee:                   https://odysee.com/$/invite/@deutschlandkurier:2 Telegram Video:    https://t.me/DeutschlandKURIERVideo VK:                           https://vk.ru/deutschlandkurier  Unterstützen: https://www.facebook.com/becomesupporter/DK.Nachrichten/  #Messe #LovePriest #Schaupozess\n",
      "6. Ab jetzt jeden letzten Donnerstag im Monat um 18 Uhr: „Love Priest“ Tim Kellner liest exklusiv die Monatsrückblick-Messe im Deutschland-Kurier! Themen u.a.: die jüngsten Baerböcke von „Stammel-Anna“, der proletenhafte Wahlkampf-Auftritt von „Flak-Trümmerfrau“ (FDP), der immer rasantere wirtschaftliche Niedergang Deutschlands, die Verniedlichung der Ausländer-Kriminalität durch die Bundesregierung und der politische Schauprozess gegen Björn Höcke (AfD).  Unsere App bekommen Sie hier:   App-Store:  https://apps.apple.com/us/app/deutschlandkurier/id6447972597  Play-Store: https://play.google.com/store/apps/details?id=de.deutschlandkurier.newsapp  Besuchen Sie auch die DK-Seite im Netz: https://deutschlandkurier.de/  Bitte folgen Sie dem Deutschland-Kurier 🇩🇪 auch auf ➠   Telegram:               https://t.me/DEKurier Facebook:               https://www.facebook.com/DK.Nachrichten Instagram:              https://www.instagram.com/deutschlandkurier/ TikTok:                    https://www.tiktok.com/@deutschland.kurier Gettr:                       https://www.gettr.com/user/deu_kurier Twitter:                    https://twitter.com/Deu_Kurier Odysee:                   https://odysee.com/$/invite/@deutschlandkurier:2 Telegram Video:    https://t.me/DeutschlandKURIERVideo VK:                           https://vk.ru/deutschlandkurier  Unterstützen: https://www.facebook.com/becomesupporter/DK.Nachrichten/  #Messe #LovePriest #Schaupozess\n",
      "7. https://t.me/grundrechteosna/1298 Demo Osnabrück, vom Schlossgarten zum Nikolaiort. Wir machen das: Umzug, Kundgebung, Galerie der Aufklärung, Diskussion & Dissidentenkino mit Videovortrag von Pathologe Prof. Dr. Arne Burkhardt.   Wir laden herzlich dazu ein, dem undemokratischen Zeitgeist, der aktuellen Kriegshetze und dem Klima- und Viruswahn gemeinsam in Osnabrück die Rote Karte zu zeigen!   Die Parteien wollen uns weiter mit Angst regieren! Und wenn wir \"Corona\" nicht aufarbeiten, werden sie es wieder tun!   Die Angstpolitik spaltet unsere Gesellschaft und zerstört die demokratische Kultur in Deutschland!  Das ist keine Krankheit oder eine Klima-Katastrophe, das ist ein Gesellschaftsumbau, falls Du es noch nicht bemerkt hast.  Unser Land entdemokratisiert sich rasant. Aber ohne uns. Wir stoppen das! Und wann bewegst Du deinen Hintern?   Euer GROS Team\n",
      "8. Die ganze Sendung „Stimmt!“: https://youtu.be/urNdWj2IJgY  1000 Seiten umfassen die Protokolle, die interne Besprechungen des Corona-Krisenstabs offenlegen. Lange wurden diese unter Verschluss gehalten. Doch das Online-Magazin „Multipolar“ klagte nun erfolgreich dagegen. Die Mitschriften belegen den Wahnsinn, der damals in Deutschland herrschte. „Man hat mit Angst von Regierungsseite Politik gemacht“, sagt NZZ-Journalistin Susanne Gaschke.  📢 𝗡𝗜𝗨𝗦, 𝗱𝗶𝗲 𝗦𝘁𝗶𝗺𝗺𝗲 𝗱𝗲𝗿 𝗠𝗲𝗵𝗿𝗵𝗲𝗶𝘁  Jetzt abonnieren & die Glocke aktivieren 🔔  Website: https://nius.de Facebook: https://www.facebook.com/stimmedermehrheit/ X: https://twitter.com/niusde_ Instagram: https://www.instagram.com/nius.de TikTok: https://www.tiktok.com/@niusde  Stimmt! auf YouTube: https://www.youtube.com/@Stimmt-DerNachrichtenTalk Stimmt! auf Instagram: https://www.instagram.com/stimmt.dernachrichtentalk/ Stimmt! auf TikTok: https://www.tiktok.com/@stimmttalk Stimmt! auf X: https://twitter.com/stimmttalk\n",
      "9. Stimmt! Der Nachrichten-Talk von NIUS! Unsere Themen heute: 🔸1:01 „Wirtschaftsfreundlichster Kanzler seit Ewigkeiten“: Das absurde Selbstverständnis von Olaf Scholz 🔸4:29 Mittelstand in Gefahr: Immer mehr Unternehmen verlassen Deutschland 🔸22:26 Faesers Demokratieverständnis: Mehr Überwachung! 🔸39:15  Am Bürger vorbei: Warum Steinmeier die Sorgen der Deutschen nicht versteht 🔸56:04 Kita-Katastrophe: über 400.000 Kinder bekommen keinen Platz  Es diskutieren im Stimmt-Studio mit Gastgeber Sebastian Vorbach: 🔹Caroline Bosbach, Junger Wirtschaftsrat 🔹Werner Patzelt, Politikwissenschaftler 🔹Michael Andrick, Philosoph 🔹Alex Liefermann, verzweifelter Vater  Folgt uns auch auf den anderen Kanälen:  Twitter: https://twitter.com/StimmtTalk Facebook: https://www.facebook.com/stimmttalk Instagram: https://www.instagram.com/stimmt.dernachrichtentalk/ Telegram: https://t.me/stimmttalk TikTok: https://www.tiktok.com/@stimmttalk  #stimmt #nachrichten #talk\n",
      "10. Wie tief ist der „tiefe Staat“ hierzulande inzwischen? Hat Kanzler Olaf Scholz (SPD) höchstpersönlich den Auftrag an das Lügenportal „Correctiv“ zur Inszenierung der beispiellosen Hetzkampagne gegen die AfD rund um das vermeintliche „Geheimtreffen“ in Potsdam gegeben?   Für Thüringens AfD-Chef Björn Höcke stellen sich in diesem Zusammenhang Fragen über Fragen! Vor allem aber schlägt er in diesem Exklusiv-Video für den Deutschland-Kurier Alarm mit Blick auf das sogenannte „#Demokratieförderungsgesetz“ der Anti-Deutschland-🚥. Unter diesem wohlklingenden Etikett planen Faeser & Co. dem AfD-Politiker zufolge nichts anderes als einen „#Staatsstreich“, einen „Putsch“.   Der Spitzenkandidat für die Landtagswahl in Thüringen (1. September2024 ) warnt eindringlich vor dem bisher schwersten Anschlag auf die #Meinungsfreiheit und ruft die Bürger zur Wachsamkeit auf: Ob „links oder rechts“ sei nicht mehr die Frage –  auf dem Spiel stehen #Demokratie und #Freiheit, mahnt Höcke.  Unsere App bekommen Sie hier:   App-Store:  https://apps.apple.com/us/app/deutschlandkurier/id6447972597  Play-Store: https://play.google.com/store/apps/details?id=de.deutschlandkurier.newsapp  Besuchen Sie auch die DK-Seite im Netz: https://deutschlandkurier.de/  Bitte folgen Sie dem Deutschland-Kurier 🇩🇪 auch auf ➠   Telegram:               https://t.me/DEKurier Facebook:               https://www.facebook.com/DK.Nachrichten Instagram:              https://www.instagram.com/deutschlandkurier/ TikTok:                    https://www.tiktok.com/@deutschland.kurier Gettr:                       https://www.gettr.com/user/deu_kurier Twitter:                    https://twitter.com/Deu_Kurier Odysee:                   https://odysee.com/$/invite/@deutschlandkurier:2 Telegram Video:    https://t.me/DeutschlandKURIERVideo  Unterstützen: https://www.facebook.com/becomesupporter/DK.Nachrichten/\n",
      "\n",
      "\n",
      "Topic 1:\n",
      "1. Lass dich bewusst erfüllen, von den Energien der neuen Zeit 💫💫💫\n",
      "2. #loriot\n",
      "3. AUFKLÄRUNG 🧬✨⚛️ #tiktok  Teil 1\n",
      "4. #liebegrüße #gutenmorgengrüße #schönenfreitag\n",
      "5. #alarmstuferot #allesdichtmachen\n",
      "6. ☀️Lichtvoller Bewusstseinsimpuls☀️  🌕Vollmond am 27.11.2023🌕 ☀️Portaltag am 28.11.2023🌕  Liebe Seelenlichter✨  Wenn wir uns dem JETZT-Moment gewahr sind, und von Moment zu Moment bewusst im Sein...\n",
      "7. Für die NatUr und für das Leben 💚\n",
      "8. #TRUMP2024🚀\n",
      "9. Nachgeliefert ...  gleich geht es in die Röhre 😍\n",
      "10. Wichtiger Nachtrag 🔥🔥\n",
      "\n",
      "\n",
      "Topic 2:\n",
      "1. #Сводка на утро 15 июня 2024 года   ▪️Харьковское направление характеризуется тяжелыми боями в Волчанске и севернее н.п. Липцы. Противник старается перебрасывать резервы по переправам, которые уничтожаются нашими ударами. На фоне заявлений политического руководства России и подготовки Киевом т.н. «Саммита мира» в Швейцарии, ВСУ активизируют удары по Белгородской области: вчера в Шебекино нацисты разнесли подъезд многоэтажки. Погибли пятеро, ранено шестеро мирных жителей. В селе Муром Шебекинского округа в движущемся автомобиле погиб водитель в результате удара дрона-камикадзе ВСУ. Прямое попадание реактивного снаряда в дом в поселке Октябрьский Белгородского района погибла женщина.  Один мирный житель ранен в селе Архангельское Шебекинского горокруга в результате обстрела он получил осколочные ранения.    ▪️На южном фланге Северского направления наши войска интенсифицировали атакующие действия у Раздоловки. Продвижение на участке фронта 2 км составило до 1 км.    ▪️Западнее Авдеевки ВС России наступают на юг от…\n",
      "2. Депутат Чепа РИА Новости о теракте в \"Крокусе\": все такие события связаны с Украиной\n",
      "3. След ЦРУ в терактах против РФ и усталость ЕС от Киева. Ситуация вокруг Украины.  Ход операции   ◾️Российские войска за прошедшие сутки отразили 12 атак ВСУ на краснолиманском направлении, 9 атак на купянском направлении, 7 атак на запорожском направлении и одну атаку на донецком направлении, сообщили в Минобороны РФ.  \"Мать всех конфликтов XXI века\"   ◾️Конфликт между Израилем и палестинским движением ХАМАС отвлекает Евросоюз от помощи Украине, сообщил глава МИД Литвы Габриэлюс Ландсбергис по прибытии на встречу глав МИД ЕС в Люксембурге. Украина должна оставаться \"главным приоритетом\" для сообщества, так как \"конфликт на Украине — мать всех конфликтов XXI века\", считает он.   ◾️По итогам встречи главы МИД 27 стран ЕС вновь не смогли договориться о выделении Киеву восьмого транша в €500 млн из Европейского фонда мира на поставки оружия, сообщил Боррель, пообещав достичь договоренности в будущем.  След ЦРУ   ◾️Несколько резонансных терактов против России осуществили сотрудники СБУ, в подготовке которых участвовало…\n",
      "4. Großmächte im Weltordnungskrieg | Irmtraud Gutschke | NachDenkSeiten-Podcast | 05.05.2024  Ist die Kreml-Führung mit der Invasion in die Ukraine in eine „strategische Falle“ getappt? Einen langjährigen, verlustreichen Abnutzungskrieg hat man wahrscheinlich nicht vorausgesehen. „Ruiniert“ werden konnte Russland nicht, vielmehr fallen uns in Europa die „halbierte Globalisierung“ und die Militarisierung auf die Füße. Georg Auernheimer meint in seinem neuen Buch „Die Strategische Falle. Die Ukraine im Weltordnungskrieg“, dass Russlands Angriff im US-Interesse war. Von Irmtraud Gutschke. […]  NachDenkSeiten – Die kritische Website Artikel mit Quellenangaben/Links zum Nachlesen: https://www.nachdenkseiten.de/?p=114734 Artikel veröffentlicht am: 05. Mai 2024 um 12:00 Autor: Eine Rezension von Irmtraud Gutschke (Gastbeitrag) Sprecherin: Ala Goldbrunner Titelbild: Ivan Marc / Shutterstock  Dr. Irmtraud Gutschke, Literaturkritikerin und Autorin mehrerer Bücher, hat Slawistik studiert; das Russlandthema liegt ihr am Herzen. Lange war sie Literaturredakteurin in der sozialistischen Tageszeitung Neues Deutschland. Inzwischen arbeitet sie freiberuflich für mehrere Zeitungen und schreibt zunehmend zu brisanten politischen Themen. literatursalon.online  +++ Abonnieren Sie jetzt unseren Newsletter https://www.nachdenkseiten.de/?page_id=93823   +++ Gefällt Ihnen unser Podcast? Wir bitten Sie um Ihre Hilfe, damit wir auch weiterhin unsere Dienste für Sie täglich, kostenlos und werbefrei leisten können. Unterstützen Sie uns mit Ihrer Spende! BITTE BEACHTEN SIE UNSERE NEUE KONTOVERBINDUNG: Kontoinhaber: IQM e.V. NachDenkSeiten BZA, Kreditinstitut: VR Bank Südliche Weinstraße-Wasgau, IBAN: DE54548913000001214713, BIC: GENODE61BZA, Verwendungszweck: Förderbeitrag  +++ Auch über PayPal können Sie unsere Arbeit finanziell fördern. Entweder an foerderung@nachdenkseiten.de oder mittels unserer PayPal.Me-Seite: PayPal.Me@NachDenkSeiten https://www.paypal.com/paypalme/NachDenkSeiten  +++ Kommentare und Leserbriefe zu unseren Beiträgen richten Sie bitte an unsere eMail-Adresse leserbriefe(at)nachdenkseiten.de Leserbrief-Zusammenstellungen zu vielen unserer Beiträge finden Sie unter https://www.nachdenkseiten.de/?cat=103  +++ Alle weiteren Beiträge aus der Rubrik „NachDenkSeiten Audio-Podcast“ finden Sie in unserer youtube-Playlist unter https://www.youtube.com/playlist?list=PLpNi0Wmi7L82nSqtm6nAsiKWoGu6IOgVh  oder auf unserer Homepage unter http://www.nachdenkseiten.de/?cat=107  NDS, NachDenkSeiten-Podcast, NDS-Podcast, Audio-Podcast, Globalisierung, Militäreinsätze/Kriege, Rezensionen, Geostrategie, Michail Gorbatschow, Kalter Krieg, Konfrontationspolitik, Militarisierung, multipolare Welt, NATO, Russland, Sowjetunion, USA\n",
      "5. \"Ответные меры, конечно же, будут. Все, кто к этому имеет отношение, будут найдены и наказаны. Будем работать\".  Глава ФСБ Бортников ответил на вопросы журналистов про теракт в \"Крокус сити холле\" и причастность Киева к нему:   ◾Бандиты намеревались уйти за границу и именно на территорию Украины — по оперативной информации, их там ждали;   ◾Теракт был нужен, чтобы раскачать ситуацию, создать панику в российском обществе, Запад и Украина стремятся к тому, чтобы нанести больший вред нашей стране;   ◾Пресловутый контрнаступ не получился — что нужно делать? Нужно доказывать свою состоятельность;   ◾Украинская сторона осуществляла обучение и подготовку боевиков на территории Ближнего Востока, представители киевского режима выезжали в места нахождения террористов, работали с ними и готовили;   ◾СБУ нужно признать террористической организацией — и не только так считать, но и принимать соответствующие решения.\n",
      "6. ⚡️Russland erobert den Luftraum über der Ukraine   📌Nach zwei Jahren mühsamer Arbeit mit der Umgehung feindlicher Luftabwehrsysteme, Täuschungsmanövern mit falschen Zielen sowie dem Einsatz kombinierter Angriffstaktiken, die feindliche Flugabwehranlagen außer Gefecht setzen, kann nun endlich tatsächlich darüber gesprochen werden, auch wenn die schöne TV-Berichte zu diesem Thema schon aus dem Jahr 2022 stammen.  Der Feind ist nicht mehr in der Lage (wie früher), den Himmel zu kontrollieren: Selbst BILD-\"Analyst\" Julian Röpke bemerkte, nachdem er Aufnahmen russischer Su-25-Kampfflugzeuge in der Nähe von Tschasow Jar gesehen hatte, dass \"man sich vor einigen Monaten nicht vorstellen konnte, dass ein russisches Kampfflugzeug über eine von der SKU kontrollierte Stadt fliegt und nicht mit MANPADS abgeschossen wird\".   ▪️Die Front ist durch die vielen russischen FABs mit UMPKs in Rauch gehüllt.  \"Die Zahl der Einsätze von FAB-1500M54 mit UMPKs hat sich um ein Vielfaches erhöht, nicht mitgezählt die uns bereits bekannten…\n",
      "7. 🎙 Выступление и ответы на вопросы СМИ Министра иностранных дел Российской Федерации С.В.Лаврова в ходе пресс-конференции по итогам недели высокого уровня 78-й сессии Генеральной Ассамблеи ООН  📍 Нью-Йорк, 23 сентября 2023 года  Основные тезисы:  ☝️ Видим, насколько прочно страны Глобального Юга и Мирового большинства стоят на позиции прежде всего обеспечения своих национальных интересов. С этой точки зрения они не хотят присоединяться к антироссийским санкциям и участвовать в каких-то организуемых Западом кампаниях.  🤝 Будем продолжать развивать взаимодействие в рамках БРИКС. Состоялись отдельные встречи министров иностранных дел БРИКС, ШОС, ОДКБ, СВМДА. Рассчитываем, что все эти региональные объединения будут активно подкреплять процесс реформирования ООН, добавляя ему больше устойчивости и легитимности.  Из ответов на вопросы СМИ:  • Основная причина, по которой мы вышли из этой сделки [Черноморской инициативы] и она перестала существовать – всё, что было нам обещано, оказалось обманом.  • Насчёт «Северных потоков» – это очередной пример того, как заметают «под ковёр» важнейшие факты, как готовят очередную ложь, чтобы потом на ней выстраивать свои геополитические схемы.  • Мы работаем с теми, кто уважает себя и кто никогда не будет предавать свои национальные интересы потому что на него «цыкнули» из Вашингтона. Знаем, как американцы ездят по всему миру и запрещают встречаться с нашими дипломатами и вообще российскими представителями.  • У нас нет никаких проблем с территориальной целостностью Украины. Она была разрушена теми, кто осуществил и поддержал переворот, лидеры которого объявили войну против собственного народа и стали его бомбить.  • Запад делает всё для того, чтобы отвлечь внимание от проблем, которые он долгие годы создавал в мировой экономике, в том числе на рынках продовольствия и энергоносителей.\n",
      "8. ❕🇺🇳 Der erste stellv. Ständige Vertreter der Russischen Föderation bei den Vereinten Nationen, Dmitrij Poljanskij über das anberaumte Treffen der Weltorganisation zur Lage in der Ukraine  💬 Unsere westlichen Kollegen versuchen weiterhin ihr Bestes zu geben, um die Ukraine-Frage im Visier des UN-Sicherheitsrates zu halten. Gleichzeitig schämen sie sich nicht für ihre eigene offensichtliche „Doppelmoral“ – sie haben in den zwei Monaten des israelischen Massakers noch kein einziges Treffen zum Thema Gaza beantragt.  Doch am 6. Dezember forderten sie ein Treffen zur humanitären Lage in der Ukraine, das um 10.00 Uhr New Yorker Zeit (18.00 Uhr Moskauer Zeit) stattfand.  ✌️ Gemäß einer etablierten und für sie nicht sehr angenehmen Tradition haben wir beschlossen, darauf mit zwei Treffen gleichzeitig zu reagieren.  Am 8. Dezember um 10.00 Uhr New Yorker Zeit findet anlässlich des 10. Jahrestages der Ereignisse auf dem Maidan eine informelle Sitzung des Sicherheitsrats zur „Arria-Formel“ statt. Wir werden versuchen, als…\n",
      "9. 🇷🇺🇹🇷 Заявления Сергея Шойгу после встречи президентов России и Турции:  🔻Основные тезисы:   ▪️На переговорах в Сочи не обсуждалось укрепление позиций Турции в Черном море.   ▪️Есть вероятность проведения совместных военных учений России и КНДР. При этом учения «Запад» в этом году проводиться не будут.   ▪️Контрнаступление Украины — это провал, последние десять дней они совершают яростные атаки.   ▪️Потери у Украины большие. Вчера только на Работинском направлении были уничтожены шесть танков ВСУ.    ▪️Еще шесть бронемашин ВСУ были уничтожены с помощью беспилотников на Соледарском направлении.   ▪️В рамках зерновой сделки было оговорено, что украинские порты не будут использовать для атак по объектам России и создания беспилотников. Всё это было нарушено.   ▪️Только за последние пять дней были уничтожены семь безэкипажных катеров ВСУ. #дайджест #Россия #Турция   @rybar  Поддержать нас\n",
      "10. 🇷🇺🇺🇦 Заявления министра обороны России Сергея Шойгу совещании с офицерским составом ВС РФ:  🔻Основные тезисы:   ▪️Действия Запада в отношении Украины приведут страну к полному самоуничтожению.   ▪️Несмотря на продолжающиеся поставки оружия ВСУ, ВС РФ также продолжают поставки новых вооружений в армию.   ▪️США взяли курс на развитие AUKUS и QUAD в Азиатско-Тихоокеанском регионе, Россия в ответ усиливает боевую подготовку на Дальнем Востоке.   ▪️Украинская армия продолжает нести серьезные потери в живой силе и технике.   ▪️Киев продолжает отправлять неподготовленных солдат в бесполезные «мясные» штурмы, несмотря на то, что они не дают результата.   ▪️В Южный военный округ в войска поступят свыше пяти тысяч единиц вооружения и техники.   ▪️Министерство обороны России создает новые соединения ВДВ, они будут укомплектованы современной техникой.    ▪️На Купянском участке подразделения ВС РФ расширяют зону контроля вокруг Синьковки и Петропавловки.   ▪️С начала года количество офицеров в ЮВО увеличилось на 11 тысяч человек, а военнослужащих по контракту – на 30 тысяч. #дайджест #Россия #Украина @rybar  Поддержать нас\n",
      "\n",
      "\n"
     ]
    }
   ],
   "source": [
    "# get the webpage previews closest to the topic centers\n",
    "if not combined_webpreview_done:\n",
    "    representative_webpreviews = get_representative_texts(df, \n",
    "                                                        combined_webpreview_topic_model, \n",
    "                                                        topic_vectors, \n",
    "                                                        combined_vectors, \n",
    "                                                        10, \n",
    "                                                        \"combined_webpreview\", \n",
    "                                                        \"webpage_description\",\n",
    "                                                        \"webpreview_vector\",\n",
    "                                                        \"webpage_description_preprocessed\")\n",
    "\n",
    "    # save representative webpreviews\n",
    "    representative_webpreview_path = os.path.join(os.getcwd(), \"../results/combined_webpreview_embeddings/representative_webpreviews.json\")\n",
    "    representative_webpreviews = {int(topic): messages for topic, messages in representative_webpreviews.items()} # convert keys to int\n",
    "    with open(representative_webpreview_path, \"w\") as jsonfile:\n",
    "        json.dump(representative_webpreviews, jsonfile, indent=4)\n",
    "\n",
    "# print representative webpreviews\n",
    "for topic, text in representative_webpreviews.items():\n",
    "    print(f\"Topic {topic}:\")\n",
    "    for i, text in enumerate(text):\n",
    "        print(f\"{i+1}. {text.strip()}\")\n",
    "    print(\"\\n\")"
   ]
  },
  {
   "cell_type": "markdown",
   "metadata": {},
   "source": [
    "## 6. Structural Vectors"
   ]
  },
  {
   "cell_type": "markdown",
   "metadata": {},
   "source": [
    "Next, we conduct chat-clustering using a chats structural attributes. Structural attributes are a chats connections to other telegram entities. \n",
    "\n",
    "For our purposes, we have considered two kinds of connections:\n",
    "\n",
    "1. Forwarded (fwd) messages between chats.\n",
    "\n",
    "2. Textual references (ref) to chats or other telegram-entities."
   ]
  },
  {
   "cell_type": "markdown",
   "metadata": {},
   "source": [
    "#### 1. Load The Chat-Vectors\n",
    "\n",
    "To vectorize these connections, we created chat-chat-matrices based on forwards and text based references between chats in `02_feature_engineering`, which we'll load now.\n",
    "\n",
    "As we used both one-hot-encoding and log scaling to normalize the matrices, we'll compare results for both approaches and continue with the one archiving better scores."
   ]
  },
  {
   "cell_type": "code",
   "execution_count": 50,
   "metadata": {},
   "outputs": [],
   "source": [
    "# define paths\n",
    "fwd_log_path = os.path.join(os.getcwd(), \"../features/2_log_fwd_vectors.pkl\")\n",
    "fwd_onehot_path = os.path.join(os.getcwd(), \"../features/2_onehot_fwd_vectors.pkl\")\n",
    "ref_log_path = os.path.join(os.getcwd(), \"../features/2_log_ref_vectors.pkl\")\n",
    "ref_onehot_path = os.path.join(os.getcwd(), \"../features/2_onehot_ref_vectors.pkl\")\n",
    "\n",
    "# load the chat vectors\n",
    "fwd_log_vectors = pd.read_pickle(fwd_log_path)\n",
    "fwd_onehot_vectors = pd.read_pickle(fwd_onehot_path)\n",
    "ref_log_vectors = pd.read_pickle(ref_log_path)\n",
    "ref_onehot_vectors = pd.read_pickle(ref_onehot_path)\n"
   ]
  },
  {
   "cell_type": "markdown",
   "metadata": {},
   "source": [
    "Now we combine the forward-based and the reference-based chat-vectors to create our feature."
   ]
  },
  {
   "cell_type": "code",
   "execution_count": 51,
   "metadata": {},
   "outputs": [],
   "source": [
    "# combine the vectors\n",
    "structure_log_vectors = fwd_log_vectors.combine(ref_log_vectors, lambda x, y: np.concatenate([x,y]))\n",
    "structure_onehot_vectors = fwd_onehot_vectors.combine(ref_onehot_vectors, lambda x, y: np.concatenate([x,y]))\n",
    "\n",
    "# check if the combined vectors have the expected length of a sum of the original vectors\n",
    "dimension_fwd_vectors = len(fwd_log_vectors.iloc[1])\n",
    "dimension_ref_vectors = len(ref_log_vectors.iloc[1])\n",
    "assert len(structure_log_vectors.iloc[1]) == dimension_fwd_vectors + dimension_ref_vectors\n",
    "assert len(structure_onehot_vectors.iloc[1]) == dimension_fwd_vectors + dimension_ref_vectors"
   ]
  },
  {
   "cell_type": "markdown",
   "metadata": {},
   "source": [
    "#### 2. Cluster The Structural Vectors\n",
    "\n",
    "**Get average models and evaluation results**\n",
    "\n",
    "Eventhough they are no traditional text-embeddings we will pass the structural vectors to BERTopic for clustering. This is possible, as BERTopic can accept any kind of custom numerical vector representation of a document instead of generating them from text.\n",
    "\n",
    "We will then use the message-text-aggregations created earlier to make the topics found by BERTopic interpretable. These documents will only be used for topic labeling and interpretation. The clustering itself will be entirely driven by the chat-chat-matrices we pass as embeddings.\n"
   ]
  },
  {
   "cell_type": "code",
   "execution_count": 52,
   "metadata": {},
   "outputs": [
    {
     "name": "stdout",
     "output_type": "stream",
     "text": [
      "Model already downloaded. Loading...\n",
      "Topic Model exists: True\n",
      "Evaluation Metrics exist: True\n",
      "Representative Messages exist: True\n",
      "Structural embeddings already processed. Loading results...\n"
     ]
    }
   ],
   "source": [
    "# load the model we used for the embeddings, in order to use it for the representational model\n",
    "current_path = os.getcwd()\n",
    "model_dir = os.path.join(current_path, \"../data/models/\")\n",
    "model_name = \"paraphrase-multilingual-MiniLM-L12-v2\"\n",
    "model_path = os.path.join(model_dir, model_name)\n",
    "\n",
    "if not os.path.isdir(model_path):\n",
    "    print(\"Model not found. Downloading...\")\n",
    "    transformer_model = SentenceTransformer(model_name)\n",
    "    transformer_model.save(model_path)\n",
    "    print(f\"Model saved to {model_path}\")\n",
    "else:\n",
    "    print(f\"Model already downloaded. Loading...\")\n",
    "    transformer_model = SentenceTransformer(model_path)\n",
    "\n",
    "feature_name = \"structural\"\n",
    "structural_done = is_processed(feature_name)\n",
    "\n",
    "if structural_done:\n",
    "    \n",
    "    print(\"Structural embeddings already processed. Loading results...\")\n",
    "    structural_evaluation_metrics, structural_topic_model, representative_messages, representative_webpreviews = load_data(feature_name)\n",
    "    structural_vectors = np.load(os.path.join(os.getcwd(), \"../features/2_fav_structural_chat_vectors.npy\"), allow_pickle=True)\n",
    "    \n",
    "else:\n",
    "    print(\"Running experiment for structural embeddings...\")\n",
    "    \n",
    "    # run the experiment for the structural vectors normalized using the log transformation\n",
    "    log_structural_evaluation_metrics, log_structural_topics, log_structural_probabilities, log_structural_topic_model = run_experiment(\n",
    "        chat_embeddings=structure_log_vectors, \n",
    "        chat_texts=chat_texts, \n",
    "        n=50, \n",
    "        topic_model_dir_path=os.path.join(os.getcwd(), \"../results/log_structural_embeddings/topic_models/\"),\n",
    "        feature_name=\"log_structural\",\n",
    "        used_embedding_model=transformer_model\n",
    "    )\n",
    "\n",
    "    # run the experiment for the structural vectors normalized using one hot encoding\n",
    "    onehot_structural_evaluation_metrics, onehot_structural_topics, onehot_structural_probabilities, onehot_structural_topic_model = run_experiment(\n",
    "        chat_embeddings=structure_onehot_vectors, \n",
    "        chat_texts=chat_texts, \n",
    "        n=50, \n",
    "        topic_model_dir_path=os.path.join(os.getcwd(), \"../results/onehot_structural_embeddings/topic_models/\"),\n",
    "        feature_name=\"onehot_structural\",\n",
    "        used_embedding_model=transformer_model\n",
    "    )\n",
    "\n",
    "    # compare the evaluation metrics\n",
    "    print(\"\\n#### Log Structural Evaluation Metrics: ####\")\n",
    "    for key, value in log_structural_evaluation_metrics.items():\n",
    "        print(f\"{key.replace(\"_\", \" \").title()}: {value}\")\n",
    "        \n",
    "    print(\"\\n#### Onehot Structural Evaluation Metrics: ####\")\n",
    "    for key, value in onehot_structural_evaluation_metrics.items():\n",
    "        print(f\"{key.replace(\"_\", \" \").title()}: {value}\")"
   ]
  },
  {
   "cell_type": "markdown",
   "metadata": {},
   "source": [
    "**Compare Models:**\n",
    "\n",
    "Next, we compare the average evaluation results of the models created using the two normalization techniques. To determine which model has more favorable evaluation metrics, we will apply the following heuristics:\n",
    "\n",
    "- **Coherence Score**: Lower values indicate better topic coherence.\n",
    "- **Silhouette Score**: Higher values suggest better-defined and more distinct clusters.\n",
    "- **Davies-Bouldin Score**: Lower values reflect more compact and well-separated clusters.\n",
    "- **Topic Count**: This metric will not be considered, as the number of topics alone does not reliably indicate model quality.\n",
    "- **Noise Count**: Lower values are preferable, as they imply fewer data points are classified as noise.\n",
    "\n",
    "Based on these criteria, we will select the model with the more desirable evaluation results for further analysis and inspection.\n",
    "\n"
   ]
  },
  {
   "cell_type": "code",
   "execution_count": 53,
   "metadata": {},
   "outputs": [],
   "source": [
    "if not structural_done:\n",
    "    structural_topics, structural_propabilities, structural_topic_model, structural_evaluation_metrics, structural_vectors  = compare_averages(\n",
    "        metrics_model_1 = log_structural_evaluation_metrics,\n",
    "        topics_model_1 = log_structural_topics,\n",
    "        propabilities_model_1 = log_structural_probabilities,\n",
    "        model_1 = log_structural_topic_model,\n",
    "        vectors_1 = structure_log_vectors,\n",
    "        metrics_model_2 = onehot_structural_evaluation_metrics,\n",
    "        topics_model_2 = onehot_structural_topics, \n",
    "        propabilities_model_2 = onehot_structural_probabilities,\n",
    "        model_2 = onehot_structural_topic_model,\n",
    "        vectors_2 = structure_onehot_vectors\n",
    "    )\n",
    "    \n",
    "    # save the topic model, the \"winning\" vetors and the evaluation metrics\n",
    "    topic_model_dir_path = os.path.join(os.getcwd(), \"../results/structural_embeddings/topic_models/\")\n",
    "    topic_model_path =  os.path.join(topic_model_dir_path, f\"avg_structural_topic_model\")\n",
    "    evaluation_path = os.path.join(os.getcwd(), \"../results/structural_embeddings/structural_evaluation_metrics.json\")\n",
    "    vector_path = os.path.join(os.getcwd(), \"../features/2_fav_structural_chat_vectors.npy\")\n",
    "    os.makedirs(topic_model_dir_path, exist_ok=True)\n",
    "    structural_topic_model.save(topic_model_path)  \n",
    "    with open(evaluation_path, \"w\") as jsonfile:\n",
    "        json.dump(structural_evaluation_metrics, jsonfile, indent=4)\n",
    "    np.save(vector_path, structural_vectors)"
   ]
  },
  {
   "cell_type": "markdown",
   "metadata": {},
   "source": [
    "#### 3. Inspect the average evaluation metrics"
   ]
  },
  {
   "cell_type": "code",
   "execution_count": 54,
   "metadata": {},
   "outputs": [
    {
     "name": "stdout",
     "output_type": "stream",
     "text": [
      "Coherence Scores: 0.45381927618453183\n",
      "Silhouette Scores: -0.150636564172353\n",
      "Davies Bouldin Scores: 4.249652228591443\n",
      "Topic Counts: 7.02\n",
      "Noise Counts: 87.0\n"
     ]
    }
   ],
   "source": [
    "for key, value in structural_evaluation_metrics.items():\n",
    "    print(f\"{key.replace(\"_\", \" \")[4:].title()}: {value}\")"
   ]
  },
  {
   "cell_type": "markdown",
   "metadata": {},
   "source": [
    "#### 4. Visualise The Clustering And Export The Visualisations\n",
    "\n",
    "In the next step, we will visualise the results. As the resulting graphics are too big to be saved in the notebook, we will instead save them to the directory defined in the variable path."
   ]
  },
  {
   "cell_type": "code",
   "execution_count": 55,
   "metadata": {},
   "outputs": [
    {
     "name": "stdout",
     "output_type": "stream",
     "text": [
      "2024-10-28 19:10:20,467 - create_topic_visualisations - Create UMAP Plot - Completed ✓\n",
      "2024-10-28 19:10:20,680 - create_topic_visualisations - Create Topic Barchart - Completed ✓\n"
     ]
    },
    {
     "name": "stderr",
     "output_type": "stream",
     "text": [
      "100%|██████████| 5/5 [00:55<00:00, 11.15s/it]\n"
     ]
    },
    {
     "name": "stdout",
     "output_type": "stream",
     "text": [
      "2024-10-28 19:11:24,089 - create_topic_visualisations - Create Topic Hierarchy - Completed ✓\n"
     ]
    }
   ],
   "source": [
    "path = os.path.join(os.getcwd(), \"../results/structural_embeddings/\")\n",
    "os.makedirs(path, exist_ok=True)\n",
    "create_topic_visualisations(structural_topic_model, structural_vectors, chat_texts, path, display_plots=False)"
   ]
  },
  {
   "cell_type": "markdown",
   "metadata": {},
   "source": [
    "#### 5. Inspect The Most Representative Messages\n",
    "\n",
    "In this part of the experiment, chat vectors were generated using a chat-to-chat matrix, rather than by averaging message vectors. As a result, we cannot directly compare message vectors to the topic center to identify the most representative messages.\n",
    "\n",
    "However, we can still work with the chat vectors. \n",
    "Accordingly, we'll use the following appraoch to find the most representative messages:\n",
    "\n",
    "1. Create topic vectors by taking the mean of the chat vectors of each topic.\n",
    "2. Identify the chat whose vector is closest to the topic center.\n",
    "3. Compute the mean of all message embeddings within this chat. (We can reuse the base chat representations created in `02_feature_engineering`, as they are simply averages of all message vectors of a chat.)\n",
    "4. Retrieve the messages from this chat that are closest to this mean, as they are likely to be the most representative.\n"
   ]
  },
  {
   "cell_type": "markdown",
   "metadata": {},
   "source": [
    "**1. Create Topic Vectors**"
   ]
  },
  {
   "cell_type": "code",
   "execution_count": 56,
   "metadata": {},
   "outputs": [],
   "source": [
    "if not structural_done:    \n",
    "    topic_vectors = create_topic_vectors(structural_topic_model, structural_vectors)\n",
    "    display(topic_vectors)"
   ]
  },
  {
   "cell_type": "markdown",
   "metadata": {},
   "source": [
    "**2. Find The Most Representative Chat For Each Topic**"
   ]
  },
  {
   "cell_type": "code",
   "execution_count": 57,
   "metadata": {},
   "outputs": [],
   "source": [
    "if not structural_done:        \n",
    "    # create a DataFrame containing the structural vectors, the topics assigned by the topic models and the associated topic vectors\n",
    "    vector_assignment_df = pd.DataFrame(structural_vectors, columns=[\"structural_chat_vector\"])\n",
    "    vector_assignment_df[\"topic_assignment\"] = structural_topic_model.topics_\n",
    "    vector_assignment_df[\"topic_vectors\"] = vector_assignment_df[\"topic_assignment\"].map(topic_vectors)\n",
    "\n",
    "    # drop the rows where the topic assignment is -1 (i.e. the \"Other\" topic)\n",
    "    vector_assignment_df = vector_assignment_df[vector_assignment_df[\"topic_assignment\"] != -1]\n",
    "\n",
    "    def cosine_similarity_row(row):\n",
    "        \n",
    "        # reshape the vectors to be 2D arrays (input format of cosine_similarity function)\n",
    "        chat_vector = np.array(row[\"structural_chat_vector\"]).reshape(1, -1)\n",
    "        topic_vector = np.array(row[\"topic_vectors\"]).reshape(1, -1)\n",
    "        \n",
    "        similarity = cosine_similarity(chat_vector, topic_vector)\n",
    "        \n",
    "        return similarity[0][0]\n",
    "\n",
    "    # calculate the cosine similarity between the chat vectors and their topic vectors\n",
    "    vector_assignment_df[\"similarity\"] = vector_assignment_df.apply(lambda row: cosine_similarity_row(row), axis=1)\n",
    "\n",
    "    # get the chat vectors and the chat index of the chat vector most similar to its topic vector for each topic\n",
    "    most_similar_index = vector_assignment_df.groupby(\"topic_assignment\")[\"similarity\"].idxmax()\n",
    "    most_similar_chat = vector_assignment_df.loc[most_similar_index]\n",
    "\n",
    "    most_similar_chats = (\n",
    "        most_similar_chat\n",
    "        .reset_index()  \n",
    "        .rename(columns={\"index\": \"chat_id\"}) \n",
    "        .set_index(\"topic_assignment\") \n",
    "    )[[\"chat_id\",\"structural_chat_vector\"]]\n",
    "\n",
    "    display(most_similar_chats)"
   ]
  },
  {
   "cell_type": "code",
   "execution_count": 58,
   "metadata": {},
   "outputs": [],
   "source": [
    "if not structural_done:        \n",
    "    # add the chat embeddings created using averaged message embeddings to the dataframe\n",
    "    most_similar_chats[\"base_chat_vectors\"] = most_similar_chats[\"chat_id\"].map(base_chat_vectors)\n",
    "\n",
    "    # get the average chat vector for each topic\n",
    "    avg_chat_vectors = most_similar_chats[\"base_chat_vectors\"]\n",
    "    display(avg_chat_vectors)"
   ]
  },
  {
   "cell_type": "markdown",
   "metadata": {},
   "source": [
    "**3. Inspect The Most Representative Messages**\n",
    "\n",
    "As in previous steps, we'll add the message text embeddings from `02_feature_engineering` back to the DataFrame of messages.\n",
    "\n",
    "For each topic, we'll then extract the most representative messages (i.e. the ones closest to the mean of all message embeddings of this chat) from the chat closest to the topic center."
   ]
  },
  {
   "cell_type": "code",
   "execution_count": 59,
   "metadata": {},
   "outputs": [],
   "source": [
    "if not structural_done:        \n",
    "    # load the message embeddings\n",
    "    message_embeddings_path = os.path.join(os.getcwd(), \"../features/0_message_embeddings.npy\")\n",
    "    message_embeddings = np.load(message_embeddings_path, allow_pickle=True)\n",
    "\n",
    "    # create a series where each element is an message-vector\n",
    "    message_embeddings_series = pd.Series([embedding for embedding in message_embeddings])\n",
    "\n",
    "    # check if the message embeddings have the same shape as the dataframe\n",
    "    assert message_embeddings_series.shape[0] == len(message_embeddings)\n",
    "    message_embeddings_series\n",
    "\n",
    "    # add the message embeddings to the dataframe\n",
    "    df[\"message_vector\"] = message_embeddings_series\n",
    "    display(df[[\"message_text\", \"message_vector\"]].head())"
   ]
  },
  {
   "cell_type": "code",
   "execution_count": 60,
   "metadata": {},
   "outputs": [
    {
     "name": "stdout",
     "output_type": "stream",
     "text": [
      "Topic 0:\n",
      "1. Für dich Seelenschönes aus der Natur Mehr für dich @seelengut\n",
      "2. Mit Ton Für dich Seelenschönes Mehr für dich @seelengut\n",
      "3. Ton an Bis später... Habt einen Wunder Vollen Tag Mehr für dich @seelengut\n",
      "4. Mach ihn dir schön, diesen deinen Tag. ‍ @Rezepteausnaturundselbstgemacht\n",
      "5. Mit Ton Seelengesundes Selbst gezaubert... Nelkenöl Mehr für dich @seelengut\n",
      "6. Mit Ton Seelengesundes... Lass es dir gut gehen Schnell einfach lecker Mehr für dich @seelengut\n",
      "7. Ihr Lieben! Schöne Abendstunden wünsche ich euch... und für später eine gute Nacht und wundervolle Träume. Schlaft behütet... Manchmal offenbart sich die kost- barste Lösung in der Blüte des Unerwarteten - ein Hinweis darauf, dass das Leben seine Geheimnisse gerne in der Stille und im Ver- borgenen preisgibt, für jene, die bereit sind, mit dem Herzen zu sehen! - Netzfund Herzlichst ღ Heidrun @DieWahrheitssuchende #GuteNacht #Zitat\n",
      "8. Mit Ton Selbst gezaubert Inspiration Essen Lass es dir gut gehen Schnell einfach lecker Mehr für dich @seelengut\n",
      "9. Seelenmenschen Gute Laune Mehr Hier\n",
      "10. zauberhaften Tagesausklang wünsche ich euch\n",
      "\n",
      "\n",
      "Topic 1:\n",
      "1. Hier deutschsprachig:\n",
      "2. das hält man ja nicht im Kopf aus. #KämpftumEuerLand\n",
      "3. #ploetzlichundunerwartet\n",
      "4. Wie viele wären wirklich geimpft? Mad in Germany unterstützen\n",
      "5. #Plötzlichundunerwartet Aus der Rubrik: #KarmaIsABitch\n",
      "6. Der Klügere gibt nach? Bist du dir sicher? Corona Maßnahmen, der ewige Angst. Mad in Germany unterstützen\n",
      "7. GRÜNER Irrsinn im Endstadium! #GruenenSekte Also wer DIE noch wählt, gehört selber psychiatriert.\n",
      "8. Einen Umsturz wirds nicht geben, verstanden? Refugium freier Geister\n",
      "9. Staatsnahe #Medien in der #Schweiz schweigen: #RKIProtokolle des #RKI entschwärzt: Das sollten Sie nicht wissen\n",
      "10. #plötzlichundunerwartet\n",
      "\n",
      "\n",
      "Topic 2:\n",
      "1. Bundesfinanzminister Lindner solle doch bitte ausreden können Berlin, 15.1.24\n",
      "2. Wie viele wären wirklich geimpft? Mad in Germany unterstützen\n",
      "3. Ja gibt‘s denn sowas? Der beliebteste Kanzler im besten Deutschland und Buhrufe\n",
      "4. Es ist der Vernichtungs-KRIEG gegen UNS ALLE Nur mit BEFREITEN MS-Medien + SCHULEN gewinnen wir ——————————————— Kein Wunder dass er auf der Abschuss-Liste steht. Zuviel Wahrheit verbreitet! Da findet sich dann etwas, was bei Wegspritz-System-Ärzten toleriert würde. Dr. Heinz Reinwald „Die Salzlüge“ macht ihn zum BigPharma-Gegner ... ——————————————— t.me/StuttgartGrundgesetzDemos Stuttgart Satire Widerstand Ironie Grundrechte Sarkasmus Freiheit Doku\n",
      "5. Negativität. Soweit das Auge reicht. Eine besorgniserregende Entwicklung. Mad in Germany unterstützen\n",
      "6. Zu spät, Ueli Maurer! Auf Hoch2 verurteilt Alt-Bundesrat Ueli Maurer SVP plötzlich die menschenverachtenden Zwangsmassnahmen, für die er mitverantwortlich ist - bald vier Jahre danach! Wie die alte Fasnacht: Tatortreinigung? Hätte er nur 2020 Widerstand geleistet. Unvergessen, wie er sich 2021 an der Hetze gegen Ungeimpfte beteiligte. Hinter dem feigen “Kollegialitätsprinzip” kann sich kein ehrbarer Mensch verstecken. Entschuldigt er sich bei den Opfern seiner Politik? Und was hat er damals gesagt? Schaut Euch unser neustes Video an und entscheidet selbst: Ist Ueli ein Schwurbler oder ein verantwortlicher Corona-Täter? Zum Video: Um unsere Arbeit fortführen zu können, benötigen wir dringend Deine Unterstützung: mass-voll.ch/spenden\n",
      "7. Turbo-Einbürgerung: Die Ampel will die beängstigende Ausländerkriminalität statistisch wegtricksen! Anlässlich der von Bundesinnenministerin Nancy Faeser SPD jetzt vorgelegten dramatischen Zahlen der Kriminalstatistik für das Jahr 2023 resümiert die „Neue Zürcher Zeitung“ NZZ: „Falls es eines weiteren Beweises bedurft hätte, dass Angela Merkels Satz ‚Wir schaffen das‘ zu den fatalsten Illusionen der bundesrepublikanischen Geschichte gehört, dann ist er erbracht.“ Ex-„Bild“-Politikchef Einar Koch rät in einem Gastbeitrag für den Deutschland-Kurier ironisch zur Gelassenheit: Das Problem der explodierenden Ausländerkriminalität werde sich ganz von selbst lösen – durch statistische Staatsbürgerschafts-Kosmetik!\n",
      "8. Umfrage in der SPD-Zentrale! Zwei Drittel der Deutschen wollen Kanzler-Wechsel\n",
      "9. Immer weiter und immer weiter. Die Aufrechterhaltung der Lüge. Mad in Germany unterstützen\n",
      "10. Rhein Main Gedanken mit Tobias Fink Auf Telegram als Video & Podcast Beweg Was - Rhein Main Gedanken 170 Thema heute: Stimmen zur Lage der Nation! Die Lage ist hoffnungslos, aber nicht ernst! „Die Menschheit zur Freiheit bringen, das heißt, sie zum Miteinander reden bringen.\" ist ein Zitat des deutschen Philosophen Karl Jaspers. Die Gesellschaft wurde gespalten. Politik und Medien gaben insbesondere in den letzten vier Jahren ihr Bestes, das Narrativ eines unsichtbaren „Killervirus\" zu verbreiten und permanent Angst davor zu schüren. Angst ist ein Urtrieb des Menschen, und sie lähmt bekanntermaßen rationale Denkprozesse. In die politisch- und medial gewollte Angststarre versetzt, nahmen nicht wenige Menschen die meisten der irrationalsten Maßnahmen und Verordnungen einfach unhinterfragt an und setzten diese auch gegenüber ihren Mitmenschen konsequent durch. Die gesellschaftliche Spaltung war vollzogen und trieb hässliche Blüten der Ausgrenzung Andersdenkender. Die Wiedereinführung einer Sündenbockfunktion, die wir eigentlich nur aus totalitären Systemen kennen, erschwerte jedes Aufeinanderzugehen. Vom bösen „Leugner\", „Aluhutträger\", „Nazi\" und „Verschwörungstheoretiker\", der mit seinen Fragen und Bedenken „völlig unsolidarisch\" agiert, musste man sich fortan distanzieren, wenn man ein „guter Bürger\" ist. Tobias Fink vom Restaurant „s ́Reiwerle in Annweiler\" in der Pfalz missfiel der Zustand der Spaltung und er begann im Jahre 2020 seine Gaststätte in eine Begegnungsstätte für die Friedens- und Freiheitsbewegung umzuwandeln. Genau wie Jaspers folgt er hierbei dem Leitsatz, dass es besser und fortschrittlicher ist, wenn die Menschen nicht übereinander und gegeneinander, sondern vielmehr miteinander sprechen. Jedoch nicht allen, die sich im Attackieren ihrer Mitmenschen wohlfühlen, gefällt dies. In nicht wenigen ortsmedialen Artikeln wird Tobias deswegen verhöhnt. Die Methodik dieser rufschädigenden „Journalisten\" hierbei bleibt unprofessionell, unsachlich und somit unterirdisch. Und gerade deshalb bleibt Tobias Fink von alledem unberührt, denn er weiß, dass der Weg der Kommunikation das einzig Richtige ist, um die gesellschaftliche Spaltung hinter sich zu lassen. Zudem gründete sich kürzlich ein „Förderverein für Frieden, Freiheit und Demokratie“ im „s ́ Reiwerle\", der sich für den Erhalt der Begegnungsstätte im Restaurant Reiwerle in Annweiler einsetzt. In unserer 170sten Folge sprechen wir sowohl mit Tobias als auch mit dem Vereinsvorstand, Jerry und Dorothee, über die bisher gemachten Erfahrungen und die Ziele der Begegnungsstätte. Link zum Video Link zum Audiopodcast Link zu Rumble mit voller Videobeschreibung Link zur Mediathek Folgt Beweg Was! auf: Linktree | BioLink | Telegram | Facebook | D-Live | Rumble | VideoLiberty | zwanzig4.media | veoh | Odysee | YouTube Beweg Was! - Rhein Main Gedanken\n",
      "\n",
      "\n",
      "Topic 3:\n",
      "1. Dan Wahrheitsumfrage 11.2 1 Tropfen 4230 Montag 05.11.2020 Daily Wire-Artikel Regen kommt. Den Schmerz bringen. Du wirst wissen, wann. Wir sind bereit, die Hölle auszulösen. Memes bereit? IDEN, ein weiterer Leaker. Diese Leute sind dumm. Privilegien für Senatoren und Repräsentanten bei Verhaftung ER KÄMPFT FÜR DICH. Deckel: Die Rüstung Gottes PANIC.IN.DC. DER KRIEG IST REAL. ER KÄMPFT FÜR DICH. Patriotismus auf dem Vormarsch! Die Menschen brauchten einen „Funken“, um den Motor wieder zu zünden. „Sie haben die Ermittlungen ausgeweitet: „Er gibt Vollgas, in den Tagen vor der Entscheidung, dass sein Fall erneut geprüft werden könnte, wurden Brotkrümel fallen gelassen.“ Es ist, als hätte man alle Teile eines Puzzles, aber erst nachdem Neuigkeiten freigeschaltet wurden, kann das Puzzle vollständiges Bild zusammengesetzt werden. SCHMERZ BOOM WOCHE VORAUS. Verrat zahlt sich am Ende nicht aus. Q Dies ist nur der Anfang. Q 1127 ES PASSIERT GERADE. Q „Ein sauberes Haus ist sehr wichtig.“ Q NAT SEC-Gesetze. Vertrauen Sie dem Plan. Aprilschauer. Q\n",
      "2. „Das Ende der NWO ist nahe!“ 5 Minuten später „Die NWO-Übernahme ist da!“ Das ist Infowars für Sie. Angst vor Pornos bis zum Äußersten. Zumindest sind sie durchweg inkonsistent.‌‌ @QFSQwantum 1776 B R I C S #saveourchildren #Freiheit #Gerechtigkeit\n",
      "3. Dazu hatte ich einige Postings geschrieben. Tja , einige Kanalinhaber unterstützen diesen SCHEIß , und Sie Wissen es... es war ja auch großer hier auf Telegram zu lesen... EGAL , ICH BIN JA NUR EINER DER KEIN PLAN HAT. Viele Freimaurer die einen Kanal haben , haben euch manipuliert Mk-Ultra... ICH SAGE DAZU NUR NÜRNBERGER KODEX 2.0. @QFSQwantum 1776 B R I C S #saveourchildren #Freiheit #Gerechtigkeit\n",
      "4. 4940 – BOOMS UNTERWEGS MORGEN. Das ist keine Übung. >> F, du großartiger Bastard! >> NUR DER ANFANG, Padawan. Sie können sich nicht länger im Schatten verstecken große Technologie, große Medien, D-Partei werden für alle sichtbar entlarvt. 375 – TRUMP KÖNNTE MILITÄR EINSETZEN, UM SEINEN EIGENEN COUP ZU STARTEN DIE RUHE VORHER DER STURM >> Zufall? Nur DER ANFANG. Q‌‌\n",
      "5. DJT „DONALD TRUMP HAT RECHT“ Stringer: HAT RECHT ->1 Drop mit 4:47 Koordinaten 2807 – Willkommen in der realen Welt Wir können es uns nicht leisten, diese seltene Gelegenheit zu verpassen, das Unrecht wiedergutzumachen. Wir, das Volk, müssen das zurückfordern, was uns rechtmäßig gehört. WIR MÜSSEN AUFSTEHEN. WIR MÜSSEN KÄMPFEN. GOTT SEGNE DIE VEREINIGTEN STAATEN VON AMERIKA. ‌‌\n",
      "6. DJT ILLEGALE EINWANDERUNG IN DIE USA BIDEN WELTREKORD ILLEGALER EINWANDERER, VIELE AUS GEFÄNGNISSEN UND psychiatrischen Anstalten, AUCH TERRORISTEN. So etwas ist in unserem Land noch nie passiert! ->TRUMP CLAMPDOWN BEGINNT Zeitstempel: 10:41 ET Zoomen Sie hinein und lesen Sie die ROTE Schrift\n",
      "7. Ich POSTE QDrops die sehr Wichtig sind wer schon länger hier im Kanal ist versteht es auch.... Auch für andere muss es jetzt einen Sinn ergeben alles gut durchlesen... Trump und sein Sohn Dan geben uns Anons Wichtige Infos. Die Vergangenheit beweist die Zukunft. Wir Wissen das es eine große Show ist aber wir befinden uns im Krieg. Jeder einzelne von uns muss aus der Angst kommen und den Weg finden ins Licht. Ich sage nun seit Jahren das Finale ist Ende 2024 Das Goldene Zeitalter beginnt 2025 Neubeginn Aufbau der neuen Welt. Begreift die zusammen hänge der Post was Trump und Co. machen und verbindet die Punkte. Es macht alles einen Sinn , wenn man weiß was man weiß. Trump sagte uns Sie haben alles zu 100%. Nur die Menschen müssen es begreifen. Der Schalter wird umgelegt wenn Trump alles erledigt hat vorher nicht. WIR ANONS POSTEN DATEN ZEITEN DIE UNS GEGEBEN WERDEN DIE AUCH EINEN SINN ERGEBEN. WEIL ES NOCH PASSIERT ODER SCHON PASSIERT IST . Trump ist vor dem Gericht und das ist Wichtig , so werden alle DSler selber entlarvt der sogenannte Bumerang. Spiegelt alles. Diese 2 Teilige Videos zeigt uns das wir fast am Ziel sind. Aufwach Videos @QFSQwantum 1776 B R I C S #saveourchildren #Freiheit #Gerechtigkeit\n",
      "8. 34 1. November 2017, 22:56:16 Uhr EDT Anonym Q Clearance Patriot Meine amerikanischen Mitbürger, im Laufe der nächsten Tage werden Sie zweifellos erkennen, dass wir unser großartiges Land das Land der Freien von den bösen Tyrannen zurückerobern, die uns Schaden zufügen und die letzte verbleibende Zuflucht zerstören wollen scheinendes Licht. Auf Befehl von POTUS haben wir bestimmte Sicherheitsmaßnahmen eingeleitet, die die Öffentlichkeit vor den primären Folgen schützen sollen, die voraussichtlich 11.3 nach der Ankündigung der Verhaftung von Herrn Podesta eintreten werden anfechtbar 11.4. Die öffentliche Bestätigung dessen, was geschieht, wird dann offengelegt und nicht offen akzeptiert. In großer Zahl werden öffentliche Unruhen organisiert, um die Verhaftung und Gefangennahme hochrangiger Beamter zu verhindern. Auf Befehl des POTUS wird ein Zustand vorübergehender militärischer Kontrolle eingeleitet und Spezialeinsätze durchgeführt. Es wurden falsche Angaben gemacht, um mehrere innerhalb der Grenzen der Vereinigten Staaten festzuhalten, um eine Auslieferung und die Notwendigkeit besonderer Betreiber zu verhindern. Seien Sie versichert, die Sicherheit und das Wohlergehen jedes Mannes, jeder Frau und jedes Kindes in diesem Land werden völlig ausgeschöpft. Allerdings wird die Atmosphäre im Land leider gespalten sein, da so viele auf das korrupte und böse Narrativ hereingefallen sind, das seit langem verbreitet wird. Wir werden in dieser Zeit das Emergency Broadcast System EMS einführen, um allen Bürgern eine direkte Nachricht zu übermitteln unter Vermeidung von Fake News. Organisationen und/oder Personen, die uns in dieser Zeit Schaden zufügen wollen, werden schnell mit Wut konfrontiert – bestimmte Gesetze wurden vorab aufgehoben, um unserem großen Militär die nötige Autorität zu geben, diese Operationen im In- und Ausland abzuwickeln und durchzuführen.\n",
      "9. 14:43 Uhr voraussichtlich. TRUMP V. BIDEN.... Sie unterbrachen das Futter, um ihn zum Schweigen zu bringen. Denken Sie daran, was Q gesagt hat. Darauf haben sie gewartet. Was auch immer passiert, passiert jetzt. Archivieren Sie ALLES >>148154996 Nichts ist ein Zufall. Wir sind im Krieg. SA hat die Fäden durchgeschnitten. Sie suchen nach Deckung und nutzen alle notwendigen Mittel, um ihre verbleibende Macht/Kontrolle zu nutzen. Gott segne. Q\n",
      "10. 8:28 Uhr voraussichtlich. 828 3. März 2018, 23:03:59 Uhr EST Q !UW.yye1fxo Bleiben Sie ZUSAMMEN. Sei stark. Organisieren Sie sich. Gehört werden. KÄMPFEN Sie die Zensur. Sie, das VOLK, haben ALLE MACHT. Du hast einfach vergessen, wie man SPIELT. ZUSAMMEN seid ihr UNBESIEGBAR. Sie wollen, dass du geteilt wirst. Sie wollen, dass du zum Schweigen gebracht wirst. LÄRM MACHEN. Wir sind bei dir. LASS ES REGNEN. Q Zeitstempel - 11.3 Null - Stellen Sie Ihre Tiefe auf 50 Fuß ein. NULL Blase. Q NULL DELTA. WWG1WGA!!! C19 Narrativ-Tötungsdatum: Wahltag +1 Bereiten Sie sich auf NULL-tägige massive Cyber-Power-Angriffe Versuche am 11.4. vor. Q Hacke den Planeten, hacke den Gibson >>5684007 Guter Film. NULLKÜHL. Q Toller Film ZERO-Day Gegenmaßnahmen vorhanden. Dies geschieht am Tag von Trumps ZERO-Tweet-Markierung. Der nächste Zug auf JAs Schachbrett ist Bist du bereit dafür? Df3 = Dame zu f3 Q FOX DREI Holen Sie sich das Popcorn, Freitag und Samstag werden das MAGA-Versprechen eingelöst. POTUS weiß, dass er das Haus die Regierung reinigen muss, um „freizumachen“ und zu zeigen, wer die Autorität hat, wichtige Gesetze zu verabschieden. Dies hatte immer Priorität. Bedenken Sie, dass AG Sessions nicht wie ein unparteiischer Akteur wirken kann, der darauf aus ist, alle ehemaligen Obama-Teammitglieder zu gewinnen, da wir ihn für andere wichtige Aufgaben brauchen. Alles wird in den Fokus rücken und jeder, der denkt, dass POTUS nicht die Kontrolle hat, täuscht sich. Außerdem ist er zu 100 % isoliert und es besteht NULL Risiko einer Amtsenthebung Tatsache.\n",
      "\n",
      "\n",
      "Topic 4:\n",
      "1. Bewußt aktuell 273 Themen; Vorurteile werden neu gemischt, Sollen wir uns vom Haß anstecken lassen oder von der Liebe? deutsche Soldaten von Hisbollah angegriffen, Massive Proteste gegen Netanjahu in Israel, hat Israel weissen Phosphor in Gaza eingesetzt? Reiner Füllmich in Frankfurt verhaftet, Epstein-Opfer nach Aussage gegen Prinz Andrew und Ghislaine Maxwell tot aufgefunden, Nancy Faeser ließ Hunderte Abgeordnete ausforschen, Bundesregierung holt Scharia-Richter nach Deutschland, Neue Studie deckt Ursachen für Herzschäden bei allen Geimpften durch mRNA-Impfungen auf, uvm.\n",
      "2. Weltregierungsgipfel 2024 Generaldirektor der Weltgesundheitsorganisation, Tedros über Krankheit X, den WHO-Pandemiepakt und die Angst vor Verschwörungstheoretikern die den Pandemiepakt zu nichte machen könnten! Die Angst vor \"Verschwörungstheoretiker\" die ganz genau wissen, was sie mit uns planen, muss riesig sein hinter den Kulissen. Bleibt stark und standhaft lasst euch nicht diffamieren! Die letzten vier Jahre haben bewiesen, dass wir leider Recht hatten mit fast allem. Unterstützung Deutsche Übersetzung: Phantom-Schweiz ️ Twitter/X ️ Facebook ️ Instagram ️ TikTok\n",
      "3. Übersicht des letzten Tages Deutsche Industrie jammert und die Regierung hat kein Geld Unsere Waffenindustrie steht stramm und würde gern viel mehr Waffen produzieren, um möglichst schnell gegen den Russen ins Feld ziehen zu können und unsere Bundesregierung? Nein unsere Bundesregierung ist kein Russlandfreund und bremst die Rüstungsindustrie aus! Molfar eine weitere Mordliste für Journalisten Die ukrainische Website Molfar sammelt und verbreitet persönliche Daten von Journalisten und Persönlichkeiten des öffentlichen Lebens aus westlichen Ländern, die sich für den Frieden einsetzen und die NATO kritisieren. Elon Musk berichtet über erste erfolgreiche Implantation eines Neuralink-Neurochips im Gehirn eines Menschen Der Neurochip besteht aus fadenförmigen Elektroden, die zur Empfängerkapsel führen und über Bluetooth die Steuerung von elektronischen Geräten ermöglichen. Das Projekt wurde 2016 ins Leben gerufen, zuvor wurde die Arbeit des Chips nur an Tieren erforscht. Zum Thema Erdgasverbote und den Gewinn der USA Die USA verbieten es Europa, totalitäres Gas aus der Russischen Föderation zu kaufen. Es wird durch LNG aus den USA zu 300% des Preises ersetzt. Gehirnwäsche schlägt an - Wirkung des Fernsehen 46% der Deutschen glauben tatsächlich der billigen Kriegspropaganda der Mainstream-Medien die in den letzten 2 Wochen ausgestrahlt wurde und glauben, dass Russland Deutschland angreifen könnte. Die Qualität der US-Drohnen reicht zur eigenen Verteidigung nicht aus Das US-Militär konnte den Angriff auf ihren Stützpunkt im Nahen Osten nicht verhindern, weil es eine feindliche Drohne mit seiner eigenen verwechselt hat. Operationsplan Deutschland für den Krieg mit Russland Militärisch nimmt Deutschland im »Operationsplan« die Funktion einer Art Drehscheibe für den Transport von NATO-Truppen und -Geräten an eine Front in Osteuropa ein. Dabei müssen die durchziehenden Einheiten untergebracht und versorgt werden. Abonniere: Übersicht Ukraine Ansichten der Kanalbetreibers\n",
      "4. Das Schweigen der Manager. Warum die DAX-Vorstände nicht gegen die Ampel-Politik aufbegehren POLITISCHE NACHRICHTEN Ursula Haverbeck wird erneut der politisch-motivierte Prozess gemacht. Die inzwischen 95 jährige Kämpferin soll abermals in die Gesinnungshaft. BARBAROSSA ZEITGESCHEHEN Kanadischem Wissenschaftler wurde die Untersuchung einer mysteriösen neurologischen Krankheit verboten GESUND UND GUT Putin rastet bei der Frage eines Journalisten aus, nachdem dieser ihn fragt ob Russland einen Angriff auf die NATO plant NODE OF TIME Der Stern mit zwei bizarren Seiten @StudioTelegramDE Nudging — Schütze Dich und Deine Liebsten @AugenmÆrk Das sollst Du NICHT sehen! @Medienzensur Wie man richtig teilt, statt zu klauen @HinweiseRueckrufe ————————————————————— ——— All diese Kanäle sind hier in EINEM Ordner zusammengefasst: ️Wer unserem Netzwerk beitreten möchte, sollte einen Kanal mit min. 10.000 Abonnenten führen und uns bzgl. einer gewünschten Zusammenarbeit kontaktieren: @yourewellcomebot\n",
      "5. Masernausbruch! Die nächste \"Sau\" wird durchs Dorf getrieben! B17FREIGEISTER Endlich wird die Wahrheit im Europäischen Parlament gehört... NODE OF TIME Die US-amerikanische pharmazeutische Interessengruppe verurteilt das natürliche Stillen... GESUND UND GUT Staatsschutz ermittelt wegen „Hitler-Schneemann“ vor AfD-Büro SATELLIT Hofreiter zu Ukraine-Hilfen: „Es wird sehr schwierig ohne Amerikaner“ OSTNEWS FAKTENCHECK Künstler Ai Weiwei: Der Westen tut «heute genau das Gleiche» POLITISCHE NACHRICHTEN Wenn Sklaverei eine Wahl ist, dann wähle ich kein Sklave zu sein. IMPFEN DOKU\n",
      "6. Wolfgang Wodarg spricht Klartext: „Die WHO ist korrupt, das ist amtlich“ Wie könnte sich die globale Gesundheitspolitik in Zukunft entwickeln? Und wurde der „Krieg gegen das Virus“ nicht bereits abgelöst – gegen den traditionellen Krieg, aktuell in der Ukraine? Darüber spricht Martin Müller-Mertens mit dem Mediziner und früheren Bundestagsabgeordneten Wolfgang Wodarg. Das ganze Interview AUF1.TV ansehen: Um weiter auf die Gefahren des WHO-Pandemievertrages und der Internationalen Gesundheitsvorschriften aufmerksam zu machen, gleich das AUF1-Faltblatt bestellen: https://\n",
      "7. Das Schweigen der Manager. Warum die DAX-Vorstände nicht gegen die Ampel-Politik aufbegehren POLITISCHE NACHRICHTEN Ursula Haverbeck wird erneut der politisch-motivierte Prozess gemacht. Die inzwischen 95 jährige Kämpferin soll erneut in die Gesinnungshaft. BARBAROSSA ZEITGESCHEHEN Kanadischem Wissenschaftler wurde die Untersuchung einer mysteriösen neurologischen Krankheit verboten GESUND UND GUT Putin rastet bei der Frage eines Journalisten aus, nachdem dieser ihn fragt ob Russland einen Angriff auf die NATO plant NODE OF TIME Der Stern mit zwei bizarren Seiten @StudioTelegramDE Nudging — Schütze Dich und Deine Liebsten @AugenmÆrk Das sollst Du NICHT sehen! @Medienzensur Wie man richtig teilt, statt zu klauen @HinweiseRueckrufe ————————————————————— ——— All diese Kanäle sind hier in EINEM Ordner zusammengefasst: ️Wer unserem Netzwerk beitreten möchte, sollte einen Kanal mit min. 10.000 Abonnenten führen und uns bzgl. einer gewünschten Zusammenarbeit kontaktieren: @yourewellcomebot\n",
      "8. Frühwald um 9 - Nachrichten und Informationen vom 30.03.2024 Wegen #Baerbock und #Hofreiter: Gründungsmitglied verlässt die Grünen, #Todesfälle: #Durchsuchung bei japanischem #Pharmakonzern, Sachsen-#AfD will Einsicht in VS-Gutachten: „Offenbar inhaltlich substanzlos“, #DAK-Chef warnt vor Milliardenlöchern in der #Krankenversicherung, #Moskau: Terrorverdächtige wollten in #Kiew Belohnung abholen, #Belgien gibt Ukraine 100 Millionen Euro für Wartung von #F16Kampfjets, #Erdbeben erschüttert Westen #Griechenland s, #PsychologieprofessorUlfriedGeuter, #Grüne, #Japan, #KobayashiPharmaceutical, #Verfassungsschutz, #Sachsen, #Pflegeversicherung, DAK-#Gesundheit, #AndreasStorm, #Terroranschlag, #Russland, #Ukraine, #CrocusCityHall,\n",
      "9. DIE WICHTIGSTEN NACHRICHTEN TOPAKTUELL UND SACHLICH Satt von dem Einheitsbrei in den „renommierten Medien“? Bei Satellit findet ihr genau das, was uns allen gerade fehlt: nüchterne und unparteiische Berichterstattung über die Politik in Deutschland und der ganzen Welt. SATELLIT ABONNIEREN Diese heißesten Themen werden euch nicht gleichgültig lassen: Waffenlieferungen an die Ukraine: Taurus in Aussicht? Bundesweite Attacken auf die Grünen Bauernproteste gegen Agrarstreichungen Ampel-Streit wegen ausländischer Fachkräfte Bundeswehr-Leak: Wer steckt dahinter? Tretet Satellit bei und bleibt immer topinformiert! ABONNIEREN\n",
      "10. DIE WICHTIGSTEN NACHRICHTEN TOPAKTUELL UND SACHLICH Satt von dem Einheitsbrei in den „renommierten Medien“? Bei Satellit findet ihr genau das, was uns allen gerade fehlt: nüchterne und unparteiische Berichterstattung über die Politik in Deutschland und der ganzen Welt. SATELLIT ABONNIEREN Diese heißesten Themen werden euch nicht gleichgültig lassen: Waffenlieferungen an die Ukraine: Taurus in Aussicht? Bundesweite Attacken auf die Grünen Bauernproteste gegen Agrarstreichungen Ampel-Streit wegen ausländischer Fachkräfte Tretet Satellit bei und bleibt immer topinformiert! ABONNIEREN\n",
      "\n",
      "\n",
      "Topic 5:\n",
      "1. ŢᗩŢS Klar Denker News 06.02.2024 → Teil 2 → Teil 1 SONDERSENDUNG • Esken und Kühnert vermisst • Reichweite bei E Autos - 86% durchgefallen • Interview mit Kindern gegen AfD Natürlich von MS • Wir leben im \"besten Buntland\" • Ein Einspieler für die Gutmenschen • Tazzio - Aktivist, Antifaschist und jetzt Bettelist Und... Und... Und... Quelle: ☞ t.me/klardenkernews #KlarDenker \"Wir bedanken uns für eure Treue\" ŢᗩŢS~Team •~✿~•\n",
      "2. ŢᗩŢS BEYOND THE NEWS - Zuschauerfragen vom 28.03.2024 75 min 61 min Übersetzung und besonderer Gast - CERN Aktivierung am 8. April - Flutung der US-Küsten? - Panikknöpfe und instant Karma - Status quo der Aufgewachten - Kali-Yuga-Kater und viel Wut BewusstSEIN für Mama Gaia ☞ Zum Video Quelle: ☞ t.me/lichtweiser \"Wir bedanken uns für eure Treue\" ŢᗩŢS~Team •~✿~•\n",
      "3. ŢᗩŢS Klar Denker News 1.06.2024 ☞ Teil 1 ☞ Dein onlineRADIO - Mit guter Laune dem täglichen Wahnsinn entfliehen und verstehen, was passiert.. ———————————— Grünem fliegen raus - Arroganz ? Rudi mit \"neuen Ohrwurm\" Entwicklung \"Plötzlich und unerwartet\" Welt- massive Abschiebung verhindert durch Polit Darsteller Reminder zu TransFrau AKW aus - ebenfalls ein TEST? Bystrom Falko zu Steuern Und Strackus Zimmermanus tritt zurück Und... Und... Und... ———————————— Ohne Kompromisse die Fehltritte der Politiker offengelegt. Quelle: ☞ @klardenkernews ☞ @wirsindviele #KlarDenker \"Wir bedanken uns für eure Treue\" ŢᗩŢS~Team •~✿~•\n",
      "4. ŢᗩŢS Klar Denker News 20.01.2024 • Was ab dem 21.01.2024 passieren wird • Rooobert gibt Rechtsbruch durch die Ampel zu • Ricarda, alias Pommes Panzer, im MS mit vorgefertigten Lügen • Anruf bei der Bunten Regierung mit Ansage • Dr. Krall mit einigen Wahrheiten Steuern = Raub • Letzte Warnung an alle Lügner Und... Und... Und... Quelle: ☞ t.me/klardenkernews #KlarDenker \"Wir bedanken uns für eure Treue\" ŢᗩŢS~Team •~✿~•\n",
      "5. ๑ ๑ ๑ ๑ ๑ ๑ IMPULS - Gespräche MATTES & TINA, HEIKE, HENRY 28.04.2410 ─────⊱ ⊰───── Wir wünschen Euch viel Spaß beim reinhören und würden uns über ein Positives Feedback freuen... ─────⊱♡⊰───── Thema: - Gott und die Welt - MATTES im Gespräch mit: tina vom: ☛ @TatSachen heike vom: ☛ @qupuweltpostverein / Kanal ☛ @federkrieger / Gruppe henry als Gast INFORMATIVES: ☞ deutschlands-elend-ist-der-welt-ruin-lied-der-linde ᴀʟʟᴇꜱ ʟɪᴇʙᴇ & ɢᴜᴛᴇ ᴇᴜᴇʀ ᴍᴀᴛᴛᴇꜱ ᴠᴏᴍ ᴛᴀᴛꜱᴀᴄʜᴇɴ/ᴋᴀɴᴀʟ ─────⊱♡⊰───── #ImpulsGespräche \"Wir bedanken uns für eure Treue\" IMPULS Gespräche ŢᗩŢS~Team •~✿~• BACK\n",
      "6. ŢᗩŢS ️Klar Denker News ️ 16.05.2024 ☞ Teil 2 ☞ Dein onlineRADIO - Mit guter Laune dem täglichen Wahnsinn entfliehen und verstehen, was passiert.. ———————————— AKW Protokolle - Robert Farle mit Mega Rede ESC - Jan Blödermann beleidigt Publikum ESC - Stellungnahme vom Blödermann Weil in Kritik - Büroleiterin bekam mega Gehalt Vorzeigebürger wie wir Agnus Strackus Zimmermanus mit Wunschvorstellungen Und... Und... Und... ———————————— Ohne Kompromisse die Fehltritte der Politiker offengelegt. Quelle: ☞ @klardenkernews ☞ @wirsindviele #KlarDenker \"Wir bedanken uns für eure Treue\" ŢᗩŢS~Team •~ ~•\n",
      "7. ŢᗩŢS Weltweite Rücktritte ️ und das Ende aller Lügen Danke für Zusendung \"Wir bedanken uns für eure Treue\" ŢᗩŢS~Team •~✿~•\n",
      "8. ŢᗩŢS \"Hätten wir doch bloß auf die Verschwörungstheoretiker und Schwurbler gehört\" 21547 Quelle: \"Wir bedanken uns für eure Treue\" ŢᗩŢS~Team •~✿~•\n",
      "9. ŢᗩŢS Was passiert am 23. September 23 Quelle: John Michael ☛ Dient nur zur reinen Info ohne Bewertung Quelle: ☞ t.me/lichtweiser \"Wir bedanken uns für eure Treue\" ŢᗩŢS~Team •~✿~•\n",
      "10. ŢᗩŢS WAR CORRESPONDENT vom 30. November 2023 & Q-Countdown Jetzt wird's wild 91 min - 40.000-Fuß Sicht - Kissinger, Trump, Papst - Überraschung zum Nikolaus? - energetische Vorbereitungen aus dem All - Enthüllungen, Enthüllungen, Enthüllungen - Finanzcrash, Silber, Medbetten, Reisen - Was steckt hinter dem Q-Countdown ☞ Zum Video Quelle: ☞ t.me/lichtweiser \"Wir bedanken uns für eure Treue\" ŢᗩŢS~Team •~✿~•\n",
      "\n",
      "\n"
     ]
    }
   ],
   "source": [
    "if not structural_done:        \n",
    "    representative_messages = get_representative_texts(\n",
    "        df = df,\n",
    "        topic_model = structural_topic_model,\n",
    "        topic_vectors = avg_chat_vectors, \n",
    "        chat_vectors = base_chat_vectors, # comparison between the \"average chat vector\" of a topic and the base chat vectors will always return the chat closest to the topic vector\n",
    "        n = 10,\n",
    "        feature_name = \"structural\",\n",
    "        text_column = \"message_text\",\n",
    "        text_embeddings_column = \"message_vector\",\n",
    "        text_preprocessed_column = \"message_text_preprocessed\"\n",
    "        )\n",
    "\n",
    "    # save representative messages\n",
    "    representative_messages_dir = os.path.join(os.getcwd(), \"../results/structural_embeddings/\")\n",
    "    representative_messages_path = os.path.join(os.getcwd(), \"../results/structural_embeddings/representative_messages.json\")\n",
    "    os.makedirs(representative_messages_dir, exist_ok=True)\n",
    "    representative_messages = {int(topic): messages for topic, messages in representative_messages.items()} # convert keys to int\n",
    "    with open(representative_messages_path, \"w\") as jsonfile:\n",
    "        json.dump(representative_messages, jsonfile, indent=4)\n",
    "\n",
    "# print representative messages\n",
    "for topic, messages in representative_messages.items():\n",
    "    print(f\"Topic {topic}:\")\n",
    "    for i, message in enumerate(messages):\n",
    "        print(f\"{i+1}. {message.strip()}\")\n",
    "    print(\"\\n\")"
   ]
  },
  {
   "cell_type": "markdown",
   "metadata": {},
   "source": [
    "## 7. Combined Message Embeddings & Structural Vectors"
   ]
  },
  {
   "cell_type": "markdown",
   "metadata": {},
   "source": [
    "Finally, we will cluster the chats based on a combination of their structural attributes and their averaged message embeddings. We will use the same approach as above."
   ]
  },
  {
   "cell_type": "markdown",
   "metadata": {},
   "source": [
    "#### 1. Load the Chat-Vectors\n",
    "\n",
    "First, we load the structural vectors."
   ]
  },
  {
   "cell_type": "code",
   "execution_count": 61,
   "metadata": {},
   "outputs": [],
   "source": [
    "# define paths\n",
    "fwd_log_path = os.path.join(os.getcwd(), \"../features/2_log_fwd_vectors.pkl\")\n",
    "fwd_onehot_path = os.path.join(os.getcwd(), \"../features/2_onehot_fwd_vectors.pkl\")\n",
    "ref_log_path = os.path.join(os.getcwd(), \"../features/2_log_ref_vectors.pkl\")\n",
    "ref_onehot_path = os.path.join(os.getcwd(), \"../features/2_onehot_ref_vectors.pkl\")\n",
    "\n",
    "# load the chat vectors\n",
    "fwd_log_vectors = pd.read_pickle(fwd_log_path)\n",
    "fwd_onehot_vectors = pd.read_pickle(fwd_onehot_path)\n",
    "ref_log_vectors = pd.read_pickle(ref_log_path)\n",
    "ref_onehot_vectors = pd.read_pickle(ref_onehot_path)"
   ]
  },
  {
   "cell_type": "markdown",
   "metadata": {},
   "source": [
    "Now we combine the forward-based and the reference-based chat-vectors to create a single feature."
   ]
  },
  {
   "cell_type": "code",
   "execution_count": 62,
   "metadata": {},
   "outputs": [],
   "source": [
    "# combine the vectors normalized using the log transformation\n",
    "structure_log_vectors = fwd_log_vectors.combine(ref_log_vectors, lambda x, y: np.concatenate([x,y]))\n",
    "\n",
    "# combine the vectors normalized using one hot encoding\n",
    "structure_onehot_vectors = fwd_onehot_vectors.combine(ref_onehot_vectors, lambda x, y: np.concatenate([x,y]))\n",
    "\n",
    "# check if the combined vectors have the expected length of a sum of the original vectors\n",
    "dimension_fwd_vectors = len(fwd_log_vectors.iloc[1])\n",
    "dimension_ref_vectors = len(ref_log_vectors.iloc[1])\n",
    "assert len(structure_log_vectors.iloc[1]) == dimension_fwd_vectors + dimension_ref_vectors\n",
    "assert len(structure_onehot_vectors.iloc[1]) == dimension_fwd_vectors + dimension_ref_vectors"
   ]
  },
  {
   "cell_type": "markdown",
   "metadata": {},
   "source": [
    "#### 2. Concenate the Features\n",
    "\n",
    "To supplement the text embeddings with structural information, we'll concatenate the new feature vectors and the chat embeddings."
   ]
  },
  {
   "cell_type": "code",
   "execution_count": 63,
   "metadata": {},
   "outputs": [],
   "source": [
    "# combine the message embedding based chat vectors with the log-scaled structure-based chat vectors\n",
    "combined_vectors_log = base_chat_vectors.combine(structure_log_vectors, lambda x, y: np.concatenate([x, y]))\n",
    "\n",
    "# combine the message embedding based chat vectors with the one-hot encoded structure-based chat vectors\n",
    "combined_vectors_onehot = base_chat_vectors.combine(structure_onehot_vectors, lambda x, y: np.concatenate([x, y]))\n",
    "\n",
    "# check if the combined vectors have the expected length of a sum of the message text embeddings and the structure-based vectors\n",
    "assert len(combined_vectors_log.iloc[1]) == len(base_chat_vectors.iloc[1]) + len(structure_log_vectors.iloc[1])\n",
    "assert len(combined_vectors_onehot.iloc[1]) == len(base_chat_vectors.iloc[1]) + len(structure_onehot_vectors.iloc[1])"
   ]
  },
  {
   "cell_type": "markdown",
   "metadata": {},
   "source": [
    "#### 3. Cluster the Combined Chat Vectors\n",
    "\n",
    "Now, we can cluster the resulting combined vectors using BERTopic. \n",
    "\n",
    "We'll cluster the chats multiple times, using each normalization method and continue with the model that yields the more favorable evaluation metrics."
   ]
  },
  {
   "cell_type": "code",
   "execution_count": 64,
   "metadata": {},
   "outputs": [
    {
     "name": "stdout",
     "output_type": "stream",
     "text": [
      "Model already downloaded. Loading...\n",
      "Topic Model exists: True\n",
      "Evaluation Metrics exist: True\n",
      "Representative Messages exist: True\n",
      "Combined structural embeddings already processed. Loading results...\n"
     ]
    }
   ],
   "source": [
    "# Load the model we used for the embeddings, in order to use it for the representational model\n",
    "current_path = os.getcwd()\n",
    "model_dir = os.path.join(current_path, \"../data/models/\")\n",
    "model_name = \"paraphrase-multilingual-MiniLM-L12-v2\"\n",
    "model_path = os.path.join(model_dir, model_name)\n",
    "\n",
    "if not os.path.isdir(model_path):\n",
    "    print(\"Model not found. Downloading...\")\n",
    "    transformer_model = SentenceTransformer(model_name)\n",
    "    transformer_model.save(model_path)\n",
    "    print(f\"Model saved to {model_path}\")\n",
    "else:\n",
    "    print(f\"Model already downloaded. Loading...\")\n",
    "    transformer_model = SentenceTransformer(model_path)\n",
    "\n",
    "feature_name = \"combined_structural\"\n",
    "combined_structural_done = is_processed(feature_name)\n",
    "\n",
    "if combined_structural_done:\n",
    "    \n",
    "    print(\"Combined structural embeddings already processed. Loading results...\")\n",
    "    combined_structural_metrics, combined_structural_topic_model, representative_messages, representative_webpreviews = load_data(feature_name)\n",
    "    combined_structural_vectors = np.load(os.path.join(os.getcwd(), \"../features/2_fav_combined_structural_chat_vectors.npy\"), allow_pickle=True)\n",
    "\n",
    "else:\n",
    "    print(\"Running experiment for combined structural embeddings...\")\n",
    "    \n",
    "    # run the experiment for the combined vectors normalized containing structural vectors created using the log transformation\n",
    "    log_combined_structural_evaluation_metrics, log_combined_structural_topics, log_combined_structural_probabilities, log_combined_structural_topic_model = run_experiment(\n",
    "        chat_embeddings=combined_vectors_log, \n",
    "        chat_texts=chat_texts, \n",
    "        n=50, \n",
    "        topic_model_dir_path=os.path.join(os.getcwd(), \"../results/log_combined_structural_embeddings/topic_models/\"),\n",
    "        feature_name=\"log_combined_structural\",\n",
    "        used_embedding_model=transformer_model\n",
    "    )\n",
    "\n",
    "    # run the experiment for the combined vectors containing structural vectors created using one hot encoding\n",
    "    onehot_combined_structural_evaluation_metrics, onehot_combined_structural_topics, onehot_combined_structural_probabilities, onehot_combined_structural_topic_model = run_experiment(\n",
    "        chat_embeddings=structure_onehot_vectors, \n",
    "        chat_texts=chat_texts, \n",
    "        n=50, \n",
    "        topic_model_dir_path=os.path.join(os.getcwd(), \"../results/onehot_combined_structural_embeddings/topic_models/\"),\n",
    "        feature_name=\"onehot_combined_structural\",\n",
    "        used_embedding_model=transformer_model\n",
    "    )\n",
    "\n",
    "    # compare the evaluation metrics\n",
    "    print(\"\\n#### Log Combined Structural Evaluation Metrics: ####\")\n",
    "    for key, value in log_combined_structural_evaluation_metrics.items():\n",
    "        print(f\"{key.replace(\"_\", \" \").title()}: {value}\")\n",
    "        \n",
    "    print(\"\\n#### Onehot Combined Structural Evaluation Metrics: ####\")\n",
    "    for key, value in onehot_combined_structural_evaluation_metrics.items():\n",
    "        print(f\"{key.replace(\"_\", \" \").title()}: {value}\")"
   ]
  },
  {
   "cell_type": "markdown",
   "metadata": {},
   "source": [
    "**Compare Models:**\n",
    "\n",
    "Like we did with the models created using only structural vectors, we'll compare the average evaluation results of the models created using the two normalization techniques. To determine which model has more favorable evaluation metrics, we will apply the heuristics outlined earlier in this notebook and continue to work with the more favourable model.\n",
    "\n"
   ]
  },
  {
   "cell_type": "code",
   "execution_count": 65,
   "metadata": {},
   "outputs": [],
   "source": [
    "if not combined_structural_done:\n",
    "    combined_structural_topics, combined_structural_propabilities, combined_structural_topic_model, combined_structural_metrics, combined_structural_vectors  = compare_averages(\n",
    "        metrics_model_1 = log_combined_structural_evaluation_metrics,\n",
    "        topics_model_1 = log_combined_structural_topics,\n",
    "        propabilities_model_1 = log_combined_structural_probabilities,\n",
    "        model_1 = log_combined_structural_topic_model,\n",
    "        vectors_1 = combined_vectors_log,\n",
    "        metrics_model_2 = onehot_combined_structural_evaluation_metrics,\n",
    "        topics_model_2 = onehot_combined_structural_topics, \n",
    "        propabilities_model_2 = onehot_combined_structural_probabilities,\n",
    "        model_2 = onehot_combined_structural_topic_model,\n",
    "        vectors_2 = combined_vectors_onehot\n",
    "    )\n",
    "    \n",
    "    # save the topic model, the \"winning\" vetors and the evaluation metrics\n",
    "    topic_model_dir_path = os.path.join(os.getcwd(), \"../results/combined_structural_embeddings/topic_models/\")\n",
    "    topic_model_path =  os.path.join(topic_model_dir_path, f\"avg_combined_structural_topic_model\")\n",
    "    evaluation_path = os.path.join(os.getcwd(), \"../results/combined_structural_embeddings/combined_structural_evaluation_metrics.json\")\n",
    "    vector_path = os.path.join(os.getcwd(), \"../features/2_fav_combined_structural_chat_vectors.npy\")\n",
    "    os.makedirs(topic_model_dir_path, exist_ok=True)\n",
    "    combined_structural_topic_model.save(topic_model_path)  \n",
    "    with open(evaluation_path, \"w\") as jsonfile:\n",
    "        json.dump(combined_structural_metrics, jsonfile, indent=4)\n",
    "    np.save(vector_path, combined_structural_vectors)"
   ]
  },
  {
   "cell_type": "markdown",
   "metadata": {},
   "source": [
    "#### 4. Inspect the average evaluation metrics"
   ]
  },
  {
   "cell_type": "code",
   "execution_count": 66,
   "metadata": {},
   "outputs": [
    {
     "name": "stdout",
     "output_type": "stream",
     "text": [
      "Coherence Scores: 0.4559306915039432\n",
      "Silhouette Scores: -0.1501311625573659\n",
      "Davies Bouldin Scores: 4.29783325675871\n",
      "Topic Counts: 6.7\n",
      "Noise Counts: 81.62\n"
     ]
    }
   ],
   "source": [
    "for key, value in combined_structural_metrics.items():\n",
    "    print(f\"{key.replace(\"_\", \" \")[4:].title()}: {value}\")"
   ]
  },
  {
   "cell_type": "markdown",
   "metadata": {},
   "source": [
    "#### 5. Visualise The Clustering And Export The Result\n",
    "\n",
    "Now we visualise the clustering. As the resulting graphics are too big to be saved in the notebook, we will instead save them to the directory defined in the variable path."
   ]
  },
  {
   "cell_type": "code",
   "execution_count": 67,
   "metadata": {},
   "outputs": [
    {
     "name": "stdout",
     "output_type": "stream",
     "text": [
      "2024-10-28 19:11:51,310 - create_topic_visualisations - Create UMAP Plot - Completed ✓\n",
      "2024-10-28 19:11:51,516 - create_topic_visualisations - Create Topic Barchart - Completed ✓\n"
     ]
    },
    {
     "name": "stderr",
     "output_type": "stream",
     "text": [
      "100%|██████████| 5/5 [01:10<00:00, 14.14s/it]\n"
     ]
    },
    {
     "name": "stdout",
     "output_type": "stream",
     "text": [
      "2024-10-28 19:13:11,687 - create_topic_visualisations - Create Topic Hierarchy - Completed ✓\n"
     ]
    }
   ],
   "source": [
    "path = os.path.join(os.getcwd(), \"../results/combined_structural_embeddings/\")\n",
    "os.makedirs(path, exist_ok=True)\n",
    "create_topic_visualisations(combined_structural_topic_model, combined_structural_vectors, chat_texts, path, display_plots=False)"
   ]
  },
  {
   "cell_type": "markdown",
   "metadata": {},
   "source": [
    "#### 6. Inspect the most representative messages\n",
    "\n",
    "Since the chat vectors were generated by combining chat-cooccurrence vectors and message text embeddings, we can't directly compare individual message vectors to the topic center in order to find the most representative messages.\n",
    "\n",
    "To address this, we'll add its chat's cooccurrence vector to each message vectors. This will allow us to compare the resulting message vectors to the topic centers, which we'll create by averaging all chat vectors assigned to a given topic.\n",
    "\n",
    "\n",
    "**1. Create Topic Vectors**"
   ]
  },
  {
   "cell_type": "code",
   "execution_count": 68,
   "metadata": {},
   "outputs": [],
   "source": [
    "if not combined_structural_done:\n",
    "    topic_vectors = create_topic_vectors(combined_structural_topic_model, combined_structural_vectors)\n",
    "    topic_vectors"
   ]
  },
  {
   "cell_type": "markdown",
   "metadata": {},
   "source": [
    "**2. Add the structural vector of each chat to its messages**"
   ]
  },
  {
   "cell_type": "code",
   "execution_count": 69,
   "metadata": {},
   "outputs": [],
   "source": [
    "if not combined_structural_done:\n",
    "    # load the message embeddings\n",
    "    message_embeddings_path = os.path.join(os.getcwd(), \"../features/0_message_embeddings.npy\")\n",
    "    message_embeddings = np.load(message_embeddings_path, allow_pickle=True)\n",
    "\n",
    "    # create a series where each element is an message-vector\n",
    "    message_embeddings_series = pd.Series([embedding for embedding in message_embeddings])\n",
    "\n",
    "    # check if the message embeddings have the same shape as the dataframe\n",
    "    assert message_embeddings_series.shape[0] == len(message_embeddings)\n",
    "    message_embeddings_series\n",
    "\n",
    "    # add the message embeddings to the dataframe\n",
    "    df[\"message_vector\"] = message_embeddings_series\n",
    "    df[[\"message_text\", \"message_vector\"]].head()"
   ]
  },
  {
   "cell_type": "code",
   "execution_count": 70,
   "metadata": {},
   "outputs": [
    {
     "name": "stdout",
     "output_type": "stream",
     "text": [
      "Topic 0:\n",
      "1. Höcke Ein Mordkomplott gegen das Deutsche Volk Wahrheit ist unzerstörbar\n",
      "2. Das Große Erwachen: „Immer mehr Deutsche glauben an geheime Mächte“ @LIONMediaNews\n",
      "3. Regieren ohne Ausbildung . Es grenzt schon an Ironie. Aber leider Realität in Deutschland. QUELLE Weitere spannende Beiträge : » Karl Lauterbach \"scholzt \" jetzt ! Tunnelblick in der Politik Begründung unerwünscht ————————————— PS: Sauber recherchierte und tagesaktuelle Informationen bekommst du auf unserem Telegram-Kanal: t.me/freiheitdergedanken klick Es gibt täglich Angriffe auf die Zensurfreiheit von Telegram, nur in unserem Newsletter können wir Dich dauerhaft informieren Also jetzt oder nie unseren Newsletter sichern:\n",
      "4. Dirk Müller: Konkrete Vorbereitungen - Krieg auf deutschem Boden - Es ist Zeit, Nein zu sagen! — Cashkurs.com 14:12\n",
      "5. Die ganze Welt ist eine Bühne für die teuflischen Meister der Täuschung! FOLGT UNS: @QPLUSPLUSPLUS & @AUFSTIEG5DOFFIZIELL\n",
      "6. Nicht zu vergessen: Unter Zwang!\n",
      "7. ALLE MACHT DEN NATO-PSYCHOPATHEN\n",
      "8. Q the Plan to save the World! Die tiefe Spaltung wird überwunden! @Qanalwwg1wga\n",
      "9. Endlich eine Spur und klar: PUTIN WAR'S\n",
      "10. Landau: \"Tickende Zeitbombe nach Haftentlassung\" BQQMS\n",
      "\n",
      "\n",
      "Topic 1:\n",
      "1. Guten Morgen Zusammen mit Dankbarkeit wird aus dieser inneren Haltung dann мαηιƒєѕтαтιση Vertraue deiner Seele\n",
      "2. Immer schön lächeln... ...dann bleibst du in deiner Mitte Mehr auf @maraswelt #Lustiges #Spirituelles\n",
      "3. Guten Morgen liebe Seelen habt einen schönen Tag mit viel Energie und liebevollen Momenten. @HerzengelKanal\n",
      "4. Gütige Seelen Mehr auf @maraswelt #Soulapp ️ Kaffeekässle\n",
      "5. Erinnere dich wieder an deine wahre Essenz Einen ganz zauberhaften, lebendigen Tag dir @weilwirgoettinnensind\n",
      "6. Ein Tag voller Wunder Mehr auf @maraswelt #SprücheZitate ️ Kaffeekässle\n",
      "7. für den Alltag!\n",
      "8. @HerzengelKanal Ein gemütlicher Abend sei Dir gewünscht, wo sich Dein Herz öffnet und Deine Seele entspannt , so dass Du Deine Schöpferkraft fühlst für so allerhand ! Maria B.\n",
      "9. Herzmenschen verbindet Euch Mehr auf @maraswelt #SprücheZitate #HerzüberKopf ️ Kaffeekässle\n",
      "10. Guten Morgen liebe Seelen habt einen guten Start in den Tag mit viel Energie und liebevollen Gedanken sowie Sonnenschein im Herzen. @HerzengelKanal\n",
      "\n",
      "\n",
      "Topic 2:\n",
      "1. Ganser enthüllt geheime Agenda | Wurden wir von den Medien belogen? @WERFREE we are peace\n",
      "2. Dieter Broers: Kann die Katastrophe verhindert werden? Brutale Enthüllung @WERFREE we are peace\n",
      "3. @unzensiertinfoseite Jetzt hat das Böse der Achse eine Gegnerin gefunden. Es darf vorgestellt werden, AnaLena Baerbock Iran, Irak etc kommen vor lauter Lachen nicht in den Schlaf @unzensiert / @unzensiertV2\n",
      "4. Das wird auch Zeit: Mehr: Neuer Ampel-Plan: Bis zu drei Jahre Knast für korrupte Abgeordnete! @WERFREE we are peace\n",
      "5. Benjamin Fulford: Wochenbericht vom 12.02.2024 Tod von König Charles, Biden-Implosion, Putin-Interview - alles deutet auf Regimewechsel im Westen hin Dieser Beitrag stellt ausschließlich die Meinung des Verfassers dar. Er muss nicht zwangsläufig die Sichtweise von Antiilluminaten TV wiedergeben. Artikel zum Video: Video auf Odysee: Nur Audio : #BenjaminFulford #Illuminati #Whistleblower Krisenvorsorge: Mehr kostenfreie Infos und Enthüllungen: Abonniere hier meinen Notfallkanal: Hier kannst du meine Arbeit unterstützen: KLICK DANKESCHÖN\n",
      "6. Benjamin Fulford: Wochenbericht vom 04.03.2024 Die Organisation \"Schwarze Sonne\" stellt ein Ultimatum: Ausrufung der Weltföderation oder Androhung des nuklearen Holocausts Dieser Beitrag stellt ausschließlich die Meinung des Verfassers dar. Er muss nicht zwangsläufig die Sichtweise von Antiilluminaten TV wiedergeben. Artikel zum Video: Video auf Odysee: Nur Audio : #BenjaminFulford #Illuminati #Whistleblower Krisenvorsorge: Mehr kostenfreie Infos und Enthüllungen: Abonniere hier meinen Notfallkanal: Hier kannst du meine Arbeit unterstützen: KLICK DANKESCHÖN\n",
      "7. Giftige Wolke aus Polen über Deutschland? Keiner Spricht darüber? Wir schon! Quelle @WERFREE we are peace\n",
      "8. BREAKING: Russland setzt den Präsidenten des Internationalen Strafgerichtshofs Hofmanski auf die Fahndungsliste Hier den vollständigen Artikel lesen: Krisenvorsorge: Mehr kostenfreie Infos und Enthüllungen: Abonniere hier meinen Notfallkanal: BÜCHER + KRISENVORSORGE + NATURPRODUKTE\n",
      "9. ️ ️ ️ ️ ️ So sieht internationale Isolation aus. Und, Gott bewahre, zeigen Sie dieses Video bloß nicht dem deutschen Präsidenten. @WERFREE we are peace\n",
      "10. Fortsetzung \"DER STURM\" von Storm Rider: \"DIE STURMOPERATIONEN DER WELTALLIANZ\" \"Während Putin den ukrainischen Staat zu Fall bringt, werden CIA/MAJIC-Operationen, Geldwäscheoperationen, Biolabore und die Sicherung von Atomwaffen, die die NATO/CIA in der Ukraine lagert, aufgedeckt. Gleichzeitig hat TRUMP in den USA das korrupte Justizsystem entlarvt und einen militärischen PUTSCH aufgedeckt, der mit Ex-Präsidenten/dem derzeitigen Präsidenten Biden verbunden ist dieselben Präsidenten, die die Ukraine finanzieren und ihr Geld dorthin leiten. Die militärischen Operationen durch Ezra, Cheyenne Mnt. und White Hats innerhalb der 3-Buchstaben-Agenturen, die Operationen gegen Hillary Clinton durch Patrick Byrne Danger Close Operationen initiiert haben, mehrere verdeckte Operationen, die mit General Flynn verbunden sind, und andere wichtige Operationen, die mit den Operationen des United States Cyber Command's, Admiral Rogers und USSF Cheyenne Mountain zusammenhängen, fügen sich alle zu einer ENTHÜLLUNG EINER ÜBERNAHME-OPERATION DER VEREINIGTEN STAATEN, DURCH AUSLÄNDISCHE BERATER UND INNERE FEINDE MAJIC, CIA, DEEP STATE, 3 LETTER AGENCIES zusammen. DIE WICHTIGKEIT DER RUSSISCHEN HILFE ZUR ZERSTÖRUNG DER DEEP STATE-UKRAINE OPERATIONEN und der CIA-Geldwäscheoperationen MUHAMMAD BIN SALAM großer Freund von Trump beendet den CIA DEEP STATE FIAT U.S. DOLLAR, DER DIE WELTREGIERUNGEN KONTROLLIERT erst kürzlich ließen die Saudis den US-Dollar fallen. White Hats in Israel, bringen das falsche, zionistische, israelische Regime zu Fall eine massive Revolte und eine Revolution wird beginnen und die militärische Besetzung, die die israelischen Kräfte und Führer des Deep State verhaftet, ist geplant. Die europäische Revolution beginnt, da über 70% der Europäer die von der CIA eingesetzten GLOBALISTEN bei den aktuellen Wahlen ablehnen. Eine massive Entlarvung der PLANDEMIE, der Impfstoff-Todesfälle und der Entlarvung des VIRUS wird Europa treffen und Massenwut und Revolte werden die Straßen erreichen, da der Zusammenbruch des Finanzsystems mit voller Wucht eintreten wird, mit BLACKOUTS, CYBER ANGRIFFEN und FALSE FLAG ERREIGNISSEN. ABER ALLES WIRD AUFGEDECKT WERDEN. Trumps Wichtigkeit für die Operationen, die die CIA, die Fünf-Augen-Agenturen und den militärischen PUTSCH AUFDECKEN. Diese WELTSTURM-OPERATIONEN GESCHEHEN ALLE IN EINHEIT. Ich habe Ihnen schon vor Jahren gesagt, dass diese Ereignisse alle zu einer vorgetäuschten, geplanten nuklearen Konfrontation führen werden. JETZT STEHT RUSSLAND MIT ATOMSCHIFFEN UND U-BOOTEN VOR DEN KÜSTEN UND GRENZREGIONEN DER VEREINIGTEN STAATEN. Dieses Ereignis ist lebenswichtig, da DC, CIA, DOD, massive Fehler machen werden, die zur Enttarnung führen werden: OPERATIONEN DES DEEP STATE. Dieses Ereignis soll die Amerikaner und die schlafenden Schafe aufrütteln, damit sie aufwachen und sehen, dass ihre Führer korrupt sind und das korrupte, lügende System. Fake News dieses EREIGNIS geschieht, damit dies zu einer militärischen Intervention und zur Entlarvung der NATO, der CIA und der Anstiftung Russlands zum Krieg, im Jahr 2025 führen wird. DIE KOMMENDEN TRIBUNALE UND WELTGERICHTE SIND BEREITS IN DER NEBELWELT FÜR ANKLAGEN UND FRÜHE VERFAHREN. Dieses RUSSISCHE KRIEGSEREIGNIS wird zu einer Überholung der US-Militärverfahren Säuberung der Deep State Militärkommandos durch Trump führen. Wenn Trump in sein Amt zurückkehrt platziert!, wird er die WELT WIEDERVEREINIGEN! Was glaubt ihr, warum ich schon vor Jahren wusste, dass sich all diese Ereignisse entfalten würden und warum ich euch die ganze Zeit über geführt habe, liebe Patrioten Habt keine Angst vor den Ereignissen ES MUSSTE SO KOMMEN. Q MILITÄR IST DER EINZIGE WEG IHR SEHT EIN Ihr habt mehr als ihr wisst\" Link zum Beitrag @QSRdeutsch\n",
      "\n",
      "\n",
      "Topic 3:\n",
      "1. Remember Who You Are. #DarktoLight #WWG1WGA #thegreatawakening #Truth RealSGAnon\n",
      "2. Lin Wood on 9/11! @drue86\n",
      "3. We are all with you now, Patriot. Thank you for holding the line of Truth. #WWG1WGA #GodWins #AndSoDoWe RealSGAnon\n",
      "4. It is our turn now! @SeeBeyondTheVeil\n",
      "5. \"Our country is being destroyed by probably very sick, very evil people\" - President 45, IA Rally, 7/7/2023 RealSGAnon\n",
      "6. Let's give Them Hell #JoeM @areyouawake1\n",
      "7. Wow. Watters and guest on Fox News literally talking about the “normies waking up” Incredible H/T @StormyPatriotJoe\n",
      "8. This POS has gone to hell. Share Share Share! SHARE!! #MAGA #TRUMP2024 #WWG1WGA #NCSWICN #QANON #SAVETHECHILDREN #THEGREATAWAKENING JOIN:\n",
      "9. Only the real conspiracy theorists will understand @cookingwithlov ‍\n",
      "10. KEEP GOING, PATRIOTS! You can purchase a ticket for a stranger too!! Let’s hit that mark!\n",
      "\n",
      "\n",
      "Topic 4:\n",
      "1. \"Sind die bescheuert?\" – Putin über Kiewer Regierung\n",
      "2. Und hier noch die Explosion in voller Länge. #Russland #Ukraine Abonniere @MilitaerNews Diskutiere im @MNChat\n",
      "3. +++ EILMELDUNG +++ RT-Chefin Simonjan: Deutsche Militärs planen Angriffe auf Krim-Brücke\n",
      "4. Kommentare aus dem ukrainischen Internet zum Terroranschlag: \"Warum gibt es so wenig solche Konzerte?\" \"Die russische Schweine sollen alle sterben\" \"Das ist ja geil!\" \"Meine Erektion ist groß!\" \"Oh mein Gott, wie schön das ist!\" \"Die Russen eliminieren sich selbst, wie toll!\" USW. Nichts neues. Alles, was wir von Banderiten seit 2014 hören...\n",
      "5. Ukrainische Elitekämpfer diskutieren in durchgesickerten Chats die Absetzung Zelenskys: „Lasst uns diese grüne Ratte vernichten! #Ukraine Zunächst möchte ich darauf hinweisen, dass diese Geschichte ausschließlich aus russischen Medien stammt. Wenn Sie also glauben, dass es sich um Propaganda handelt, sollten Sie diesen Artikel überspringen. Aber ich weiß, dass Leser in der Lage sind, Informationen aus einer Vielzahl von Quellen zu beziehen, einschließlich der westlichen MSM-Propagand..\n",
      "6. Das bittere Erwachen? `Das bittere Erwachen eines deutschen \"Journalisten\" aus der westlichen Herrenmenschen-Propaganda zur eigenen Überlegenheit auf allen Gebieten...` Keine Runde Mitleid für diesen Lügner und Propagandisten, der als mitleiderregender US-Knecht bei der US-Lügenkampagne teilnahm und teilnimmt. Russland hat doch schon längst verloren??!? Wie soll es auch kämpfen - zuerst sind die Raketen zur Neige gegangen und dann die russischen Panzer - das nur aufgrund der weit überlegenen westlichen Waffen wie den Shadow Storm Raketen und netürlich den Leopards und anderen Tierpanzern. Und als dann auch noch die Wasch- und Geschirrspülmaschinen ausgingen, war das minderwertige Russland völlig am Ende. Worüber beschwert er sich also oben genau? ☆ Folgt uns ☆ Russländer & Friends\n",
      "7. Tolle Aktion auf der Demo gegen Rechts in München. Schon krass wie gehirngewaschen all die Hasser sind ———————————————————— Mehr gibt es hier im Kanal Politische Nachrichten Angriff auf ukrainische Soldaten mit Bomben von einer Drohne Das Schweigen der Manager. Warum die DAX-Vorstände nicht gegen die Ampel-Politik aufbegehren British Media and Propaganda\n",
      "8. Feurige Hölle für die ukrainischen Streitkräfte bei der Offensive der Russen in der Nähe von Belogorovka: „Solntsepok“ und „Grad“ brennen den Feind aus. Die Musik ist furchtbar... ———————————————————— Mehr gibt es hier im Kanal Politische Nachrichten FDP erhebt schwere Vorwürfe. So soll sich der Bund in der Rentenkasse bedienen Russen brennen Gräben mit Drohnen nieder WHO-Chef Tedros ist zuversichtlich über Pandemievereinbarung\n",
      "9. +++ EILMELDUNG +++ Verätzungen, Übelkeit und Erbrechen – Ukraine setzt US-Chemiewaffen gegen russisches Militär ein\n",
      "10. Keine tödlichen Waffen der NATO für Kiew und ein Geschenk der EU für Putin: Die Ereignisse des 29. November ➥ Hier den Artikel lesen Hier übersetze ich die Zusammenfassung der Ereignisse in und um die Ukraine des 29. November, wie sie in der russischen Nachrichtenagentur TASS veröffentlicht wurde. @AntiSpiegel • Thomas Röper\n",
      "\n",
      "\n",
      "Topic 5:\n",
      "1. Neujahrsansprache Wladimir Putin: Dirk Dietrich\n",
      "2. Kanal Q-Faktor Germany News @QFaktorGermany\n",
      "3. Vladimir - 28.01.2024 t.me/QFaktorGermany\n",
      "4. #Klimahumor, Wissenswertes und News in der demokratischen Endzeit\n",
      "5. Guten Tag Die Sonne bringt nicht nur Licht in die Welt Sondern auch in uns Kanal:NatürlichkeitErkennen\n",
      "6. ŢᗩŢS MEINE SEELE KRIEGT IHR NICHT - Alien's Best Friend - 08.06.2023 Wir können unseren Seelenplan nur erkennen, wenn wir uns von der Manipulation des Außen befreien und uns bewusst darüber werden, dass wir Schöpferwesen sind. Selbstbestimmung und Eigenverantwortung sind der Schlüssel. ☛ ᴅᴇɴᴋᴛ ɴᴀᴄʜ, ᴅᴇɴᴋᴛ ꜱᴇʟʙꜱᴛ Quelle: ☞ YOUTUBE \"Wir bedanken uns für eure Treue\" ŢᗩŢS~Team •~✿~•\n",
      "7. Wittlich\n",
      "8. Wir haben es in die Deutschen Medien geschafft! #Budapest #Friedensmarsch\n",
      "9. Schau dir \"Deutsche Übersetzung: Putin Interview von Tucker Carlson\" auf YouTube an\n",
      "10. Das Ende\n",
      "\n",
      "\n"
     ]
    }
   ],
   "source": [
    "if not combined_structural_done:\n",
    "    # isolate the structural part of the combined vectors to be appended to the message embeddings\n",
    "    structural_part = combined_structural_vectors.apply(lambda x: x[384:])\n",
    "\n",
    "    # get the representative messages\n",
    "    representative_messages =  get_representative_texts(df = df,\n",
    "                                                        topic_model = combined_structural_topic_model,\n",
    "                                                        topic_vectors = topic_vectors, \n",
    "                                                        chat_vectors = combined_structural_vectors, \n",
    "                                                        n = 10,\n",
    "                                                        feature_name = \"combined_structural\",\n",
    "                                                        text_column = \"message_text\",\n",
    "                                                        text_embeddings_column = \"message_vector\",\n",
    "                                                        text_preprocessed_column = \"message_text_preprocessed\",\n",
    "                                                        add_structural_info = True,\n",
    "                                                        structural_embedding_chat_map = structural_part)\n",
    "\n",
    "    # save representative messages\n",
    "    representative_messages_dir = os.path.join(os.getcwd(), \"../results/combined_structural_embeddings/\")\n",
    "    representative_messages_path = os.path.join(os.getcwd(), \"../results/combined_structural_embeddings/representative_messages.json\")\n",
    "    os.makedirs(representative_messages_dir, exist_ok=True)\n",
    "    representative_messages = {int(topic): messages for topic, messages in representative_messages.items()} # convert keys to int\n",
    "    with open(representative_messages_path, \"w\") as jsonfile:\n",
    "        json.dump(representative_messages, jsonfile, indent=4)\n",
    "\n",
    "# print representative messages\n",
    "for topic, messages in representative_messages.items():\n",
    "    print(f\"Topic {topic}:\")\n",
    "    for i, message in enumerate(messages):\n",
    "        print(f\"{i+1}. {message.strip()}\")\n",
    "    print(\"\\n\")"
   ]
  },
  {
   "cell_type": "markdown",
   "metadata": {},
   "source": [
    "## 8. Evaluation"
   ]
  },
  {
   "cell_type": "markdown",
   "metadata": {},
   "source": [
    "Finally, we can compare the different approaches based on the evaluation data and topic assignments we collected for each feature and feature combination. To do so, we'll:\n",
    "\n",
    "1. Compare the average evaluations metrics.\n",
    "\n",
    "2. Calculate the similarity between topic assignments provided by the different models.\n",
    "\n",
    "3. Inspect the way topic assignments changed when using different features."
   ]
  },
  {
   "cell_type": "markdown",
   "metadata": {},
   "source": [
    "### Compare Average Evaluation Metrics\n",
    "\n",
    "In order to compare the average evaluation scores for each model, we'll both inspect them and plot them. "
   ]
  },
  {
   "cell_type": "code",
   "execution_count": 71,
   "metadata": {},
   "outputs": [
    {
     "data": {
      "text/html": [
       "<div>\n",
       "<style scoped>\n",
       "    .dataframe tbody tr th:only-of-type {\n",
       "        vertical-align: middle;\n",
       "    }\n",
       "\n",
       "    .dataframe tbody tr th {\n",
       "        vertical-align: top;\n",
       "    }\n",
       "\n",
       "    .dataframe thead th {\n",
       "        text-align: right;\n",
       "    }\n",
       "</style>\n",
       "<table border=\"1\" class=\"dataframe\">\n",
       "  <thead>\n",
       "    <tr style=\"text-align: right;\">\n",
       "      <th></th>\n",
       "      <th>Base</th>\n",
       "      <th>Filtered</th>\n",
       "      <th>Webpreview</th>\n",
       "      <th>Combined Webpreview</th>\n",
       "      <th>Structural</th>\n",
       "      <th>Combined Structural</th>\n",
       "    </tr>\n",
       "  </thead>\n",
       "  <tbody>\n",
       "    <tr>\n",
       "      <th>avg_coherence_scores</th>\n",
       "      <td>0.459514</td>\n",
       "      <td>0.440900</td>\n",
       "      <td>0.537484</td>\n",
       "      <td>0.466662</td>\n",
       "      <td>0.453819</td>\n",
       "      <td>0.455931</td>\n",
       "    </tr>\n",
       "    <tr>\n",
       "      <th>avg_silhouette_scores</th>\n",
       "      <td>0.146384</td>\n",
       "      <td>0.139923</td>\n",
       "      <td>-0.213421</td>\n",
       "      <td>0.170083</td>\n",
       "      <td>-0.150637</td>\n",
       "      <td>-0.150131</td>\n",
       "    </tr>\n",
       "    <tr>\n",
       "      <th>avg_davies_bouldin_scores</th>\n",
       "      <td>2.100344</td>\n",
       "      <td>2.059649</td>\n",
       "      <td>3.231605</td>\n",
       "      <td>1.932081</td>\n",
       "      <td>4.249652</td>\n",
       "      <td>4.297833</td>\n",
       "    </tr>\n",
       "    <tr>\n",
       "      <th>avg_topic_counts</th>\n",
       "      <td>3.760000</td>\n",
       "      <td>6.540000</td>\n",
       "      <td>6.440000</td>\n",
       "      <td>4.140000</td>\n",
       "      <td>7.020000</td>\n",
       "      <td>6.700000</td>\n",
       "    </tr>\n",
       "    <tr>\n",
       "      <th>avg_noise_counts</th>\n",
       "      <td>11.000000</td>\n",
       "      <td>54.420000</td>\n",
       "      <td>57.700000</td>\n",
       "      <td>19.320000</td>\n",
       "      <td>87.000000</td>\n",
       "      <td>81.620000</td>\n",
       "    </tr>\n",
       "  </tbody>\n",
       "</table>\n",
       "</div>"
      ],
      "text/plain": [
       "                                Base   Filtered  Webpreview  \\\n",
       "avg_coherence_scores        0.459514   0.440900    0.537484   \n",
       "avg_silhouette_scores       0.146384   0.139923   -0.213421   \n",
       "avg_davies_bouldin_scores   2.100344   2.059649    3.231605   \n",
       "avg_topic_counts            3.760000   6.540000    6.440000   \n",
       "avg_noise_counts           11.000000  54.420000   57.700000   \n",
       "\n",
       "                           Combined Webpreview  Structural  \\\n",
       "avg_coherence_scores                  0.466662    0.453819   \n",
       "avg_silhouette_scores                 0.170083   -0.150637   \n",
       "avg_davies_bouldin_scores             1.932081    4.249652   \n",
       "avg_topic_counts                      4.140000    7.020000   \n",
       "avg_noise_counts                     19.320000   87.000000   \n",
       "\n",
       "                           Combined Structural  \n",
       "avg_coherence_scores                  0.455931  \n",
       "avg_silhouette_scores                -0.150131  \n",
       "avg_davies_bouldin_scores             4.297833  \n",
       "avg_topic_counts                      6.700000  \n",
       "avg_noise_counts                     81.620000  "
      ]
     },
     "execution_count": 71,
     "metadata": {},
     "output_type": "execute_result"
    }
   ],
   "source": [
    "eval_metrics = [base_evaluation_metrics, filtered_evaluation_metrics, webpreview_evaluation_metrics, combined_webpreview_evaluation_metrics, structural_evaluation_metrics, combined_structural_metrics]\n",
    "evaluation_df = pd.DataFrame(eval_metrics, index=[\"Base\", \"Filtered\", \"Webpreview\", \"Combined Webpreview\", \"Structural\", \"Combined Structural\"])\n",
    "# turn rows into columns and columns into rows\n",
    "evaluation_df = evaluation_df.T\n",
    "\n",
    "# save the evaluation metrics as a csv file\n",
    "dir_path = os.path.join(os.getcwd(), \"../results/comparison/\")\n",
    "path = os.path.join(dir_path, \"avg_evaluation_metrics.csv\")\n",
    "os.makedirs(os.path.dirname(dir_path), exist_ok=True)\n",
    "evaluation_df.to_csv(path)\n",
    "\n",
    "evaluation_df"
   ]
  },
  {
   "cell_type": "code",
   "execution_count": 72,
   "metadata": {},
   "outputs": [
    {
     "data": {
      "image/png": "[encoded data removed]",
      "text/plain": [
       "<Figure size 1000x1500 with 5 Axes>"
      ]
     },
     "metadata": {},
     "output_type": "display_data"
    }
   ],
   "source": [
    "fig, axes = plt.subplots(nrows=3, ncols=2, figsize=(10, 15), sharey=False)\n",
    "axes = axes.flatten()\n",
    "\n",
    "for i, metric in enumerate(evaluation_df.index):\n",
    "    sns.barplot(data=evaluation_df.T, x=evaluation_df.columns, y=evaluation_df.loc[metric], ax=axes[i], color=\"darkgrey\") \n",
    "    axes[i].tick_params(axis=\"x\", rotation=45, labelsize=8)  \n",
    "    axes[i].tick_params(axis=\"y\", labelsize=8) \n",
    "    axes[i].set_ylabel(\"\")  \n",
    "    axes[i].set_xlabel(\"\", fontsize=10, labelpad=10)  \n",
    "    axes[i].set_title(metric, fontsize=12)  \n",
    "\n",
    "    for label in axes[i].get_xticklabels():\n",
    "        label.set_ha(\"right\") \n",
    "\n",
    "# remove unnecessary subplots\n",
    "for j in range(i + 1, len(axes)):\n",
    "    fig.delaxes(axes[j])\n",
    "\n",
    "\n",
    "plt.subplots_adjust(hspace=0.7)  \n",
    "plt.tight_layout(pad=3.0) \n",
    "\n",
    "# save the barplots\n",
    "dir_path = os.path.join(os.getcwd(), \"../results/comparison/\")\n",
    "path = os.path.join(dir_path, \"avg_evaluation_metrics_plots.png\")\n",
    "os.makedirs(os.path.dirname(dir_path), exist_ok=True)\n",
    "plt.savefig(path, dpi=300)\n",
    "\n",
    "# Show the plot\n",
    "plt.show()\n"
   ]
  },
  {
   "cell_type": "markdown",
   "metadata": {},
   "source": [
    "### Check The Similarity Of Topic Assignments Across Chats\n",
    "\n",
    "Now, we can compare the similarities between topic assignments generated using different features. To do this, we’ll calculate the Adjusted Rand Score and visualize their pairwise similarities in a heatmap.\n",
    "\n",
    "Before starting this analysis, however, we need to re-add a previously removed chat to the filtered dataframe. Since we consider this chat as \"not clustered,\" we’ll assign it to the \"Other\" topic (-1).\n",
    "\n",
    "The chat was presumably removed, as it consisted solely of forwarded messages from other chats in our dataset."
   ]
  },
  {
   "cell_type": "code",
   "execution_count": 73,
   "metadata": {},
   "outputs": [
    {
     "name": "stdout",
     "output_type": "stream",
     "text": [
      "Number of chat vectors: 351\n",
      "Number of filtered chat vectors after adding the chat: 351\n"
     ]
    }
   ],
   "source": [
    "# as one chat was removed from the filtered chat vectors, the topic model has one topic less. To enable comparison, we will add it back to the vector and set it to -1\n",
    "filtered_topics = filtered_topic_model.topics_\n",
    "all_chat_ids = np.array(base_chat_vectors.index)\n",
    "filtered_chat_ids = np.array(filtered_chat_vectors.index)\n",
    "missing_chat_id = np.setdiff1d(all_chat_ids, filtered_chat_ids)[0]\n",
    "missing_chat_index = np.where(all_chat_ids == missing_chat_id)[0][0]\n",
    "filtered_topics_fixed = np.insert(filtered_topics, missing_chat_index, -1) # insert at the right index to maintain the order of chat assignments for comparison\n",
    "\n",
    "print(f\"Number of chat vectors: {len(all_chat_ids)}\")\n",
    "print(f\"Number of filtered chat vectors after adding the chat: {len(filtered_topics_fixed)}\")"
   ]
  },
  {
   "cell_type": "code",
   "execution_count": 74,
   "metadata": {},
   "outputs": [
    {
     "data": {
      "image/png": "[encoded data removed]",
      "text/plain": [
       "<Figure size 800x800 with 1 Axes>"
      ]
     },
     "metadata": {},
     "output_type": "display_data"
    }
   ],
   "source": [
    "# load the remaining topics\n",
    "base_topics = base_topic_model.topics_\n",
    "webpreview_topics = webpreview_topic_model.topics_\n",
    "combined_webpreview_topics = combined_webpreview_topic_model.topics_\n",
    "structural_topics = structural_topic_model.topics_\n",
    "combined_structural_topics = combined_structural_topic_model.topics_\n",
    "\n",
    "# List of topic assignments\n",
    "topics = [\n",
    "    base_topics, \n",
    "    filtered_topics_fixed, \n",
    "    webpreview_topics, \n",
    "    combined_webpreview_topics, \n",
    "    structural_topics, \n",
    "    combined_structural_topics\n",
    "]\n",
    "\n",
    "# Labels for the heatmap\n",
    "labels = [\"Base\", \"Filtered\", \"Web Preview\", \"Combined Web Preview\", \"Structural\", \"Combined Structural\"]\n",
    "\n",
    "# Calculate the Adjusted Rand Index (ARI) matrix for all model combinations\n",
    "num_models = len(topics)\n",
    "rand_matrix = np.zeros((num_models, num_models))\n",
    "for i in range(num_models):\n",
    "    for j in range(num_models):\n",
    "        rand_matrix[i, j] = adjusted_rand_score(topics[i], topics[j])\n",
    "\n",
    "# Visualize the ARI results in a heatmap without the color bar\n",
    "plt.figure(figsize=(8, 8))\n",
    "ax = sns.heatmap(rand_matrix, annot=True, cmap=\"Greys\", xticklabels=labels, yticklabels=labels, fmt=\".2f\", \n",
    "                 cbar=False, annot_kws={\"size\": 8})\n",
    "\n",
    "# Set aspect ratio to equal and adjust font size for tick labels and title\n",
    "ax.set_aspect(\"equal\")\n",
    "plt.xticks(fontsize=10)\n",
    "plt.yticks(fontsize=10)\n",
    "plt.title(\"Adjusted Rand Index between Topic Models\", fontsize=12, pad=20)\n",
    "\n",
    "# save the heatmap\n",
    "dir_path = os.path.join(os.getcwd(), \"../results/comparison/\")\n",
    "path = os.path.join(dir_path, \"topic_model_comparison_heatmap.png\")\n",
    "os.makedirs(os.path.dirname(dir_path), exist_ok=True)\n",
    "plt.tight_layout()\n",
    "plt.savefig(path, dpi=300)\n",
    "\n",
    "# Show the heatmap\n",
    "plt.show()\n"
   ]
  },
  {
   "cell_type": "markdown",
   "metadata": {},
   "source": [
    "### Visualize The Movement Of Assignments Between Features\n",
    "\n",
    "Finally, we map the way that topic assignments have changed for each feature when compared to the traditional approach of using aggregated message embeddings as chat representations for clustering. For this purpose, we’ll create a Sankey diagram for each feature."
   ]
  },
  {
   "cell_type": "code",
   "execution_count": 75,
   "metadata": {},
   "outputs": [
    {
     "data": {
      "application/vnd.plotly.v1+json": {
       "config": {
        "plotlyServerURL": "https://plot.ly"
       },
       "data": [
        {
         "link": {
          "color": [
           "rgba(50, 50, 50, 0.1)",
           "rgba(50, 50, 50, 0.1)",
           "rgba(50, 50, 50, 0.1)",
           "rgba(50, 50, 50, 0.6309963099630996)",
           "rgba(50, 50, 50, 0.1)",
           "rgba(50, 50, 50, 0.1)",
           "rgba(50, 50, 50, 0.1)",
           "rgba(50, 50, 50, 0.1918819188191882)",
           "rgba(50, 50, 50, 0.11070110701107011)",
           "rgba(50, 50, 50, 0.1)",
           "rgba(50, 50, 50, 0.1)",
           "rgba(50, 50, 50, 0.1)"
          ],
          "source": [
           0,
           0,
           1,
           1,
           1,
           2,
           2,
           2,
           2,
           2,
           3,
           3
          ],
          "target": [
           4,
           5,
           4,
           5,
           8,
           4,
           5,
           6,
           7,
           9,
           4,
           8
          ],
          "value": [
           7,
           1,
           12,
           171,
           2,
           25,
           2,
           52,
           30,
           21,
           3,
           25
          ]
         },
         "node": {
          "color": "lightgrey",
          "label": [
           "Base_-1",
           "Base_0",
           "Base_1",
           "Base_2",
           "Filtered_-1",
           "Filtered_0",
           "Filtered_1",
           "Filtered_2",
           "Filtered_3",
           "Filtered_4"
          ],
          "line": {
           "color": "black",
           "width": 0.5
          },
          "pad": 15,
          "thickness": 20
         },
         "type": "sankey"
        }
       ],
       "layout": {
        "font": {
         "size": 12
        },
        "margin": {
         "b": 40,
         "l": 40,
         "r": 40,
         "t": 40
        },
        "paper_bgcolor": "rgba(240, 240, 240, 1)",
        "plot_bgcolor": "rgba(255, 255, 255, 1)",
        "template": {
         "data": {
          "bar": [
           {
            "error_x": {
             "color": "#2a3f5f"
            },
            "error_y": {
             "color": "#2a3f5f"
            },
            "marker": {
             "line": {
              "color": "#E5ECF6",
              "width": 0.5
             },
             "pattern": {
              "fillmode": "overlay",
              "size": 10,
              "solidity": 0.2
             }
            },
            "type": "bar"
           }
          ],
          "barpolar": [
           {
            "marker": {
             "line": {
              "color": "#E5ECF6",
              "width": 0.5
             },
             "pattern": {
              "fillmode": "overlay",
              "size": 10,
              "solidity": 0.2
             }
            },
            "type": "barpolar"
           }
          ],
          "carpet": [
           {
            "aaxis": {
             "endlinecolor": "#2a3f5f",
             "gridcolor": "white",
             "linecolor": "white",
             "minorgridcolor": "white",
             "startlinecolor": "#2a3f5f"
            },
            "baxis": {
             "endlinecolor": "#2a3f5f",
             "gridcolor": "white",
             "linecolor": "white",
             "minorgridcolor": "white",
             "startlinecolor": "#2a3f5f"
            },
            "type": "carpet"
           }
          ],
          "choropleth": [
           {
            "colorbar": {
             "outlinewidth": 0,
             "ticks": ""
            },
            "type": "choropleth"
           }
          ],
          "contour": [
           {
            "colorbar": {
             "outlinewidth": 0,
             "ticks": ""
            },
            "colorscale": [
             [
              0,
              "#0d0887"
             ],
             [
              0.1111111111111111,
              "#46039f"
             ],
             [
              0.2222222222222222,
              "#7201a8"
             ],
             [
              0.3333333333333333,
              "#9c179e"
             ],
             [
              0.4444444444444444,
              "#bd3786"
             ],
             [
              0.5555555555555556,
              "#d8576b"
             ],
             [
              0.6666666666666666,
              "#ed7953"
             ],
             [
              0.7777777777777778,
              "#fb9f3a"
             ],
             [
              0.8888888888888888,
              "#fdca26"
             ],
             [
              1,
              "#f0f921"
             ]
            ],
            "type": "contour"
           }
          ],
          "contourcarpet": [
           {
            "colorbar": {
             "outlinewidth": 0,
             "ticks": ""
            },
            "type": "contourcarpet"
           }
          ],
          "heatmap": [
           {
            "colorbar": {
             "outlinewidth": 0,
             "ticks": ""
            },
            "colorscale": [
             [
              0,
              "#0d0887"
             ],
             [
              0.1111111111111111,
              "#46039f"
             ],
             [
              0.2222222222222222,
              "#7201a8"
             ],
             [
              0.3333333333333333,
              "#9c179e"
             ],
             [
              0.4444444444444444,
              "#bd3786"
             ],
             [
              0.5555555555555556,
              "#d8576b"
             ],
             [
              0.6666666666666666,
              "#ed7953"
             ],
             [
              0.7777777777777778,
              "#fb9f3a"
             ],
             [
              0.8888888888888888,
              "#fdca26"
             ],
             [
              1,
              "#f0f921"
             ]
            ],
            "type": "heatmap"
           }
          ],
          "heatmapgl": [
           {
            "colorbar": {
             "outlinewidth": 0,
             "ticks": ""
            },
            "colorscale": [
             [
              0,
              "#0d0887"
             ],
             [
              0.1111111111111111,
              "#46039f"
             ],
             [
              0.2222222222222222,
              "#7201a8"
             ],
             [
              0.3333333333333333,
              "#9c179e"
             ],
             [
              0.4444444444444444,
              "#bd3786"
             ],
             [
              0.5555555555555556,
              "#d8576b"
             ],
             [
              0.6666666666666666,
              "#ed7953"
             ],
             [
              0.7777777777777778,
              "#fb9f3a"
             ],
             [
              0.8888888888888888,
              "#fdca26"
             ],
             [
              1,
              "#f0f921"
             ]
            ],
            "type": "heatmapgl"
           }
          ],
          "histogram": [
           {
            "marker": {
             "pattern": {
              "fillmode": "overlay",
              "size": 10,
              "solidity": 0.2
             }
            },
            "type": "histogram"
           }
          ],
          "histogram2d": [
           {
            "colorbar": {
             "outlinewidth": 0,
             "ticks": ""
            },
            "colorscale": [
             [
              0,
              "#0d0887"
             ],
             [
              0.1111111111111111,
              "#46039f"
             ],
             [
              0.2222222222222222,
              "#7201a8"
             ],
             [
              0.3333333333333333,
              "#9c179e"
             ],
             [
              0.4444444444444444,
              "#bd3786"
             ],
             [
              0.5555555555555556,
              "#d8576b"
             ],
             [
              0.6666666666666666,
              "#ed7953"
             ],
             [
              0.7777777777777778,
              "#fb9f3a"
             ],
             [
              0.8888888888888888,
              "#fdca26"
             ],
             [
              1,
              "#f0f921"
             ]
            ],
            "type": "histogram2d"
           }
          ],
          "histogram2dcontour": [
           {
            "colorbar": {
             "outlinewidth": 0,
             "ticks": ""
            },
            "colorscale": [
             [
              0,
              "#0d0887"
             ],
             [
              0.1111111111111111,
              "#46039f"
             ],
             [
              0.2222222222222222,
              "#7201a8"
             ],
             [
              0.3333333333333333,
              "#9c179e"
             ],
             [
              0.4444444444444444,
              "#bd3786"
             ],
             [
              0.5555555555555556,
              "#d8576b"
             ],
             [
              0.6666666666666666,
              "#ed7953"
             ],
             [
              0.7777777777777778,
              "#fb9f3a"
             ],
             [
              0.8888888888888888,
              "#fdca26"
             ],
             [
              1,
              "#f0f921"
             ]
            ],
            "type": "histogram2dcontour"
           }
          ],
          "mesh3d": [
           {
            "colorbar": {
             "outlinewidth": 0,
             "ticks": ""
            },
            "type": "mesh3d"
           }
          ],
          "parcoords": [
           {
            "line": {
             "colorbar": {
              "outlinewidth": 0,
              "ticks": ""
             }
            },
            "type": "parcoords"
           }
          ],
          "pie": [
           {
            "automargin": true,
            "type": "pie"
           }
          ],
          "scatter": [
           {
            "fillpattern": {
             "fillmode": "overlay",
             "size": 10,
             "solidity": 0.2
            },
            "type": "scatter"
           }
          ],
          "scatter3d": [
           {
            "line": {
             "colorbar": {
              "outlinewidth": 0,
              "ticks": ""
             }
            },
            "marker": {
             "colorbar": {
              "outlinewidth": 0,
              "ticks": ""
             }
            },
            "type": "scatter3d"
           }
          ],
          "scattercarpet": [
           {
            "marker": {
             "colorbar": {
              "outlinewidth": 0,
              "ticks": ""
             }
            },
            "type": "scattercarpet"
           }
          ],
          "scattergeo": [
           {
            "marker": {
             "colorbar": {
              "outlinewidth": 0,
              "ticks": ""
             }
            },
            "type": "scattergeo"
           }
          ],
          "scattergl": [
           {
            "marker": {
             "colorbar": {
              "outlinewidth": 0,
              "ticks": ""
             }
            },
            "type": "scattergl"
           }
          ],
          "scattermapbox": [
           {
            "marker": {
             "colorbar": {
              "outlinewidth": 0,
              "ticks": ""
             }
            },
            "type": "scattermapbox"
           }
          ],
          "scatterpolar": [
           {
            "marker": {
             "colorbar": {
              "outlinewidth": 0,
              "ticks": ""
             }
            },
            "type": "scatterpolar"
           }
          ],
          "scatterpolargl": [
           {
            "marker": {
             "colorbar": {
              "outlinewidth": 0,
              "ticks": ""
             }
            },
            "type": "scatterpolargl"
           }
          ],
          "scatterternary": [
           {
            "marker": {
             "colorbar": {
              "outlinewidth": 0,
              "ticks": ""
             }
            },
            "type": "scatterternary"
           }
          ],
          "surface": [
           {
            "colorbar": {
             "outlinewidth": 0,
             "ticks": ""
            },
            "colorscale": [
             [
              0,
              "#0d0887"
             ],
             [
              0.1111111111111111,
              "#46039f"
             ],
             [
              0.2222222222222222,
              "#7201a8"
             ],
             [
              0.3333333333333333,
              "#9c179e"
             ],
             [
              0.4444444444444444,
              "#bd3786"
             ],
             [
              0.5555555555555556,
              "#d8576b"
             ],
             [
              0.6666666666666666,
              "#ed7953"
             ],
             [
              0.7777777777777778,
              "#fb9f3a"
             ],
             [
              0.8888888888888888,
              "#fdca26"
             ],
             [
              1,
              "#f0f921"
             ]
            ],
            "type": "surface"
           }
          ],
          "table": [
           {
            "cells": {
             "fill": {
              "color": "#EBF0F8"
             },
             "line": {
              "color": "white"
             }
            },
            "header": {
             "fill": {
              "color": "#C8D4E3"
             },
             "line": {
              "color": "white"
             }
            },
            "type": "table"
           }
          ]
         },
         "layout": {
          "annotationdefaults": {
           "arrowcolor": "#2a3f5f",
           "arrowhead": 0,
           "arrowwidth": 1
          },
          "autotypenumbers": "strict",
          "coloraxis": {
           "colorbar": {
            "outlinewidth": 0,
            "ticks": ""
           }
          },
          "colorscale": {
           "diverging": [
            [
             0,
             "#8e0152"
            ],
            [
             0.1,
             "#c51b7d"
            ],
            [
             0.2,
             "#de77ae"
            ],
            [
             0.3,
             "#f1b6da"
            ],
            [
             0.4,
             "#fde0ef"
            ],
            [
             0.5,
             "#f7f7f7"
            ],
            [
             0.6,
             "#e6f5d0"
            ],
            [
             0.7,
             "#b8e186"
            ],
            [
             0.8,
             "#7fbc41"
            ],
            [
             0.9,
             "#4d9221"
            ],
            [
             1,
             "#276419"
            ]
           ],
           "sequential": [
            [
             0,
             "#0d0887"
            ],
            [
             0.1111111111111111,
             "#46039f"
            ],
            [
             0.2222222222222222,
             "#7201a8"
            ],
            [
             0.3333333333333333,
             "#9c179e"
            ],
            [
             0.4444444444444444,
             "#bd3786"
            ],
            [
             0.5555555555555556,
             "#d8576b"
            ],
            [
             0.6666666666666666,
             "#ed7953"
            ],
            [
             0.7777777777777778,
             "#fb9f3a"
            ],
            [
             0.8888888888888888,
             "#fdca26"
            ],
            [
             1,
             "#f0f921"
            ]
           ],
           "sequentialminus": [
            [
             0,
             "#0d0887"
            ],
            [
             0.1111111111111111,
             "#46039f"
            ],
            [
             0.2222222222222222,
             "#7201a8"
            ],
            [
             0.3333333333333333,
             "#9c179e"
            ],
            [
             0.4444444444444444,
             "#bd3786"
            ],
            [
             0.5555555555555556,
             "#d8576b"
            ],
            [
             0.6666666666666666,
             "#ed7953"
            ],
            [
             0.7777777777777778,
             "#fb9f3a"
            ],
            [
             0.8888888888888888,
             "#fdca26"
            ],
            [
             1,
             "#f0f921"
            ]
           ]
          },
          "colorway": [
           "#636efa",
           "#EF553B",
           "#00cc96",
           "#ab63fa",
           "#FFA15A",
           "#19d3f3",
           "#FF6692",
           "#B6E880",
           "#FF97FF",
           "#FECB52"
          ],
          "font": {
           "color": "#2a3f5f"
          },
          "geo": {
           "bgcolor": "white",
           "lakecolor": "white",
           "landcolor": "#E5ECF6",
           "showlakes": true,
           "showland": true,
           "subunitcolor": "white"
          },
          "hoverlabel": {
           "align": "left"
          },
          "hovermode": "closest",
          "mapbox": {
           "style": "light"
          },
          "paper_bgcolor": "white",
          "plot_bgcolor": "#E5ECF6",
          "polar": {
           "angularaxis": {
            "gridcolor": "white",
            "linecolor": "white",
            "ticks": ""
           },
           "bgcolor": "#E5ECF6",
           "radialaxis": {
            "gridcolor": "white",
            "linecolor": "white",
            "ticks": ""
           }
          },
          "scene": {
           "xaxis": {
            "backgroundcolor": "#E5ECF6",
            "gridcolor": "white",
            "gridwidth": 2,
            "linecolor": "white",
            "showbackground": true,
            "ticks": "",
            "zerolinecolor": "white"
           },
           "yaxis": {
            "backgroundcolor": "#E5ECF6",
            "gridcolor": "white",
            "gridwidth": 2,
            "linecolor": "white",
            "showbackground": true,
            "ticks": "",
            "zerolinecolor": "white"
           },
           "zaxis": {
            "backgroundcolor": "#E5ECF6",
            "gridcolor": "white",
            "gridwidth": 2,
            "linecolor": "white",
            "showbackground": true,
            "ticks": "",
            "zerolinecolor": "white"
           }
          },
          "shapedefaults": {
           "line": {
            "color": "#2a3f5f"
           }
          },
          "ternary": {
           "aaxis": {
            "gridcolor": "white",
            "linecolor": "white",
            "ticks": ""
           },
           "baxis": {
            "gridcolor": "white",
            "linecolor": "white",
            "ticks": ""
           },
           "bgcolor": "#E5ECF6",
           "caxis": {
            "gridcolor": "white",
            "linecolor": "white",
            "ticks": ""
           }
          },
          "title": {
           "x": 0.05
          },
          "xaxis": {
           "automargin": true,
           "gridcolor": "white",
           "linecolor": "white",
           "ticks": "",
           "title": {
            "standoff": 15
           },
           "zerolinecolor": "white",
           "zerolinewidth": 2
          },
          "yaxis": {
           "automargin": true,
           "gridcolor": "white",
           "linecolor": "white",
           "ticks": "",
           "title": {
            "standoff": 15
           },
           "zerolinecolor": "white",
           "zerolinewidth": 2
          }
         }
        },
        "title": {
         "font": {
          "size": 15
         },
         "text": "Topic Assignment Changes between the Clusterings based on the Base- and the Filtered Feature",
         "x": 0.5
        }
       }
      }
     },
     "metadata": {},
     "output_type": "display_data"
    }
   ],
   "source": [
    "fig = plot_topic_changes(\"Base\", \"Filtered\", base_topics, filtered_topics_fixed)\n",
    "path = os.path.join(os.getcwd(), \"../results/filtered_embeddings/base_filtered_topic_changes.png\")\n",
    "fig.write_image(path, width=1600, height=600, scale=2)\n",
    "fig.show()"
   ]
  },
  {
   "cell_type": "code",
   "execution_count": 76,
   "metadata": {},
   "outputs": [
    {
     "data": {
      "application/vnd.plotly.v1+json": {
       "config": {
        "plotlyServerURL": "https://plot.ly"
       },
       "data": [
        {
         "link": {
          "color": [
           "rgba(50, 50, 50, 0.1)",
           "rgba(50, 50, 50, 0.1)",
           "rgba(50, 50, 50, 0.1)",
           "rgba(50, 50, 50, 0.12087912087912088)",
           "rgba(50, 50, 50, 0.45054945054945056)",
           "rgba(50, 50, 50, 0.1)",
           "rgba(50, 50, 50, 0.3131868131868132)",
           "rgba(50, 50, 50, 0.1)",
           "rgba(50, 50, 50, 0.1)",
           "rgba(50, 50, 50, 0.1)",
           "rgba(50, 50, 50, 0.1)",
           "rgba(50, 50, 50, 0.42857142857142855)",
           "rgba(50, 50, 50, 0.1)",
           "rgba(50, 50, 50, 0.1)",
           "rgba(50, 50, 50, 0.1)",
           "rgba(50, 50, 50, 0.1)",
           "rgba(50, 50, 50, 0.13186813186813187)",
           "rgba(50, 50, 50, 0.1)"
          ],
          "source": [
           0,
           0,
           0,
           1,
           1,
           1,
           1,
           1,
           1,
           2,
           2,
           2,
           2,
           2,
           2,
           3,
           3,
           3
          ],
          "target": [
           4,
           7,
           8,
           4,
           5,
           6,
           7,
           8,
           9,
           4,
           5,
           6,
           7,
           8,
           9,
           4,
           5,
           8
          ],
          "value": [
           3,
           1,
           4,
           22,
           82,
           6,
           57,
           14,
           4,
           16,
           11,
           78,
           3,
           14,
           8,
           3,
           24,
           1
          ]
         },
         "node": {
          "color": "lightgrey",
          "label": [
           "Base_-1",
           "Base_0",
           "Base_1",
           "Base_2",
           "Web Preview_-1",
           "Web Preview_0",
           "Web Preview_1",
           "Web Preview_2",
           "Web Preview_3",
           "Web Preview_4"
          ],
          "line": {
           "color": "black",
           "width": 0.5
          },
          "pad": 15,
          "thickness": 20
         },
         "type": "sankey"
        }
       ],
       "layout": {
        "font": {
         "size": 12
        },
        "margin": {
         "b": 40,
         "l": 40,
         "r": 40,
         "t": 40
        },
        "paper_bgcolor": "rgba(240, 240, 240, 1)",
        "plot_bgcolor": "rgba(255, 255, 255, 1)",
        "template": {
         "data": {
          "bar": [
           {
            "error_x": {
             "color": "#2a3f5f"
            },
            "error_y": {
             "color": "#2a3f5f"
            },
            "marker": {
             "line": {
              "color": "#E5ECF6",
              "width": 0.5
             },
             "pattern": {
              "fillmode": "overlay",
              "size": 10,
              "solidity": 0.2
             }
            },
            "type": "bar"
           }
          ],
          "barpolar": [
           {
            "marker": {
             "line": {
              "color": "#E5ECF6",
              "width": 0.5
             },
             "pattern": {
              "fillmode": "overlay",
              "size": 10,
              "solidity": 0.2
             }
            },
            "type": "barpolar"
           }
          ],
          "carpet": [
           {
            "aaxis": {
             "endlinecolor": "#2a3f5f",
             "gridcolor": "white",
             "linecolor": "white",
             "minorgridcolor": "white",
             "startlinecolor": "#2a3f5f"
            },
            "baxis": {
             "endlinecolor": "#2a3f5f",
             "gridcolor": "white",
             "linecolor": "white",
             "minorgridcolor": "white",
             "startlinecolor": "#2a3f5f"
            },
            "type": "carpet"
           }
          ],
          "choropleth": [
           {
            "colorbar": {
             "outlinewidth": 0,
             "ticks": ""
            },
            "type": "choropleth"
           }
          ],
          "contour": [
           {
            "colorbar": {
             "outlinewidth": 0,
             "ticks": ""
            },
            "colorscale": [
             [
              0,
              "#0d0887"
             ],
             [
              0.1111111111111111,
              "#46039f"
             ],
             [
              0.2222222222222222,
              "#7201a8"
             ],
             [
              0.3333333333333333,
              "#9c179e"
             ],
             [
              0.4444444444444444,
              "#bd3786"
             ],
             [
              0.5555555555555556,
              "#d8576b"
             ],
             [
              0.6666666666666666,
              "#ed7953"
             ],
             [
              0.7777777777777778,
              "#fb9f3a"
             ],
             [
              0.8888888888888888,
              "#fdca26"
             ],
             [
              1,
              "#f0f921"
             ]
            ],
            "type": "contour"
           }
          ],
          "contourcarpet": [
           {
            "colorbar": {
             "outlinewidth": 0,
             "ticks": ""
            },
            "type": "contourcarpet"
           }
          ],
          "heatmap": [
           {
            "colorbar": {
             "outlinewidth": 0,
             "ticks": ""
            },
            "colorscale": [
             [
              0,
              "#0d0887"
             ],
             [
              0.1111111111111111,
              "#46039f"
             ],
             [
              0.2222222222222222,
              "#7201a8"
             ],
             [
              0.3333333333333333,
              "#9c179e"
             ],
             [
              0.4444444444444444,
              "#bd3786"
             ],
             [
              0.5555555555555556,
              "#d8576b"
             ],
             [
              0.6666666666666666,
              "#ed7953"
             ],
             [
              0.7777777777777778,
              "#fb9f3a"
             ],
             [
              0.8888888888888888,
              "#fdca26"
             ],
             [
              1,
              "#f0f921"
             ]
            ],
            "type": "heatmap"
           }
          ],
          "heatmapgl": [
           {
            "colorbar": {
             "outlinewidth": 0,
             "ticks": ""
            },
            "colorscale": [
             [
              0,
              "#0d0887"
             ],
             [
              0.1111111111111111,
              "#46039f"
             ],
             [
              0.2222222222222222,
              "#7201a8"
             ],
             [
              0.3333333333333333,
              "#9c179e"
             ],
             [
              0.4444444444444444,
              "#bd3786"
             ],
             [
              0.5555555555555556,
              "#d8576b"
             ],
             [
              0.6666666666666666,
              "#ed7953"
             ],
             [
              0.7777777777777778,
              "#fb9f3a"
             ],
             [
              0.8888888888888888,
              "#fdca26"
             ],
             [
              1,
              "#f0f921"
             ]
            ],
            "type": "heatmapgl"
           }
          ],
          "histogram": [
           {
            "marker": {
             "pattern": {
              "fillmode": "overlay",
              "size": 10,
              "solidity": 0.2
             }
            },
            "type": "histogram"
           }
          ],
          "histogram2d": [
           {
            "colorbar": {
             "outlinewidth": 0,
             "ticks": ""
            },
            "colorscale": [
             [
              0,
              "#0d0887"
             ],
             [
              0.1111111111111111,
              "#46039f"
             ],
             [
              0.2222222222222222,
              "#7201a8"
             ],
             [
              0.3333333333333333,
              "#9c179e"
             ],
             [
              0.4444444444444444,
              "#bd3786"
             ],
             [
              0.5555555555555556,
              "#d8576b"
             ],
             [
              0.6666666666666666,
              "#ed7953"
             ],
             [
              0.7777777777777778,
              "#fb9f3a"
             ],
             [
              0.8888888888888888,
              "#fdca26"
             ],
             [
              1,
              "#f0f921"
             ]
            ],
            "type": "histogram2d"
           }
          ],
          "histogram2dcontour": [
           {
            "colorbar": {
             "outlinewidth": 0,
             "ticks": ""
            },
            "colorscale": [
             [
              0,
              "#0d0887"
             ],
             [
              0.1111111111111111,
              "#46039f"
             ],
             [
              0.2222222222222222,
              "#7201a8"
             ],
             [
              0.3333333333333333,
              "#9c179e"
             ],
             [
              0.4444444444444444,
              "#bd3786"
             ],
             [
              0.5555555555555556,
              "#d8576b"
             ],
             [
              0.6666666666666666,
              "#ed7953"
             ],
             [
              0.7777777777777778,
              "#fb9f3a"
             ],
             [
              0.8888888888888888,
              "#fdca26"
             ],
             [
              1,
              "#f0f921"
             ]
            ],
            "type": "histogram2dcontour"
           }
          ],
          "mesh3d": [
           {
            "colorbar": {
             "outlinewidth": 0,
             "ticks": ""
            },
            "type": "mesh3d"
           }
          ],
          "parcoords": [
           {
            "line": {
             "colorbar": {
              "outlinewidth": 0,
              "ticks": ""
             }
            },
            "type": "parcoords"
           }
          ],
          "pie": [
           {
            "automargin": true,
            "type": "pie"
           }
          ],
          "scatter": [
           {
            "fillpattern": {
             "fillmode": "overlay",
             "size": 10,
             "solidity": 0.2
            },
            "type": "scatter"
           }
          ],
          "scatter3d": [
           {
            "line": {
             "colorbar": {
              "outlinewidth": 0,
              "ticks": ""
             }
            },
            "marker": {
             "colorbar": {
              "outlinewidth": 0,
              "ticks": ""
             }
            },
            "type": "scatter3d"
           }
          ],
          "scattercarpet": [
           {
            "marker": {
             "colorbar": {
              "outlinewidth": 0,
              "ticks": ""
             }
            },
            "type": "scattercarpet"
           }
          ],
          "scattergeo": [
           {
            "marker": {
             "colorbar": {
              "outlinewidth": 0,
              "ticks": ""
             }
            },
            "type": "scattergeo"
           }
          ],
          "scattergl": [
           {
            "marker": {
             "colorbar": {
              "outlinewidth": 0,
              "ticks": ""
             }
            },
            "type": "scattergl"
           }
          ],
          "scattermapbox": [
           {
            "marker": {
             "colorbar": {
              "outlinewidth": 0,
              "ticks": ""
             }
            },
            "type": "scattermapbox"
           }
          ],
          "scatterpolar": [
           {
            "marker": {
             "colorbar": {
              "outlinewidth": 0,
              "ticks": ""
             }
            },
            "type": "scatterpolar"
           }
          ],
          "scatterpolargl": [
           {
            "marker": {
             "colorbar": {
              "outlinewidth": 0,
              "ticks": ""
             }
            },
            "type": "scatterpolargl"
           }
          ],
          "scatterternary": [
           {
            "marker": {
             "colorbar": {
              "outlinewidth": 0,
              "ticks": ""
             }
            },
            "type": "scatterternary"
           }
          ],
          "surface": [
           {
            "colorbar": {
             "outlinewidth": 0,
             "ticks": ""
            },
            "colorscale": [
             [
              0,
              "#0d0887"
             ],
             [
              0.1111111111111111,
              "#46039f"
             ],
             [
              0.2222222222222222,
              "#7201a8"
             ],
             [
              0.3333333333333333,
              "#9c179e"
             ],
             [
              0.4444444444444444,
              "#bd3786"
             ],
             [
              0.5555555555555556,
              "#d8576b"
             ],
             [
              0.6666666666666666,
              "#ed7953"
             ],
             [
              0.7777777777777778,
              "#fb9f3a"
             ],
             [
              0.8888888888888888,
              "#fdca26"
             ],
             [
              1,
              "#f0f921"
             ]
            ],
            "type": "surface"
           }
          ],
          "table": [
           {
            "cells": {
             "fill": {
              "color": "#EBF0F8"
             },
             "line": {
              "color": "white"
             }
            },
            "header": {
             "fill": {
              "color": "#C8D4E3"
             },
             "line": {
              "color": "white"
             }
            },
            "type": "table"
           }
          ]
         },
         "layout": {
          "annotationdefaults": {
           "arrowcolor": "#2a3f5f",
           "arrowhead": 0,
           "arrowwidth": 1
          },
          "autotypenumbers": "strict",
          "coloraxis": {
           "colorbar": {
            "outlinewidth": 0,
            "ticks": ""
           }
          },
          "colorscale": {
           "diverging": [
            [
             0,
             "#8e0152"
            ],
            [
             0.1,
             "#c51b7d"
            ],
            [
             0.2,
             "#de77ae"
            ],
            [
             0.3,
             "#f1b6da"
            ],
            [
             0.4,
             "#fde0ef"
            ],
            [
             0.5,
             "#f7f7f7"
            ],
            [
             0.6,
             "#e6f5d0"
            ],
            [
             0.7,
             "#b8e186"
            ],
            [
             0.8,
             "#7fbc41"
            ],
            [
             0.9,
             "#4d9221"
            ],
            [
             1,
             "#276419"
            ]
           ],
           "sequential": [
            [
             0,
             "#0d0887"
            ],
            [
             0.1111111111111111,
             "#46039f"
            ],
            [
             0.2222222222222222,
             "#7201a8"
            ],
            [
             0.3333333333333333,
             "#9c179e"
            ],
            [
             0.4444444444444444,
             "#bd3786"
            ],
            [
             0.5555555555555556,
             "#d8576b"
            ],
            [
             0.6666666666666666,
             "#ed7953"
            ],
            [
             0.7777777777777778,
             "#fb9f3a"
            ],
            [
             0.8888888888888888,
             "#fdca26"
            ],
            [
             1,
             "#f0f921"
            ]
           ],
           "sequentialminus": [
            [
             0,
             "#0d0887"
            ],
            [
             0.1111111111111111,
             "#46039f"
            ],
            [
             0.2222222222222222,
             "#7201a8"
            ],
            [
             0.3333333333333333,
             "#9c179e"
            ],
            [
             0.4444444444444444,
             "#bd3786"
            ],
            [
             0.5555555555555556,
             "#d8576b"
            ],
            [
             0.6666666666666666,
             "#ed7953"
            ],
            [
             0.7777777777777778,
             "#fb9f3a"
            ],
            [
             0.8888888888888888,
             "#fdca26"
            ],
            [
             1,
             "#f0f921"
            ]
           ]
          },
          "colorway": [
           "#636efa",
           "#EF553B",
           "#00cc96",
           "#ab63fa",
           "#FFA15A",
           "#19d3f3",
           "#FF6692",
           "#B6E880",
           "#FF97FF",
           "#FECB52"
          ],
          "font": {
           "color": "#2a3f5f"
          },
          "geo": {
           "bgcolor": "white",
           "lakecolor": "white",
           "landcolor": "#E5ECF6",
           "showlakes": true,
           "showland": true,
           "subunitcolor": "white"
          },
          "hoverlabel": {
           "align": "left"
          },
          "hovermode": "closest",
          "mapbox": {
           "style": "light"
          },
          "paper_bgcolor": "white",
          "plot_bgcolor": "#E5ECF6",
          "polar": {
           "angularaxis": {
            "gridcolor": "white",
            "linecolor": "white",
            "ticks": ""
           },
           "bgcolor": "#E5ECF6",
           "radialaxis": {
            "gridcolor": "white",
            "linecolor": "white",
            "ticks": ""
           }
          },
          "scene": {
           "xaxis": {
            "backgroundcolor": "#E5ECF6",
            "gridcolor": "white",
            "gridwidth": 2,
            "linecolor": "white",
            "showbackground": true,
            "ticks": "",
            "zerolinecolor": "white"
           },
           "yaxis": {
            "backgroundcolor": "#E5ECF6",
            "gridcolor": "white",
            "gridwidth": 2,
            "linecolor": "white",
            "showbackground": true,
            "ticks": "",
            "zerolinecolor": "white"
           },
           "zaxis": {
            "backgroundcolor": "#E5ECF6",
            "gridcolor": "white",
            "gridwidth": 2,
            "linecolor": "white",
            "showbackground": true,
            "ticks": "",
            "zerolinecolor": "white"
           }
          },
          "shapedefaults": {
           "line": {
            "color": "#2a3f5f"
           }
          },
          "ternary": {
           "aaxis": {
            "gridcolor": "white",
            "linecolor": "white",
            "ticks": ""
           },
           "baxis": {
            "gridcolor": "white",
            "linecolor": "white",
            "ticks": ""
           },
           "bgcolor": "#E5ECF6",
           "caxis": {
            "gridcolor": "white",
            "linecolor": "white",
            "ticks": ""
           }
          },
          "title": {
           "x": 0.05
          },
          "xaxis": {
           "automargin": true,
           "gridcolor": "white",
           "linecolor": "white",
           "ticks": "",
           "title": {
            "standoff": 15
           },
           "zerolinecolor": "white",
           "zerolinewidth": 2
          },
          "yaxis": {
           "automargin": true,
           "gridcolor": "white",
           "linecolor": "white",
           "ticks": "",
           "title": {
            "standoff": 15
           },
           "zerolinecolor": "white",
           "zerolinewidth": 2
          }
         }
        },
        "title": {
         "font": {
          "size": 15
         },
         "text": "Topic Assignment Changes between the Clusterings based on the Base- and the Web Preview Feature",
         "x": 0.5
        }
       }
      }
     },
     "metadata": {},
     "output_type": "display_data"
    }
   ],
   "source": [
    "fig = plot_topic_changes(\"Base\", \"Web Preview\", base_topics, webpreview_topics)\n",
    "path = os.path.join(os.getcwd(), \"../results/webpreview_embeddings/base_web_preview_topic_changes.png\")\n",
    "fig.write_image(path, width=1600, height=600, scale=2)\n",
    "fig.show()"
   ]
  },
  {
   "cell_type": "code",
   "execution_count": 77,
   "metadata": {},
   "outputs": [
    {
     "data": {
      "application/vnd.plotly.v1+json": {
       "config": {
        "plotlyServerURL": "https://plot.ly"
       },
       "data": [
        {
         "link": {
          "color": [
           "rgba(50, 50, 50, 0.1)",
           "rgba(50, 50, 50, 0.1)",
           "rgba(50, 50, 50, 0.1)",
           "rgba(50, 50, 50, 0.6453900709219859)",
           "rgba(50, 50, 50, 0.1)",
           "rgba(50, 50, 50, 0.1)",
           "rgba(50, 50, 50, 0.1)",
           "rgba(50, 50, 50, 0.44680851063829785)",
           "rgba(50, 50, 50, 0.1)",
           "rgba(50, 50, 50, 0.1)"
          ],
          "source": [
           0,
           0,
           1,
           1,
           1,
           2,
           2,
           2,
           3,
           3
          ],
          "target": [
           4,
           6,
           4,
           5,
           6,
           4,
           5,
           6,
           4,
           7
          ],
          "value": [
           5,
           3,
           1,
           182,
           2,
           3,
           1,
           126,
           2,
           26
          ]
         },
         "node": {
          "color": "lightgrey",
          "label": [
           "Base_-1",
           "Base_0",
           "Base_1",
           "Base_2",
           " Combined Web Preview_-1",
           " Combined Web Preview_0",
           " Combined Web Preview_1",
           " Combined Web Preview_2"
          ],
          "line": {
           "color": "black",
           "width": 0.5
          },
          "pad": 15,
          "thickness": 20
         },
         "type": "sankey"
        }
       ],
       "layout": {
        "font": {
         "size": 12
        },
        "margin": {
         "b": 40,
         "l": 40,
         "r": 40,
         "t": 40
        },
        "paper_bgcolor": "rgba(240, 240, 240, 1)",
        "plot_bgcolor": "rgba(255, 255, 255, 1)",
        "template": {
         "data": {
          "bar": [
           {
            "error_x": {
             "color": "#2a3f5f"
            },
            "error_y": {
             "color": "#2a3f5f"
            },
            "marker": {
             "line": {
              "color": "#E5ECF6",
              "width": 0.5
             },
             "pattern": {
              "fillmode": "overlay",
              "size": 10,
              "solidity": 0.2
             }
            },
            "type": "bar"
           }
          ],
          "barpolar": [
           {
            "marker": {
             "line": {
              "color": "#E5ECF6",
              "width": 0.5
             },
             "pattern": {
              "fillmode": "overlay",
              "size": 10,
              "solidity": 0.2
             }
            },
            "type": "barpolar"
           }
          ],
          "carpet": [
           {
            "aaxis": {
             "endlinecolor": "#2a3f5f",
             "gridcolor": "white",
             "linecolor": "white",
             "minorgridcolor": "white",
             "startlinecolor": "#2a3f5f"
            },
            "baxis": {
             "endlinecolor": "#2a3f5f",
             "gridcolor": "white",
             "linecolor": "white",
             "minorgridcolor": "white",
             "startlinecolor": "#2a3f5f"
            },
            "type": "carpet"
           }
          ],
          "choropleth": [
           {
            "colorbar": {
             "outlinewidth": 0,
             "ticks": ""
            },
            "type": "choropleth"
           }
          ],
          "contour": [
           {
            "colorbar": {
             "outlinewidth": 0,
             "ticks": ""
            },
            "colorscale": [
             [
              0,
              "#0d0887"
             ],
             [
              0.1111111111111111,
              "#46039f"
             ],
             [
              0.2222222222222222,
              "#7201a8"
             ],
             [
              0.3333333333333333,
              "#9c179e"
             ],
             [
              0.4444444444444444,
              "#bd3786"
             ],
             [
              0.5555555555555556,
              "#d8576b"
             ],
             [
              0.6666666666666666,
              "#ed7953"
             ],
             [
              0.7777777777777778,
              "#fb9f3a"
             ],
             [
              0.8888888888888888,
              "#fdca26"
             ],
             [
              1,
              "#f0f921"
             ]
            ],
            "type": "contour"
           }
          ],
          "contourcarpet": [
           {
            "colorbar": {
             "outlinewidth": 0,
             "ticks": ""
            },
            "type": "contourcarpet"
           }
          ],
          "heatmap": [
           {
            "colorbar": {
             "outlinewidth": 0,
             "ticks": ""
            },
            "colorscale": [
             [
              0,
              "#0d0887"
             ],
             [
              0.1111111111111111,
              "#46039f"
             ],
             [
              0.2222222222222222,
              "#7201a8"
             ],
             [
              0.3333333333333333,
              "#9c179e"
             ],
             [
              0.4444444444444444,
              "#bd3786"
             ],
             [
              0.5555555555555556,
              "#d8576b"
             ],
             [
              0.6666666666666666,
              "#ed7953"
             ],
             [
              0.7777777777777778,
              "#fb9f3a"
             ],
             [
              0.8888888888888888,
              "#fdca26"
             ],
             [
              1,
              "#f0f921"
             ]
            ],
            "type": "heatmap"
           }
          ],
          "heatmapgl": [
           {
            "colorbar": {
             "outlinewidth": 0,
             "ticks": ""
            },
            "colorscale": [
             [
              0,
              "#0d0887"
             ],
             [
              0.1111111111111111,
              "#46039f"
             ],
             [
              0.2222222222222222,
              "#7201a8"
             ],
             [
              0.3333333333333333,
              "#9c179e"
             ],
             [
              0.4444444444444444,
              "#bd3786"
             ],
             [
              0.5555555555555556,
              "#d8576b"
             ],
             [
              0.6666666666666666,
              "#ed7953"
             ],
             [
              0.7777777777777778,
              "#fb9f3a"
             ],
             [
              0.8888888888888888,
              "#fdca26"
             ],
             [
              1,
              "#f0f921"
             ]
            ],
            "type": "heatmapgl"
           }
          ],
          "histogram": [
           {
            "marker": {
             "pattern": {
              "fillmode": "overlay",
              "size": 10,
              "solidity": 0.2
             }
            },
            "type": "histogram"
           }
          ],
          "histogram2d": [
           {
            "colorbar": {
             "outlinewidth": 0,
             "ticks": ""
            },
            "colorscale": [
             [
              0,
              "#0d0887"
             ],
             [
              0.1111111111111111,
              "#46039f"
             ],
             [
              0.2222222222222222,
              "#7201a8"
             ],
             [
              0.3333333333333333,
              "#9c179e"
             ],
             [
              0.4444444444444444,
              "#bd3786"
             ],
             [
              0.5555555555555556,
              "#d8576b"
             ],
             [
              0.6666666666666666,
              "#ed7953"
             ],
             [
              0.7777777777777778,
              "#fb9f3a"
             ],
             [
              0.8888888888888888,
              "#fdca26"
             ],
             [
              1,
              "#f0f921"
             ]
            ],
            "type": "histogram2d"
           }
          ],
          "histogram2dcontour": [
           {
            "colorbar": {
             "outlinewidth": 0,
             "ticks": ""
            },
            "colorscale": [
             [
              0,
              "#0d0887"
             ],
             [
              0.1111111111111111,
              "#46039f"
             ],
             [
              0.2222222222222222,
              "#7201a8"
             ],
             [
              0.3333333333333333,
              "#9c179e"
             ],
             [
              0.4444444444444444,
              "#bd3786"
             ],
             [
              0.5555555555555556,
              "#d8576b"
             ],
             [
              0.6666666666666666,
              "#ed7953"
             ],
             [
              0.7777777777777778,
              "#fb9f3a"
             ],
             [
              0.8888888888888888,
              "#fdca26"
             ],
             [
              1,
              "#f0f921"
             ]
            ],
            "type": "histogram2dcontour"
           }
          ],
          "mesh3d": [
           {
            "colorbar": {
             "outlinewidth": 0,
             "ticks": ""
            },
            "type": "mesh3d"
           }
          ],
          "parcoords": [
           {
            "line": {
             "colorbar": {
              "outlinewidth": 0,
              "ticks": ""
             }
            },
            "type": "parcoords"
           }
          ],
          "pie": [
           {
            "automargin": true,
            "type": "pie"
           }
          ],
          "scatter": [
           {
            "fillpattern": {
             "fillmode": "overlay",
             "size": 10,
             "solidity": 0.2
            },
            "type": "scatter"
           }
          ],
          "scatter3d": [
           {
            "line": {
             "colorbar": {
              "outlinewidth": 0,
              "ticks": ""
             }
            },
            "marker": {
             "colorbar": {
              "outlinewidth": 0,
              "ticks": ""
             }
            },
            "type": "scatter3d"
           }
          ],
          "scattercarpet": [
           {
            "marker": {
             "colorbar": {
              "outlinewidth": 0,
              "ticks": ""
             }
            },
            "type": "scattercarpet"
           }
          ],
          "scattergeo": [
           {
            "marker": {
             "colorbar": {
              "outlinewidth": 0,
              "ticks": ""
             }
            },
            "type": "scattergeo"
           }
          ],
          "scattergl": [
           {
            "marker": {
             "colorbar": {
              "outlinewidth": 0,
              "ticks": ""
             }
            },
            "type": "scattergl"
           }
          ],
          "scattermapbox": [
           {
            "marker": {
             "colorbar": {
              "outlinewidth": 0,
              "ticks": ""
             }
            },
            "type": "scattermapbox"
           }
          ],
          "scatterpolar": [
           {
            "marker": {
             "colorbar": {
              "outlinewidth": 0,
              "ticks": ""
             }
            },
            "type": "scatterpolar"
           }
          ],
          "scatterpolargl": [
           {
            "marker": {
             "colorbar": {
              "outlinewidth": 0,
              "ticks": ""
             }
            },
            "type": "scatterpolargl"
           }
          ],
          "scatterternary": [
           {
            "marker": {
             "colorbar": {
              "outlinewidth": 0,
              "ticks": ""
             }
            },
            "type": "scatterternary"
           }
          ],
          "surface": [
           {
            "colorbar": {
             "outlinewidth": 0,
             "ticks": ""
            },
            "colorscale": [
             [
              0,
              "#0d0887"
             ],
             [
              0.1111111111111111,
              "#46039f"
             ],
             [
              0.2222222222222222,
              "#7201a8"
             ],
             [
              0.3333333333333333,
              "#9c179e"
             ],
             [
              0.4444444444444444,
              "#bd3786"
             ],
             [
              0.5555555555555556,
              "#d8576b"
             ],
             [
              0.6666666666666666,
              "#ed7953"
             ],
             [
              0.7777777777777778,
              "#fb9f3a"
             ],
             [
              0.8888888888888888,
              "#fdca26"
             ],
             [
              1,
              "#f0f921"
             ]
            ],
            "type": "surface"
           }
          ],
          "table": [
           {
            "cells": {
             "fill": {
              "color": "#EBF0F8"
             },
             "line": {
              "color": "white"
             }
            },
            "header": {
             "fill": {
              "color": "#C8D4E3"
             },
             "line": {
              "color": "white"
             }
            },
            "type": "table"
           }
          ]
         },
         "layout": {
          "annotationdefaults": {
           "arrowcolor": "#2a3f5f",
           "arrowhead": 0,
           "arrowwidth": 1
          },
          "autotypenumbers": "strict",
          "coloraxis": {
           "colorbar": {
            "outlinewidth": 0,
            "ticks": ""
           }
          },
          "colorscale": {
           "diverging": [
            [
             0,
             "#8e0152"
            ],
            [
             0.1,
             "#c51b7d"
            ],
            [
             0.2,
             "#de77ae"
            ],
            [
             0.3,
             "#f1b6da"
            ],
            [
             0.4,
             "#fde0ef"
            ],
            [
             0.5,
             "#f7f7f7"
            ],
            [
             0.6,
             "#e6f5d0"
            ],
            [
             0.7,
             "#b8e186"
            ],
            [
             0.8,
             "#7fbc41"
            ],
            [
             0.9,
             "#4d9221"
            ],
            [
             1,
             "#276419"
            ]
           ],
           "sequential": [
            [
             0,
             "#0d0887"
            ],
            [
             0.1111111111111111,
             "#46039f"
            ],
            [
             0.2222222222222222,
             "#7201a8"
            ],
            [
             0.3333333333333333,
             "#9c179e"
            ],
            [
             0.4444444444444444,
             "#bd3786"
            ],
            [
             0.5555555555555556,
             "#d8576b"
            ],
            [
             0.6666666666666666,
             "#ed7953"
            ],
            [
             0.7777777777777778,
             "#fb9f3a"
            ],
            [
             0.8888888888888888,
             "#fdca26"
            ],
            [
             1,
             "#f0f921"
            ]
           ],
           "sequentialminus": [
            [
             0,
             "#0d0887"
            ],
            [
             0.1111111111111111,
             "#46039f"
            ],
            [
             0.2222222222222222,
             "#7201a8"
            ],
            [
             0.3333333333333333,
             "#9c179e"
            ],
            [
             0.4444444444444444,
             "#bd3786"
            ],
            [
             0.5555555555555556,
             "#d8576b"
            ],
            [
             0.6666666666666666,
             "#ed7953"
            ],
            [
             0.7777777777777778,
             "#fb9f3a"
            ],
            [
             0.8888888888888888,
             "#fdca26"
            ],
            [
             1,
             "#f0f921"
            ]
           ]
          },
          "colorway": [
           "#636efa",
           "#EF553B",
           "#00cc96",
           "#ab63fa",
           "#FFA15A",
           "#19d3f3",
           "#FF6692",
           "#B6E880",
           "#FF97FF",
           "#FECB52"
          ],
          "font": {
           "color": "#2a3f5f"
          },
          "geo": {
           "bgcolor": "white",
           "lakecolor": "white",
           "landcolor": "#E5ECF6",
           "showlakes": true,
           "showland": true,
           "subunitcolor": "white"
          },
          "hoverlabel": {
           "align": "left"
          },
          "hovermode": "closest",
          "mapbox": {
           "style": "light"
          },
          "paper_bgcolor": "white",
          "plot_bgcolor": "#E5ECF6",
          "polar": {
           "angularaxis": {
            "gridcolor": "white",
            "linecolor": "white",
            "ticks": ""
           },
           "bgcolor": "#E5ECF6",
           "radialaxis": {
            "gridcolor": "white",
            "linecolor": "white",
            "ticks": ""
           }
          },
          "scene": {
           "xaxis": {
            "backgroundcolor": "#E5ECF6",
            "gridcolor": "white",
            "gridwidth": 2,
            "linecolor": "white",
            "showbackground": true,
            "ticks": "",
            "zerolinecolor": "white"
           },
           "yaxis": {
            "backgroundcolor": "#E5ECF6",
            "gridcolor": "white",
            "gridwidth": 2,
            "linecolor": "white",
            "showbackground": true,
            "ticks": "",
            "zerolinecolor": "white"
           },
           "zaxis": {
            "backgroundcolor": "#E5ECF6",
            "gridcolor": "white",
            "gridwidth": 2,
            "linecolor": "white",
            "showbackground": true,
            "ticks": "",
            "zerolinecolor": "white"
           }
          },
          "shapedefaults": {
           "line": {
            "color": "#2a3f5f"
           }
          },
          "ternary": {
           "aaxis": {
            "gridcolor": "white",
            "linecolor": "white",
            "ticks": ""
           },
           "baxis": {
            "gridcolor": "white",
            "linecolor": "white",
            "ticks": ""
           },
           "bgcolor": "#E5ECF6",
           "caxis": {
            "gridcolor": "white",
            "linecolor": "white",
            "ticks": ""
           }
          },
          "title": {
           "x": 0.05
          },
          "xaxis": {
           "automargin": true,
           "gridcolor": "white",
           "linecolor": "white",
           "ticks": "",
           "title": {
            "standoff": 15
           },
           "zerolinecolor": "white",
           "zerolinewidth": 2
          },
          "yaxis": {
           "automargin": true,
           "gridcolor": "white",
           "linecolor": "white",
           "ticks": "",
           "title": {
            "standoff": 15
           },
           "zerolinecolor": "white",
           "zerolinewidth": 2
          }
         }
        },
        "title": {
         "font": {
          "size": 15
         },
         "text": "Topic Assignment Changes between the Clusterings based on the Base- and the  Combined Web Preview Feature",
         "x": 0.5
        }
       }
      }
     },
     "metadata": {},
     "output_type": "display_data"
    }
   ],
   "source": [
    "fig = plot_topic_changes(\"Base\", \" Combined Web Preview\", base_topics, combined_webpreview_topics)\n",
    "path = os.path.join(os.getcwd(), \"../results/combined_webpreview_embeddings/base_combined_web_preview_topic_changes.png\")\n",
    "fig.write_image(path, width=1600, height=600, scale=2)\n",
    "fig.show()"
   ]
  },
  {
   "cell_type": "code",
   "execution_count": 78,
   "metadata": {},
   "outputs": [
    {
     "data": {
      "application/vnd.plotly.v1+json": {
       "config": {
        "plotlyServerURL": "https://plot.ly"
       },
       "data": [
        {
         "link": {
          "color": [
           "rgba(50, 50, 50, 0.1)",
           "rgba(50, 50, 50, 0.1)",
           "rgba(50, 50, 50, 0.1)",
           "rgba(50, 50, 50, 0.1)",
           "rgba(50, 50, 50, 0.1)",
           "rgba(50, 50, 50, 0.32515337423312884)",
           "rgba(50, 50, 50, 0.1)",
           "rgba(50, 50, 50, 0.294478527607362)",
           "rgba(50, 50, 50, 0.25766871165644173)",
           "rgba(50, 50, 50, 0.12269938650306748)",
           "rgba(50, 50, 50, 0.1)",
           "rgba(50, 50, 50, 0.1)",
           "rgba(50, 50, 50, 0.20245398773006135)",
           "rgba(50, 50, 50, 0.38650306748466257)",
           "rgba(50, 50, 50, 0.1)",
           "rgba(50, 50, 50, 0.1)",
           "rgba(50, 50, 50, 0.1)",
           "rgba(50, 50, 50, 0.1)",
           "rgba(50, 50, 50, 0.1)",
           "rgba(50, 50, 50, 0.1)",
           "rgba(50, 50, 50, 0.1)",
           "rgba(50, 50, 50, 0.1)"
          ],
          "source": [
           0,
           0,
           0,
           0,
           0,
           1,
           1,
           1,
           1,
           1,
           1,
           1,
           2,
           2,
           2,
           2,
           2,
           2,
           3,
           3,
           3,
           3
          ],
          "target": [
           4,
           5,
           6,
           9,
           10,
           4,
           5,
           6,
           7,
           8,
           9,
           10,
           4,
           5,
           6,
           7,
           8,
           10,
           4,
           6,
           9,
           10
          ],
          "value": [
           4,
           1,
           1,
           1,
           1,
           53,
           1,
           48,
           42,
           20,
           11,
           10,
           33,
           63,
           10,
           3,
           10,
           11,
           8,
           4,
           14,
           2
          ]
         },
         "node": {
          "color": "lightgrey",
          "label": [
           "Base_-1",
           "Base_0",
           "Base_1",
           "Base_2",
           " Structural_-1",
           " Structural_0",
           " Structural_1",
           " Structural_2",
           " Structural_3",
           " Structural_4",
           " Structural_5"
          ],
          "line": {
           "color": "black",
           "width": 0.5
          },
          "pad": 15,
          "thickness": 20
         },
         "type": "sankey"
        }
       ],
       "layout": {
        "font": {
         "size": 12
        },
        "margin": {
         "b": 40,
         "l": 40,
         "r": 40,
         "t": 40
        },
        "paper_bgcolor": "rgba(240, 240, 240, 1)",
        "plot_bgcolor": "rgba(255, 255, 255, 1)",
        "template": {
         "data": {
          "bar": [
           {
            "error_x": {
             "color": "#2a3f5f"
            },
            "error_y": {
             "color": "#2a3f5f"
            },
            "marker": {
             "line": {
              "color": "#E5ECF6",
              "width": 0.5
             },
             "pattern": {
              "fillmode": "overlay",
              "size": 10,
              "solidity": 0.2
             }
            },
            "type": "bar"
           }
          ],
          "barpolar": [
           {
            "marker": {
             "line": {
              "color": "#E5ECF6",
              "width": 0.5
             },
             "pattern": {
              "fillmode": "overlay",
              "size": 10,
              "solidity": 0.2
             }
            },
            "type": "barpolar"
           }
          ],
          "carpet": [
           {
            "aaxis": {
             "endlinecolor": "#2a3f5f",
             "gridcolor": "white",
             "linecolor": "white",
             "minorgridcolor": "white",
             "startlinecolor": "#2a3f5f"
            },
            "baxis": {
             "endlinecolor": "#2a3f5f",
             "gridcolor": "white",
             "linecolor": "white",
             "minorgridcolor": "white",
             "startlinecolor": "#2a3f5f"
            },
            "type": "carpet"
           }
          ],
          "choropleth": [
           {
            "colorbar": {
             "outlinewidth": 0,
             "ticks": ""
            },
            "type": "choropleth"
           }
          ],
          "contour": [
           {
            "colorbar": {
             "outlinewidth": 0,
             "ticks": ""
            },
            "colorscale": [
             [
              0,
              "#0d0887"
             ],
             [
              0.1111111111111111,
              "#46039f"
             ],
             [
              0.2222222222222222,
              "#7201a8"
             ],
             [
              0.3333333333333333,
              "#9c179e"
             ],
             [
              0.4444444444444444,
              "#bd3786"
             ],
             [
              0.5555555555555556,
              "#d8576b"
             ],
             [
              0.6666666666666666,
              "#ed7953"
             ],
             [
              0.7777777777777778,
              "#fb9f3a"
             ],
             [
              0.8888888888888888,
              "#fdca26"
             ],
             [
              1,
              "#f0f921"
             ]
            ],
            "type": "contour"
           }
          ],
          "contourcarpet": [
           {
            "colorbar": {
             "outlinewidth": 0,
             "ticks": ""
            },
            "type": "contourcarpet"
           }
          ],
          "heatmap": [
           {
            "colorbar": {
             "outlinewidth": 0,
             "ticks": ""
            },
            "colorscale": [
             [
              0,
              "#0d0887"
             ],
             [
              0.1111111111111111,
              "#46039f"
             ],
             [
              0.2222222222222222,
              "#7201a8"
             ],
             [
              0.3333333333333333,
              "#9c179e"
             ],
             [
              0.4444444444444444,
              "#bd3786"
             ],
             [
              0.5555555555555556,
              "#d8576b"
             ],
             [
              0.6666666666666666,
              "#ed7953"
             ],
             [
              0.7777777777777778,
              "#fb9f3a"
             ],
             [
              0.8888888888888888,
              "#fdca26"
             ],
             [
              1,
              "#f0f921"
             ]
            ],
            "type": "heatmap"
           }
          ],
          "heatmapgl": [
           {
            "colorbar": {
             "outlinewidth": 0,
             "ticks": ""
            },
            "colorscale": [
             [
              0,
              "#0d0887"
             ],
             [
              0.1111111111111111,
              "#46039f"
             ],
             [
              0.2222222222222222,
              "#7201a8"
             ],
             [
              0.3333333333333333,
              "#9c179e"
             ],
             [
              0.4444444444444444,
              "#bd3786"
             ],
             [
              0.5555555555555556,
              "#d8576b"
             ],
             [
              0.6666666666666666,
              "#ed7953"
             ],
             [
              0.7777777777777778,
              "#fb9f3a"
             ],
             [
              0.8888888888888888,
              "#fdca26"
             ],
             [
              1,
              "#f0f921"
             ]
            ],
            "type": "heatmapgl"
           }
          ],
          "histogram": [
           {
            "marker": {
             "pattern": {
              "fillmode": "overlay",
              "size": 10,
              "solidity": 0.2
             }
            },
            "type": "histogram"
           }
          ],
          "histogram2d": [
           {
            "colorbar": {
             "outlinewidth": 0,
             "ticks": ""
            },
            "colorscale": [
             [
              0,
              "#0d0887"
             ],
             [
              0.1111111111111111,
              "#46039f"
             ],
             [
              0.2222222222222222,
              "#7201a8"
             ],
             [
              0.3333333333333333,
              "#9c179e"
             ],
             [
              0.4444444444444444,
              "#bd3786"
             ],
             [
              0.5555555555555556,
              "#d8576b"
             ],
             [
              0.6666666666666666,
              "#ed7953"
             ],
             [
              0.7777777777777778,
              "#fb9f3a"
             ],
             [
              0.8888888888888888,
              "#fdca26"
             ],
             [
              1,
              "#f0f921"
             ]
            ],
            "type": "histogram2d"
           }
          ],
          "histogram2dcontour": [
           {
            "colorbar": {
             "outlinewidth": 0,
             "ticks": ""
            },
            "colorscale": [
             [
              0,
              "#0d0887"
             ],
             [
              0.1111111111111111,
              "#46039f"
             ],
             [
              0.2222222222222222,
              "#7201a8"
             ],
             [
              0.3333333333333333,
              "#9c179e"
             ],
             [
              0.4444444444444444,
              "#bd3786"
             ],
             [
              0.5555555555555556,
              "#d8576b"
             ],
             [
              0.6666666666666666,
              "#ed7953"
             ],
             [
              0.7777777777777778,
              "#fb9f3a"
             ],
             [
              0.8888888888888888,
              "#fdca26"
             ],
             [
              1,
              "#f0f921"
             ]
            ],
            "type": "histogram2dcontour"
           }
          ],
          "mesh3d": [
           {
            "colorbar": {
             "outlinewidth": 0,
             "ticks": ""
            },
            "type": "mesh3d"
           }
          ],
          "parcoords": [
           {
            "line": {
             "colorbar": {
              "outlinewidth": 0,
              "ticks": ""
             }
            },
            "type": "parcoords"
           }
          ],
          "pie": [
           {
            "automargin": true,
            "type": "pie"
           }
          ],
          "scatter": [
           {
            "fillpattern": {
             "fillmode": "overlay",
             "size": 10,
             "solidity": 0.2
            },
            "type": "scatter"
           }
          ],
          "scatter3d": [
           {
            "line": {
             "colorbar": {
              "outlinewidth": 0,
              "ticks": ""
             }
            },
            "marker": {
             "colorbar": {
              "outlinewidth": 0,
              "ticks": ""
             }
            },
            "type": "scatter3d"
           }
          ],
          "scattercarpet": [
           {
            "marker": {
             "colorbar": {
              "outlinewidth": 0,
              "ticks": ""
             }
            },
            "type": "scattercarpet"
           }
          ],
          "scattergeo": [
           {
            "marker": {
             "colorbar": {
              "outlinewidth": 0,
              "ticks": ""
             }
            },
            "type": "scattergeo"
           }
          ],
          "scattergl": [
           {
            "marker": {
             "colorbar": {
              "outlinewidth": 0,
              "ticks": ""
             }
            },
            "type": "scattergl"
           }
          ],
          "scattermapbox": [
           {
            "marker": {
             "colorbar": {
              "outlinewidth": 0,
              "ticks": ""
             }
            },
            "type": "scattermapbox"
           }
          ],
          "scatterpolar": [
           {
            "marker": {
             "colorbar": {
              "outlinewidth": 0,
              "ticks": ""
             }
            },
            "type": "scatterpolar"
           }
          ],
          "scatterpolargl": [
           {
            "marker": {
             "colorbar": {
              "outlinewidth": 0,
              "ticks": ""
             }
            },
            "type": "scatterpolargl"
           }
          ],
          "scatterternary": [
           {
            "marker": {
             "colorbar": {
              "outlinewidth": 0,
              "ticks": ""
             }
            },
            "type": "scatterternary"
           }
          ],
          "surface": [
           {
            "colorbar": {
             "outlinewidth": 0,
             "ticks": ""
            },
            "colorscale": [
             [
              0,
              "#0d0887"
             ],
             [
              0.1111111111111111,
              "#46039f"
             ],
             [
              0.2222222222222222,
              "#7201a8"
             ],
             [
              0.3333333333333333,
              "#9c179e"
             ],
             [
              0.4444444444444444,
              "#bd3786"
             ],
             [
              0.5555555555555556,
              "#d8576b"
             ],
             [
              0.6666666666666666,
              "#ed7953"
             ],
             [
              0.7777777777777778,
              "#fb9f3a"
             ],
             [
              0.8888888888888888,
              "#fdca26"
             ],
             [
              1,
              "#f0f921"
             ]
            ],
            "type": "surface"
           }
          ],
          "table": [
           {
            "cells": {
             "fill": {
              "color": "#EBF0F8"
             },
             "line": {
              "color": "white"
             }
            },
            "header": {
             "fill": {
              "color": "#C8D4E3"
             },
             "line": {
              "color": "white"
             }
            },
            "type": "table"
           }
          ]
         },
         "layout": {
          "annotationdefaults": {
           "arrowcolor": "#2a3f5f",
           "arrowhead": 0,
           "arrowwidth": 1
          },
          "autotypenumbers": "strict",
          "coloraxis": {
           "colorbar": {
            "outlinewidth": 0,
            "ticks": ""
           }
          },
          "colorscale": {
           "diverging": [
            [
             0,
             "#8e0152"
            ],
            [
             0.1,
             "#c51b7d"
            ],
            [
             0.2,
             "#de77ae"
            ],
            [
             0.3,
             "#f1b6da"
            ],
            [
             0.4,
             "#fde0ef"
            ],
            [
             0.5,
             "#f7f7f7"
            ],
            [
             0.6,
             "#e6f5d0"
            ],
            [
             0.7,
             "#b8e186"
            ],
            [
             0.8,
             "#7fbc41"
            ],
            [
             0.9,
             "#4d9221"
            ],
            [
             1,
             "#276419"
            ]
           ],
           "sequential": [
            [
             0,
             "#0d0887"
            ],
            [
             0.1111111111111111,
             "#46039f"
            ],
            [
             0.2222222222222222,
             "#7201a8"
            ],
            [
             0.3333333333333333,
             "#9c179e"
            ],
            [
             0.4444444444444444,
             "#bd3786"
            ],
            [
             0.5555555555555556,
             "#d8576b"
            ],
            [
             0.6666666666666666,
             "#ed7953"
            ],
            [
             0.7777777777777778,
             "#fb9f3a"
            ],
            [
             0.8888888888888888,
             "#fdca26"
            ],
            [
             1,
             "#f0f921"
            ]
           ],
           "sequentialminus": [
            [
             0,
             "#0d0887"
            ],
            [
             0.1111111111111111,
             "#46039f"
            ],
            [
             0.2222222222222222,
             "#7201a8"
            ],
            [
             0.3333333333333333,
             "#9c179e"
            ],
            [
             0.4444444444444444,
             "#bd3786"
            ],
            [
             0.5555555555555556,
             "#d8576b"
            ],
            [
             0.6666666666666666,
             "#ed7953"
            ],
            [
             0.7777777777777778,
             "#fb9f3a"
            ],
            [
             0.8888888888888888,
             "#fdca26"
            ],
            [
             1,
             "#f0f921"
            ]
           ]
          },
          "colorway": [
           "#636efa",
           "#EF553B",
           "#00cc96",
           "#ab63fa",
           "#FFA15A",
           "#19d3f3",
           "#FF6692",
           "#B6E880",
           "#FF97FF",
           "#FECB52"
          ],
          "font": {
           "color": "#2a3f5f"
          },
          "geo": {
           "bgcolor": "white",
           "lakecolor": "white",
           "landcolor": "#E5ECF6",
           "showlakes": true,
           "showland": true,
           "subunitcolor": "white"
          },
          "hoverlabel": {
           "align": "left"
          },
          "hovermode": "closest",
          "mapbox": {
           "style": "light"
          },
          "paper_bgcolor": "white",
          "plot_bgcolor": "#E5ECF6",
          "polar": {
           "angularaxis": {
            "gridcolor": "white",
            "linecolor": "white",
            "ticks": ""
           },
           "bgcolor": "#E5ECF6",
           "radialaxis": {
            "gridcolor": "white",
            "linecolor": "white",
            "ticks": ""
           }
          },
          "scene": {
           "xaxis": {
            "backgroundcolor": "#E5ECF6",
            "gridcolor": "white",
            "gridwidth": 2,
            "linecolor": "white",
            "showbackground": true,
            "ticks": "",
            "zerolinecolor": "white"
           },
           "yaxis": {
            "backgroundcolor": "#E5ECF6",
            "gridcolor": "white",
            "gridwidth": 2,
            "linecolor": "white",
            "showbackground": true,
            "ticks": "",
            "zerolinecolor": "white"
           },
           "zaxis": {
            "backgroundcolor": "#E5ECF6",
            "gridcolor": "white",
            "gridwidth": 2,
            "linecolor": "white",
            "showbackground": true,
            "ticks": "",
            "zerolinecolor": "white"
           }
          },
          "shapedefaults": {
           "line": {
            "color": "#2a3f5f"
           }
          },
          "ternary": {
           "aaxis": {
            "gridcolor": "white",
            "linecolor": "white",
            "ticks": ""
           },
           "baxis": {
            "gridcolor": "white",
            "linecolor": "white",
            "ticks": ""
           },
           "bgcolor": "#E5ECF6",
           "caxis": {
            "gridcolor": "white",
            "linecolor": "white",
            "ticks": ""
           }
          },
          "title": {
           "x": 0.05
          },
          "xaxis": {
           "automargin": true,
           "gridcolor": "white",
           "linecolor": "white",
           "ticks": "",
           "title": {
            "standoff": 15
           },
           "zerolinecolor": "white",
           "zerolinewidth": 2
          },
          "yaxis": {
           "automargin": true,
           "gridcolor": "white",
           "linecolor": "white",
           "ticks": "",
           "title": {
            "standoff": 15
           },
           "zerolinecolor": "white",
           "zerolinewidth": 2
          }
         }
        },
        "title": {
         "font": {
          "size": 15
         },
         "text": "Topic Assignment Changes between the Clusterings based on the Base- and the  Structural Feature",
         "x": 0.5
        }
       }
      }
     },
     "metadata": {},
     "output_type": "display_data"
    }
   ],
   "source": [
    "fig = plot_topic_changes(\"Base\", \" Structural\", base_topics, structural_topics)\n",
    "path = os.path.join(os.getcwd(), \"../results/structural_embeddings/base_structural_topic_changes.png\")\n",
    "fig.write_image(path, width=1600, height=600, scale=2)\n",
    "fig.show()"
   ]
  },
  {
   "cell_type": "code",
   "execution_count": 79,
   "metadata": {},
   "outputs": [
    {
     "data": {
      "application/vnd.plotly.v1+json": {
       "config": {
        "plotlyServerURL": "https://plot.ly"
       },
       "data": [
        {
         "link": {
          "color": [
           "rgba(50, 50, 50, 0.1)",
           "rgba(50, 50, 50, 0.1)",
           "rgba(50, 50, 50, 0.1)",
           "rgba(50, 50, 50, 0.1)",
           "rgba(50, 50, 50, 0.20786516853932585)",
           "rgba(50, 50, 50, 0.43820224719101125)",
           "rgba(50, 50, 50, 0.1)",
           "rgba(50, 50, 50, 0.14606741573033707)",
           "rgba(50, 50, 50, 0.11235955056179775)",
           "rgba(50, 50, 50, 0.1)",
           "rgba(50, 50, 50, 0.1)",
           "rgba(50, 50, 50, 0.17415730337078653)",
           "rgba(50, 50, 50, 0.1)",
           "rgba(50, 50, 50, 0.34269662921348315)",
           "rgba(50, 50, 50, 0.1)",
           "rgba(50, 50, 50, 0.1)",
           "rgba(50, 50, 50, 0.1)",
           "rgba(50, 50, 50, 0.1)",
           "rgba(50, 50, 50, 0.1)",
           "rgba(50, 50, 50, 0.1)",
           "rgba(50, 50, 50, 0.1)",
           "rgba(50, 50, 50, 0.1)"
          ],
          "source": [
           0,
           0,
           0,
           0,
           1,
           1,
           1,
           1,
           1,
           1,
           1,
           2,
           2,
           2,
           2,
           2,
           2,
           3,
           3,
           3,
           3,
           3
          ],
          "target": [
           4,
           6,
           9,
           10,
           4,
           5,
           6,
           7,
           8,
           9,
           10,
           4,
           5,
           6,
           7,
           8,
           10,
           4,
           5,
           7,
           9,
           10
          ],
          "value": [
           4,
           2,
           1,
           1,
           37,
           78,
           1,
           26,
           20,
           12,
           11,
           31,
           13,
           61,
           4,
           10,
           11,
           8,
           2,
           2,
           14,
           2
          ]
         },
         "node": {
          "color": "lightgrey",
          "label": [
           "Base_-1",
           "Base_0",
           "Base_1",
           "Base_2",
           " Combined Structural_-1",
           " Combined Structural_0",
           " Combined Structural_1",
           " Combined Structural_2",
           " Combined Structural_3",
           " Combined Structural_4",
           " Combined Structural_5"
          ],
          "line": {
           "color": "black",
           "width": 0.5
          },
          "pad": 15,
          "thickness": 20
         },
         "type": "sankey"
        }
       ],
       "layout": {
        "font": {
         "size": 12
        },
        "margin": {
         "b": 40,
         "l": 40,
         "r": 40,
         "t": 40
        },
        "paper_bgcolor": "rgba(240, 240, 240, 1)",
        "plot_bgcolor": "rgba(255, 255, 255, 1)",
        "template": {
         "data": {
          "bar": [
           {
            "error_x": {
             "color": "#2a3f5f"
            },
            "error_y": {
             "color": "#2a3f5f"
            },
            "marker": {
             "line": {
              "color": "#E5ECF6",
              "width": 0.5
             },
             "pattern": {
              "fillmode": "overlay",
              "size": 10,
              "solidity": 0.2
             }
            },
            "type": "bar"
           }
          ],
          "barpolar": [
           {
            "marker": {
             "line": {
              "color": "#E5ECF6",
              "width": 0.5
             },
             "pattern": {
              "fillmode": "overlay",
              "size": 10,
              "solidity": 0.2
             }
            },
            "type": "barpolar"
           }
          ],
          "carpet": [
           {
            "aaxis": {
             "endlinecolor": "#2a3f5f",
             "gridcolor": "white",
             "linecolor": "white",
             "minorgridcolor": "white",
             "startlinecolor": "#2a3f5f"
            },
            "baxis": {
             "endlinecolor": "#2a3f5f",
             "gridcolor": "white",
             "linecolor": "white",
             "minorgridcolor": "white",
             "startlinecolor": "#2a3f5f"
            },
            "type": "carpet"
           }
          ],
          "choropleth": [
           {
            "colorbar": {
             "outlinewidth": 0,
             "ticks": ""
            },
            "type": "choropleth"
           }
          ],
          "contour": [
           {
            "colorbar": {
             "outlinewidth": 0,
             "ticks": ""
            },
            "colorscale": [
             [
              0,
              "#0d0887"
             ],
             [
              0.1111111111111111,
              "#46039f"
             ],
             [
              0.2222222222222222,
              "#7201a8"
             ],
             [
              0.3333333333333333,
              "#9c179e"
             ],
             [
              0.4444444444444444,
              "#bd3786"
             ],
             [
              0.5555555555555556,
              "#d8576b"
             ],
             [
              0.6666666666666666,
              "#ed7953"
             ],
             [
              0.7777777777777778,
              "#fb9f3a"
             ],
             [
              0.8888888888888888,
              "#fdca26"
             ],
             [
              1,
              "#f0f921"
             ]
            ],
            "type": "contour"
           }
          ],
          "contourcarpet": [
           {
            "colorbar": {
             "outlinewidth": 0,
             "ticks": ""
            },
            "type": "contourcarpet"
           }
          ],
          "heatmap": [
           {
            "colorbar": {
             "outlinewidth": 0,
             "ticks": ""
            },
            "colorscale": [
             [
              0,
              "#0d0887"
             ],
             [
              0.1111111111111111,
              "#46039f"
             ],
             [
              0.2222222222222222,
              "#7201a8"
             ],
             [
              0.3333333333333333,
              "#9c179e"
             ],
             [
              0.4444444444444444,
              "#bd3786"
             ],
             [
              0.5555555555555556,
              "#d8576b"
             ],
             [
              0.6666666666666666,
              "#ed7953"
             ],
             [
              0.7777777777777778,
              "#fb9f3a"
             ],
             [
              0.8888888888888888,
              "#fdca26"
             ],
             [
              1,
              "#f0f921"
             ]
            ],
            "type": "heatmap"
           }
          ],
          "heatmapgl": [
           {
            "colorbar": {
             "outlinewidth": 0,
             "ticks": ""
            },
            "colorscale": [
             [
              0,
              "#0d0887"
             ],
             [
              0.1111111111111111,
              "#46039f"
             ],
             [
              0.2222222222222222,
              "#7201a8"
             ],
             [
              0.3333333333333333,
              "#9c179e"
             ],
             [
              0.4444444444444444,
              "#bd3786"
             ],
             [
              0.5555555555555556,
              "#d8576b"
             ],
             [
              0.6666666666666666,
              "#ed7953"
             ],
             [
              0.7777777777777778,
              "#fb9f3a"
             ],
             [
              0.8888888888888888,
              "#fdca26"
             ],
             [
              1,
              "#f0f921"
             ]
            ],
            "type": "heatmapgl"
           }
          ],
          "histogram": [
           {
            "marker": {
             "pattern": {
              "fillmode": "overlay",
              "size": 10,
              "solidity": 0.2
             }
            },
            "type": "histogram"
           }
          ],
          "histogram2d": [
           {
            "colorbar": {
             "outlinewidth": 0,
             "ticks": ""
            },
            "colorscale": [
             [
              0,
              "#0d0887"
             ],
             [
              0.1111111111111111,
              "#46039f"
             ],
             [
              0.2222222222222222,
              "#7201a8"
             ],
             [
              0.3333333333333333,
              "#9c179e"
             ],
             [
              0.4444444444444444,
              "#bd3786"
             ],
             [
              0.5555555555555556,
              "#d8576b"
             ],
             [
              0.6666666666666666,
              "#ed7953"
             ],
             [
              0.7777777777777778,
              "#fb9f3a"
             ],
             [
              0.8888888888888888,
              "#fdca26"
             ],
             [
              1,
              "#f0f921"
             ]
            ],
            "type": "histogram2d"
           }
          ],
          "histogram2dcontour": [
           {
            "colorbar": {
             "outlinewidth": 0,
             "ticks": ""
            },
            "colorscale": [
             [
              0,
              "#0d0887"
             ],
             [
              0.1111111111111111,
              "#46039f"
             ],
             [
              0.2222222222222222,
              "#7201a8"
             ],
             [
              0.3333333333333333,
              "#9c179e"
             ],
             [
              0.4444444444444444,
              "#bd3786"
             ],
             [
              0.5555555555555556,
              "#d8576b"
             ],
             [
              0.6666666666666666,
              "#ed7953"
             ],
             [
              0.7777777777777778,
              "#fb9f3a"
             ],
             [
              0.8888888888888888,
              "#fdca26"
             ],
             [
              1,
              "#f0f921"
             ]
            ],
            "type": "histogram2dcontour"
           }
          ],
          "mesh3d": [
           {
            "colorbar": {
             "outlinewidth": 0,
             "ticks": ""
            },
            "type": "mesh3d"
           }
          ],
          "parcoords": [
           {
            "line": {
             "colorbar": {
              "outlinewidth": 0,
              "ticks": ""
             }
            },
            "type": "parcoords"
           }
          ],
          "pie": [
           {
            "automargin": true,
            "type": "pie"
           }
          ],
          "scatter": [
           {
            "fillpattern": {
             "fillmode": "overlay",
             "size": 10,
             "solidity": 0.2
            },
            "type": "scatter"
           }
          ],
          "scatter3d": [
           {
            "line": {
             "colorbar": {
              "outlinewidth": 0,
              "ticks": ""
             }
            },
            "marker": {
             "colorbar": {
              "outlinewidth": 0,
              "ticks": ""
             }
            },
            "type": "scatter3d"
           }
          ],
          "scattercarpet": [
           {
            "marker": {
             "colorbar": {
              "outlinewidth": 0,
              "ticks": ""
             }
            },
            "type": "scattercarpet"
           }
          ],
          "scattergeo": [
           {
            "marker": {
             "colorbar": {
              "outlinewidth": 0,
              "ticks": ""
             }
            },
            "type": "scattergeo"
           }
          ],
          "scattergl": [
           {
            "marker": {
             "colorbar": {
              "outlinewidth": 0,
              "ticks": ""
             }
            },
            "type": "scattergl"
           }
          ],
          "scattermapbox": [
           {
            "marker": {
             "colorbar": {
              "outlinewidth": 0,
              "ticks": ""
             }
            },
            "type": "scattermapbox"
           }
          ],
          "scatterpolar": [
           {
            "marker": {
             "colorbar": {
              "outlinewidth": 0,
              "ticks": ""
             }
            },
            "type": "scatterpolar"
           }
          ],
          "scatterpolargl": [
           {
            "marker": {
             "colorbar": {
              "outlinewidth": 0,
              "ticks": ""
             }
            },
            "type": "scatterpolargl"
           }
          ],
          "scatterternary": [
           {
            "marker": {
             "colorbar": {
              "outlinewidth": 0,
              "ticks": ""
             }
            },
            "type": "scatterternary"
           }
          ],
          "surface": [
           {
            "colorbar": {
             "outlinewidth": 0,
             "ticks": ""
            },
            "colorscale": [
             [
              0,
              "#0d0887"
             ],
             [
              0.1111111111111111,
              "#46039f"
             ],
             [
              0.2222222222222222,
              "#7201a8"
             ],
             [
              0.3333333333333333,
              "#9c179e"
             ],
             [
              0.4444444444444444,
              "#bd3786"
             ],
             [
              0.5555555555555556,
              "#d8576b"
             ],
             [
              0.6666666666666666,
              "#ed7953"
             ],
             [
              0.7777777777777778,
              "#fb9f3a"
             ],
             [
              0.8888888888888888,
              "#fdca26"
             ],
             [
              1,
              "#f0f921"
             ]
            ],
            "type": "surface"
           }
          ],
          "table": [
           {
            "cells": {
             "fill": {
              "color": "#EBF0F8"
             },
             "line": {
              "color": "white"
             }
            },
            "header": {
             "fill": {
              "color": "#C8D4E3"
             },
             "line": {
              "color": "white"
             }
            },
            "type": "table"
           }
          ]
         },
         "layout": {
          "annotationdefaults": {
           "arrowcolor": "#2a3f5f",
           "arrowhead": 0,
           "arrowwidth": 1
          },
          "autotypenumbers": "strict",
          "coloraxis": {
           "colorbar": {
            "outlinewidth": 0,
            "ticks": ""
           }
          },
          "colorscale": {
           "diverging": [
            [
             0,
             "#8e0152"
            ],
            [
             0.1,
             "#c51b7d"
            ],
            [
             0.2,
             "#de77ae"
            ],
            [
             0.3,
             "#f1b6da"
            ],
            [
             0.4,
             "#fde0ef"
            ],
            [
             0.5,
             "#f7f7f7"
            ],
            [
             0.6,
             "#e6f5d0"
            ],
            [
             0.7,
             "#b8e186"
            ],
            [
             0.8,
             "#7fbc41"
            ],
            [
             0.9,
             "#4d9221"
            ],
            [
             1,
             "#276419"
            ]
           ],
           "sequential": [
            [
             0,
             "#0d0887"
            ],
            [
             0.1111111111111111,
             "#46039f"
            ],
            [
             0.2222222222222222,
             "#7201a8"
            ],
            [
             0.3333333333333333,
             "#9c179e"
            ],
            [
             0.4444444444444444,
             "#bd3786"
            ],
            [
             0.5555555555555556,
             "#d8576b"
            ],
            [
             0.6666666666666666,
             "#ed7953"
            ],
            [
             0.7777777777777778,
             "#fb9f3a"
            ],
            [
             0.8888888888888888,
             "#fdca26"
            ],
            [
             1,
             "#f0f921"
            ]
           ],
           "sequentialminus": [
            [
             0,
             "#0d0887"
            ],
            [
             0.1111111111111111,
             "#46039f"
            ],
            [
             0.2222222222222222,
             "#7201a8"
            ],
            [
             0.3333333333333333,
             "#9c179e"
            ],
            [
             0.4444444444444444,
             "#bd3786"
            ],
            [
             0.5555555555555556,
             "#d8576b"
            ],
            [
             0.6666666666666666,
             "#ed7953"
            ],
            [
             0.7777777777777778,
             "#fb9f3a"
            ],
            [
             0.8888888888888888,
             "#fdca26"
            ],
            [
             1,
             "#f0f921"
            ]
           ]
          },
          "colorway": [
           "#636efa",
           "#EF553B",
           "#00cc96",
           "#ab63fa",
           "#FFA15A",
           "#19d3f3",
           "#FF6692",
           "#B6E880",
           "#FF97FF",
           "#FECB52"
          ],
          "font": {
           "color": "#2a3f5f"
          },
          "geo": {
           "bgcolor": "white",
           "lakecolor": "white",
           "landcolor": "#E5ECF6",
           "showlakes": true,
           "showland": true,
           "subunitcolor": "white"
          },
          "hoverlabel": {
           "align": "left"
          },
          "hovermode": "closest",
          "mapbox": {
           "style": "light"
          },
          "paper_bgcolor": "white",
          "plot_bgcolor": "#E5ECF6",
          "polar": {
           "angularaxis": {
            "gridcolor": "white",
            "linecolor": "white",
            "ticks": ""
           },
           "bgcolor": "#E5ECF6",
           "radialaxis": {
            "gridcolor": "white",
            "linecolor": "white",
            "ticks": ""
           }
          },
          "scene": {
           "xaxis": {
            "backgroundcolor": "#E5ECF6",
            "gridcolor": "white",
            "gridwidth": 2,
            "linecolor": "white",
            "showbackground": true,
            "ticks": "",
            "zerolinecolor": "white"
           },
           "yaxis": {
            "backgroundcolor": "#E5ECF6",
            "gridcolor": "white",
            "gridwidth": 2,
            "linecolor": "white",
            "showbackground": true,
            "ticks": "",
            "zerolinecolor": "white"
           },
           "zaxis": {
            "backgroundcolor": "#E5ECF6",
            "gridcolor": "white",
            "gridwidth": 2,
            "linecolor": "white",
            "showbackground": true,
            "ticks": "",
            "zerolinecolor": "white"
           }
          },
          "shapedefaults": {
           "line": {
            "color": "#2a3f5f"
           }
          },
          "ternary": {
           "aaxis": {
            "gridcolor": "white",
            "linecolor": "white",
            "ticks": ""
           },
           "baxis": {
            "gridcolor": "white",
            "linecolor": "white",
            "ticks": ""
           },
           "bgcolor": "#E5ECF6",
           "caxis": {
            "gridcolor": "white",
            "linecolor": "white",
            "ticks": ""
           }
          },
          "title": {
           "x": 0.05
          },
          "xaxis": {
           "automargin": true,
           "gridcolor": "white",
           "linecolor": "white",
           "ticks": "",
           "title": {
            "standoff": 15
           },
           "zerolinecolor": "white",
           "zerolinewidth": 2
          },
          "yaxis": {
           "automargin": true,
           "gridcolor": "white",
           "linecolor": "white",
           "ticks": "",
           "title": {
            "standoff": 15
           },
           "zerolinecolor": "white",
           "zerolinewidth": 2
          }
         }
        },
        "title": {
         "font": {
          "size": 15
         },
         "text": "Topic Assignment Changes between the Clusterings based on the Base- and the  Combined Structural Feature",
         "x": 0.5
        }
       }
      }
     },
     "metadata": {},
     "output_type": "display_data"
    }
   ],
   "source": [
    "fig = plot_topic_changes(\"Base\", \" Combined Structural\", base_topics, combined_structural_topics)\n",
    "path = os.path.join(os.getcwd(), \"../results/combined_structural_embeddings/base_combined_structural_topic_changes.png\")\n",
    "fig.write_image(path, width=1600, height=600, scale=2)\n",
    "fig.show()"
   ]
  },
  {
   "cell_type": "markdown",
   "metadata": {},
   "source": [
    "## 9.Exports\n",
    "\n",
    "We will now export data and visualisations used for the paper associated with these notebooks. "
   ]
  },
  {
   "cell_type": "markdown",
   "metadata": {},
   "source": [
    "#### Export Representative Messages For Presentation"
   ]
  },
  {
   "cell_type": "code",
   "execution_count": 80,
   "metadata": {},
   "outputs": [],
   "source": [
    "representative_messages_paths = {\n",
    "    \"base\": \"../results/base_embeddings/representative_messages.json\",\n",
    "    \"filtered\": \"../results/filtered_embeddings/representative_messages.json\",\n",
    "    \"webpreview\": \"../results/webpreview_embeddings/representative_messages.json\",\n",
    "    \"combined_webpreview\": \"../results/combined_webpreview_embeddings/representative_messages.json\",\n",
    "    \"structural\": \"../results/structural_embeddings/representative_messages.json\",\n",
    "    \"combined_structural\": \"../results/combined_structural_embeddings/representative_messages.json\"\n",
    "}\n",
    "\n",
    "for feature, path in representative_messages_paths.items():\n",
    "    json_path = os.path.join(os.getcwd(), path)\n",
    "    csv_path = json_path.replace(\".json\", \".csv\")  \n",
    "\n",
    "    with open(json_path, \"r\") as f:\n",
    "         representative_messages = json.load(f)    \n",
    "         \n",
    "    df = pd.DataFrame(representative_messages)\n",
    "    stacked = pd.DataFrame(df.T.stack()).reset_index(level=1, drop=True)\n",
    "    stacked.columns = [\"Most Representative Message Texts\"]\n",
    "    stacked.index = stacked.index.where(stacked.index.duplicated(keep=\"first\") == False, \"\")\n",
    "    stacked.to_csv(csv_path, index=True)\n"
   ]
  },
  {
   "cell_type": "markdown",
   "metadata": {},
   "source": [
    "#### Export Keywords For Presentation"
   ]
  },
  {
   "cell_type": "code",
   "execution_count": 81,
   "metadata": {},
   "outputs": [],
   "source": [
    "keyword_paths = [\n",
    "    \"../results/base_embeddings/keywords.csv\",\n",
    "    \"../results/filtered_embeddings/keywords.csv\",\n",
    "    \"../results/webpreview_embeddings/keywords.csv\",\n",
    "    \"../results/combined_webpreview_embeddings/keywords.csv\",\n",
    "    \"../results/structural_embeddings/keywords.csv\",\n",
    "    \"../results/combined_structural_embeddings/keywords.csv\"\n",
    "]\n",
    "\n",
    "keyword_paths = [\n",
    "    \"../results/base_embeddings/keywords.csv\",\n",
    "]\n",
    "\n",
    "topic_models = [\n",
    "    base_topic_model,\n",
    "    filtered_topic_model,\n",
    "    webpreview_topic_model,\n",
    "    combined_webpreview_topic_model,\n",
    "    structural_topic_model,\n",
    "    combined_structural_topic_model\n",
    "]\n",
    "\n",
    "topic_models = [\n",
    "    base_topic_model,\n",
    "]\n",
    "\n",
    "for model, path in zip(topic_models, keyword_paths):\n",
    "    topic_keywords = model.get_topics()\n",
    "    stacked = (pd.DataFrame(topic_keywords).T\n",
    "            .stack()\n",
    "            .drop(index=-1)\n",
    "            .apply(lambda x: x[0])\n",
    "            .reset_index(level=1, drop=True))\n",
    "\n",
    "    stacked.to_csv(os.path.join(os.getcwd(), path), index=True)"
   ]
  }
 ],
 "metadata": {
  "kernelspec": {
   "display_name": "telegram_chat_clustering_3",
   "language": "python",
   "name": "python3"
  },
  "language_info": {
   "codemirror_mode": {
    "name": "ipython",
    "version": 3
   },
   "file_extension": ".py",
   "mimetype": "text/x-python",
   "name": "python",
   "nbconvert_exporter": "python",
   "pygments_lexer": "ipython3",
   "version": "3.12.2"
  }
 },
 "nbformat": 4,
 "nbformat_minor": 2
}
