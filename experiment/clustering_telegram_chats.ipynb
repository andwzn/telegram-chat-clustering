{
 "cells": [
  {
   "cell_type": "code",
   "execution_count": 95,
   "metadata": {},
   "outputs": [],
   "source": [
    "import os\n",
    "import pandas as pd\n",
    "import seaborn as sns\n",
    "sns.set_theme()\n",
    "import matplotlib.pyplot as plt"
   ]
  },
  {
   "cell_type": "markdown",
   "metadata": {},
   "source": [
    "# Feature Selection for Clustering of Telegram Chats "
   ]
  },
  {
   "cell_type": "markdown",
   "metadata": {},
   "source": [
    "## Load the data\n",
    "Lorem Ipsum Dolor "
   ]
  },
  {
   "cell_type": "code",
   "execution_count": 74,
   "metadata": {},
   "outputs": [
    {
     "data": {
      "text/html": [
       "<div>\n",
       "<style scoped>\n",
       "    .dataframe tbody tr th:only-of-type {\n",
       "        vertical-align: middle;\n",
       "    }\n",
       "\n",
       "    .dataframe tbody tr th {\n",
       "        vertical-align: top;\n",
       "    }\n",
       "\n",
       "    .dataframe thead th {\n",
       "        text-align: right;\n",
       "    }\n",
       "</style>\n",
       "<table border=\"1\" class=\"dataframe\">\n",
       "  <thead>\n",
       "    <tr style=\"text-align: right;\">\n",
       "      <th></th>\n",
       "      <th>Unnamed: 0</th>\n",
       "      <th>chat_handle</th>\n",
       "      <th>chat_name</th>\n",
       "      <th>collection_time</th>\n",
       "      <th>fwd_from_chat_handle</th>\n",
       "      <th>fwd_from_user_name</th>\n",
       "      <th>is_fwd</th>\n",
       "      <th>is_group_elem</th>\n",
       "      <th>is_reply</th>\n",
       "      <th>message_date</th>\n",
       "      <th>...</th>\n",
       "      <th>sender_first_name</th>\n",
       "      <th>sender_last_name</th>\n",
       "      <th>sender_username</th>\n",
       "      <th>telegram_chat_id</th>\n",
       "      <th>telegram_message_id</th>\n",
       "      <th>telegram_sender_id</th>\n",
       "      <th>webpage_author</th>\n",
       "      <th>webpage_description</th>\n",
       "      <th>webpage_title</th>\n",
       "      <th>webpage_url</th>\n",
       "    </tr>\n",
       "  </thead>\n",
       "  <tbody>\n",
       "    <tr>\n",
       "      <th>0</th>\n",
       "      <td>0</td>\n",
       "      <td>NaN</td>\n",
       "      <td>Qfs Die weißen Hüte Chat</td>\n",
       "      <td>2024-07-14 08:21:36</td>\n",
       "      <td>QFSQwantum</td>\n",
       "      <td>NaN</td>\n",
       "      <td>True</td>\n",
       "      <td>False</td>\n",
       "      <td>False</td>\n",
       "      <td>2024-07-14 06:56:44</td>\n",
       "      <td>...</td>\n",
       "      <td>NaN</td>\n",
       "      <td>NaN</td>\n",
       "      <td>QFSQwantum</td>\n",
       "      <td>1584825795</td>\n",
       "      <td>276635</td>\n",
       "      <td>1504007138</td>\n",
       "      <td>NaN</td>\n",
       "      <td>NaN</td>\n",
       "      <td>NaN</td>\n",
       "      <td>NaN</td>\n",
       "    </tr>\n",
       "    <tr>\n",
       "      <th>1</th>\n",
       "      <td>1</td>\n",
       "      <td>rus_now_news</td>\n",
       "      <td>Россия сейчас</td>\n",
       "      <td>2024-07-14 08:25:37</td>\n",
       "      <td>NaN</td>\n",
       "      <td>NaN</td>\n",
       "      <td>False</td>\n",
       "      <td>False</td>\n",
       "      <td>False</td>\n",
       "      <td>2024-07-13 20:59:02</td>\n",
       "      <td>...</td>\n",
       "      <td>NaN</td>\n",
       "      <td>NaN</td>\n",
       "      <td>rus_now_news</td>\n",
       "      <td>1419822622</td>\n",
       "      <td>76375</td>\n",
       "      <td>1419822622</td>\n",
       "      <td>NaN</td>\n",
       "      <td>NaN</td>\n",
       "      <td>NaN</td>\n",
       "      <td>https://hooks.pro/media/2024/07/13/bot14465618...</td>\n",
       "    </tr>\n",
       "    <tr>\n",
       "      <th>2</th>\n",
       "      <td>2</td>\n",
       "      <td>nwsru</td>\n",
       "      <td>NEWS.ru | Новости</td>\n",
       "      <td>2024-07-14 01:16:15</td>\n",
       "      <td>NaN</td>\n",
       "      <td>NaN</td>\n",
       "      <td>False</td>\n",
       "      <td>False</td>\n",
       "      <td>False</td>\n",
       "      <td>2024-07-13 20:31:56</td>\n",
       "      <td>...</td>\n",
       "      <td>NaN</td>\n",
       "      <td>NaN</td>\n",
       "      <td>nwsru</td>\n",
       "      <td>1436354653</td>\n",
       "      <td>81671</td>\n",
       "      <td>1436354653</td>\n",
       "      <td>NaN</td>\n",
       "      <td>NaN</td>\n",
       "      <td>NaN</td>\n",
       "      <td>NaN</td>\n",
       "    </tr>\n",
       "    <tr>\n",
       "      <th>3</th>\n",
       "      <td>3</td>\n",
       "      <td>NaN</td>\n",
       "      <td>Corona - eine Laborpandemie Chat</td>\n",
       "      <td>2024-07-13 12:33:10</td>\n",
       "      <td>auf1tv</td>\n",
       "      <td>NaN</td>\n",
       "      <td>True</td>\n",
       "      <td>False</td>\n",
       "      <td>False</td>\n",
       "      <td>2024-07-13 11:47:41</td>\n",
       "      <td>...</td>\n",
       "      <td>NaN</td>\n",
       "      <td>NaN</td>\n",
       "      <td>laborpandemie</td>\n",
       "      <td>1588507929</td>\n",
       "      <td>8814</td>\n",
       "      <td>1463054743</td>\n",
       "      <td>NaN</td>\n",
       "      <td>NaN</td>\n",
       "      <td>NaN</td>\n",
       "      <td>NaN</td>\n",
       "    </tr>\n",
       "    <tr>\n",
       "      <th>4</th>\n",
       "      <td>4</td>\n",
       "      <td>ktf_keystofreedom</td>\n",
       "      <td>KEYS TO FREEDOM</td>\n",
       "      <td>2024-07-14 08:45:44</td>\n",
       "      <td>keystofreedom</td>\n",
       "      <td>NaN</td>\n",
       "      <td>True</td>\n",
       "      <td>False</td>\n",
       "      <td>False</td>\n",
       "      <td>2024-07-13 11:19:05</td>\n",
       "      <td>...</td>\n",
       "      <td>NaN</td>\n",
       "      <td>NaN</td>\n",
       "      <td>keystofreedom</td>\n",
       "      <td>1975033259</td>\n",
       "      <td>41083</td>\n",
       "      <td>1685639089</td>\n",
       "      <td>NaN</td>\n",
       "      <td>NaN</td>\n",
       "      <td>NaN</td>\n",
       "      <td>NaN</td>\n",
       "    </tr>\n",
       "  </tbody>\n",
       "</table>\n",
       "<p>5 rows × 31 columns</p>\n",
       "</div>"
      ],
      "text/plain": [
       "   Unnamed: 0        chat_handle                         chat_name  \\\n",
       "0           0                NaN          Qfs Die weißen Hüte Chat   \n",
       "1           1       rus_now_news                     Россия сейчас   \n",
       "2           2              nwsru                 NEWS.ru | Новости   \n",
       "3           3                NaN  Corona - eine Laborpandemie Chat   \n",
       "4           4  ktf_keystofreedom                   KEYS TO FREEDOM   \n",
       "\n",
       "       collection_time fwd_from_chat_handle fwd_from_user_name  is_fwd  \\\n",
       "0  2024-07-14 08:21:36           QFSQwantum                NaN    True   \n",
       "1  2024-07-14 08:25:37                  NaN                NaN   False   \n",
       "2  2024-07-14 01:16:15                  NaN                NaN   False   \n",
       "3  2024-07-13 12:33:10               auf1tv                NaN    True   \n",
       "4  2024-07-14 08:45:44        keystofreedom                NaN    True   \n",
       "\n",
       "   is_group_elem  is_reply         message_date  ...  sender_first_name  \\\n",
       "0          False     False  2024-07-14 06:56:44  ...                NaN   \n",
       "1          False     False  2024-07-13 20:59:02  ...                NaN   \n",
       "2          False     False  2024-07-13 20:31:56  ...                NaN   \n",
       "3          False     False  2024-07-13 11:47:41  ...                NaN   \n",
       "4          False     False  2024-07-13 11:19:05  ...                NaN   \n",
       "\n",
       "   sender_last_name sender_username telegram_chat_id  telegram_message_id  \\\n",
       "0               NaN      QFSQwantum       1584825795               276635   \n",
       "1               NaN    rus_now_news       1419822622                76375   \n",
       "2               NaN           nwsru       1436354653                81671   \n",
       "3               NaN   laborpandemie       1588507929                 8814   \n",
       "4               NaN   keystofreedom       1975033259                41083   \n",
       "\n",
       "  telegram_sender_id  webpage_author  webpage_description  webpage_title  \\\n",
       "0         1504007138             NaN                  NaN            NaN   \n",
       "1         1419822622             NaN                  NaN            NaN   \n",
       "2         1436354653             NaN                  NaN            NaN   \n",
       "3         1463054743             NaN                  NaN            NaN   \n",
       "4         1685639089             NaN                  NaN            NaN   \n",
       "\n",
       "                                         webpage_url  \n",
       "0                                                NaN  \n",
       "1  https://hooks.pro/media/2024/07/13/bot14465618...  \n",
       "2                                                NaN  \n",
       "3                                                NaN  \n",
       "4                                                NaN  \n",
       "\n",
       "[5 rows x 31 columns]"
      ]
     },
     "execution_count": 74,
     "metadata": {},
     "output_type": "execute_result"
    }
   ],
   "source": [
    "path = os.path.join(os.getcwd(), '../data/csv/freiesth_scrape_1.csv')\n",
    "df = pd.read_csv(path, low_memory=False)\n",
    "df.head()"
   ]
  },
  {
   "cell_type": "markdown",
   "metadata": {},
   "source": [
    "## Preprocessing"
   ]
  },
  {
   "cell_type": "markdown",
   "metadata": {},
   "source": [
    "### Check Message Counts per Group\n",
    "\n",
    "Let's take a look at how many messages were collected for each of the chats in our dataset. \n",
    "\n",
    "To do so, we start off with binning the counts per chat in steps of thousands and take a more granular look, should the need arise. The y-axis is set to a **logarithmic scale** to account for the wide range of message counts across chats. This approach helps in visualizing the distribution more effectively, especially when there are a few chats with very few message counts compared to the majority -- which is to be expected due to a quirk of the data collection process. "
   ]
  },
  {
   "cell_type": "code",
   "execution_count": 97,
   "metadata": {},
   "outputs": [
    {
     "data": {
      "text/plain": [
       "<Axes: title={'center': 'Test'}, ylabel='count'>"
      ]
     },
     "execution_count": 97,
     "metadata": {},
     "output_type": "execute_result"
    },
    {
     "data": {
      "image/png": "[encoded data removed]",
      "text/plain": [
       "<Figure size 640x480 with 1 Axes>"
      ]
     },
     "metadata": {},
     "output_type": "display_data"
    }
   ],
   "source": [
    "chats_message_counts = df.groupby(\"chat_name\").size()\n",
    "\n",
    "# bin the counts in steps of 1000\n",
    "bin_edges = range(0, chats_message_counts.max() + 2500, 2500)\n",
    "binned_counts = pd.cut(chats_message_counts, bins=bin_edges, right=False)\n",
    "binned_counts_summary = binned_counts.value_counts().sort_index()\n",
    "\n",
    "plt.yscale('log')\n",
    "plt.xticks(rotation=45)\n",
    "plt.xticks(fontsize=7)\n",
    "plt.title(\"Test\")\n",
    "sns.barplot(binned_counts_summary)"
   ]
  },
  {
   "cell_type": "code",
   "execution_count": null,
   "metadata": {},
   "outputs": [],
   "source": [
    "chats_message_counts < "
   ]
  },
  {
   "cell_type": "markdown",
   "metadata": {},
   "source": [
    "As expected, a majority of chats contains fewer than 2500 chats. Let's remove"
   ]
  },
  {
   "cell_type": "code",
   "execution_count": 93,
   "metadata": {},
   "outputs": [],
   "source": [
    "chats_message_counts = df.groupby(\"chat_name\").size()\n",
    "over_1000 = chats_message_counts[chats_message_counts > 1000]\n",
    "#list(over_1000.index)"
   ]
  },
  {
   "cell_type": "code",
   "execution_count": 51,
   "metadata": {},
   "outputs": [
    {
     "data": {
      "text/plain": [
       "(813392, 31)"
      ]
     },
     "execution_count": 51,
     "metadata": {},
     "output_type": "execute_result"
    }
   ],
   "source": [
    "df.shape"
   ]
  },
  {
   "cell_type": "code",
   "execution_count": null,
   "metadata": {},
   "outputs": [],
   "source": []
  }
 ],
 "metadata": {
  "kernelspec": {
   "display_name": "telegram-chat-clustering",
   "language": "python",
   "name": "python3"
  },
  "language_info": {
   "codemirror_mode": {
    "name": "ipython",
    "version": 3
   },
   "file_extension": ".py",
   "mimetype": "text/x-python",
   "name": "python",
   "nbconvert_exporter": "python",
   "pygments_lexer": "ipython3",
   "version": "3.12.4"
  }
 },
 "nbformat": 4,
 "nbformat_minor": 2
}
