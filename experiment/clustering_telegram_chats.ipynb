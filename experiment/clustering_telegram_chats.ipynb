{
 "cells": [
  {
   "cell_type": "code",
   "execution_count": 178,
   "metadata": {},
   "outputs": [],
   "source": [
    "import os\n",
    "import pandas as pd\n",
    "import numpy as np\n",
    "import seaborn as sns\n",
    "import matplotlib.pyplot as plt\n",
    "import calplot\n",
    "import validators"
   ]
  },
  {
   "cell_type": "code",
   "execution_count": 179,
   "metadata": {},
   "outputs": [],
   "source": [
    "sns.set_theme()"
   ]
  },
  {
   "cell_type": "markdown",
   "metadata": {},
   "source": [
    "# Feature Selection for Clustering of Telegram Chats "
   ]
  },
  {
   "cell_type": "markdown",
   "metadata": {},
   "source": [
    "# Load the data"
   ]
  },
  {
   "cell_type": "markdown",
   "metadata": {},
   "source": [
    "We import the data and drop the duplicated index column \"Unnamed: 0\". \n",
    "\n",
    "**Due to the size of the dataset, this might take some time.**"
   ]
  },
  {
   "cell_type": "code",
   "execution_count": 180,
   "metadata": {},
   "outputs": [],
   "source": [
    "path = os.path.join(os.getcwd(), '../data/csv/freiesth_scrape_2.csv')\n",
    "df = pd.read_csv(path, low_memory=False)\n",
    "df.drop(labels=\"Unnamed: 0\", axis=1, inplace=True)"
   ]
  },
  {
   "cell_type": "markdown",
   "metadata": {},
   "source": [
    "# Initial Exploration"
   ]
  },
  {
   "cell_type": "markdown",
   "metadata": {},
   "source": [
    "Now, we can start exploring the data by...\n",
    "\n",
    "1. Inspecting column types.\n",
    "\n",
    "2. Inspecting column values.\n",
    "\n",
    "3. Searching the dataframe for missing datapoints.\n",
    "\n",
    "4. Check for duplicate rows.\n",
    "\n",
    "5. Verify dates.\n",
    "\n",
    "6. Verify webpages.\n",
    "\n",
    "7. Checking the distribution of messages across chats. "
   ]
  },
  {
   "cell_type": "markdown",
   "metadata": {},
   "source": [
    "### 1. Inspect column types\n",
    "\n",
    "First, we inspect the column types to see if they match the data contained in them. To do so, we'll\n",
    "\n",
    "1. Inspect the datatypes per columns.\n",
    "\n",
    "2. Check the datatypes in object type columns. \n",
    "\n",
    "\n",
    "**Inspect the datatypes per columns**"
   ]
  },
  {
   "cell_type": "code",
   "execution_count": 181,
   "metadata": {},
   "outputs": [
    {
     "name": "stdout",
     "output_type": "stream",
     "text": [
      "<class 'pandas.core.frame.DataFrame'>\n",
      "RangeIndex: 1959797 entries, 0 to 1959796\n",
      "Data columns (total 32 columns):\n",
      " #   Column                   Dtype  \n",
      "---  ------                   -----  \n",
      " 0   chat_handle              object \n",
      " 1   chat_name                object \n",
      " 2   chat_type                object \n",
      " 3   collection_time          object \n",
      " 4   fwd_from_chat_handle     object \n",
      " 5   fwd_from_chat_id         float64\n",
      " 6   fwd_from_user_name       object \n",
      " 7   is_fwd                   bool   \n",
      " 8   is_group_elem            bool   \n",
      " 9   is_reply                 bool   \n",
      " 10  message_date             object \n",
      " 11  message_fwd_count        float64\n",
      " 12  message_group_id         float64\n",
      " 13  message_media_type       object \n",
      " 14  message_reactions        object \n",
      " 15  message_reactions_count  float64\n",
      " 16  message_text             object \n",
      " 17  message_view_count       float64\n",
      " 18  post_author              float64\n",
      " 19  reply_to_message_id      float64\n",
      " 20  reply_to_top_message_id  float64\n",
      " 21  sender_display_name      float64\n",
      " 22  sender_first_name        object \n",
      " 23  sender_last_name         object \n",
      " 24  sender_username          object \n",
      " 25  telegram_chat_id         int64  \n",
      " 26  telegram_message_id      int64  \n",
      " 27  telegram_sender_id       int64  \n",
      " 28  webpage_author           object \n",
      " 29  webpage_description      object \n",
      " 30  webpage_title            object \n",
      " 31  webpage_url              object \n",
      "dtypes: bool(3), float64(9), int64(3), object(17)\n",
      "memory usage: 439.2+ MB\n"
     ]
    }
   ],
   "source": [
    "df.info()"
   ]
  },
  {
   "cell_type": "markdown",
   "metadata": {},
   "source": [
    "There are some columns that don't match the type of the data contained in them:\n",
    "- `post_author`: Is `float64`, should be `object`.\n",
    "- `sender_display_name`: Is `float64`, should be `object`.\n",
    "- `collection_time`: Is `object`, should be `datetime`.\n",
    "- `message_date`: Is `object`, should be `datetime`."
   ]
  },
  {
   "cell_type": "markdown",
   "metadata": {},
   "source": [
    "**Validate object_type columns**\n",
    "\n",
    "As the object dtype is a general-purpose dtype for columns with mixed or unknown data types, we need to make sure that they acutally contain the datatype we're looking for.\n",
    "\n",
    "In our dataset, they should actually contain strings. Let's check, if that's actually the case.\n",
    "\n"
   ]
  },
  {
   "cell_type": "code",
   "execution_count": 182,
   "metadata": {},
   "outputs": [
    {
     "name": "stdout",
     "output_type": "stream",
     "text": [
      "TYPES IN COLUMN \"CHAT_HANDLE\"\n",
      "chat_handle\n",
      "<class 'str'>      1910537\n",
      "<class 'float'>      49260\n",
      "Name: count, dtype: int64\n",
      "\n",
      "TYPES IN COLUMN \"CHAT_NAME\"\n",
      "chat_name\n",
      "<class 'str'>    1959797\n",
      "Name: count, dtype: int64\n",
      "\n",
      "TYPES IN COLUMN \"CHAT_TYPE\"\n",
      "chat_type\n",
      "<class 'str'>    1959797\n",
      "Name: count, dtype: int64\n",
      "\n",
      "TYPES IN COLUMN \"COLLECTION_TIME\"\n",
      "collection_time\n",
      "<class 'str'>    1959797\n",
      "Name: count, dtype: int64\n",
      "\n",
      "TYPES IN COLUMN \"FWD_FROM_CHAT_HANDLE\"\n",
      "fwd_from_chat_handle\n",
      "<class 'float'>    1509382\n",
      "<class 'str'>       450415\n",
      "Name: count, dtype: int64\n",
      "\n",
      "TYPES IN COLUMN \"FWD_FROM_USER_NAME\"\n",
      "fwd_from_user_name\n",
      "<class 'float'>    1953584\n",
      "<class 'str'>         6213\n",
      "Name: count, dtype: int64\n",
      "\n",
      "TYPES IN COLUMN \"MESSAGE_DATE\"\n",
      "message_date\n",
      "<class 'str'>    1959797\n",
      "Name: count, dtype: int64\n",
      "\n",
      "TYPES IN COLUMN \"MESSAGE_MEDIA_TYPE\"\n",
      "message_media_type\n",
      "<class 'str'>      1768435\n",
      "<class 'float'>     191362\n",
      "Name: count, dtype: int64\n",
      "\n",
      "TYPES IN COLUMN \"MESSAGE_REACTIONS\"\n",
      "message_reactions\n",
      "<class 'str'>      1182236\n",
      "<class 'float'>     777561\n",
      "Name: count, dtype: int64\n",
      "\n",
      "TYPES IN COLUMN \"MESSAGE_TEXT\"\n",
      "message_text\n",
      "<class 'str'>      1513185\n",
      "<class 'float'>     446612\n",
      "Name: count, dtype: int64\n",
      "\n",
      "TYPES IN COLUMN \"SENDER_FIRST_NAME\"\n",
      "sender_first_name\n",
      "<class 'float'>    1919510\n",
      "<class 'str'>        40287\n",
      "Name: count, dtype: int64\n",
      "\n",
      "TYPES IN COLUMN \"SENDER_LAST_NAME\"\n",
      "sender_last_name\n",
      "<class 'float'>    1946081\n",
      "<class 'str'>        13716\n",
      "Name: count, dtype: int64\n",
      "\n",
      "TYPES IN COLUMN \"SENDER_USERNAME\"\n",
      "sender_username\n",
      "<class 'str'>      1933604\n",
      "<class 'float'>      26193\n",
      "Name: count, dtype: int64\n",
      "\n",
      "TYPES IN COLUMN \"WEBPAGE_AUTHOR\"\n",
      "webpage_author\n",
      "<class 'float'>    1860734\n",
      "<class 'str'>        99063\n",
      "Name: count, dtype: int64\n",
      "\n",
      "TYPES IN COLUMN \"WEBPAGE_DESCRIPTION\"\n",
      "webpage_description\n",
      "<class 'float'>    1698405\n",
      "<class 'str'>       261392\n",
      "Name: count, dtype: int64\n",
      "\n",
      "TYPES IN COLUMN \"WEBPAGE_TITLE\"\n",
      "webpage_title\n",
      "<class 'float'>    1685072\n",
      "<class 'str'>       274725\n",
      "Name: count, dtype: int64\n",
      "\n",
      "TYPES IN COLUMN \"WEBPAGE_URL\"\n",
      "webpage_url\n",
      "<class 'float'>    1672519\n",
      "<class 'str'>       287278\n",
      "Name: count, dtype: int64\n",
      "\n"
     ]
    }
   ],
   "source": [
    "# get the names of all columns of type \"object\"\n",
    "object_colums = df.dtypes[df.dtypes == \"object\"].index.to_list()\n",
    "\n",
    "# create a dataframe containing the type of each cell\n",
    "df_object_types =  df[object_colums].map(lambda x: type(x))\n",
    "\n",
    "# print unique datatype for each column\n",
    "for column in df_object_types.columns:\n",
    "    print(f\"Types in column \\\"{column}\\\"\".upper())\n",
    "    print(df_object_types[column].value_counts())\n",
    "    print(\"\")"
   ]
  },
  {
   "cell_type": "markdown",
   "metadata": {},
   "source": [
    "As we can see, some of the columns contain elements of the type `float` -- presumably, those are nan-values, which are saved as floats in pandas.\n",
    "\n",
    "We will replace them with empty strings down the line. "
   ]
  },
  {
   "cell_type": "markdown",
   "metadata": {},
   "source": [
    "### 2. Inspect column values\n",
    "\n",
    "To get a feeling for the data and to weed out obvious inconsistencies, we can inspect the unqiue values for each column. \n",
    "\n",
    "1. First, we'll take a look at the number of unique values per column. This way we can get a feeling for which columns we can reasonably inspect manually.\n",
    "\n",
    "2. Afterwards, we'll display the  values for each column with less or equal to 20 unique values and inspect them."
   ]
  },
  {
   "cell_type": "code",
   "execution_count": 183,
   "metadata": {},
   "outputs": [
    {
     "data": {
      "text/html": [
       "<div>\n",
       "<style scoped>\n",
       "    .dataframe tbody tr th:only-of-type {\n",
       "        vertical-align: middle;\n",
       "    }\n",
       "\n",
       "    .dataframe tbody tr th {\n",
       "        vertical-align: top;\n",
       "    }\n",
       "\n",
       "    .dataframe thead th {\n",
       "        text-align: right;\n",
       "    }\n",
       "</style>\n",
       "<table border=\"1\" class=\"dataframe\">\n",
       "  <thead>\n",
       "    <tr style=\"text-align: right;\">\n",
       "      <th></th>\n",
       "      <th>Unique values</th>\n",
       "    </tr>\n",
       "  </thead>\n",
       "  <tbody>\n",
       "    <tr>\n",
       "      <th>chat_handle</th>\n",
       "      <td>4899</td>\n",
       "    </tr>\n",
       "    <tr>\n",
       "      <th>chat_name</th>\n",
       "      <td>4969</td>\n",
       "    </tr>\n",
       "    <tr>\n",
       "      <th>chat_type</th>\n",
       "      <td>2</td>\n",
       "    </tr>\n",
       "    <tr>\n",
       "      <th>collection_time</th>\n",
       "      <td>207393</td>\n",
       "    </tr>\n",
       "    <tr>\n",
       "      <th>fwd_from_chat_handle</th>\n",
       "      <td>8168</td>\n",
       "    </tr>\n",
       "    <tr>\n",
       "      <th>fwd_from_chat_id</th>\n",
       "      <td>9664</td>\n",
       "    </tr>\n",
       "    <tr>\n",
       "      <th>fwd_from_user_name</th>\n",
       "      <td>944</td>\n",
       "    </tr>\n",
       "    <tr>\n",
       "      <th>is_fwd</th>\n",
       "      <td>2</td>\n",
       "    </tr>\n",
       "    <tr>\n",
       "      <th>is_group_elem</th>\n",
       "      <td>2</td>\n",
       "    </tr>\n",
       "    <tr>\n",
       "      <th>is_reply</th>\n",
       "      <td>2</td>\n",
       "    </tr>\n",
       "    <tr>\n",
       "      <th>message_date</th>\n",
       "      <td>1590999</td>\n",
       "    </tr>\n",
       "    <tr>\n",
       "      <th>message_fwd_count</th>\n",
       "      <td>4114</td>\n",
       "    </tr>\n",
       "    <tr>\n",
       "      <th>message_group_id</th>\n",
       "      <td>88883</td>\n",
       "    </tr>\n",
       "    <tr>\n",
       "      <th>message_media_type</th>\n",
       "      <td>17</td>\n",
       "    </tr>\n",
       "    <tr>\n",
       "      <th>message_reactions</th>\n",
       "      <td>698084</td>\n",
       "    </tr>\n",
       "    <tr>\n",
       "      <th>message_reactions_count</th>\n",
       "      <td>3577</td>\n",
       "    </tr>\n",
       "    <tr>\n",
       "      <th>message_text</th>\n",
       "      <td>1174193</td>\n",
       "    </tr>\n",
       "    <tr>\n",
       "      <th>message_view_count</th>\n",
       "      <td>62448</td>\n",
       "    </tr>\n",
       "    <tr>\n",
       "      <th>post_author</th>\n",
       "      <td>0</td>\n",
       "    </tr>\n",
       "    <tr>\n",
       "      <th>reply_to_message_id</th>\n",
       "      <td>41415</td>\n",
       "    </tr>\n",
       "    <tr>\n",
       "      <th>reply_to_top_message_id</th>\n",
       "      <td>5760</td>\n",
       "    </tr>\n",
       "    <tr>\n",
       "      <th>sender_display_name</th>\n",
       "      <td>0</td>\n",
       "    </tr>\n",
       "    <tr>\n",
       "      <th>sender_first_name</th>\n",
       "      <td>2793</td>\n",
       "    </tr>\n",
       "    <tr>\n",
       "      <th>sender_last_name</th>\n",
       "      <td>1277</td>\n",
       "    </tr>\n",
       "    <tr>\n",
       "      <th>sender_username</th>\n",
       "      <td>7338</td>\n",
       "    </tr>\n",
       "    <tr>\n",
       "      <th>telegram_chat_id</th>\n",
       "      <td>4993</td>\n",
       "    </tr>\n",
       "    <tr>\n",
       "      <th>telegram_message_id</th>\n",
       "      <td>181358</td>\n",
       "    </tr>\n",
       "    <tr>\n",
       "      <th>telegram_sender_id</th>\n",
       "      <td>9508</td>\n",
       "    </tr>\n",
       "    <tr>\n",
       "      <th>webpage_author</th>\n",
       "      <td>10521</td>\n",
       "    </tr>\n",
       "    <tr>\n",
       "      <th>webpage_description</th>\n",
       "      <td>177624</td>\n",
       "    </tr>\n",
       "    <tr>\n",
       "      <th>webpage_title</th>\n",
       "      <td>179336</td>\n",
       "    </tr>\n",
       "    <tr>\n",
       "      <th>webpage_url</th>\n",
       "      <td>217515</td>\n",
       "    </tr>\n",
       "  </tbody>\n",
       "</table>\n",
       "</div>"
      ],
      "text/plain": [
       "                         Unique values\n",
       "chat_handle                       4899\n",
       "chat_name                         4969\n",
       "chat_type                            2\n",
       "collection_time                 207393\n",
       "fwd_from_chat_handle              8168\n",
       "fwd_from_chat_id                  9664\n",
       "fwd_from_user_name                 944\n",
       "is_fwd                               2\n",
       "is_group_elem                        2\n",
       "is_reply                             2\n",
       "message_date                   1590999\n",
       "message_fwd_count                 4114\n",
       "message_group_id                 88883\n",
       "message_media_type                  17\n",
       "message_reactions               698084\n",
       "message_reactions_count           3577\n",
       "message_text                   1174193\n",
       "message_view_count               62448\n",
       "post_author                          0\n",
       "reply_to_message_id              41415\n",
       "reply_to_top_message_id           5760\n",
       "sender_display_name                  0\n",
       "sender_first_name                 2793\n",
       "sender_last_name                  1277\n",
       "sender_username                   7338\n",
       "telegram_chat_id                  4993\n",
       "telegram_message_id             181358\n",
       "telegram_sender_id                9508\n",
       "webpage_author                   10521\n",
       "webpage_description             177624\n",
       "webpage_title                   179336\n",
       "webpage_url                     217515"
      ]
     },
     "execution_count": 183,
     "metadata": {},
     "output_type": "execute_result"
    }
   ],
   "source": [
    "unique_values_per_column = df.nunique()\n",
    "pd.DataFrame(unique_values_per_column, columns=[\"Unique values\"])"
   ]
  },
  {
   "cell_type": "code",
   "execution_count": 184,
   "metadata": {},
   "outputs": [
    {
     "name": "stdout",
     "output_type": "stream",
     "text": [
      "chat_type\n",
      "broadcast    1893133\n",
      "megagroup      66664\n",
      "Name: count, dtype: int64\n",
      "\n",
      "is_fwd\n",
      "False    1432670\n",
      "True      527127\n",
      "Name: count, dtype: int64\n",
      "\n",
      "is_group_elem\n",
      "False    1645573\n",
      "True      314224\n",
      "Name: count, dtype: int64\n",
      "\n",
      "is_reply\n",
      "False    1886155\n",
      "True       73642\n",
      "Name: count, dtype: int64\n",
      "\n",
      "message_media_type\n",
      "MessageMediaPhoto               830857\n",
      "MessageMediaDocumentVideo       569327\n",
      "MessageMediaWebPage             287285\n",
      "MessageMediaDocumentAudio        43383\n",
      "MessageMediaDocumentPhoto        18026\n",
      "MessageMediaDocumentDocument     16989\n",
      "MessageMediaPoll                  2315\n",
      "MessageMediaStory                   86\n",
      "MessageMediaContact                 44\n",
      "MessageMediaDocumentOther           40\n",
      "MessageMediaDocument                26\n",
      "MessageMediaGeo                     18\n",
      "MessageMediaGiveaway                18\n",
      "MessageMediaInvoice                  7\n",
      "MessageMediaDice                     6\n",
      "MessageMediaGiveawayResults          4\n",
      "MessageMediaUnsupported              4\n",
      "Name: count, dtype: int64\n",
      "\n",
      "Series([], Name: count, dtype: int64)\n",
      "\n",
      "Series([], Name: count, dtype: int64)\n",
      "\n"
     ]
    }
   ],
   "source": [
    "under_20 = unique_values_per_column[unique_values_per_column<=20]\n",
    "\n",
    "for column in under_20.index:\n",
    "    print(f\"{df[column].value_counts()}\\n\")"
   ]
  },
  {
   "cell_type": "markdown",
   "metadata": {},
   "source": [
    "**Findings**:\n",
    "\n",
    "- As we can see, many columns have a high degree of unique values. This high cardinality is expected due to the inherently variable nature of Telegram messages.\n",
    "\n",
    "\n",
    "- For some columns with high cardinality, the variability might be influenced by how the data is stored or measured rather than by the content itself. In these cases, we may need to transform or aggregate these columns to make them more suitable for analysis. \n",
    "   - For example, datetime columns could be aggregated into broader time periods such as hours, days, or weeks.\n",
    "\n",
    "\n",
    "- For columns with few unique values, no faulty or obviously inconsistent values have been found.\n"
   ]
  },
  {
   "cell_type": "markdown",
   "metadata": {},
   "source": [
    "### 3. Check for missing data\n",
    "\n",
    "To understand the extent of missing data, we will examine the percentage of missing values for each column in the dataset. This helps us identify which columns have significant amounts of missing data and might require imputation or other handling strategies.\n"
   ]
  },
  {
   "cell_type": "code",
   "execution_count": 185,
   "metadata": {},
   "outputs": [
    {
     "data": {
      "text/html": [
       "<div>\n",
       "<style scoped>\n",
       "    .dataframe tbody tr th:only-of-type {\n",
       "        vertical-align: middle;\n",
       "    }\n",
       "\n",
       "    .dataframe tbody tr th {\n",
       "        vertical-align: top;\n",
       "    }\n",
       "\n",
       "    .dataframe thead th {\n",
       "        text-align: right;\n",
       "    }\n",
       "</style>\n",
       "<table border=\"1\" class=\"dataframe\">\n",
       "  <thead>\n",
       "    <tr style=\"text-align: right;\">\n",
       "      <th></th>\n",
       "      <th>Missing</th>\n",
       "    </tr>\n",
       "  </thead>\n",
       "  <tbody>\n",
       "    <tr>\n",
       "      <th>post_author</th>\n",
       "      <td>1.000000</td>\n",
       "    </tr>\n",
       "    <tr>\n",
       "      <th>sender_display_name</th>\n",
       "      <td>1.000000</td>\n",
       "    </tr>\n",
       "    <tr>\n",
       "      <th>fwd_from_user_name</th>\n",
       "      <td>0.996830</td>\n",
       "    </tr>\n",
       "    <tr>\n",
       "      <th>sender_last_name</th>\n",
       "      <td>0.993001</td>\n",
       "    </tr>\n",
       "    <tr>\n",
       "      <th>reply_to_top_message_id</th>\n",
       "      <td>0.987378</td>\n",
       "    </tr>\n",
       "    <tr>\n",
       "      <th>sender_first_name</th>\n",
       "      <td>0.979443</td>\n",
       "    </tr>\n",
       "    <tr>\n",
       "      <th>reply_to_message_id</th>\n",
       "      <td>0.962424</td>\n",
       "    </tr>\n",
       "    <tr>\n",
       "      <th>webpage_author</th>\n",
       "      <td>0.949452</td>\n",
       "    </tr>\n",
       "    <tr>\n",
       "      <th>webpage_description</th>\n",
       "      <td>0.866623</td>\n",
       "    </tr>\n",
       "    <tr>\n",
       "      <th>webpage_title</th>\n",
       "      <td>0.859820</td>\n",
       "    </tr>\n",
       "    <tr>\n",
       "      <th>webpage_url</th>\n",
       "      <td>0.853414</td>\n",
       "    </tr>\n",
       "    <tr>\n",
       "      <th>message_group_id</th>\n",
       "      <td>0.839665</td>\n",
       "    </tr>\n",
       "    <tr>\n",
       "      <th>fwd_from_chat_handle</th>\n",
       "      <td>0.770173</td>\n",
       "    </tr>\n",
       "    <tr>\n",
       "      <th>fwd_from_chat_id</th>\n",
       "      <td>0.754241</td>\n",
       "    </tr>\n",
       "    <tr>\n",
       "      <th>message_reactions</th>\n",
       "      <td>0.396756</td>\n",
       "    </tr>\n",
       "    <tr>\n",
       "      <th>message_reactions_count</th>\n",
       "      <td>0.396756</td>\n",
       "    </tr>\n",
       "    <tr>\n",
       "      <th>message_text</th>\n",
       "      <td>0.227887</td>\n",
       "    </tr>\n",
       "    <tr>\n",
       "      <th>message_fwd_count</th>\n",
       "      <td>0.139952</td>\n",
       "    </tr>\n",
       "    <tr>\n",
       "      <th>message_media_type</th>\n",
       "      <td>0.097644</td>\n",
       "    </tr>\n",
       "    <tr>\n",
       "      <th>message_view_count</th>\n",
       "      <td>0.027595</td>\n",
       "    </tr>\n",
       "    <tr>\n",
       "      <th>chat_handle</th>\n",
       "      <td>0.025135</td>\n",
       "    </tr>\n",
       "    <tr>\n",
       "      <th>sender_username</th>\n",
       "      <td>0.013365</td>\n",
       "    </tr>\n",
       "    <tr>\n",
       "      <th>chat_name</th>\n",
       "      <td>0.000000</td>\n",
       "    </tr>\n",
       "    <tr>\n",
       "      <th>message_date</th>\n",
       "      <td>0.000000</td>\n",
       "    </tr>\n",
       "    <tr>\n",
       "      <th>is_reply</th>\n",
       "      <td>0.000000</td>\n",
       "    </tr>\n",
       "    <tr>\n",
       "      <th>is_group_elem</th>\n",
       "      <td>0.000000</td>\n",
       "    </tr>\n",
       "    <tr>\n",
       "      <th>telegram_chat_id</th>\n",
       "      <td>0.000000</td>\n",
       "    </tr>\n",
       "    <tr>\n",
       "      <th>telegram_message_id</th>\n",
       "      <td>0.000000</td>\n",
       "    </tr>\n",
       "    <tr>\n",
       "      <th>telegram_sender_id</th>\n",
       "      <td>0.000000</td>\n",
       "    </tr>\n",
       "    <tr>\n",
       "      <th>is_fwd</th>\n",
       "      <td>0.000000</td>\n",
       "    </tr>\n",
       "    <tr>\n",
       "      <th>collection_time</th>\n",
       "      <td>0.000000</td>\n",
       "    </tr>\n",
       "    <tr>\n",
       "      <th>chat_type</th>\n",
       "      <td>0.000000</td>\n",
       "    </tr>\n",
       "  </tbody>\n",
       "</table>\n",
       "</div>"
      ],
      "text/plain": [
       "                          Missing\n",
       "post_author              1.000000\n",
       "sender_display_name      1.000000\n",
       "fwd_from_user_name       0.996830\n",
       "sender_last_name         0.993001\n",
       "reply_to_top_message_id  0.987378\n",
       "sender_first_name        0.979443\n",
       "reply_to_message_id      0.962424\n",
       "webpage_author           0.949452\n",
       "webpage_description      0.866623\n",
       "webpage_title            0.859820\n",
       "webpage_url              0.853414\n",
       "message_group_id         0.839665\n",
       "fwd_from_chat_handle     0.770173\n",
       "fwd_from_chat_id         0.754241\n",
       "message_reactions        0.396756\n",
       "message_reactions_count  0.396756\n",
       "message_text             0.227887\n",
       "message_fwd_count        0.139952\n",
       "message_media_type       0.097644\n",
       "message_view_count       0.027595\n",
       "chat_handle              0.025135\n",
       "sender_username          0.013365\n",
       "chat_name                0.000000\n",
       "message_date             0.000000\n",
       "is_reply                 0.000000\n",
       "is_group_elem            0.000000\n",
       "telegram_chat_id         0.000000\n",
       "telegram_message_id      0.000000\n",
       "telegram_sender_id       0.000000\n",
       "is_fwd                   0.000000\n",
       "collection_time          0.000000\n",
       "chat_type                0.000000"
      ]
     },
     "execution_count": 185,
     "metadata": {},
     "output_type": "execute_result"
    }
   ],
   "source": [
    "pd.DataFrame(df.isnull().sum().apply(lambda x: x/df.shape[0]).sort_values(ascending=False), columns = [\"Missing\"])"
   ]
  },
  {
   "cell_type": "markdown",
   "metadata": {},
   "source": [
    "Most of these results are to be expected due to idiosyncrasies of the data collection process, Telegram's API, and the messenger's policy.\n",
    "\n",
    "For columns with more than 10% values missing, I will provide a brief overview of the reasons why this is the case.\n",
    "\n",
    "- `sender_display_name`: This value is usually not set because many users do not have a display name.\n",
    "\n",
    "\n",
    "- `post_author`: This value is only set in certain cases, for example, if an admin of the group sends a message.\n",
    "\n",
    "- `fwd_from_user_name`: This value is only set if a message was forwarded from a user, which seems to be rare for this dataset.\n",
    "\n",
    "- `sender_last_name`: This value is only set if a user provided a surname, which seems to be rare for this dataset.\n",
    "\n",
    "- `reply_to_top_message_id`: This value is only set if a message is a reply in a thread, which seems to be rare for this dataset.\n",
    "\n",
    "- `sender_first_name`: This value is only set if a user provided a first name, which seems to be rare for this dataset.\n",
    "\n",
    "- `reply_to_message_id`: This value is only set if a message is a reply to another message, which seems to be rare for this dataset.\n",
    "\n",
    "- `webpage_author/description/title`: These values are only set for messages that link to a webpage, which provides a preview to Telegram. As both not all messages contain links and not all links provide previews, missing values are to be expected.\n",
    "\n",
    "- `message_group_id`: This value is only set for messages that are part of a group (for example, photos in an album). As this is not the case for all messages, missing values are to be expected.\n",
    "\n",
    "- `fwd_from_chat_handle`: This value is only set for messages that were forwarded from another chat. As this is not the case for all messages, missing values are to be expected.\n",
    "\n",
    "- `fwd_from_chat_id`: Same as above.\n",
    "\n",
    "- `message_reactions_count`: This value is only set for messages from chats that allow reactions. As this is not the case for all chat types, missing values are to be expected.\n",
    "\n",
    "- `message_reactions`: This value is only set for messages from chats that allow reactions. As this is not the case for all chat types, missing values are to be expected.\n",
    "\n",
    "- `message_text`: Some message types, for example, photos in an album or media files, don't contain texts. Missing values are to be expected.\n",
    "\n",
    "- `message_fwd_count`: This value is only set for messages from chats that provide information on the forwarding counts through the API. As this is not the case for all chat types, missing values are to be expected.\n",
    "\n",
    "**Conclusion**\n",
    "\n",
    "- As we can see, most of the missing values actually point towards certain attributes of a message and should be considered in their analysis.\n",
    "\n",
    "- As they don't contain any relevant information and don't point to relevant information regarding a message, these columns with missing data can be dropped.\n"
   ]
  },
  {
   "cell_type": "markdown",
   "metadata": {},
   "source": [
    "### 4. Check for duplicates\n",
    "\n",
    "Next, we'll check for duplicates."
   ]
  },
  {
   "cell_type": "code",
   "execution_count": 186,
   "metadata": {},
   "outputs": [
    {
     "name": "stdout",
     "output_type": "stream",
     "text": [
      "Duplicates found: 2028\n"
     ]
    }
   ],
   "source": [
    "duplicates  = df[df.duplicated()]\n",
    "print(f\"Duplicates found: {len(duplicates)}\")"
   ]
  },
  {
   "cell_type": "markdown",
   "metadata": {},
   "source": [
    "As these duplicates might be referenced in other rows, it might be beneficial to keep them in order to maintain the integrity of these connections.\n",
    "\n",
    "Let's check if they are referenced in another row. Messages could be both referenced in `reply_to_message_id` or `reply_to_top_message_id`."
   ]
  },
  {
   "cell_type": "code",
   "execution_count": 187,
   "metadata": {},
   "outputs": [
    {
     "name": "stdout",
     "output_type": "stream",
     "text": [
      "Duplicates referenced in `reply_to_messages`: 2888\n",
      "Duplicates referenced in `reply_to_top_message_id`: 240\n"
     ]
    }
   ],
   "source": [
    "duplicate_msg_ids = duplicates[\"telegram_message_id\"]\n",
    "print(f\"Duplicates referenced in `reply_to_messages`: {df[\"reply_to_message_id\"].isin(duplicate_msg_ids).value_counts().iloc[1]}\")\n",
    "print(f\"Duplicates referenced in `reply_to_top_message_id`: {df[\"reply_to_top_message_id\"].isin(duplicate_msg_ids).value_counts().iloc[1]}\")"
   ]
  },
  {
   "cell_type": "markdown",
   "metadata": {},
   "source": [
    "As we can see, removing duplicates might lead to the loss of important information regarding reply-chains in our dataset.\n",
    "\n",
    "We now have two options:\n",
    "\n",
    "1. If we determine that this information is not needed, we can proceed with dropping the duplicates.\n",
    "\n",
    "2. Otherwise, we need to be mindful of their potential influence and handle them accordingly."
   ]
  },
  {
   "cell_type": "markdown",
   "metadata": {},
   "source": [
    "### 5. Verify dates\n",
    "\n",
    "Now, let's verify that our dataframe does not contain any major inconsistencies.\n",
    "\n",
    "While it's impractical to check every single data point, we can make reasonable claims about certain columns, particularly those containing dates and webpage information.\n",
    "\n",
    "We'll begin by checking if the message_date falls within the expected timeframe. Note that there might be outliers, as messages could have been forwarded to the scraped chat within the timeframe but were originally created outside of it.\n",
    "\n",
    "To start, we'll visually inspect the times messages were sent using a heatmap."
   ]
  },
  {
   "cell_type": "code",
   "execution_count": 188,
   "metadata": {},
   "outputs": [],
   "source": [
    "dates = pd.to_datetime(df[\"message_date\"])\n",
    "\n",
    "# Create a series with a date index and the message count for each date\n",
    "messages_dates = dates.dt.date.value_counts().apply(lambda x: x/df.shape[0])\n",
    "messages_dates.index = pd.to_datetime(messages_dates.index)\n",
    "\n",
    "# visualize a data\n",
    "calplot.calplot(messages_dates, cmap='YlGn', colorbar=False) "
   ]
  },
  {
   "cell_type": "markdown",
   "metadata": {},
   "source": [
    "**Findings:**\n",
    "- As we can see, most messages were actually sent during the data-collection timeframe (July 2023 - July 2024).\n",
    "- As expected, some messages were sent before the data collection timeframe. \n",
    "- The messages sent after the data collection period  will be dropped."
   ]
  },
  {
   "cell_type": "markdown",
   "metadata": {},
   "source": [
    "### 6. Verify Webpages\n",
    "\n",
    "The column \"urls\" contains the urls of webpages referenced in a messages. To prepare them for further analysis down the line, we need to check if they adhere to valid url-formats.\n",
    "\n",
    "To to so, we'll isolate invalid URLs and evaluate them manually."
   ]
  },
  {
   "cell_type": "code",
   "execution_count": null,
   "metadata": {},
   "outputs": [],
   "source": [
    "# check, if urls are valid and save results in a list. If a message has no url, we consider it valid.\n",
    "valid_url = df[\"webpage_url\"].apply(lambda x: validators.url(x) if pd.notnull(x) else True) \n",
    "\n",
    "# As validator returns specific error messages, if a message is invalide, we need to replace them with False to use the filter in boolean indexing\n",
    "invalid_url_filter = [False if elem == True else True for elem in valid_url]\n",
    "\n",
    "df.loc[invalid_url_filter, [\"webpage_url\"]]"
   ]
  },
  {
   "cell_type": "markdown",
   "metadata": {},
   "source": [
    "**Findings**\n",
    "\n",
    "- Some of the urls contain backslashes, that should be removed.\n",
    "- Some urls contain double dashes, which causes the url to be falsely flagged as invalid. These cases can be ignored.\n",
    "- `http://3.US-Militär/\t` is actually invalid and should be removed"
   ]
  },
  {
   "cell_type": "markdown",
   "metadata": {},
   "source": [
    "### 7. Compare the Number of Messages per Chat\n",
    "\n",
    "Last but not least, let us take a look at some descriptive statistics on how many messages were collected for each chat in our dataset. "
   ]
  },
  {
   "cell_type": "code",
   "execution_count": null,
   "metadata": {},
   "outputs": [],
   "source": [
    "chats_message_counts = df.groupby(\"chat_name\").size()\n",
    "chats_message_counts.describe()"
   ]
  },
  {
   "cell_type": "markdown",
   "metadata": {},
   "source": [
    "**Min & Distribution:** As we can see, the distribution is highly skewed with the majority of chats containing 1 message, while a small number of chats make up a disproportionately large number of messages. This result is to be expected, as a quirk in the data collection process creates a lot of chats with only one message. \n",
    "\n",
    "**Max:** The maximum is 100002. This, again, is to be expected, as the data collection process was limited to collect a maximum of 10.000 messages per chat. The two additional messages are presumably messages originating from this chat, that were found as forwarded messages in another chat. In this case, the data-collection software creates an entry for both chats. \n",
    "\n",
    "**Conclusion**: As we need a certain amount of content and messages for the vectorisation of a chat, we should drop chats containing only few messages."
   ]
  },
  {
   "cell_type": "markdown",
   "metadata": {},
   "source": [
    "### 8. Check how many messages are part of a group\n",
    "\n",
    "Telegram allows users to send several media files in one message — for example, a photo album. Each file is included as its own message in our dataset, which might interfere with our data analysis.\n",
    "\n",
    "To decide how to handle them down the line, we'll:\n",
    "- Check how many messages have a group-ID, which indicates that they are part of an album.\n",
    "\n",
    "- Confirm that these messages are indeed media files sent as part of an album.\n",
    "\n",
    "- Examine the average group size to estimate how many messages we'd lose if we choose to drop them.\n"
   ]
  },
  {
   "cell_type": "markdown",
   "metadata": {},
   "source": [
    "**Check how many messages are part of the group:**"
   ]
  },
  {
   "cell_type": "code",
   "execution_count": null,
   "metadata": {},
   "outputs": [],
   "source": [
    "print(f\"Raw count: {df[\"message_group_id\"].notna().sum()}\")\n",
    "print(f\"Percentage of messages: {(df[\"message_group_id\"].notna().sum() / df.shape[0])*100}\")"
   ]
  },
  {
   "cell_type": "markdown",
   "metadata": {},
   "source": [
    "**Confirm that they are messages containing media:**"
   ]
  },
  {
   "cell_type": "code",
   "execution_count": null,
   "metadata": {},
   "outputs": [],
   "source": [
    "# get all grouped messages ant convert their ids to int\n",
    "grouped_msgs = df[df[\"message_group_id\"].notna()]\n",
    "grouped_msgs.loc[:, \"message_group_id\"] = grouped_msgs[\"message_group_id\"].astype(int)\n",
    "\n",
    "# check their mediatype\n",
    "print(\"Media Types of Messages with Group-ID:\")\n",
    "grouped_msgs[\"message_media_type\"].value_counts(dropna=False)"
   ]
  },
  {
   "cell_type": "markdown",
   "metadata": {},
   "source": [
    "**Calculate the average group size:**"
   ]
  },
  {
   "cell_type": "code",
   "execution_count": null,
   "metadata": {},
   "outputs": [],
   "source": [
    "mean_group_size = np.mean(grouped_msgs.groupby(\"message_group_id\").size())\n",
    "mean_group_size"
   ]
  },
  {
   "cell_type": "markdown",
   "metadata": {},
   "source": [
    "**Findings:**\n",
    "\n",
    "- 16% of all messages are part of a group.\n",
    "\n",
    "- All of them contain media.\n",
    "\n",
    "- On average, groups contain between 3 and 4 messages.\n",
    "\n",
    "**Calculate Estimated Loss if grouped messages are removed:**\n",
    "\n",
    "As we won't work with images or video (the types of data usually sent in an album) we might only want to keep the message in the album that contains the messages text that was included in the album.\n",
    "\n",
    "To get an estimate on how many messages we'd lose this way, we'll use the following formula: \n",
    "\n",
    "$\\text{Estimated Messages Loss} = (\\text{Average Group Size} - 1) \\times \\text{Number of Unique Groups}$\n"
   ]
  },
  {
   "cell_type": "code",
   "execution_count": null,
   "metadata": {},
   "outputs": [],
   "source": [
    "group_count = grouped_msgs[\"message_group_id\"].nunique()\n",
    "estimated_message_loss = (mean_group_size-1) * group_count\n",
    "\n",
    "print(f\"Mean group size: {mean_group_size}\")\n",
    "print(f\"Estimated messages lost (Raw Count): {int(estimated_message_loss)}\")\n",
    "print(f\"Estimated messages lost (Percentage): {estimated_message_loss / df.shape[0] * 100}\")"
   ]
  },
  {
   "cell_type": "markdown",
   "metadata": {},
   "source": [
    "If we drop all grouped messages without a message text, we'll lose about 11% of all messages. "
   ]
  },
  {
   "cell_type": "markdown",
   "metadata": {},
   "source": [
    "# Data Cleaning"
   ]
  },
  {
   "cell_type": "markdown",
   "metadata": {},
   "source": [
    "During the initial exploration we found the following tasks we need to adress before moving on to engineering the features for clustering:\n",
    "\n",
    "- **Fix the faulty types.**\n",
    "\n",
    "- **Replace NaN values in object-type columns with empty strings**\n",
    "\n",
    "- **Drop `sender_display_name` and `post_author` columns**\n",
    "\n",
    "- **Drop messages sent after the data collection period**\n",
    "\n",
    "- **Clean urls (remove trailing backslashes and invalid links)**\n",
    "\n",
    "- **Remove chats containing only few messages**\n",
    "\n",
    "- **(Optional) Drop grouped messages without text**\n",
    "\n",
    "Optional tasks include:\n",
    "\n",
    "- **(Optional) Delete duplicate rows**\n",
    "\n",
    "- **(Optional) Aggregate datetime columns into broader time periods such as minutes, hours, days, or weeks.**\n"
   ]
  },
  {
   "cell_type": "markdown",
   "metadata": {},
   "source": [
    "### 1. Clean Columns\n",
    "\n",
    "First, we'll drop unnecessary columns and correct any faulty data types."
   ]
  },
  {
   "cell_type": "code",
   "execution_count": null,
   "metadata": {},
   "outputs": [],
   "source": [
    "# drop columns\n",
    "df.drop(labels=[\"sender_display_name\",\"post_author\"], axis=1, inplace=True)\n",
    "\n",
    "# convert columns to datetime\n",
    "df[\"collection_time\"] = pd.to_datetime(df[\"collection_time\"], errors='coerce')\n",
    "df[\"message_date\"] = pd.to_datetime(df[\"message_date\"], errors='coerce')\n",
    "\n",
    "df.info()"
   ]
  },
  {
   "cell_type": "markdown",
   "metadata": {},
   "source": [
    "### 2. Replace NaN values in object-columns with empty strings. \n",
    "\n",
    "Next, we replace NaN values in object columns with empty strings to enable seamless text processing down the line. We'll reuse the object column list created earlier. "
   ]
  },
  {
   "cell_type": "code",
   "execution_count": null,
   "metadata": {},
   "outputs": [],
   "source": [
    "# get the names of columns of type object\n",
    "object_column_names = df.dtypes[df.dtypes == \"object\"].index.to_list()\n",
    "\n",
    "# fill the NaN-values\n",
    "df.loc[:, object_column_names] = df.loc[:, object_column_names].fillna('')"
   ]
  },
  {
   "cell_type": "markdown",
   "metadata": {},
   "source": [
    "Now, we can check, if there are any elements of the type float left."
   ]
  },
  {
   "cell_type": "code",
   "execution_count": null,
   "metadata": {},
   "outputs": [],
   "source": [
    "# create a dataframe containing the type of each cell\n",
    "df_object_types =  df[object_column_names].map(lambda x: type(x))\n",
    "\n",
    "# print unique datatype for each column\n",
    "for column in df_object_types.columns:\n",
    "    print(f\"Types in column \\\"{column}\\\"\".upper())\n",
    "    print(df_object_types[column].value_counts())\n",
    "    print(\"\")"
   ]
  },
  {
   "cell_type": "markdown",
   "metadata": {},
   "source": [
    "### 3. Drop Messages sent after the data collection period\n",
    "\n",
    "Now we drop all messages that were sent after June 2024."
   ]
  },
  {
   "cell_type": "code",
   "execution_count": null,
   "metadata": {},
   "outputs": [],
   "source": [
    "end_data_collection = pd.Timestamp(year=2024, month=6, day=30)\n",
    "filter_outliers_date = df[\"message_date\"].dt.date > end_data_collection.date()\n",
    "df = df[~filter_outliers_date]\n",
    "print(f\"Messages sent after end of data collection left: {(df[\"message_date\"].dt.date > end_data_collection.date()).sum()}\")"
   ]
  },
  {
   "cell_type": "markdown",
   "metadata": {},
   "source": [
    "### 4. Clean URLs\n",
    "\n",
    "Now we can clean up the urls by removing backslashes and invalid urls.\n",
    "\n"
   ]
  },
  {
   "cell_type": "code",
   "execution_count": null,
   "metadata": {},
   "outputs": [],
   "source": [
    "# remove trailing backspaces\n",
    "df[\"webpage_url\"] = df[\"webpage_url\"].str.replace(\"\\\\\\\\$\", '', regex=True)\n",
    "\n",
    "# remove the urls manually evaluated as invalid\n",
    "invalid_urls = [\"http://3.US-Militär/\"]\n",
    "df.loc[df[\"webpage_url\"].isin(invalid_urls) , \"webpage_url\"] = ''"
   ]
  },
  {
   "cell_type": "markdown",
   "metadata": {},
   "source": [
    "### 5. Drop duplicates\n",
    "\n",
    "As we don't plan on using information on connection between messages, we can drop the duplicates. "
   ]
  },
  {
   "cell_type": "code",
   "execution_count": null,
   "metadata": {},
   "outputs": [],
   "source": [
    "df = df.drop_duplicates()"
   ]
  },
  {
   "cell_type": "markdown",
   "metadata": {},
   "source": [
    "### 6. Remove Chats containing only few messages\n",
    "\n",
    "As we need a certain amount of content for the vectorisation and clustering of a chat, we'll drop those with fewer than 1000 available messages. \n",
    "\n",
    "Once we're done, we can check the message count statistics for improvements."
   ]
  },
  {
   "cell_type": "code",
   "execution_count": null,
   "metadata": {},
   "outputs": [],
   "source": [
    "chats_message_counts = df.groupby(\"chat_name\").size()\n",
    "over_1000 = chats_message_counts[chats_message_counts > 1000]\n",
    "over_1000_chat_names = list(over_1000.index)\n",
    "df_over_1000 = df[df[\"chat_name\"].isin(over_1000_chat_names)]"
   ]
  },
  {
   "cell_type": "code",
   "execution_count": null,
   "metadata": {},
   "outputs": [],
   "source": [
    "display(over_1000.describe())\n",
    "print(f\"Messages removed: {abs(df.shape[0] - df_over_1000.shape[0])}\")\n",
    "print(f\"Chats removed: {abs(len(chats_message_counts)-len(over_1000))}\")\n",
    "print(\"\")\n",
    "print(f\"Messages remaining: {df_over_1000.shape[0]}\")\n",
    "print(f\"Chats remaining: {len(over_1000)}\")"
   ]
  },
  {
   "cell_type": "markdown",
   "metadata": {},
   "source": [
    "After removing 3524 chats containing 147774 messages, we're left with 360 chats with an average message count of 5024 and no fewer than 1013 messages."
   ]
  },
  {
   "cell_type": "markdown",
   "metadata": {},
   "source": [
    "# Exploratory Data Analysis"
   ]
  },
  {
   "cell_type": "markdown",
   "metadata": {},
   "source": [
    "Next, we analyze and visualize the cleaned data to identify features and patterns that might be useful for clustering.\n",
    "\n"
   ]
  },
  {
   "cell_type": "markdown",
   "metadata": {},
   "source": [
    "### 1. Compare Chat Types\n",
    "\n",
    "As the type of chat dictates, shich datapoints are available, we first have to check the distribution of chat-types across our dataset.\n",
    "\n",
    "Possible chat-types consist of:\n",
    "\n",
    "- **Broadcast-Channels**: One-to-many communication. There are no replies from Members of this chat, but the API reports view- and forward-counts.\n",
    "\n",
    "- **Megagroups**: Many-to-many communication. The API does not report detailled interaction-metrics, but there are replies.\n",
    "\n",
    "To analyse their differences, we'll:\n",
    "\n",
    "1. Check the distribution of chat-types in our dataset.\n",
    "\n",
    "\n",
    "2. Look for differences in the available data for each chat type."
   ]
  },
  {
   "cell_type": "code",
   "execution_count": null,
   "metadata": {},
   "outputs": [],
   "source": [
    "df_over_1000.groupby(\"telegram_chat_id\")[\"chat_type\"].unique().value_counts()"
   ]
  },
  {
   "cell_type": "markdown",
   "metadata": {},
   "source": [
    "As we can see, most of our channels are Broadcast-Channels.\n",
    "\n",
    "**Next, let's see if we can find patterns in the available data for each chat.**\n",
    "\n",
    "We will only keep messages that were forwarded from chats of the same type, as messages forwarded from other chat types might introduce information not natively available in the chat type we are analyzing. We'll use the complete dataset, to maximize the available datapoints. "
   ]
  },
  {
   "cell_type": "code",
   "execution_count": null,
   "metadata": {},
   "outputs": [],
   "source": [
    "# create a dataframe and dictionary containing all the chat_ids in our initial dataset and the chat id as index\n",
    "chats_type = df[[\"telegram_chat_id\", \"chat_type\"]].drop_duplicates()\n",
    "chats_type = chats_type.set_index(\"telegram_chat_id\")\n",
    "type_mapping = chats_type[\"chat_type\"].to_dict()\n",
    "\n",
    "# create a new column containing the type of the source chat\n",
    "df.loc[:, \"source_chat_type\"] = df[\"fwd_from_chat_id\"].map(type_mapping)\n",
    "\n",
    "# replace NaN values in the newly created column to enable comparison with the \"chat_type\" column\n",
    "df.loc[:, \"source_chat_type\"] = df[\"source_chat_type\"].fillna('')\n",
    "\n",
    "# get all messages that were forwarded from chats\n",
    "is_fwd = df[(df[\"fwd_from_user_name\"]=='')]\n",
    "is_fwd = df[df[\"is_fwd\"] == True]\n",
    "\n",
    "# get all messages not forwarded\n",
    "is_not_fwd = df[df[\"is_fwd\"] == False]\n",
    "\n",
    "# keep only messages that are forwarded and have the same source chat and chat type\n",
    "is_fwd = is_fwd[is_fwd[\"chat_type\"] == is_fwd[\"source_chat_type\"]]\n",
    "\n",
    "# add the cleaned forwarded messages and the non-forwarded messages back together\n",
    "cleaned_types = pd.concat([is_fwd, is_not_fwd])"
   ]
  },
  {
   "cell_type": "markdown",
   "metadata": {},
   "source": [
    "Now, we can compare missing data percentages per column for both types of data."
   ]
  },
  {
   "cell_type": "code",
   "execution_count": null,
   "metadata": {},
   "outputs": [],
   "source": [
    "# Create seperate DataFrames for each \"chat_type\".\n",
    "df_broadcast = cleaned_types[cleaned_types[\"chat_type\"] == \"broadcast\"]\n",
    "df_megagroup = cleaned_types[cleaned_types[\"chat_type\"] == \"megagroup\"]\n",
    "\n",
    "# Calculate percentage of missing values per column for chats of type \"broadcast\". Keep only columns with a missing value percentag > 0\n",
    "missing_values_broadcast = df_broadcast.isna() | (df_broadcast == '')\n",
    "missing_percentag_broadcast = missing_values_broadcast.sum().apply(lambda x: x/df_broadcast.shape[0])\n",
    "missing_percentag_broadcast = missing_percentag_broadcast[missing_percentag_broadcast > 0]\n",
    "\n",
    "# Calculate percentage of missing values per column for chats of type \"megagroup\". Keep only columns with a missing value percentag > 0\n",
    "missing_values_megagroup= df_megagroup.isna() | (df_megagroup == '')\n",
    "missing_percentag_megagroup = missing_values_megagroup.sum().apply(lambda x: x/df_megagroup.shape[0])\n",
    "missing_percentag_megagroup =missing_percentag_megagroup[missing_percentag_megagroup > 0]\n",
    "\n",
    "# Combine the two DataFrames into one \n",
    "combined_missing_percentages = pd.concat([missing_percentag_broadcast, missing_percentag_megagroup], axis=1)\n",
    "combined_missing_percentages.columns = ['Missing Values Broadcast', 'Missing Values Megagroup']\n",
    "combined_missing_percentages"
   ]
  },
  {
   "cell_type": "markdown",
   "metadata": {},
   "source": [
    "##### Findings:\n",
    "\n",
    "To check for meaningful differences between chat-types, we'll look at columns with extremly high missing percentages (over 95%) and higher availability in the other:\n",
    "\n",
    "**message_fwd_count, message_view_count:** \n",
    "- Extremly high missing percentage for Broadcasts, as they are not provided by Telegram.\n",
    "\n",
    "**sender_first_name, sender_last_name**: \n",
    "- Only available in Megagroups, as they allow differfent users to send messages. The user recorded for broadcasts has usually only the channels name as a username.\n",
    "\n",
    "**fwd_from_chat_handle, fwd_from_chat_id, source_chat_type:** \n",
    "- Extremly high missing percentages for Megagroups. Indicates that there are few messages forwarded chats in Megagroups.\n",
    "\n",
    "**reply_to_message_id:**\n",
    "- Since Broadcasts do not support direct replies from recipients (only the broadcaster sends messages), the reply_to_message_id field is less relevant and often not used. However, it is possible for a broadcaster to forward messages with a reply status from other chats.\n",
    "\n",
    "**webpage_author, webpage_description, webpage_title, webpage_url:** \n",
    "- These fields are more often missing in Megagroups, suggesting a lower number of messages linking to webpages.\n",
    "\n",
    "**message_group_id:** \n",
    "- Low availability for Megagroups suggests, that sending albums of media-files is less common. "
   ]
  },
  {
   "cell_type": "markdown",
   "metadata": {},
   "source": [
    "### 2. Inspect Message Type Ratios\n",
    "\n",
    "Next, we'll analyse the distribution of different message types for each chat. \n",
    "We'll focus on the following message-type-ratios across all chats:\n",
    "\n",
    "- **Forward Ratio**: The proportion of forwarded messages in each chat group.\n",
    "- **Reply Ratio**: The proportion of replies in each chat group.\n",
    "- **Webpage Ratio**: The proportion of messages containing a webpage URL in each chat group.\n",
    "- **Image Ratio**: The proportion of messages containing an image in each chat group.\n",
    "- **Video Ratio**: The proportion of messages containing a video in each chat group.\n",
    "- **Document Ratio**: The proportion of messages containing a document in each chat group."
   ]
  },
  {
   "cell_type": "code",
   "execution_count": null,
   "metadata": {},
   "outputs": [],
   "source": [
    "# create flag-columns \n",
    "df_over_1000.loc[:, \"is_webpage\"] = df_over_1000[\"webpage_url\"].apply(lambda x: False if x == '' else True)\n",
    "df_over_1000.loc[:, \"is_image\"] = df_over_1000[\"message_media_type\"].isin(['MessageMediaPhoto','MessageMediaDocumentPhoto'])\n",
    "df_over_1000.loc[:, \"is_video\"] = df_over_1000[\"message_media_type\"].isin(['MessageMediaDocumentVideo'])\n",
    "df_over_1000.loc[:, \"is_document\"] = df_over_1000[\"message_media_type\"].isin(['MessageMediaDocumentDocument'])\n",
    "\n",
    "# create a series containing groups sizes\n",
    "group_sizes = df_over_1000.groupby(\"telegram_chat_id\").size()\n",
    "# group messages per chat\n",
    "messages_per_chat = df_over_1000.groupby(\"telegram_chat_id\")\n",
    "\n",
    "# create a series containing the ratio of forwarded messages per group.\n",
    "fwd_msg_per_group = messages_per_chat[\"is_fwd\"].sum()\n",
    "fwd_ratio_per_group = fwd_msg_per_group/group_sizes\n",
    "\n",
    "# create a series containing the ratio of media-messages per group.\n",
    "reply_msg_per_group = messages_per_chat[\"is_reply\"].sum()\n",
    "reply_ratio_per_group = reply_msg_per_group/group_sizes\n",
    "\n",
    "# create a series containing the ratio of webpage messaages per group.\n",
    "webpage_msg_per_group = messages_per_chat[\"is_webpage\"].sum()\n",
    "webpage_ratio_per_group = webpage_msg_per_group/group_sizes\n",
    "\n",
    "# create a series containing the ratio of image messages per group.\n",
    "image_msg_per_group = messages_per_chat[\"is_image\"].sum()\n",
    "image_ratio_per_group = image_msg_per_group/group_sizes\n",
    "\n",
    "# create a series containing the ratio of video messages per group.\n",
    "video_msg_per_group = messages_per_chat[\"is_video\"].sum()\n",
    "video_ratio_per_group = video_msg_per_group/group_sizes\n",
    "\n",
    "# create a series containing the ratio of video messages per group.\n",
    "doc_msg_per_group = messages_per_chat[\"is_document\"].sum()\n",
    "doc_ratio_per_group = doc_msg_per_group/group_sizes"
   ]
  },
  {
   "cell_type": "markdown",
   "metadata": {},
   "source": [
    "Now, we can compare the distribution of different message types across all chats. \n",
    "\n",
    "\n",
    "We'll use a violin plot, as it combines both information on the distribution’s density and spread. "
   ]
  },
  {
   "cell_type": "code",
   "execution_count": null,
   "metadata": {},
   "outputs": [],
   "source": [
    "data = [fwd_ratio_per_group, reply_ratio_per_group, webpage_ratio_per_group, image_ratio_per_group, video_ratio_per_group, doc_ratio_per_group]\n",
    "labels = ['Forward Ratio...', 'Reply Ratio...', 'Webpage Ratio...', 'Image Ratio...', 'Video Ratio...', 'Document Ratio...']\n",
    "dfs = []\n",
    "\n",
    "# Create a DataFrame for visualisation\n",
    "for dataset, label in zip(data, labels):\n",
    "    \n",
    "    df_ratio = pd.DataFrame({\n",
    "        'Ratio': dataset,\n",
    "        'Metric': label\n",
    "    })\n",
    "    \n",
    "    dfs.append(df_ratio)\n",
    "ratios = pd.concat(dfs, ignore_index=True)\n",
    "\n",
    "# Create the violin plots\n",
    "fig, ax = plt.subplots(figsize=(10, 6))\n",
    "sns.violinplot(x='Metric', y='Ratio', data=ratios, ax=ax, palette='pastel', inner=\"quart\", hue=\"Metric\", legend=False)\n",
    "ax.grid(True)\n",
    "fig.subplots_adjust(bottom=0.2)\n",
    "ax.set_xlabel('...over all chats')\n",
    "ax.set_ylabel('')\n",
    "plt.show()"
   ]
  },
  {
   "cell_type": "markdown",
   "metadata": {},
   "source": [
    "**Forward Ratio**:\n",
    "- The distribution is broad with a significant number of groups having a forward ratio between 5% and 20%.\n",
    "- There are a few groups with very high forward ratios (close to 1), indicating that some chats have a high proportion of forwarded messages. These could have the purpose of being \"Aggregators\".\n",
    "- The distributions are spread out, which makes forward ration a distinctive feature.\n",
    "\n",
    "**Reply Ratio:**\n",
    "- The distribution is very narrow and close to zero for most chat groups.\n",
    "- This indicates that replies are relatively rare in the chats of our dataset.\n",
    "- As most of our chats are Broadcast Channels and don't allow replies this is to be expected.\n",
    "\n",
    "**Webpage Ratio:**\n",
    "- The distribution shows a moderate density around a ratio of 0 to 0.2.\n",
    "- This suggests that a small but consistent proportion of messages contain webpage URLs.\n",
    "\n",
    "**Image Ratio:**\n",
    "- The distribution is wider and peaks around 0.3 to 0.5, indicating that many chat groups have a substantial proportion of image messages.\n",
    "- There are also groups with very high image ratios, showing that some chats predominantly share images.\n",
    "\n",
    "**Video Ratio:**\n",
    "- The distribution is somewhat similar to the image ratio but slightly lower, peaking around 0.2 to 0.4.\n",
    "- This indicates that video messages are common but less frequent than image messages.\n",
    "\n",
    "**Document Ratio:**\n",
    "- The distribution is very narrow and close to zero for most chat groups.\n",
    "- This indicates that document messages are quite rare across the groups.\n"
   ]
  }
 ],
 "metadata": {
  "kernelspec": {
   "display_name": "telegram-chat-clustering",
   "language": "python",
   "name": "python3"
  },
  "language_info": {
   "codemirror_mode": {
    "name": "ipython",
    "version": 3
   },
   "file_extension": ".py",
   "mimetype": "text/x-python",
   "name": "python",
   "nbconvert_exporter": "python",
   "pygments_lexer": "ipython3",
   "version": "3.12.4"
  }
 },
 "nbformat": 4,
 "nbformat_minor": 2
}
